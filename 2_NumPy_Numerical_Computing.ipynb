{
  "nbformat": 4,
  "nbformat_minor": 0,
  "metadata": {
    "colab": {
      "provenance": [],
      "authorship_tag": "ABX9TyOw7u3jugR2ekv9K6F3YznE",
      "include_colab_link": true
    },
    "kernelspec": {
      "name": "python3",
      "display_name": "Python 3"
    },
    "language_info": {
      "name": "python"
    }
  },
  "cells": [
    {
      "cell_type": "markdown",
      "metadata": {
        "id": "view-in-github",
        "colab_type": "text"
      },
      "source": [
        "<a href=\"https://colab.research.google.com/github/mirzanaeembeg/Python-Cheat-Sheet-ML-DL-AI/blob/main/2_NumPy_Numerical_Computing.ipynb\" target=\"_parent\"><img src=\"https://colab.research.google.com/assets/colab-badge.svg\" alt=\"Open In Colab\"/></a>"
      ]
    },
    {
      "cell_type": "markdown",
      "source": [
        "# Complete Python Cheat Sheet for Machine Learning, Deep Learning & AI\n",
        "\n",
        "## Table of Contents\n",
        "1. [Python Fundamentals](https://colab.research.google.com/drive/1linKYA8PHgnMb4ugYkClIWu0_7SdfLtk#1-python-fundamentals=)\n",
        "2. [NumPy - Numerical Computing](https://colab.research.google.com/drive/1qZFirXOdQtbtfCdJPtT9RU-FshLo9qLH?usp=sharing)\n",
        "3. [Pandas - Data Manipulation](https://colab.research.google.com/drive/18QZJEVNTCqfHAATjvYZZy4e-gcDmKpMk)\n",
        "4. [Matplotlib & Seaborn - Data Visualization](#4-matplotlib--seaborn---data-visualization)\n",
        "5. [Scikit-learn - Machine Learning](#5-scikit-learn---machine-learning)\n",
        "6. [TensorFlow & Keras - Deep Learning](#6-tensorflow--keras---deep-learning)\n",
        "7. [PyTorch - Deep Learning](#7-pytorch---deep-learning)\n",
        "8. [Data Preprocessing](#8-data-preprocessing)\n",
        "9. [Model Evaluation & Metrics](#9-model-evaluation--metrics)\n",
        "10. [Advanced Topics](#10-advanced-topics)\n",
        "11. [Best Practices](#11-best-practices)\n",
        "12. [Resources & Further Learning](#12-resources--further-learning)\n",
        "\n",
        "* * *"
      ],
      "metadata": {
        "id": "GEtPnwZvi_Pi"
      }
    },
    {
      "cell_type": "markdown",
      "source": [
        "\n",
        "# 2. NumPy - Numerical Computing\n",
        "---\n",
        "---\n",
        "## Table of Contents\n",
        "2.  [NumPy - Numerical Computing](#2-numpy---numerical-computing)\n",
        "    *   [2.1 Import NumPy](#21-import-numpy)\n",
        "    *   [2.2 Array Creation](#22-array-creation)\n",
        "        *   [Basic Array Creation](#basic-array-creation)\n",
        "        *   [Built-in Array Creation Functions](#built-in-array-creation-functions)\n",
        "        *   [Range and Random Arrays](#range-and-random-arrays)\n",
        "    *   [2.3 Array Properties and Information](#23-array-properties-and-information)\n",
        "    *   [2.4 Array Indexing and Slicing](#24-array-indexing-and-slicing)\n",
        "        *   [Basic Indexing](#basic-indexing)\n",
        "        *   [Multi-dimensional Indexing](#multi-dimensional-indexing)\n",
        "        *   [Advanced Indexing](#advanced-indexing)\n",
        "    *   [2.5 Array Operations](#25-array-operations)\n",
        "        *   [Arithmetic Operations](#arithmetic-operations)\n",
        "        *   [Mathematical Functions](#mathematical-functions)\n",
        "    *   [2.6 Vectorization and Array Operations](#26-vectorization-and-array-operations)\n",
        "    *   [2.7 Data Type Considerations](#27-data-type-considerations)\n",
        "    *   [2.8 Statistical Operations](#28-statistical-operations)\n",
        "    *   [2.9 Array Manipulation](#29-array-manipulation)\n",
        "        *   [Reshaping](#reshaping)\n",
        "        *   [Joining and Splitting](#joining-and-splitting)\n",
        "        *   [Adding and Removing Elements](#adding-and-removing-elements)\n",
        "    *   [2.10 Linear Algebra](#210-linear-algebra)\n",
        "    *   [2.11 Broadcasting](#211-broadcasting)\n",
        "    *   [2.12 Conditional Operations](#212-conditional-operations)\n",
        "    *   [2.13 Sorting and Searching](#213-sorting-and-searching)\n",
        "    *   [2.14 Set Operations](#214-set-operations)\n",
        "    *   [2.15 File I/O](#215-file-io)\n",
        "    *   [2.16 Memory and Performance Tips](#216-memory-and-performance-tips)\n",
        "    *   [2.17 Common Patterns in ML/AI](#217-common-patterns-in-mlai)\n",
        "    *   [2.18 Performance Optimization](#218-performance-optimization)"
      ],
      "metadata": {
        "id": "-wwkbMdEAkFL"
      }
    },
    {
      "cell_type": "markdown",
      "source": [
        "<div align=\"center\">\n",
        "<img src=\"https://drive.google.com/uc?id=1JOzNG8Sf9rXQ_nHqlzOvzOnpr4iSIkmc\" width=\"250\">"
      ],
      "metadata": {
        "id": "JmDAbEgXkHqb"
      }
    },
    {
      "cell_type": "markdown",
      "source": [
        "* * *\n",
        "* * *\n",
        "This section of the notebook provides a comprehensive introduction to [Numpy](https://numpy.org/), the fundamental library for numerical computing in Python. It covers the core concepts and functionalities of NumPy, including:\n",
        "\n",
        "- **Array Creation**: Learn various methods to create NumPy arrays, from basic lists to built-in functions for generating arrays filled with zeros, ones, or random values, as well as arrays with sequences using `arange` and `linspace`.\n",
        "- **Array Properties and Information**: Understand how to access important attributes of NumPy arrays such as shape, size, dimension, data type, and memory usage.\n",
        "- **Array Indexing and Slicing**: Master the techniques for accessing and manipulating elements within arrays using basic, multi-dimensional, and advanced indexing (boolean and fancy indexing) and slicing.\n",
        "- **Array Operations**: Explore element-wise arithmetic operations, mathematical functions, and scalar operations that can be efficiently applied to NumPy arrays.\n",
        "- **Vectorization and Array Operations**: Understand NumPy's ability to apply operations to entire arrays without explicit loops, including vectorized operations and broadcasting.\n",
        "- **Data Type Considerations**: Learn about NumPy's automatic data type inference, explicit data type specification, and type conversion.\n",
        "- **Statistical Operations**: Learn how to perform common statistical calculations on arrays, including mean, median, standard deviation, variance, min, max, sum, and operations along specific axes.\n",
        "- **Array Manipulation**: Discover functions for reshaping, joining (concatenation, vstack, hstack), splitting, adding, and removing elements from arrays.\n",
        "- **Linear Algebra**: Delve into essential linear algebra operations like matrix multiplication, transpose, inverse, determinant, trace, eigenvalues, eigenvectors, solving linear systems, and Singular Value Decomposition (SVD).\n",
        "- **Broadcasting**: Understand NumPy's powerful broadcasting mechanism that allows operations between arrays of different shapes under certain rules.\n",
        "- **Conditional Operations**: Learn how to use functions like `where`, `select`, and `clip` to perform operations based on conditions.\n",
        "- **Sorting and Searching**: Explore methods for sorting arrays and finding specific elements or their indices using functions like `sort`, `argsort`, `searchsorted`, `argmax`, `argmin`, and `nonzero`.\n",
        "- **Set Operations**: Discover how to perform set operations like finding unique elements, intersection, union, difference, and symmetric difference on NumPy arrays.\n",
        "- **File I/O**: Learn how to save and load NumPy arrays to and from binary (`.npy`, `.npz`) and text (`.txt`, `.csv`) files.\n",
        "- **Memory and Performance Tips**: Gain insights into optimizing NumPy code for better memory usage and performance by understanding views vs. copies, using vectorized operations, pre-allocating arrays, and choosing appropriate data types.\n",
        "- **Common Patterns in ML/AI**: See examples of how NumPy is used to implement common patterns in machine learning and artificial intelligence, such as normalization, min-max scaling, one-hot encoding, train-test split, confusion matrix, softmax, and sigmoid functions.\n",
        "\n",
        "This section serves as a fundamental guide to using NumPy for efficient and effective numerical computations in Python, essential for tasks in data analysis, scientific computing, and machine learning."
      ],
      "metadata": {
        "id": "UGYoGEB6AKGl"
      }
    },
    {
      "cell_type": "markdown",
      "source": [
        "## 2.1 Import NumPy\n",
        "---"
      ],
      "metadata": {
        "id": "zhmnvHeBojMo"
      }
    },
    {
      "cell_type": "code",
      "execution_count": null,
      "metadata": {
        "id": "uGIMei9Ih-5y"
      },
      "outputs": [],
      "source": [
        "import numpy as np"
      ]
    },
    {
      "cell_type": "markdown",
      "source": [
        "## 2.2 Array Creation\n",
        "---"
      ],
      "metadata": {
        "id": "tZKnmyYVoxH3"
      }
    },
    {
      "cell_type": "markdown",
      "source": [
        "### Basic Array Creation\n",
        "\n",
        "This section demonstrates how to create NumPy arrays from basic Python lists, nested lists for multi-dimensional arrays, and how to specify the data type during creation using the `dtype` argument. The code block below shows examples of each method."
      ],
      "metadata": {
        "id": "SwyJzr8Jo92T"
      }
    },
    {
      "cell_type": "code",
      "source": [
        "# From lists\n",
        "arr = np.array([1, 2, 3, 4, 5])\n",
        "arr_2d = np.array([[1, 2, 3], [4, 5, 6]])\n",
        "print(\"1D array from list:\", arr)\n",
        "print(\"\\n2D array from list:\\n\", arr_2d)\n",
        "print(\"\\n\")\n",
        "\n",
        "# From nested lists (multi-dimensional)\n",
        "arr_nested = np.array([\n",
        "    [1, 2, 3],\n",
        "    [2, 3, 5]\n",
        "])\n",
        "print(\"Array from nested lists:\\n\", arr_nested)\n",
        "print(\"\\n\")\n",
        "\n",
        "# Specify data type\n",
        "arr_float = np.array([1, 2, 3], dtype=np.float32)\n",
        "print(\"Array with specified dtype (float32):\", arr_float)"
      ],
      "metadata": {
        "colab": {
          "base_uri": "https://localhost:8080/"
        },
        "id": "9SIEO1_Co76a",
        "outputId": "56296cc2-f595-4e47-93f0-55ebe6596928"
      },
      "execution_count": null,
      "outputs": [
        {
          "output_type": "stream",
          "name": "stdout",
          "text": [
            "1D array from list: [1 2 3 4 5]\n",
            "\n",
            "2D array from list:\n",
            " [[1 2 3]\n",
            " [4 5 6]]\n",
            "\n",
            "\n",
            "Array from nested lists:\n",
            " [[1 2 3]\n",
            " [2 3 5]]\n",
            "\n",
            "\n",
            "Array with specified dtype (float32): [1. 2. 3.]\n"
          ]
        }
      ]
    },
    {
      "cell_type": "markdown",
      "source": [
        "### Built-in Array Creation Functions\n",
        "\n",
        "This section covers built-in NumPy functions for creating arrays with predefined values or structures. The code block below demonstrates the use of functions like `np.zeros()`, `np.ones()`, `np.eye()`, `np.identity()`, `np.full()`, `np.full_like()`, and `np.empty()` for creating arrays filled with zeros, ones, identity matrices, constant values, or uninitialized values."
      ],
      "metadata": {
        "id": "vESGW9RDp2iD"
      }
    },
    {
      "cell_type": "code",
      "source": [
        "# Zeros and ones\n",
        "zeros_1d = np.zeros(5)                  # [0. 0. 0. 0. 0.]\n",
        "zeros_2d = np.zeros((3, 4))             # 3x4 matrix of zeros\n",
        "ones_1d = np.ones(5)                    # [1. 1. 1. 1. 1.]\n",
        "ones_2d = np.ones((2, 3))               # 2x3 matrix of ones\n",
        "\n",
        "# Identity matrix\n",
        "identity_3x3 = np.eye(3)                # 3x3 identity matrix\n",
        "identity_4x4 = np.identity(4)           # 4x4 identity matrix\n",
        "\n",
        "# Fill with specific value\n",
        "full_2x3 = np.full((2, 3), 7)           # 2x3 matrix filled with 7s\n",
        "full_like_arr = np.full_like(arr, 9)    # Array with same shape and type as 'arr', filled with 9s\n",
        "\n",
        "# Empty arrays\n",
        "empty_1d = np.empty(5)                  # 1D array with uninitialized (random) values\n",
        "empty_2x3 = np.empty((2, 3))            # 2x3 matrix with uninitialized (random) values\n",
        "\n",
        "print(\"Zeros 1D:\\n\", zeros_1d)\n",
        "print(\"\\nZeros 2D:\\n\", zeros_2d)\n",
        "print(\"\\nOnes 1D:\\n\", ones_1d)\n",
        "print(\"\\nOnes 2D:\\n\", ones_2d)\n",
        "print(\"\\nIdentity 3x3:\\n\", identity_3x3)\n",
        "print(\"\\nIdentity 4x4:\\n\", identity_4x4)\n",
        "print(\"\\nFull 2x3 (filled with 7):\\n\", full_2x3)\n",
        "print(\"\\nFull like arr (filled with 9):\\n\", full_like_arr)\n",
        "print(\"\\nEmpty 1D:\\n\", empty_1d)\n",
        "print(\"\\nEmpty 2x3:\\n\", empty_2x3)"
      ],
      "metadata": {
        "colab": {
          "base_uri": "https://localhost:8080/"
        },
        "id": "1Mg22LYVp5BW",
        "outputId": "bd2e42dc-b371-421b-8d9d-99f524331122"
      },
      "execution_count": null,
      "outputs": [
        {
          "output_type": "stream",
          "name": "stdout",
          "text": [
            "Zeros 1D:\n",
            " [0. 0. 0. 0. 0.]\n",
            "\n",
            "Zeros 2D:\n",
            " [[0. 0. 0. 0.]\n",
            " [0. 0. 0. 0.]\n",
            " [0. 0. 0. 0.]]\n",
            "\n",
            "Ones 1D:\n",
            " [1. 1. 1. 1. 1.]\n",
            "\n",
            "Ones 2D:\n",
            " [[1. 1. 1.]\n",
            " [1. 1. 1.]]\n",
            "\n",
            "Identity 3x3:\n",
            " [[1. 0. 0.]\n",
            " [0. 1. 0.]\n",
            " [0. 0. 1.]]\n",
            "\n",
            "Identity 4x4:\n",
            " [[1. 0. 0. 0.]\n",
            " [0. 1. 0. 0.]\n",
            " [0. 0. 1. 0.]\n",
            " [0. 0. 0. 1.]]\n",
            "\n",
            "Full 2x3 (filled with 7):\n",
            " [[7 7 7]\n",
            " [7 7 7]]\n",
            "\n",
            "Full like arr (filled with 9):\n",
            " [9. 9. 9.]\n",
            "\n",
            "Empty 1D:\n",
            " [1. 1. 1. 1. 1.]\n",
            "\n",
            "Empty 2x3:\n",
            " [[3.5e-323 3.5e-323 3.5e-323]\n",
            " [3.5e-323 3.5e-323 3.5e-323]]\n"
          ]
        }
      ]
    },
    {
      "cell_type": "markdown",
      "source": [
        "### Range and Random Arrays\n",
        "\n",
        "This section explores creating arrays with sequences of numbers and arrays with random values. The code block below illustrates the use of `np.arange()` and `np.linspace()` for generating arrays with specific ranges and intervals, and functions like `np.random.random()`, `np.random.randint()`, `np.random.randn()`, `np.random.normal()`, and `np.random.uniform()` for creating arrays with different types of random distributions. It also shows how to set a random seed for reproducibility."
      ],
      "metadata": {
        "id": "ofjzMgp8stfW"
      }
    },
    {
      "cell_type": "code",
      "source": [
        "# Range arrays\n",
        "arange_10 = np.arange(10)                     # [0 1 2 3 4 5 6 7 8 9]\n",
        "arange_step = np.arange(2, 10, 2)             # [2 4 6 8]\n",
        "linspace_0_1 = np.linspace(0, 1, 5)           # [0. 0.25 0.5 0.75 1.]\n",
        "\n",
        "# Random arrays\n",
        "random_5 = np.random.random(5)                # Random floats [0, 1)\n",
        "randint_0_10 = np.random.randint(0, 10, 5)    # Random integers [0, 10)\n",
        "randint_shape = np.random.randint(1, 101, (2, 2, 4))  # Random integers with shape\n",
        "randn_3x3 = np.random.randn(3, 3)              # Standard normal distribution\n",
        "normal_0_1 = np.random.normal(0, 1, 5)         # Normal distribution (mean=0, std=1)\n",
        "uniform_neg1_1 = np.random.uniform(-1, 1, 5)   # Uniform distribution [-1, 1)\n",
        "random_scaled = np.random.random((3, 2)) * 10  # Random values scaled by 10\n",
        "\n",
        "# Set random seed for reproducibility\n",
        "np.random.seed(42)\n",
        "\n",
        "print(\"arange(10):\\n\", arange_10)\n",
        "print(\"\\narange(2, 10, 2):\\n\", arange_step)\n",
        "print(\"\\nlinspace(0, 1, 5):\\n\", linspace_0_1)\n",
        "print(\"\\nrandom(5):\\n\", random_5)\n",
        "print(\"\\nrandint(0, 10, 5):\\n\", randint_0_10)\n",
        "print(\"\\nrandon(3, 3):\\n\", randn_3x3)\n",
        "print(\"\\nnormal(0, 1, 5):\\n\", normal_0_1)\n",
        "print(\"\\nuniform(-1, 1, 5):\\n\", uniform_neg1_1)\n",
        "print(\"\\nrandom((3, 2)) * 10:\\n\", random_scaled)"
      ],
      "metadata": {
        "colab": {
          "base_uri": "https://localhost:8080/"
        },
        "id": "RpquOIBCswZG",
        "outputId": "a473d808-106f-4393-8da0-060a74645ddf"
      },
      "execution_count": null,
      "outputs": [
        {
          "output_type": "stream",
          "name": "stdout",
          "text": [
            "arange(10):\n",
            " [0 1 2 3 4 5 6 7 8 9]\n",
            "\n",
            "arange(2, 10, 2):\n",
            " [2 4 6 8]\n",
            "\n",
            "linspace(0, 1, 5):\n",
            " [0.   0.25 0.5  0.75 1.  ]\n",
            "\n",
            "random(5):\n",
            " [0.21166096 0.66188846 0.77461002 0.16320478 0.05844617]\n",
            "\n",
            "randint(0, 10, 5):\n",
            " [9 3 7 7 5]\n",
            "\n",
            "randon(3, 3):\n",
            " [[ 1.34951762  0.082762    1.38209688]\n",
            " [ 1.43487508  0.46452473  0.51660896]\n",
            " [-1.00594207  1.81924834  0.59422461]]\n",
            "\n",
            "normal(0, 1, 5):\n",
            " [-0.6230445  -0.29667177 -0.53902113  0.66310652  0.27830356]\n",
            "\n",
            "uniform(-1, 1, 5):\n",
            " [ 0.81585103 -0.67492526  0.01677472  0.14994315 -0.10663232]\n",
            "\n",
            "random((3, 2)) * 10:\n",
            " [[4.0641013  5.19103991]\n",
            " [3.77796403 8.10860487]\n",
            " [9.62372254 1.66370371]]\n"
          ]
        }
      ]
    },
    {
      "cell_type": "markdown",
      "source": [
        "## 2.3 Array Properties and Information\n",
        "* * *\n",
        "\n",
        "This section details how to access and understand the properties and information of NumPy arrays. The code block below demonstrates how to retrieve attributes such as shape, size, dimension, data type, item size, total bytes, flags, and data buffer. It also shows examples of automatic data type inference and explicit type specification/conversion."
      ],
      "metadata": {
        "id": "m_2YA2hDuFjr"
      }
    },
    {
      "cell_type": "code",
      "source": [
        "arr = np.array([[1, 2, 3], [4, 5, 6]])\n",
        "\n",
        "# Basic properties\n",
        "arr_shape = arr.shape          # (2, 3) - dimensions\n",
        "arr_size = arr.size            # 6 - total number of elements\n",
        "arr_ndim = arr.ndim            # 2 - number of dimensions\n",
        "arr_dtype = arr.dtype          # data type (int64, float64, etc.)\n",
        "arr_itemsize = arr.itemsize       # bytes per element\n",
        "arr_nbytes = arr.nbytes        # total bytes consumed\n",
        "\n",
        "# Memory layout\n",
        "arr_flags = arr.flags          # memory layout information\n",
        "arr_data = arr.data            # buffer containing actual data\n",
        "\n",
        "# NumPy automatically chooses data types\n",
        "x = np.array([1, 2])        # dtype: int64\n",
        "y = np.array([1, 2.0])      # dtype: float64\n",
        "z = np.array([1, 2], dtype=np.int32)  # dtype: int32\n",
        "\n",
        "# Type conversion during array creation\n",
        "arr_float32 = np.array([1, 2.6], dtype=np.float32)  # Forces float32\n",
        "\n",
        "print(\"arr.shape:\", arr_shape)\n",
        "print(\"arr.size:\", arr_size)\n",
        "print(\"arr.ndim:\", arr_ndim)\n",
        "print(\"arr.dtype:\", arr_dtype)\n",
        "print(\"arr.itemsize:\", arr_itemsize)\n",
        "print(\"arr.nbytes:\", arr_nbytes)\n",
        "print(\"\\n\")\n",
        "print(\"arr.flags:\", arr_flags)\n",
        "print(\"arr.data:\", arr_data)\n",
        "print(\"\\n\")\n",
        "print(\"x:\", x, \"dtype:\", x.dtype)\n",
        "print(\"y:\", y, \"dtype:\", y.dtype)\n",
        "print(\"z:\", z, \"dtype:\", z.dtype)\n",
        "print(\"\\n\")\n",
        "print(\"arr_float32:\", arr_float32)"
      ],
      "metadata": {
        "colab": {
          "base_uri": "https://localhost:8080/"
        },
        "id": "LxC-tye_udfe",
        "outputId": "3e2baad7-277c-442d-ee49-50bab50646c4"
      },
      "execution_count": null,
      "outputs": [
        {
          "output_type": "stream",
          "name": "stdout",
          "text": [
            "arr.shape: (2, 3)\n",
            "arr.size: 6\n",
            "arr.ndim: 2\n",
            "arr.dtype: int64\n",
            "arr.itemsize: 8\n",
            "arr.nbytes: 48\n",
            "\n",
            "\n",
            "arr.flags:   C_CONTIGUOUS : True\n",
            "  F_CONTIGUOUS : False\n",
            "  OWNDATA : True\n",
            "  WRITEABLE : True\n",
            "  ALIGNED : True\n",
            "  WRITEBACKIFCOPY : False\n",
            "\n",
            "arr.data: <memory at 0x7cabb9772a80>\n",
            "\n",
            "\n",
            "x: [1 2] dtype: int64\n",
            "y: [1. 2.] dtype: float64\n",
            "z: [1 2] dtype: int32\n",
            "\n",
            "\n",
            "arr_float32: [1.  2.6]\n"
          ]
        }
      ]
    },
    {
      "cell_type": "markdown",
      "source": [
        "## 2.4 Array Indexing and Slicing\n",
        "---"
      ],
      "metadata": {
        "id": "Vdfynv0nu6WQ"
      }
    },
    {
      "cell_type": "markdown",
      "source": [
        "### Basic Indexing\n",
        "\n",
        "This section introduces basic indexing techniques for accessing elements in 1D NumPy arrays. The code block below shows how to access single elements using positive and negative indices and how to use slicing to extract portions of the array, including stepping and reversing."
      ],
      "metadata": {
        "id": "-09c3g5OvDuM"
      }
    },
    {
      "cell_type": "code",
      "source": [
        "arr = np.array([0, 1, 2, 3, 4, 5])\n",
        "\n",
        "# Single element\n",
        "first_element = arr[0]            # 0\n",
        "last_element = arr[-1]            # 5 (last element)\n",
        "\n",
        "# Slicing\n",
        "slice_1_to_4 = arr[1:4]           # [1 2 3]\n",
        "every_2nd_element = arr[::2]      # [0 2 4] (every 2nd element)\n",
        "reversed_arr = arr[::-1]          # [5 4 3 2 1 0] (reverse)\n",
        "\n",
        "print(\"First element:\", first_element)\n",
        "print(\"Last element:\", last_element)\n",
        "print(\"Slice from index 1 to 4:\", slice_1_to_4)\n",
        "print(\"Every 2nd element:\", every_2nd_element)\n",
        "print(\"Reversed array:\", reversed_arr)"
      ],
      "metadata": {
        "colab": {
          "base_uri": "https://localhost:8080/"
        },
        "id": "bSvUCGmcvBl8",
        "outputId": "5b8c2283-4c33-45ee-fb9d-541ba16529a7"
      },
      "execution_count": null,
      "outputs": [
        {
          "output_type": "stream",
          "name": "stdout",
          "text": [
            "First element: 0\n",
            "Last element: 5\n",
            "Slice from index 1 to 4: [1 2 3]\n",
            "Every 2nd element: [0 2 4]\n",
            "Reversed array: [5 4 3 2 1 0]\n"
          ]
        }
      ]
    },
    {
      "cell_type": "markdown",
      "source": [
        "### Multi-dimensional Indexing\n",
        "\n",
        "This section explains indexing for multi-dimensional NumPy arrays. The code block below demonstrates how to access individual elements using row and column indices, slice rows and columns, and extract subarrays using slicing on both dimensions."
      ],
      "metadata": {
        "id": "teoONsP-vfOX"
      }
    },
    {
      "cell_type": "code",
      "source": [
        "arr_2d = np.array([[1, 2, 3], [4, 5, 6], [7, 8, 9]])\n",
        "\n",
        "# Element access\n",
        "element_0_1 = arr_2d[0, 1]       # 2\n",
        "element_1_2 = arr_2d[1][2]       # 6 (alternative syntax)\n",
        "\n",
        "# Row and column slicing\n",
        "first_row = arr_2d[0, :]         # [1 2 3] (first row)\n",
        "second_column = arr_2d[:, 1]     # [2 5 8] (second column)\n",
        "subarray = arr_2d[0:2, 1:3]      # [[2 3], [5 6]] (subarray)\n",
        "\n",
        "print(\"Element at [0, 1]:\", element_0_1)\n",
        "print(\"Element at [1][2]:\", element_1_2)\n",
        "print(\"First row:\", first_row)\n",
        "print(\"Second column:\", second_column)\n",
        "print(\"Subarray from [0:2, 1:3]:\\n\", subarray)"
      ],
      "metadata": {
        "colab": {
          "base_uri": "https://localhost:8080/"
        },
        "id": "LpQS3d0NvhJB",
        "outputId": "01a78ac5-5e11-47b0-db52-a10f1b757abf"
      },
      "execution_count": null,
      "outputs": [
        {
          "output_type": "stream",
          "name": "stdout",
          "text": [
            "Element at [0, 1]: 2\n",
            "Element at [1][2]: 6\n",
            "First row: [1 2 3]\n",
            "Second column: [2 5 8]\n",
            "Subarray from [0:2, 1:3]:\n",
            " [[2 3]\n",
            " [5 6]]\n"
          ]
        }
      ]
    },
    {
      "cell_type": "markdown",
      "source": [
        "### Advanced Indexing\n",
        "\n",
        "This section covers more advanced indexing methods in NumPy, including boolean indexing and fancy indexing. The code block below shows how to select elements based on a boolean condition (mask) and how to select elements using a list or array of indices. It also includes an example of multi-dimensional boolean indexing."
      ],
      "metadata": {
        "id": "r0drqXpKv4HG"
      }
    },
    {
      "cell_type": "code",
      "source": [
        "arr = np.array([10, 20, 30, 40, 50])\n",
        "\n",
        "# Boolean indexing\n",
        "mask = arr > 25\n",
        "arr_mask = arr[mask]                 # [30 40 50]\n",
        "arr_direct_mask = arr[arr > 25]      # [30 40 50] (direct)\n",
        "\n",
        "# Fancy indexing\n",
        "indices = [0, 2, 4]\n",
        "arr_indices = arr[indices]           # [10 30 50]\n",
        "\n",
        "# Multi-dimensional boolean indexing\n",
        "arr_2d = np.random.randint(0, 10, (3, 3))\n",
        "arr_2d_mask = arr_2d[arr_2d > 5]     # All elements > 5\n",
        "\n",
        "print(\"Boolean indexing with mask:\", arr_mask)\n",
        "print(\"Boolean indexing direct:\", arr_direct_mask)\n",
        "print(\"Fancy indexing:\", arr_indices)\n",
        "print(\"Multi-dimensional boolean indexing (elements > 5):\", arr_2d_mask)\n",
        "print(\"\\nOriginal 2D array for multi-dimensional boolean indexing:\\n\", arr_2d)"
      ],
      "metadata": {
        "colab": {
          "base_uri": "https://localhost:8080/"
        },
        "id": "x83VNCXjv6JF",
        "outputId": "0c9640c5-3f68-4178-fa58-476bedbdc1ab"
      },
      "execution_count": null,
      "outputs": [
        {
          "output_type": "stream",
          "name": "stdout",
          "text": [
            "Boolean indexing with mask: [30 40 50]\n",
            "Boolean indexing direct: [30 40 50]\n",
            "Fancy indexing: [10 30 50]\n",
            "Multi-dimensional boolean indexing (elements > 5): [7 7 7]\n",
            "\n",
            "Original 2D array for multi-dimensional boolean indexing:\n",
            " [[4 3 7]\n",
            " [7 2 5]\n",
            " [4 1 7]]\n"
          ]
        }
      ]
    },
    {
      "cell_type": "markdown",
      "source": [
        "## 2.5 Array Operations\n",
        "* * *\n",
        "\n",
        "This section explores various operations that can be performed on NumPy arrays."
      ],
      "metadata": {
        "id": "jZmiiuTJxGH1"
      }
    },
    {
      "cell_type": "markdown",
      "source": [
        "### Arithmetic Operations\n",
        "\n",
        "This section demonstrates element-wise and scalar arithmetic operations on NumPy arrays. The code block below shows examples of addition, subtraction, multiplication, division, exponentiation, and modulus operations between arrays and between an array and a scalar. It also shows the corresponding NumPy functions for these operations."
      ],
      "metadata": {
        "id": "mt-pzY1rxLaB"
      }
    },
    {
      "cell_type": "code",
      "source": [
        "a = np.array([1, 2, 3, 4])\n",
        "b = np.array([5, 6, 7, 8])\n",
        "\n",
        "# Element-wise operations\n",
        "sum_ab = a + b               # [6 8 10 12]\n",
        "diff_ab = a - b              # [-4 -4 -4 -4]\n",
        "prod_ab = a * b              # [5 12 21 32]\n",
        "div_ab = a / b               # [0.2 0.33 0.43 0.5]\n",
        "a_squared = a ** 2             # [1 4 9 16]\n",
        "a_mod_3 = a % 3              # [1 2 0 1]\n",
        "\n",
        "# Scalar operations\n",
        "a_plus_10 = a + 10           # [11 12 13 14]\n",
        "a_times_2 = a * 2            # [2 4 6 8]\n",
        "\n",
        "# Also available as functions\n",
        "add_func = np.add(a, b)            # Same as a + b\n",
        "subtract_func = np.subtract(a, b)  # Same as a - b\n",
        "multiply_func = np.multiply(a, b)  # Same as a * b\n",
        "divide_func = np.divide(a, b)      # Same as a / b\n",
        "\n",
        "print(\"a + b:\", sum_ab)\n",
        "print(\"a - b:\", diff_ab)\n",
        "print(\"a * b:\", prod_ab)\n",
        "print(\"a / b:\", div_ab)\n",
        "print(\"a ** 2:\", a_squared)\n",
        "print(\"a % 3:\", a_mod_3)\n",
        "print(\"\\n\")\n",
        "print(\"a + 10:\", a_plus_10)\n",
        "print(\"a * 2:\", a_times_2)\n",
        "print(\"\\n\")\n",
        "print(\"np.add(a, b):\", add_func)\n",
        "print(\"np.subtract(a, b):\", subtract_func)\n",
        "print(\"np.multiply(a, b):\", multiply_func)\n",
        "print(\"np.divide(a, b):\", divide_func)"
      ],
      "metadata": {
        "colab": {
          "base_uri": "https://localhost:8080/"
        },
        "id": "C7KFvNv7xPaO",
        "outputId": "d8e12a09-ea07-408f-da45-0a43a0cd9533"
      },
      "execution_count": null,
      "outputs": [
        {
          "output_type": "stream",
          "name": "stdout",
          "text": [
            "a + b: [ 6  8 10 12]\n",
            "a - b: [-4 -4 -4 -4]\n",
            "a * b: [ 5 12 21 32]\n",
            "a / b: [0.2        0.33333333 0.42857143 0.5       ]\n",
            "a ** 2: [ 1  4  9 16]\n",
            "a % 3: [1 2 0 1]\n",
            "\n",
            "\n",
            "a + 10: [11 12 13 14]\n",
            "a * 2: [2 4 6 8]\n",
            "\n",
            "\n",
            "np.add(a, b): [ 6  8 10 12]\n",
            "np.subtract(a, b): [-4 -4 -4 -4]\n",
            "np.multiply(a, b): [ 5 12 21 32]\n",
            "np.divide(a, b): [0.2        0.33333333 0.42857143 0.5       ]\n"
          ]
        }
      ]
    },
    {
      "cell_type": "markdown",
      "source": [
        "### Mathematical Functions\n",
        "\n",
        "This section covers a variety of mathematical functions available in NumPy that can be applied element-wise to arrays. The code block below illustrates the use of basic math functions like `sqrt`, `square`, `abs`, and `sign`, trigonometric functions like `sin`, `cos`, and `tan`, exponential and logarithmic functions like `exp`, `log`, `log10`, and `log2`, and rounding functions like `round`, `floor`, and `ceil`."
      ],
      "metadata": {
        "id": "qNnx26-IyGnS"
      }
    },
    {
      "cell_type": "code",
      "source": [
        "arr = np.array([1, 4, 9, 16])\n",
        "\n",
        "# Basic math\n",
        "sqrt_arr = np.sqrt(arr)         # [1. 2. 3. 4.]\n",
        "square_arr = np.square(arr)     # [1 16 81 256]\n",
        "abs_arr = np.abs(arr)           # Absolute value\n",
        "sign_arr = np.sign(arr)         # Sign of elements\n",
        "\n",
        "# Trigonometric\n",
        "sin_arr = np.sin(arr)\n",
        "cos_arr = np.cos(arr)\n",
        "tan_arr = np.tan(arr)\n",
        "\n",
        "# Exponential and logarithmic\n",
        "exp_arr = np.exp(arr)           # e^x (exponential function applies element-wise)\n",
        "log_arr = np.log(arr)           # Natural log\n",
        "log10_arr = np.log10(arr)       # Base-10 log\n",
        "log2_arr = np.log2(arr)         # Base-2 log\n",
        "\n",
        "# Rounding\n",
        "arr_float = np.array([1.23, 4.56, 7.89])\n",
        "round_arr_float = np.round(arr_float, 1)    # [1.2 4.6 7.9]\n",
        "floor_arr_float = np.floor(arr_float)       # [1. 4. 7.]\n",
        "ceil_arr_float = np.ceil(arr_float)         # [2. 5. 8.]\n",
        "\n",
        "print(\"np.sqrt(arr):\", sqrt_arr)\n",
        "print(\"np.square(arr):\", square_arr)\n",
        "print(\"np.abs(arr):\", abs_arr)\n",
        "print(\"np.sign(arr):\", sign_arr)\n",
        "print(\"\\n\")\n",
        "print(\"np.sin(arr):\", sin_arr)\n",
        "print(\"np.cos(arr):\", cos_arr)\n",
        "print(\"np.tan(arr):\", tan_arr)\n",
        "print(\"\\n\")\n",
        "print(\"np.exp(arr):\", exp_arr)\n",
        "print(\"np.log(arr):\", log_arr)\n",
        "print(\"np.log10(arr):\", log10_arr)\n",
        "print(\"np.log2(arr):\", log2_arr)\n",
        "print(\"\\n\")\n",
        "print(\"np.round(arr_float, 1):\", round_arr_float)\n",
        "print(\"np.floor(arr_float):\", floor_arr_float)\n",
        "print(\"np.ceil(arr_float):\", ceil_arr_float)"
      ],
      "metadata": {
        "colab": {
          "base_uri": "https://localhost:8080/"
        },
        "id": "bqlCTnoWyI8h",
        "outputId": "3034ba24-3f40-4485-da6c-9de4a8512259"
      },
      "execution_count": null,
      "outputs": [
        {
          "output_type": "stream",
          "name": "stdout",
          "text": [
            "np.sqrt(arr): [1. 2. 3. 4.]\n",
            "np.square(arr): [  1  16  81 256]\n",
            "np.abs(arr): [ 1  4  9 16]\n",
            "np.sign(arr): [1 1 1 1]\n",
            "\n",
            "\n",
            "np.sin(arr): [ 0.84147098 -0.7568025   0.41211849 -0.28790332]\n",
            "np.cos(arr): [ 0.54030231 -0.65364362 -0.91113026 -0.95765948]\n",
            "np.tan(arr): [ 1.55740772  1.15782128 -0.45231566  0.30063224]\n",
            "\n",
            "\n",
            "np.exp(arr): [2.71828183e+00 5.45981500e+01 8.10308393e+03 8.88611052e+06]\n",
            "np.log(arr): [0.         1.38629436 2.19722458 2.77258872]\n",
            "np.log10(arr): [0.         0.60205999 0.95424251 1.20411998]\n",
            "np.log2(arr): [0.       2.       3.169925 4.      ]\n",
            "\n",
            "\n",
            "np.round(arr_float, 1): [1.2 4.6 7.9]\n",
            "np.floor(arr_float): [1. 4. 7.]\n",
            "np.ceil(arr_float): [2. 5. 8.]\n"
          ]
        }
      ]
    },
    {
      "cell_type": "markdown",
      "source": [
        "## 2.6 Vectorization and Array Operations\n",
        "* * *\n",
        "NumPy's key strength is vectorization - applying operations to entire arrays without explicit loops.\n",
        "\n",
        "The code block below demonstrates the efficiency of vectorized operations compared to traditional Python loops. It shows examples of vector-scalar operations, element-wise operations, and vector operations with broadcasting, highlighting how NumPy handles operations on entire arrays efficiently."
      ],
      "metadata": {
        "id": "pRn9ZDMfbFr9"
      }
    },
    {
      "cell_type": "code",
      "source": [
        "# Vectorized operations are much faster than loops\n",
        "x = np.array([1, 2, 3])\n",
        "\n",
        "# Vector-scalar operations\n",
        "result_plus = x + 3          # [4, 5, 6]\n",
        "result_minus = x - 3         # [-2, -1, 0]\n",
        "result_divide = 1 / x        # [1.0, 0.5, 0.33...]\n",
        "\n",
        "# All operations are element-wise by default\n",
        "# If x = (x1, x2, ..., xn), then:\n",
        "# np.exp(x) = (e^x1, e^x2, ..., e^xn)\n",
        "x_exp = np.exp(x)            # [2.718, 7.389, 20.086]\n",
        "\n",
        "# Vector operations with broadcasting\n",
        "x_2d = np.array([[1, 2], [3, 4]])\n",
        "y_1d = np.array([10, 20])\n",
        "result_broadcast = x_2d + y_1d      # Broadcasting: adds [10, 20] to each row\n",
        "\n",
        "print(\"x + 3:\", result_plus)\n",
        "print(\"x - 3:\", result_minus)\n",
        "print(\"1 / x:\", result_divide)\n",
        "print(\"\\n\")\n",
        "print(\"np.exp(x):\", x_exp)\n",
        "print(\"\\n\")\n",
        "print(\"Broadcasting (x_2d + y_1d):\\n\", result_broadcast)"
      ],
      "metadata": {
        "colab": {
          "base_uri": "https://localhost:8080/"
        },
        "id": "xNkR8pIpbP-w",
        "outputId": "f2a78686-3354-45c3-949f-71bb2bf24531"
      },
      "execution_count": null,
      "outputs": [
        {
          "output_type": "stream",
          "name": "stdout",
          "text": [
            "x + 3: [4 5 6]\n",
            "x - 3: [-2 -1  0]\n",
            "1 / x: [1.         0.5        0.33333333]\n",
            "\n",
            "\n",
            "np.exp(x): [ 2.71828183  7.3890561  20.08553692]\n",
            "\n",
            "\n",
            "Broadcasting (x_2d + y_1d):\n",
            " [[11 22]\n",
            " [13 24]]\n"
          ]
        }
      ]
    },
    {
      "cell_type": "markdown",
      "source": [
        "## 2.7 Data Type Considerations\n",
        "* * *\n",
        "\n",
        "This section focuses on how NumPy handles data types, including automatic inference and explicit specification. The code block below shows how NumPy infers the data type based on the input data, how to explicitly specify the data type using the `dtype` argument during array creation, and how to convert the data type of an existing array using the `.astype()` method."
      ],
      "metadata": {
        "id": "KwVGqmEOb4zf"
      }
    },
    {
      "cell_type": "code",
      "source": [
        "# NumPy automatically infers data types\n",
        "arr_int = np.array([1, 2, 3])          # int64\n",
        "arr_float = np.array([1.0, 2.0, 3.0])  # float64\n",
        "arr_mixed = np.array([1, 2.0, 3])      # float64 (upcasts to float)\n",
        "\n",
        "# Explicit data type specification\n",
        "arr_int32 = np.array([1, 2, 3], dtype=np.int32)\n",
        "arr_float32 = np.array([1, 2, 3], dtype=np.float32)\n",
        "\n",
        "# Data type conversion\n",
        "arr_for_conversion = np.array([1.6, 2.7, 3.8])\n",
        "arr_int_converted = arr_for_conversion.astype(np.int32)  # [1, 2, 3] - truncates decimals\n",
        "\n",
        "print(\"arr_int:\", arr_int, \"dtype:\", arr_int.dtype)\n",
        "print(\"arr_float:\", arr_float, \"dtype:\", arr_float.dtype)\n",
        "print(\"arr_mixed:\", arr_mixed, \"dtype:\", arr_mixed.dtype)\n",
        "print(\"arr_int32:\", arr_int32, \"dtype:\", arr_int32.dtype)\n",
        "print(\"arr_float32:\", arr_float32, \"dtype:\", arr_float32.dtype)\n",
        "print(\"arr_for_conversion:\", arr_for_conversion, \"dtype:\", arr_for_conversion.dtype)\n",
        "print(\"arr_int_converted:\", arr_int_converted, \"dtype:\", arr_int_converted.dtype)"
      ],
      "metadata": {
        "colab": {
          "base_uri": "https://localhost:8080/"
        },
        "id": "cZll5j4jlAZZ",
        "outputId": "bcfe60c8-0fa7-46ce-a9d4-3467867fcd17"
      },
      "execution_count": null,
      "outputs": [
        {
          "output_type": "stream",
          "name": "stdout",
          "text": [
            "arr_int: [1 2 3] dtype: int64\n",
            "arr_float: [1. 2. 3.] dtype: float64\n",
            "arr_mixed: [1. 2. 3.] dtype: float64\n",
            "arr_int32: [1 2 3] dtype: int32\n",
            "arr_float32: [1. 2. 3.] dtype: float32\n",
            "arr_for_conversion: [1.6 2.7 3.8] dtype: float64\n",
            "arr_int_converted: [1 2 3] dtype: int32\n"
          ]
        }
      ]
    },
    {
      "cell_type": "markdown",
      "source": [
        "## 2.8 Statistical Operations\n",
        "* * *\n",
        "\n",
        "This section covers common statistical operations that can be performed on NumPy arrays. The code block below demonstrates how to calculate basic statistics such as mean, median, standard deviation, variance, minimum, maximum, and sum of array elements. It also shows how to perform these operations along specific axes (rows or columns) and introduces other statistical functions like percentile, quantile, correlation coefficient, and covariance."
      ],
      "metadata": {
        "id": "nYgR8cTDy44j"
      }
    },
    {
      "cell_type": "code",
      "source": [
        "arr = np.array([[1, 2, 3], [4, 5, 6], [7, 8, 9]])\n",
        "\n",
        "# Basic statistics\n",
        "mean_arr = np.mean(arr)      # 5.0\n",
        "median_arr = np.median(arr)  # 5.0\n",
        "std_arr = np.std(arr)        # Standard deviation\n",
        "var_arr = np.var(arr)        # Variance\n",
        "min_arr = np.min(arr)        # 1\n",
        "max_arr = np.max(arr)        # 9\n",
        "sum_arr = np.sum(arr)        # 45\n",
        "\n",
        "# Along axes\n",
        "mean_axis0 = np.mean(arr, axis=0)    # [4. 5. 6.] (column means)\n",
        "mean_axis1 = np.mean(arr, axis=1)    # [2. 5. 8.] (row means)\n",
        "sum_axis0 = np.sum(arr, axis=0)      # [12 15 18] (column sums)\n",
        "sum_axis1 = np.sum(arr, axis=1)      # [6 15 24] (row sums)\n",
        "\n",
        "\n",
        "# Other statistical functions\n",
        "percentile_50 = np.percentile(arr, 50) # 50th percentile (median)\n",
        "quantile_75 = np.quantile(arr, 0.75)   # 75th percentile\n",
        "corrcoef_arr = np.corrcoef(arr)        # Correlation matrix\n",
        "cov_arr = np.cov(arr)                  # Covariance matrix\n",
        "\n",
        "print(\"Mean of array:\", mean_arr)\n",
        "print(\"Median of array:\", median_arr)\n",
        "print(\"Standard deviation of array:\", std_arr)\n",
        "print(\"Variance of array:\", var_arr)\n",
        "print(\"Minimum element of array:\", min_arr)\n",
        "print(\"Maximum element of array:\", max_arr)\n",
        "print(\"Sum of array:\", sum_arr)\n",
        "print(\"\\n\")\n",
        "print(\"Mean along axis 0:\", mean_axis0)\n",
        "print(\"Mean along axis 1:\", mean_axis1)\n",
        "print(\"Sum along axis 0:\", sum_axis0)\n",
        "print(\"Sum along axis 1:\", sum_axis1)\n",
        "print(\"\\n\")\n",
        "print(\"50th percentile:\", percentile_50)\n",
        "print(\"75th percentile:\", quantile_75)\n",
        "print(\"Correlation matrix:\\n\", corrcoef_arr)\n",
        "print(\"Covariance matrix:\\n\", cov_arr)"
      ],
      "metadata": {
        "colab": {
          "base_uri": "https://localhost:8080/"
        },
        "id": "v_p0ZrhtzE1i",
        "outputId": "3a554d98-37fa-4db0-c3ca-da2202f60c0a"
      },
      "execution_count": null,
      "outputs": [
        {
          "output_type": "stream",
          "name": "stdout",
          "text": [
            "Mean of array: 5.0\n",
            "Median of array: 5.0\n",
            "Standard deviation of array: 2.581988897471611\n",
            "Variance of array: 6.666666666666667\n",
            "Minimum element of array: 1\n",
            "Maximum element of array: 9\n",
            "Sum of array: 45\n",
            "\n",
            "\n",
            "Mean along axis 0: [4. 5. 6.]\n",
            "Mean along axis 1: [2. 5. 8.]\n",
            "Sum along axis 0: [12 15 18]\n",
            "Sum along axis 1: [ 6 15 24]\n",
            "\n",
            "\n",
            "50th percentile: 5.0\n",
            "75th percentile: 7.0\n",
            "Correlation matrix:\n",
            " [[1. 1. 1.]\n",
            " [1. 1. 1.]\n",
            " [1. 1. 1.]]\n",
            "Covariance matrix:\n",
            " [[1. 1. 1.]\n",
            " [1. 1. 1.]\n",
            " [1. 1. 1.]]\n"
          ]
        }
      ]
    },
    {
      "cell_type": "markdown",
      "source": [
        "## 2.9 Array Manipulation\n",
        "* * *\n",
        "\n",
        "This section explores various techniques for manipulating the structure and content of NumPy arrays."
      ],
      "metadata": {
        "id": "Fu7pYz2Yz0qg"
      }
    },
    {
      "cell_type": "markdown",
      "source": [
        "### Reshaping\n",
        "\n",
        "This section demonstrates how to change the shape or dimensions of a NumPy array. The code block below shows how to use the `.reshape()` method to create arrays with different dimensions (including using -1 for auto-calculation) and how to flatten a multi-dimensional array into a 1D array using `.flatten()` and `.ravel()`."
      ],
      "metadata": {
        "id": "vd7cR-LPz5OT"
      }
    },
    {
      "cell_type": "code",
      "source": [
        "arr = np.arange(12)\n",
        "\n",
        "# Reshape\n",
        "reshape_3_4 = arr.reshape(3, 4)         # 3x4 matrix\n",
        "reshape_neg1_3 = arr.reshape(-1, 3)     # Auto-calculate rows, 3 columns\n",
        "reshape_2_2_3 = arr.reshape(2, 2, 3)    # 3D array\n",
        "\n",
        "# Flatten\n",
        "arr_2d = arr.reshape(3, 4)\n",
        "flattened_arr = arr_2d.flatten()        # 1D array (copy)\n",
        "raveled_arr = arr_2d.ravel()            # 1D array (view if possible)\n",
        "\n",
        "print(\"Original array:\", arr)\n",
        "print(\"\\nReshape to (3, 4):\\n\", reshape_3_4)\n",
        "print(\"\\nReshape to (-1, 3):\\n\", reshape_neg1_3)\n",
        "print(\"\\nReshape to (2, 2, 3):\\n\", reshape_2_2_3)\n",
        "print(\"\\nFlattened array:\", flattened_arr)\n",
        "print(\"\\nRaveled array:\", raveled_arr)"
      ],
      "metadata": {
        "colab": {
          "base_uri": "https://localhost:8080/"
        },
        "id": "j0X01iK2z7jm",
        "outputId": "9b2169e8-fff7-4cdd-be51-08aa35aae0e8"
      },
      "execution_count": null,
      "outputs": [
        {
          "output_type": "stream",
          "name": "stdout",
          "text": [
            "Original array: [ 0  1  2  3  4  5  6  7  8  9 10 11]\n",
            "\n",
            "Reshape to (3, 4):\n",
            " [[ 0  1  2  3]\n",
            " [ 4  5  6  7]\n",
            " [ 8  9 10 11]]\n",
            "\n",
            "Reshape to (-1, 3):\n",
            " [[ 0  1  2]\n",
            " [ 3  4  5]\n",
            " [ 6  7  8]\n",
            " [ 9 10 11]]\n",
            "\n",
            "Reshape to (2, 2, 3):\n",
            " [[[ 0  1  2]\n",
            "  [ 3  4  5]]\n",
            "\n",
            " [[ 6  7  8]\n",
            "  [ 9 10 11]]]\n",
            "\n",
            "Flattened array: [ 0  1  2  3  4  5  6  7  8  9 10 11]\n",
            "\n",
            "Raveled array: [ 0  1  2  3  4  5  6  7  8  9 10 11]\n"
          ]
        }
      ]
    },
    {
      "cell_type": "markdown",
      "source": [
        "### Joining and Splitting\n",
        "\n",
        "This section covers methods for combining multiple NumPy arrays and splitting a single array into multiple parts. The code block below illustrates the use of `np.concatenate()`, `np.vstack()`, and `np.hstack()` to join arrays vertically or horizontally, and `np.split()`, `np.hsplit()`, and `np.vsplit()` to split arrays along different axes."
      ],
      "metadata": {
        "id": "hfTSkmde0V-m"
      }
    },
    {
      "cell_type": "code",
      "source": [
        "a = np.array([[1, 2], [3, 4]])\n",
        "b = np.array([[5, 6], [7, 8]])\n",
        "\n",
        "# Concatenation\n",
        "concatenated_axis0 = np.concatenate([a, b], axis=0)  # Vertical stack\n",
        "concatenated_axis1 = np.concatenate([a, b], axis=1)  # Horizontal stack\n",
        "vstack_ab = np.vstack([a, b])                        # Vertical stack\n",
        "hstack_ab = np.hstack([a, b])                        # Horizontal stack\n",
        "\n",
        "# Splitting\n",
        "arr = np.arange(12).reshape(3, 4)\n",
        "split_axis0 = np.split(arr, 3, axis=0)               # Split into 3 parts along rows\n",
        "hsplit_arr = np.hsplit(arr, 2)                       # Horizontal split\n",
        "vsplit_arr = np.vsplit(arr, 3)                       # Vertical split\n",
        "\n",
        "print(\"Concatenated along axis 0:\\n\", concatenated_axis0)\n",
        "print(\"\\nConcatenated along axis 1:\\n\", concatenated_axis1)\n",
        "print(\"\\nvstack(a, b):\\n\", vstack_ab)\n",
        "print(\"\\nhstack(a, b):\\n\", hstack_ab)\n",
        "print(\"\\nSplit along axis 0 into 3 parts:\\n\", split_axis0)\n",
        "print(\"\\nhsplit(arr, 2):\\n\", hsplit_arr)\n",
        "print(\"\\nvsplit(arr, 3):\\n\", vsplit_arr)"
      ],
      "metadata": {
        "colab": {
          "base_uri": "https://localhost:8080/"
        },
        "id": "y4Cv97-J0ZBT",
        "outputId": "0338da68-db79-4c18-8db2-15c864e5fb63"
      },
      "execution_count": null,
      "outputs": [
        {
          "output_type": "stream",
          "name": "stdout",
          "text": [
            "Concatenated along axis 0:\n",
            " [[1 2]\n",
            " [3 4]\n",
            " [5 6]\n",
            " [7 8]]\n",
            "\n",
            "Concatenated along axis 1:\n",
            " [[1 2 5 6]\n",
            " [3 4 7 8]]\n",
            "\n",
            "vstack(a, b):\n",
            " [[1 2]\n",
            " [3 4]\n",
            " [5 6]\n",
            " [7 8]]\n",
            "\n",
            "hstack(a, b):\n",
            " [[1 2 5 6]\n",
            " [3 4 7 8]]\n",
            "\n",
            "Split along axis 0 into 3 parts:\n",
            " [array([[0, 1, 2, 3]]), array([[4, 5, 6, 7]]), array([[ 8,  9, 10, 11]])]\n",
            "\n",
            "hsplit(arr, 2):\n",
            " [array([[0, 1],\n",
            "       [4, 5],\n",
            "       [8, 9]]), array([[ 2,  3],\n",
            "       [ 6,  7],\n",
            "       [10, 11]])]\n",
            "\n",
            "vsplit(arr, 3):\n",
            " [array([[0, 1, 2, 3]]), array([[4, 5, 6, 7]]), array([[ 8,  9, 10, 11]])]\n"
          ]
        }
      ]
    },
    {
      "cell_type": "markdown",
      "source": [
        "### Adding and Removing Elements\n",
        "\n",
        "This section demonstrates how to add or remove elements from a NumPy array. The code block below shows the use of `np.append()` to add elements to the end of an array, `np.insert()` to insert elements at specific indices, and `np.delete()` to remove elements at specified indices."
      ],
      "metadata": {
        "id": "jqAPqNwW0vu-"
      }
    },
    {
      "cell_type": "code",
      "source": [
        "arr = np.array([1, 2, 3, 4, 5])\n",
        "\n",
        "# Append\n",
        "append_6 = np.append(arr, 6)               # [1 2 3 4 5 6]\n",
        "append_6_7 = np.append(arr, [6, 7])        # [1 2 3 4 5 6 7]\n",
        "\n",
        "# Insert\n",
        "insert_99 = np.insert(arr, 2, 99)          # [1 2 99 3 4 5]\n",
        "insert_multi = np.insert(arr, [1, 3], [99, 88]) # Multiple insertions\n",
        "\n",
        "# Delete\n",
        "delete_2 = np.delete(arr, 2)               # [1 2 4 5] (remove index 2)\n",
        "delete_multi = np.delete(arr, [1, 3])      # [1 3 5] (remove indices 1,3)\n",
        "\n",
        "print(\"Original array:\", arr)\n",
        "print(\"\\nAppend 6:\", append_6)\n",
        "print(\"\\nAppend [6, 7]:\", append_6_7)\n",
        "print(\"\\nInsert 99 at index 2:\", insert_99)\n",
        "print(\"\\nInsert multiple values:\", insert_multi)\n",
        "print(\"\\nDelete element at index 2:\", delete_2)\n",
        "print(\"\\nDelete elements at indices 1 and 3:\", delete_multi)"
      ],
      "metadata": {
        "colab": {
          "base_uri": "https://localhost:8080/"
        },
        "id": "eHgyluiI0x3A",
        "outputId": "664e301e-6a87-4553-e96a-47667be24eda"
      },
      "execution_count": null,
      "outputs": [
        {
          "output_type": "stream",
          "name": "stdout",
          "text": [
            "Original array: [1 2 3 4 5]\n",
            "\n",
            "Append 6: [1 2 3 4 5 6]\n",
            "\n",
            "Append [6, 7]: [1 2 3 4 5 6 7]\n",
            "\n",
            "Insert 99 at index 2: [ 1  2 99  3  4  5]\n",
            "\n",
            "Insert multiple values: [ 1 99  2  3 88  4  5]\n",
            "\n",
            "Delete element at index 2: [1 2 4 5]\n",
            "\n",
            "Delete elements at indices 1 and 3: [1 3 5]\n"
          ]
        }
      ]
    },
    {
      "cell_type": "markdown",
      "source": [
        "## 2.10 Linear Algebra\n",
        "* * *\n",
        "\n",
        "This section introduces essential linear algebra operations that can be performed using NumPy's `linalg` module. The code block below demonstrates matrix multiplication using `np.dot()`, `@`, and `np.matmul()`, matrix operations like transpose (`np.transpose()`, `.T`), inverse (`np.linalg.inv()`), determinant (`np.linalg.det()`), and trace (`np.trace()`). It also shows how to compute eigenvalues and eigenvectors (`np.linalg.eig()`), solve linear systems (`np.linalg.solve()`), and perform Singular Value Decomposition (SVD) using `np.linalg.svd()`. The distinction between element-wise and matrix operations is also highlighted."
      ],
      "metadata": {
        "id": "tu5Zf6sp09gH"
      }
    },
    {
      "cell_type": "code",
      "source": [
        "a = np.array([[1, 2], [3, 4]])\n",
        "b = np.array([[5, 6], [7, 8]])\n",
        "\n",
        "# Matrix multiplication\n",
        "dot_ab = np.dot(a, b)                 # Matrix multiplication\n",
        "matmul_ab_at = a @ b                  # Alternative syntax (Python 3.5+)\n",
        "matmul_ab = np.matmul(a, b)           # Matrix multiplication\n",
        "\n",
        "# Matrix operations\n",
        "transpose_a = np.transpose(a)         # Transpose\n",
        "a_T = a.T                             # Transpose (shorthand)\n",
        "a_transpose_method = a.transpose()                         # Transpose (method)\n",
        "inv_a = np.linalg.inv(a)              # Inverse\n",
        "det_a = np.linalg.det(a)              # Determinant\n",
        "trace_a = np.trace(a)                 # Trace (sum of diagonal)\n",
        "\n",
        "# Eigenvalues and eigenvectors\n",
        "eigenvals, eigenvecs = np.linalg.eig(a)\n",
        "\n",
        "# Solving linear systems (Ax = b)\n",
        "A = np.array([[2, 1], [1, 3]])\n",
        "b_vec = np.array([1, 2])\n",
        "x = np.linalg.solve(A, b_vec)\n",
        "\n",
        "# SVD (Singular Value Decomposition)\n",
        "U, s, Vt = np.linalg.svd(a)\n",
        "\n",
        "# Important: Element-wise vs Matrix operations\n",
        "# * is element-wise multiplication\n",
        "# Use np.dot(), @ or np.matmul() for matrix multiplication\n",
        "\n",
        "print(\"\\nMatrix multiplication (np.dot):\\n\", dot_ab)\n",
        "print(\"\\nMatrix multiplication (a @ b):\\n\", matmul_ab_at)\n",
        "print(\"\\nMatrix multiplication (np.matmul):\\n\", matmul_ab)\n",
        "print(\"\\nTranspose of a (np.transpose):\\n\", transpose_a)\n",
        "print(\"\\nTranspose of a (a.T):\\n\", a_T)\n",
        "print(\"\\nTranspose of a (a.transpose()):\\n\", a_transpose_method)\n",
        "print(\"\\nInverse of a:\\n\", inv_a)\n",
        "print(\"\\nDeterminant of a:\", det_a)\n",
        "print(\"\\nTrace of a:\", trace_a)\n",
        "print(\"\\nEigenvalues of a:\", eigenvals)\n",
        "print(\"\\nEigenvectors of a:\\n\", eigenvecs)\n",
        "print(\"\\nSolution to Ax = b (x):\\n\", x)\n",
        "print(\"\\nSVD of a:\\nU:\\n\", U)\n",
        "print(\"\\ns:\\n\", s)\n",
        "print(\"\\nVt:\\n\", Vt)"
      ],
      "metadata": {
        "colab": {
          "base_uri": "https://localhost:8080/"
        },
        "id": "HzpmHBi01XBH",
        "outputId": "d225f620-7e7b-4435-a5fb-7b7c4a24a3be"
      },
      "execution_count": null,
      "outputs": [
        {
          "output_type": "stream",
          "name": "stdout",
          "text": [
            "\n",
            "Matrix multiplication (np.dot):\n",
            " [[19 22]\n",
            " [43 50]]\n",
            "\n",
            "Matrix multiplication (a @ b):\n",
            " [[19 22]\n",
            " [43 50]]\n",
            "\n",
            "Matrix multiplication (np.matmul):\n",
            " [[19 22]\n",
            " [43 50]]\n",
            "\n",
            "Transpose of a (np.transpose):\n",
            " [[1 3]\n",
            " [2 4]]\n",
            "\n",
            "Transpose of a (a.T):\n",
            " [[1 3]\n",
            " [2 4]]\n",
            "\n",
            "Transpose of a (a.transpose()):\n",
            " [[1 3]\n",
            " [2 4]]\n",
            "\n",
            "Inverse of a:\n",
            " [[-2.   1. ]\n",
            " [ 1.5 -0.5]]\n",
            "\n",
            "Determinant of a: -2.0000000000000004\n",
            "\n",
            "Trace of a: 5\n",
            "\n",
            "Eigenvalues of a: [-0.37228132  5.37228132]\n",
            "\n",
            "Eigenvectors of a:\n",
            " [[-0.82456484 -0.41597356]\n",
            " [ 0.56576746 -0.90937671]]\n",
            "\n",
            "Solution to Ax = b (x):\n",
            " [0.2 0.6]\n",
            "\n",
            "SVD of a:\n",
            "U:\n",
            " [[-0.40455358 -0.9145143 ]\n",
            " [-0.9145143   0.40455358]]\n",
            "\n",
            "s:\n",
            " [5.4649857  0.36596619]\n",
            "\n",
            "Vt:\n",
            " [[-0.57604844 -0.81741556]\n",
            " [ 0.81741556 -0.57604844]]\n"
          ]
        }
      ]
    },
    {
      "cell_type": "markdown",
      "source": [
        "## 2.11 Broadcasting\n",
        "* * *\n",
        "Broadcasting allows operations between arrays of different shapes:\n",
        "\n",
        "The code block below illustrates how broadcasting works in NumPy, allowing operations between arrays of different shapes and between arrays and scalars. It shows examples of adding a scalar to an array and adding arrays with different dimensions, demonstrating how NumPy automatically adjusts the shapes for compatible operations based on broadcasting rules."
      ],
      "metadata": {
        "id": "o3Gvpb0y19XP"
      }
    },
    {
      "cell_type": "code",
      "source": [
        "# Scalar and array\n",
        "arr = np.array([1, 2, 3, 4])\n",
        "arr_plus_5 = arr + 5                # [6 7 8 9]\n",
        "print(\"Scalar and array addition (arr + 5):\", arr_plus_5)\n",
        "\n",
        "# Different shaped arrays\n",
        "a = np.array([[1, 2, 3]])           # (1, 3)\n",
        "b = np.array([[1], [2], [3]])       # (3, 1)\n",
        "result_a_plus_b = a + b             # (3, 3) result\n",
        "print(\"\\nAddition of different shaped arrays (a + b):\\n\", result_a_plus_b)\n",
        "\n",
        "# Broadcasting rules:\n",
        "# 1. Arrays are aligned from the rightmost dimension\n",
        "# 2. Dimensions of size 1 are stretched\n",
        "# 3. Missing dimensions are assumed to be of size 1\n",
        "\n",
        "# Example from lab: element-wise operations\n",
        "x = np.array([[1, 2], [3, 4]])\n",
        "y = np.array([[5, 6], [7, 8]])\n",
        "\n",
        "# All these are element-wise operations\n",
        "sum_xy = x + y\n",
        "diff_xy = x - y\n",
        "prod_xy = x * y\n",
        "div_xy = x / y\n",
        "pow_xy = x ** y\n",
        "mod_xy = x % y\n",
        "floor_div_xy = x // y\n",
        "\n",
        "print(\"\\nElement-wise addition (x + y):\\n\", sum_xy)\n",
        "print(\"Element-wise subtraction (x - y):\\n\", diff_xy)\n",
        "print(\"Element-wise multiplication (x * y):\\n\", prod_xy)\n",
        "print(\"Element-wise division (x / y):\\n\", div_xy)\n",
        "print(\"Element-wise exponentiation (x ** y):\\n\", pow_xy)\n",
        "print(\"Element-wise modulus (x % y):\\n\", mod_xy)\n",
        "print(\"Element-wise floor division (x // y):\\n\", floor_div_xy)\n",
        "print(\"\\nMatrix multiplication (x @ y):\\n\", x @ y)\n",
        "print(\"Matrix multiplication (x.dot(y)):\\n\", x.dot(y))\n",
        "\n",
        "print(\"\\n\\nAlso available as functions:\\n\")\n",
        "print(\"np.add(x, y):\\n\", np.add(x, y))\n",
        "print(\"np.subtract(x, y):\\n\", np.subtract(x, y))\n",
        "print(\"np.multiply(x, y):\\n\", np.multiply(x, y))\n",
        "print(\"np.divide(x, y):\\n\", np.divide(x, y))"
      ],
      "metadata": {
        "colab": {
          "base_uri": "https://localhost:8080/"
        },
        "id": "TzRkVa5j2ORX",
        "outputId": "95ce7581-a1f6-431c-9e60-a9aa96692bd4"
      },
      "execution_count": null,
      "outputs": [
        {
          "output_type": "stream",
          "name": "stdout",
          "text": [
            "Scalar and array addition (arr + 5): [6 7 8 9]\n",
            "\n",
            "Addition of different shaped arrays (a + b):\n",
            " [[2 3 4]\n",
            " [3 4 5]\n",
            " [4 5 6]]\n",
            "\n",
            "Element-wise addition (x + y):\n",
            " [[ 6  8]\n",
            " [10 12]]\n",
            "Element-wise subtraction (x - y):\n",
            " [[-4 -4]\n",
            " [-4 -4]]\n",
            "Element-wise multiplication (x * y):\n",
            " [[ 5 12]\n",
            " [21 32]]\n",
            "Element-wise division (x / y):\n",
            " [[0.2        0.33333333]\n",
            " [0.42857143 0.5       ]]\n",
            "Element-wise exponentiation (x ** y):\n",
            " [[    1    64]\n",
            " [ 2187 65536]]\n",
            "Element-wise modulus (x % y):\n",
            " [[1 2]\n",
            " [3 4]]\n",
            "Element-wise floor division (x // y):\n",
            " [[0 0]\n",
            " [0 0]]\n",
            "\n",
            "Matrix multiplication (x @ y):\n",
            " [[19 22]\n",
            " [43 50]]\n",
            "Matrix multiplication (x.dot(y)):\n",
            " [[19 22]\n",
            " [43 50]]\n",
            "\n",
            "\n",
            "Also available as functions:\n",
            "\n",
            "np.add(x, y):\n",
            " [[ 6  8]\n",
            " [10 12]]\n",
            "np.subtract(x, y):\n",
            " [[-4 -4]\n",
            " [-4 -4]]\n",
            "np.multiply(x, y):\n",
            " [[ 5 12]\n",
            " [21 32]]\n",
            "np.divide(x, y):\n",
            " [[0.2        0.33333333]\n",
            " [0.42857143 0.5       ]]\n"
          ]
        }
      ]
    },
    {
      "cell_type": "markdown",
      "source": [
        "## 2.12 Conditional Operations\n",
        "* * *\n",
        "\n",
        "This section covers performing operations on arrays based on conditions. The code block below demonstrates the use of `np.where()` to select elements based on a boolean condition, `np.select()` to apply different operations based on multiple conditions, and `np.clip()` to limit array values to a specified range."
      ],
      "metadata": {
        "id": "cXqxc56h2Z_p"
      }
    },
    {
      "cell_type": "code",
      "source": [
        "arr = np.array([1, 2, 3, 4, 5])\n",
        "\n",
        "# Where function\n",
        "where_arr = np.where(arr > 3, arr, 0)          # [0 0 0 4 5] (replace ≤3 with 0)\n",
        "where_indices = np.where(arr > 3)              # (array([3, 4]),) indices where True\n",
        "\n",
        "# Select and choose\n",
        "conditions = [arr < 2, arr > 4]\n",
        "choices = [arr * 10, arr * 100]\n",
        "select_arr = np.select(conditions, choices, default=arr)  # Apply different operations\n",
        "\n",
        "# Clip values\n",
        "clip_arr = np.clip(arr, 2, 4)                   # [2 2 3 4 4] (clamp between 2 and 4)\n",
        "\n",
        "print(\"np.where(arr > 3, arr, 0):\", where_arr)\n",
        "print(\"np.where(arr > 3):\", where_indices)\n",
        "print(\"\\n\")\n",
        "print(\"np.select(conditions, choices, default=arr):\", select_arr)\n",
        "print(\"\\n\")\n",
        "print(\"np.clip(arr, 2, 4):\", clip_arr)"
      ],
      "metadata": {
        "colab": {
          "base_uri": "https://localhost:8080/"
        },
        "id": "ZxC8l3q-2m6B",
        "outputId": "ebc569ef-9ce6-41aa-8eef-6f15a0b53dcf"
      },
      "execution_count": null,
      "outputs": [
        {
          "output_type": "stream",
          "name": "stdout",
          "text": [
            "np.where(arr > 3, arr, 0): [0 0 0 4 5]\n",
            "np.where(arr > 3): (array([3, 4]),)\n",
            "\n",
            "\n",
            "np.select(conditions, choices, default=arr): [ 10   2   3   4 500]\n",
            "\n",
            "\n",
            "np.clip(arr, 2, 4): [2 2 3 4 4]\n"
          ]
        }
      ]
    },
    {
      "cell_type": "markdown",
      "source": [
        "## 2.13 Sorting and Searching\n",
        "* * *\n",
        "\n",
        "This section explores methods for sorting elements within NumPy arrays and searching for specific values or their indices. The code block below shows how to sort arrays using `np.sort()` (returning a sorted copy) and the `.sort()` method (sorting in-place), and how to get the indices of sorted elements using `np.argsort()`. It also demonstrates sorting in multi-dimensional arrays along specific axes. For searching, it covers `np.searchsorted()` to find insertion points, `np.argmax()` and `np.argmin()` to find indices of maximum/minimum values, and `np.nonzero()` to find indices of non-zero elements."
      ],
      "metadata": {
        "id": "EqPPmLCK3QFg"
      }
    },
    {
      "cell_type": "code",
      "source": [
        "arr = np.array([3, 1, 4, 1, 5, 9, 2, 6])\n",
        "\n",
        "# Sorting\n",
        "sorted_arr = np.sort(arr)            # [1 1 2 3 4 5 6 9] (returns sorted copy)\n",
        "arr.sort()                           # Sort in-place\n",
        "argsort_arr = np.argsort(arr)        # [1 3 6 0 2 7 4 5] (indices of sorted elements)\n",
        "\n",
        "# Multi-dimensional sorting\n",
        "arr_2d = np.array([[3, 1, 4], [1, 5, 9]])\n",
        "sorted_arr_2d_axis1 = np.sort(arr_2d, axis=1)        # Sort each row\n",
        "sorted_arr_2d_axis0 = np.sort(arr_2d, axis=0)        # Sort each column\n",
        "\n",
        "# Searching\n",
        "searchsorted_result = np.searchsorted(np.sort(arr), 4)  # Index where 4 should be inserted\n",
        "argmax_arr = np.argmax(arr)          # Index of maximum value\n",
        "argmin_arr = np.argmin(arr)          # Index of minimum value\n",
        "nonzero_arr = np.nonzero(arr > 3)    # Indices of non-zero elements\n",
        "\n",
        "print(\"Original array:\", arr) # Note: arr is sorted in-place by arr.sort()\n",
        "print(\"\\nSorted array (copy):\", sorted_arr)\n",
        "print(\"\\nArgsort of array:\", argsort_arr)\n",
        "print(\"\\nMulti-dimensional arrays:\")\n",
        "print(\"\\nSorted 2D array along axis 1:\\n\", sorted_arr_2d_axis1)\n",
        "print(\"\\nSorted 2D array along axis 0:\\n\", sorted_arr_2d_axis0)\n",
        "print(\"\\n\")\n",
        "print(\"\\nSearchsorted result for 4:\", searchsorted_result)\n",
        "print(\"\\nIndex of maximum value:\", argmax_arr)\n",
        "print(\"\\nIndex of minimum value:\", argmin_arr)\n",
        "print(\"\\nIndices of non-zero elements (arr > 3):\", nonzero_arr)"
      ],
      "metadata": {
        "colab": {
          "base_uri": "https://localhost:8080/"
        },
        "id": "Xn4CheTP3TxQ",
        "outputId": "9f916118-fb6a-42c0-e692-1241077a99d7"
      },
      "execution_count": null,
      "outputs": [
        {
          "output_type": "stream",
          "name": "stdout",
          "text": [
            "Original array: [1 1 2 3 4 5 6 9]\n",
            "\n",
            "Sorted array (copy): [1 1 2 3 4 5 6 9]\n",
            "\n",
            "Argsort of array: [0 1 2 3 4 5 6 7]\n",
            "\n",
            "Multi-dimensional arrays:\n",
            "\n",
            "Sorted 2D array along axis 1:\n",
            " [[1 3 4]\n",
            " [1 5 9]]\n",
            "\n",
            "Sorted 2D array along axis 0:\n",
            " [[1 1 4]\n",
            " [3 5 9]]\n",
            "\n",
            "\n",
            "\n",
            "Searchsorted result for 4: 4\n",
            "\n",
            "Index of maximum value: 7\n",
            "\n",
            "Index of minimum value: 0\n",
            "\n",
            "Indices of non-zero elements (arr > 3): (array([4, 5, 6, 7]),)\n"
          ]
        }
      ]
    },
    {
      "cell_type": "markdown",
      "source": [
        "## 2.14 Set Operations\n",
        "* * *\n",
        "\n",
        "This section introduces set operations that can be performed on NumPy arrays. The code block below demonstrates how to find unique elements in an array using `np.unique()` and how to perform set operations like intersection (`np.intersect1d()`), union (`np.union1d()`), set difference (`np.setdiff1d()`), and symmetric difference (`np.setxor1d()`) between two arrays. It also shows how to test for element-wise membership using `np.isin()`."
      ],
      "metadata": {
        "id": "pZ00MakQ3q5g"
      }
    },
    {
      "cell_type": "code",
      "source": [
        "a = np.array([1, 2, 3, 4, 5])\n",
        "b = np.array([3, 4, 5, 6, 7])\n",
        "\n",
        "# Unique values\n",
        "unique_a = np.unique(a)                        # Remove duplicates\n",
        "unique_repeated = np.unique([1, 1, 2, 2, 3])   # [1 2 3]\n",
        "\n",
        "# Set operations\n",
        "intersect_ab = np.intersect1d(a, b)            # [3 4 5] (intersection)\n",
        "union_ab = np.union1d(a, b)                    # [1 2 3 4 5 6 7] (union)\n",
        "setdiff_ab = np.setdiff1d(a, b)                # [1 2] (elements in a but not in b)\n",
        "setxor_ab = np.setxor1d(a, b)                  # [1 2 6 7] (symmetric difference)\n",
        "\n",
        "# Membership testing\n",
        "in1d_ab = np.isin(a, b)                        # [False False True True True] (element-wise)\n",
        "\n",
        "print(\"Unique values in a:\", unique_a)\n",
        "print(\"Unique values in [1, 1, 2, 2, 3]:\", unique_repeated)\n",
        "print(\"\\nIntersection of a and b:\", intersect_ab)\n",
        "print(\"Union of a and b:\", union_ab)\n",
        "print(\"Set difference (a - b):\", setdiff_ab)\n",
        "print(\"Symmetric difference (a XOR b):\", setxor_ab)\n",
        "print(\"\\nMembership testing (a in b):\", in1d_ab)"
      ],
      "metadata": {
        "colab": {
          "base_uri": "https://localhost:8080/"
        },
        "id": "Q1TEJj9B3vk9",
        "outputId": "3a012a09-4a6a-4a36-fff0-71c8fb149393"
      },
      "execution_count": null,
      "outputs": [
        {
          "output_type": "stream",
          "name": "stdout",
          "text": [
            "Unique values in a: [1 2 3 4 5]\n",
            "Unique values in [1, 1, 2, 2, 3]: [1 2 3]\n",
            "\n",
            "Intersection of a and b: [3 4 5]\n",
            "Union of a and b: [1 2 3 4 5 6 7]\n",
            "Set difference (a - b): [1 2]\n",
            "Symmetric difference (a XOR b): [1 2 6 7]\n",
            "\n",
            "Membership testing (a in b): [False False  True  True  True]\n"
          ]
        }
      ]
    },
    {
      "cell_type": "markdown",
      "source": [
        "## 2.15 File I/O\n",
        "* * *\n",
        "This section covers how to save and load NumPy arrays to and from files in various formats. The code block below demonstrates saving and loading arrays in binary format using `np.save()` and `np.load()` (.npy files), saving and loading multiple arrays in compressed binary format using `np.savez()` (.npz files), and saving and loading arrays to/from text files using `np.savetxt()` and `np.loadtxt()` (.txt, .csv files). It also shows how to load data from CSV files with headers using `np.genfromtxt()`."
      ],
      "metadata": {
        "id": "UJ70ycun5mKS"
      }
    },
    {
      "cell_type": "code",
      "source": [
        "arr = np.array([[1, 2, 3], [4, 5, 6]])\n",
        "\n",
        "# Save and load binary format (.npy)\n",
        "np.save('array.npy', arr)\n",
        "loaded_arr_npy = np.load('array.npy')\n",
        "\n",
        "# Save and load multiple arrays (.npz)\n",
        "np.savez('arrays.npz', a=arr, b=arr*2)\n",
        "data = np.load('arrays.npz')\n",
        "arr_a_npz = data['a']\n",
        "arr_b_npz = data['b']\n",
        "\n",
        "# Text format\n",
        "np.savetxt('array.txt', arr, delimiter=',')\n",
        "loaded_arr_txt = np.loadtxt('array.txt', delimiter=',')\n",
        "\n",
        "# CSV files\n",
        "np.savetxt('data.csv', arr, delimiter=',', header='col1,col2,col3')\n",
        "loaded_arr_csv = np.genfromtxt('data.csv', delimiter=',', names=True)\n",
        "\n",
        "print(\"Original array:\\n\", arr)\n",
        "print(\"\\nLoaded from .npy:\\n\", loaded_arr_npy)\n",
        "print(\"\\nLoaded 'a' from .npz:\\n\", arr_a_npz)\n",
        "print(\"\\nLoaded 'b' from .npz:\\n\", arr_b_npz)\n",
        "print(\"\\nLoaded from .txt:\\n\", loaded_arr_txt)\n",
        "print(\"\\nLoaded from .csv:\\n\", loaded_arr_csv)"
      ],
      "metadata": {
        "colab": {
          "base_uri": "https://localhost:8080/"
        },
        "id": "Lp9sGBIr5pOh",
        "outputId": "08d4283c-f081-46c5-f4e5-e9a54b194b16"
      },
      "execution_count": null,
      "outputs": [
        {
          "output_type": "stream",
          "name": "stdout",
          "text": [
            "Original array:\n",
            " [[1 2 3]\n",
            " [4 5 6]]\n",
            "\n",
            "Loaded from .npy:\n",
            " [[1 2 3]\n",
            " [4 5 6]]\n",
            "\n",
            "Loaded 'a' from .npz:\n",
            " [[1 2 3]\n",
            " [4 5 6]]\n",
            "\n",
            "Loaded 'b' from .npz:\n",
            " [[ 2  4  6]\n",
            " [ 8 10 12]]\n",
            "\n",
            "Loaded from .txt:\n",
            " [[1. 2. 3.]\n",
            " [4. 5. 6.]]\n",
            "\n",
            "Loaded from .csv:\n",
            " [(1., 2., 3.) (4., 5., 6.)]\n"
          ]
        }
      ]
    },
    {
      "cell_type": "markdown",
      "source": [
        "## 2.16 Memory and Performance Tips\n",
        "* * *\n",
        "This section provides insights and techniques for optimizing the memory usage and performance of NumPy code. The code block below demonstrates how to check the memory usage of arrays using `.nbytes`, explains the concept of views versus copies and shows how to create both, highlights the efficiency of vectorized operations over loops, suggests pre-allocating arrays for better performance, and emphasizes the importance of choosing appropriate data types using `dtype`. It also includes a placeholder for profiling code using the `time` module to measure execution time."
      ],
      "metadata": {
        "id": "PAu05HEF5_zN"
      }
    },
    {
      "cell_type": "code",
      "source": [
        "# Check memory usage\n",
        "arr = np.random.random((1000, 1000))\n",
        "memory_usage_mb = arr.nbytes / (1024**2)  # Size in MB\n",
        "print(\"Memory usage of arr (MB):\", memory_usage_mb)\n",
        "\n",
        "# Views vs Copies\n",
        "view = arr[::2]         # Creates a view (shares memory)\n",
        "copy = arr.copy()       # Creates a copy (new memory)\n",
        "print(\"\\nView of arr:\", view)\n",
        "print(\"\\nCopy of arr:\", copy)\n",
        "\n",
        "# Efficient operations\n",
        "# Use vectorized operations instead of loops\n",
        "# Bad: [func(x) for x in arr]\n",
        "# Good: np.vectorize(func)(arr) or ufuncs\n",
        "\n",
        "# Pre-allocate arrays when possible\n",
        "result = np.empty((1000, 1000))  # Faster than growing arrays\n",
        "print(\"\\nExample of pre-allocated empty array:\\n\", result)\n",
        "\n",
        "# Use appropriate data types\n",
        "arr_int8 = np.array([1, 2, 3], dtype=np.int8)        # 1 byte per element\n",
        "arr_float32 = np.array([1, 2, 3], dtype=np.float32)  # 4 bytes per element\n",
        "print(\"\\nArray with int8 dtype:\", arr_int8)\n",
        "print(\"Array with float32 dtype:\", arr_float32)"
      ],
      "metadata": {
        "colab": {
          "base_uri": "https://localhost:8080/"
        },
        "id": "vLq3e4eR6FCt",
        "outputId": "2746175f-3941-4d06-c288-79c97d22fbc9"
      },
      "execution_count": null,
      "outputs": [
        {
          "output_type": "stream",
          "name": "stdout",
          "text": [
            "Memory usage of arr (MB): 7.62939453125\n",
            "\n",
            "View of arr: [[0.92190893 0.70724216 0.52847754 ... 0.09442034 0.98520057 0.51626479]\n",
            " [0.4088004  0.61111537 0.72345265 ... 0.97819973 0.55819151 0.6605068 ]\n",
            " [0.20360578 0.50155724 0.98770201 ... 0.24047394 0.87124846 0.08890864]\n",
            " ...\n",
            " [0.52942843 0.89494881 0.46173364 ... 0.8773214  0.98077745 0.47723822]\n",
            " [0.85089488 0.52020892 0.26660188 ... 0.21811735 0.54660188 0.9839324 ]\n",
            " [0.08523377 0.38215476 0.89299516 ... 0.62027585 0.40420734 0.06446211]]\n",
            "\n",
            "Copy of arr: [[0.92190893 0.70724216 0.52847754 ... 0.09442034 0.98520057 0.51626479]\n",
            " [0.73143814 0.11538532 0.64219595 ... 0.31137888 0.87847722 0.03859866]\n",
            " [0.4088004  0.61111537 0.72345265 ... 0.97819973 0.55819151 0.6605068 ]\n",
            " ...\n",
            " [0.4812199  0.5665116  0.00458156 ... 0.4137686  0.71159447 0.53142082]\n",
            " [0.08523377 0.38215476 0.89299516 ... 0.62027585 0.40420734 0.06446211]\n",
            " [0.06812008 0.36743082 0.56128752 ... 0.35927188 0.72049318 0.5264901 ]]\n",
            "\n",
            "Example of pre-allocated empty array:\n",
            " [[0. 0. 0. ... 0. 0. 0.]\n",
            " [0. 0. 0. ... 0. 0. 0.]\n",
            " [0. 0. 0. ... 0. 0. 0.]\n",
            " ...\n",
            " [0. 0. 0. ... 0. 0. 0.]\n",
            " [0. 0. 0. ... 0. 0. 0.]\n",
            " [0. 0. 0. ... 0. 0. 0.]]\n",
            "\n",
            "Array with int8 dtype: [1 2 3]\n",
            "Array with float32 dtype: [1. 2. 3.]\n"
          ]
        }
      ]
    },
    {
      "cell_type": "markdown",
      "source": [
        "## 2.17 Common Patterns in ML/AI\n",
        "* * *\n",
        "\n",
        "This section provides examples of how NumPy is used to implement common patterns and functions in the field of machine learning and artificial intelligence. The code block below defines and demonstrates functions for data normalization (zero mean, unit variance), min-max scaling, one-hot encoding of categorical labels, generating train-test split indices, computing a confusion matrix, and implementing the softmax and sigmoid activation functions. These examples showcase the practical application of NumPy in building fundamental components of ML/AI models."
      ],
      "metadata": {
        "id": "f0TxNQoj6u1L"
      }
    },
    {
      "cell_type": "code",
      "source": [
        "# Normalize data (zero mean, unit variance)\n",
        "def normalize(X):\n",
        "    # Calculates the mean and standard deviation of the input array X along axis 0 (columns)\n",
        "    # Subtracts the mean from X and divides by the standard deviation\n",
        "    return (X - np.mean(X, axis=0)) / np.std(X, axis=0)\n",
        "\n",
        "# Min-max scaling\n",
        "def min_max_scale(X):\n",
        "    # Calculates the minimum and maximum values of the input array X along axis 0 (columns)\n",
        "    # Scales the data to a range between 0 and 1\n",
        "    return (X - np.min(X, axis=0)) / (np.max(X, axis=0) - np.min(X, axis=0))\n",
        "\n",
        "# One-hot encoding\n",
        "def one_hot_encode(y, num_classes):\n",
        "    # Creates a one-hot encoded representation of the input array y\n",
        "    # np.eye(num_classes) creates an identity matrix, and indexing with y selects the appropriate rows\n",
        "    return np.eye(num_classes)[y]\n",
        "\n",
        "# Train-test split indices\n",
        "def train_test_split_indices(n_samples, test_size=0.2, random_state=None):\n",
        "    # Generates indices for splitting a dataset into training and testing sets\n",
        "    # Randomly permutes the indices and splits them based on the test_size\n",
        "    if random_state:\n",
        "        np.random.seed(random_state)\n",
        "    indices = np.random.permutation(n_samples)\n",
        "    test_size = int(n_samples * test_size)\n",
        "    return indices[test_size:], indices[:test_size]\n",
        "\n",
        "# Confusion matrix\n",
        "def confusion_matrix(y_true, y_pred, num_classes):\n",
        "    # Computes a confusion matrix\n",
        "    # Counts the occurrences of predicted classes versus true classes\n",
        "    cm = np.zeros((num_classes, num_classes), dtype=int)\n",
        "    for i in range(len(y_true)):\n",
        "        cm[y_true[i], y_pred[i]] += 1\n",
        "    return cm\n",
        "\n",
        "# Softmax function\n",
        "def softmax(x):\n",
        "    # Implements the softmax activation function\n",
        "    # Converts a vector of numbers into a probability distribution\n",
        "    exp_x = np.exp(x - np.max(x, axis=-1, keepdims=True))\n",
        "    return exp_x / np.sum(exp_x, axis=-1, keepdims=True)\n",
        "\n",
        "# Sigmoid function\n",
        "def sigmoid(x):\n",
        "    # Implements the sigmoid activation function\n",
        "    # Squashes values between 0 and 1\n",
        "    return 1 / (1 + np.exp(-np.clip(x, -250, 250)))  # Clip to prevent overflow\n",
        "\n",
        "# Example Usage and Print Statements\n",
        "data_for_normalize = np.array([[1.0, 2.0], [3.0, 4.0], [5.0, 6.0]])\n",
        "normalized_data = normalize(data_for_normalize)\n",
        "print(\"Normalized Data:\\n\", normalized_data)\n",
        "\n",
        "data_for_minmax = np.array([[1.0, 2.0], [3.0, 4.0], [5.0, 6.0]])\n",
        "minmax_scaled_data = min_max_scale(data_for_minmax)\n",
        "print(\"\\nMin-Max Scaled Data:\\n\", minmax_scaled_data)\n",
        "\n",
        "labels_for_onehot = np.array([0, 1, 2, 1])\n",
        "num_classes = 3\n",
        "onehot_encoded_labels = one_hot_encode(labels_for_onehot, num_classes)\n",
        "print(\"\\nOne-Hot Encoded Labels:\\n\", onehot_encoded_labels)\n",
        "\n",
        "n_samples = 100\n",
        "train_indices, test_indices = train_test_split_indices(n_samples, test_size=0.3, random_state=42)\n",
        "print(\"\\nTrain Indices (first 10):\", train_indices[:10])\n",
        "print(\"Test Indices (first 10):\", test_indices[:10])\n",
        "\n",
        "y_true = np.array([0, 1, 2, 1, 0, 2])\n",
        "y_pred = np.array([0, 2, 1, 1, 0, 2])\n",
        "num_classes_cm = 3\n",
        "cm = confusion_matrix(y_true, y_pred, num_classes_cm)\n",
        "print(\"\\nConfusion Matrix:\\n\", cm)\n",
        "\n",
        "data_for_softmax = np.array([1.0, 2.0, 3.0])\n",
        "softmax_output = softmax(data_for_softmax)\n",
        "print(\"\\nSoftmax Output:\", softmax_output)\n",
        "\n",
        "data_for_sigmoid = np.array([-1.0, 0.0, 1.0])\n",
        "sigmoid_output = sigmoid(data_for_sigmoid)\n",
        "print(\"\\nSigmoid Output:\", sigmoid_output)"
      ],
      "metadata": {
        "colab": {
          "base_uri": "https://localhost:8080/"
        },
        "id": "p8efNMjM6yRK",
        "outputId": "3bb9c5da-4135-4f3c-c301-fd97e87fa47b"
      },
      "execution_count": null,
      "outputs": [
        {
          "output_type": "stream",
          "name": "stdout",
          "text": [
            "Normalized Data:\n",
            " [[-1.22474487 -1.22474487]\n",
            " [ 0.          0.        ]\n",
            " [ 1.22474487  1.22474487]]\n",
            "\n",
            "Min-Max Scaled Data:\n",
            " [[0.  0. ]\n",
            " [0.5 0.5]\n",
            " [1.  1. ]]\n",
            "\n",
            "One-Hot Encoded Labels:\n",
            " [[1. 0. 0.]\n",
            " [0. 1. 0.]\n",
            " [0. 0. 1.]\n",
            " [0. 1. 0.]]\n",
            "\n",
            "Train Indices (first 10): [11 47 85 28 93  5 66 65 35 16]\n",
            "Test Indices (first 10): [83 53 70 45 44 39 22 80 10  0]\n",
            "\n",
            "Confusion Matrix:\n",
            " [[2 0 0]\n",
            " [0 1 1]\n",
            " [0 1 1]]\n",
            "\n",
            "Softmax Output: [0.09003057 0.24472847 0.66524096]\n",
            "\n",
            "Sigmoid Output: [0.26894142 0.5        0.73105858]\n"
          ]
        }
      ]
    },
    {
      "cell_type": "markdown",
      "metadata": {
        "id": "bbaeb4f2"
      },
      "source": [
        "## 2.18 Performance Optimization\n",
        "* * *\n",
        "\n",
        "This section reiterates and expands on performance optimization strategies in NumPy. The code block below demonstrates how to use built-in vectorized functions instead of explicit Python loops for faster computations, advises against repeated array creation within loops, illustrates the concept of views for memory efficiency (avoiding unnecessary copying), reinforces the idea of pre-allocating arrays, and emphasizes the impact of choosing appropriate data types on memory usage and performance. It also includes an example of how to use the `time` module for basic code profiling to measure the execution time of NumPy operations."
      ]
    },
    {
      "cell_type": "code",
      "source": [
        "# Use built-in functions instead of loops\n",
        "# Slow\n",
        "result = []\n",
        "for i in range(len(arr)):\n",
        "    result.append(arr[i] ** 2)\n",
        "\n",
        "# Fast\n",
        "result = np.square(arr) # Example of using vectorized operation\n",
        "\n",
        "# Avoid repeated array creation\n",
        "# Slow\n",
        "for i in range(1000):\n",
        "    temp = np.zeros(1000)\n",
        "    # ... operations on temp\n",
        "\n",
        "# Fast\n",
        "temp = np.zeros(1000) # Pre-allocate\n",
        "for i in range(1000):\n",
        "    temp[:] = 0  # Reset existing array\n",
        "    # ... operations on temp\n",
        "\n",
        "# Use views when possible\n",
        "large_arr = np.random.random((10000, 10000))\n",
        "subset = large_arr[1000:2000, 1000:2000]  # View, no copying\n",
        "processed = subset * 2  # Operations on view\n",
        "print(\"Example of using views (a subset of a large array):\\n\", subset)\n",
        "print(\"\\nExample of operations on a view (subset * 2):\\n\", processed)\n",
        "\n",
        "\n",
        "# Pre-allocate arrays when possible\n",
        "result_empty = np.empty((1000, 1000))  # Faster than growing arrays\n",
        "print(\"\\nExample of pre-allocated empty array:\\n\", result_empty)\n",
        "\n",
        "# Use appropriate data types\n",
        "arr_int8 = np.array([1, 2, 3], dtype=np.int8)        # 1 byte per element\n",
        "arr_float32 = np.array([1, 2, 3], dtype=np.float32)  # 4 bytes per element\n",
        "print(\"\\nArray with int8 dtype:\", arr_int8)\n",
        "print(\"Array with float32 dtype:\", arr_float32)\n",
        "\n",
        "# Profile your code\n",
        "import time\n",
        "start = time.time()\n",
        "# ... your numpy operations\n",
        "end = time.time()\n",
        "print(f\"\\nTime taken for placeholder operation: {end - start:.4f} seconds\") # Added print for profiling example"
      ],
      "metadata": {
        "colab": {
          "base_uri": "https://localhost:8080/"
        },
        "id": "qEUZJftz7UUf",
        "outputId": "cd8eda56-b9e8-4de2-83a9-74fc9716bf7e"
      },
      "execution_count": null,
      "outputs": [
        {
          "output_type": "stream",
          "name": "stdout",
          "text": [
            "Example of using views (a subset of a large array):\n",
            " [[0.84401209 0.50725286 0.48937041 ... 0.84120925 0.30046148 0.2289248 ]\n",
            " [0.22344869 0.7731329  0.15963621 ... 0.24206448 0.85633473 0.48865508]\n",
            " [0.04501997 0.44642339 0.32832086 ... 0.28455701 0.068467   0.37749544]\n",
            " ...\n",
            " [0.95825424 0.76336171 0.60841453 ... 0.32137478 0.75872874 0.12262849]\n",
            " [0.98450749 0.6049895  0.78289335 ... 0.05524097 0.94277093 0.87823897]\n",
            " [0.26686602 0.92532791 0.2924576  ... 0.20935596 0.7205089  0.18297257]]\n",
            "\n",
            "Example of operations on a view (subset * 2):\n",
            " [[1.68802418 1.01450572 0.97874082 ... 1.68241849 0.60092296 0.4578496 ]\n",
            " [0.44689739 1.5462658  0.31927242 ... 0.48412895 1.71266946 0.97731016]\n",
            " [0.09003994 0.89284678 0.65664173 ... 0.56911401 0.13693401 0.75499089]\n",
            " ...\n",
            " [1.91650847 1.52672341 1.21682905 ... 0.64274955 1.51745749 0.24525698]\n",
            " [1.96901498 1.20997899 1.5657867  ... 0.11048193 1.88554186 1.75647793]\n",
            " [0.53373205 1.85065581 0.58491519 ... 0.41871193 1.4410178  0.36594515]]\n",
            "\n",
            "Example of pre-allocated empty array:\n",
            " [[0. 0. 0. ... 0. 0. 0.]\n",
            " [0. 0. 0. ... 0. 0. 0.]\n",
            " [0. 0. 0. ... 0. 0. 0.]\n",
            " ...\n",
            " [0. 0. 0. ... 0. 0. 0.]\n",
            " [0. 0. 0. ... 0. 0. 0.]\n",
            " [0. 0. 0. ... 0. 0. 0.]]\n",
            "\n",
            "Array with int8 dtype: [1 2 3]\n",
            "Array with float32 dtype: [1. 2. 3.]\n",
            "\n",
            "Time taken for placeholder operation: 0.0000 seconds\n"
          ]
        }
      ]
    },
    {
      "cell_type": "markdown",
      "metadata": {
        "id": "9bd201eb"
      },
      "source": [
        "---\n",
        "---\n",
        "## Quick Reference Summary\n",
        "\n",
        "This notebook section demonstrates various functionalities of the NumPy library. Here's a summary of the key functions and concepts used:\n",
        "\n",
        "**Array Creation:**\n",
        "\n",
        "* `np.array()`: Creates NumPy arrays from Python lists or other array-like objects.\n",
        "* `np.zeros()`, `np.ones()`: Create arrays filled with zeros or ones.\n",
        "* `np.eye()`, `np.identity()`: Create identity matrices.\n",
        "* `np.full()`: Create arrays filled with a specific value.\n",
        "* `np.full_like()`: Create an array of the same shape and type as another array, filled with a specific value.\n",
        "* `np.empty()`: Create arrays with uninitialized (random) values.\n",
        "* `np.arange()`: Create arrays with regularly spaced values within a given range.\n",
        "* `np.linspace()`: Create arrays with a specified number of evenly spaced values within a given interval.\n",
        "* `np.random.random()`: Create arrays with random floats in the range [0.0, 1.0).\n",
        "* `np.random.randint()`: Create arrays with random integers within a given range.\n",
        "* `np.random.randn()`: Create arrays with random samples from a standard normal distribution.\n",
        "* `np.random.normal()`: Create arrays with random samples from a normal distribution.\n",
        "* `np.random.uniform()`: Create arrays with random samples from a uniform distribution.\n",
        "* `np.random.seed()`: Set the random seed for reproducibility.\n",
        "\n",
        "**Array Properties and Information:**\n",
        "\n",
        "* `.shape`: Tuple of array dimensions.\n",
        "* `.size`: Total number of elements in the array.\n",
        "* `.ndim`: Number of dimensions of the array.\n",
        "* `.dtype`: Data type of the array elements.\n",
        "* `.itemsize`: Size in bytes of each element.\n",
        "* `.nbytes`: Total bytes consumed by the array data.\n",
        "* `.flags`: Information about the memory layout of the array.\n",
        "* `.data`: Buffer containing the array's actual data.\n",
        "\n",
        "**Array Indexing and Slicing:**\n",
        "\n",
        "* Basic indexing (`arr[index]`, `arr[start:stop:step]`): Accessing single elements or slices.\n",
        "* Multi-dimensional indexing (`arr_2d[row, column]`, `arr_2d[row_slice, column_slice]`): Accessing elements or subarrays in multi-dimensional arrays.\n",
        "* Boolean indexing (`arr[boolean_array]`): Selecting elements based on a boolean condition.\n",
        "* Fancy indexing (`arr[list_of_indices]`): Selecting elements using a list or array of indices.\n",
        "\n",
        "**Array Operations:**\n",
        "\n",
        "* Element-wise arithmetic operations (`+`, `-`, `*`, `/`, `**`, `%`).\n",
        "* Scalar operations (`arr + scalar`, `arr * scalar`).\n",
        "* `np.sqrt()`, `np.square()`, `np.abs()`, `np.sign()`: Basic mathematical functions.\n",
        "* `np.sin()`, `np.cos()`, `np.tan()`: Trigonometric functions.\n",
        "* `np.exp()`, `np.log()`, `np.log10()`, `np.log2()`: Exponential and logarithmic functions.\n",
        "* `np.round()`, `np.floor()`, `np.ceil()`: Rounding functions.\n",
        "\n",
        "**Vectorization and Array Operations:**\n",
        "\n",
        "* Vectorized operations for faster computations.\n",
        "* Vector-scalar operations.\n",
        "* Element-wise operations.\n",
        "* Broadcasting: Operations between arrays of different shapes.\n",
        "\n",
        "**Data Type Considerations:**\n",
        "\n",
        "* Automatic data type inference.\n",
        "* Explicit data type specification using `dtype`.\n",
        "* Data type conversion using `.astype()`.\n",
        "\n",
        "**Statistical Operations:**\n",
        "\n",
        "* `np.mean()`, `np.median()`, `np.std()`, `np.var()`: Calculate mean, median, standard deviation, and variance.\n",
        "* `np.min()`, `np.max()`, `np.sum()`: Find minimum, maximum, and sum of elements.\n",
        "* Operations along axes (`axis=0` for columns, `axis=1` for rows).\n",
        "* `np.percentile()`, `np.quantile()`: Calculate percentiles and quantiles.\n",
        "* `np.corrcoef()`, `np.cov()`: Calculate correlation and covariance matrices.\n",
        "\n",
        "**Array Manipulation:**\n",
        "\n",
        "* `.reshape()`: Change the shape of an array.\n",
        "* `.flatten()`, `.ravel()`: Convert a multi-dimensional array to a 1D array.\n",
        "* `np.concatenate()`, `np.vstack()`, `np.hstack()`: Join arrays along different axes.\n",
        "* `np.split()`, `np.hsplit()`, `np.vsplit()`: Split arrays into multiple subarrays.\n",
        "* `np.append()`: Add elements to the end of an array.\n",
        "* `np.insert()`: Insert elements at specific indices.\n",
        "* `np.delete()`: Remove elements at specific indices.\n",
        "\n",
        "**Linear Algebra:**\n",
        "\n",
        "* `np.dot()`, `np.matmul()`, `@`: Matrix multiplication.\n",
        "* `np.transpose()`, `.T`: Transpose a matrix.\n",
        "* `np.linalg.inv()`: Calculate the inverse of a matrix.\n",
        "* `np.linalg.det()`: Calculate the determinant of a matrix.\n",
        "* `np.trace()`: Calculate the trace of a matrix.\n",
        "* `np.linalg.eig()`: Compute the eigenvalues and eigenvectors of a square matrix.\n",
        "* `np.linalg.solve()`: Solve a linear system of equations.\n",
        "* `np.linalg.svd()`: Perform Singular Value Decomposition.\n",
        "\n",
        "**Broadcasting:**\n",
        "\n",
        "* Implicit mechanism that allows operations between arrays of different shapes under certain rules.\n",
        "\n",
        "**Conditional Operations:**\n",
        "\n",
        "* `np.where()`: Select elements from `x` or `y` depending on `condition`.\n",
        "* `np.select()`: Perform operations based on multiple conditions and choices.\n",
        "* `np.clip()`: Limit the values in an array to a specified range.\n",
        "\n",
        "**Sorting and Searching:**\n",
        "\n",
        "* `np.sort()`: Return a sorted copy of an array.\n",
        "* `.sort()`: Sort an array in-place.\n",
        "* `np.argsort()`: Return the indices that would sort an array.\n",
        "* `np.searchsorted()`: Find indices where elements should be inserted to maintain order.\n",
        "* `np.argmax()`, `np.argmin()`: Return the indices of the maximum or minimum values.\n",
        "* `np.nonzero()`: Return the indices of the elements that are non-zero.\n",
        "\n",
        "**Set Operations:**\n",
        "\n",
        "* `np.unique()`: Find the unique elements of an array.\n",
        "* `np.intersect1d()`: Find the intersection of two arrays.\n",
        "* `np.union1d()`: Find the union of two arrays.\n",
        "* `np.setdiff1d()`: Find the set difference of two arrays.\n",
        "* `np.setxor1d()`: Find the symmetric difference of two arrays.\n",
        "* `np.in1d()` (deprecated, use `np.isin()`): Test element-wise for membership in another array.\n",
        "\n",
        "**File I/O:**\n",
        "\n",
        "* `np.save()`, `np.load()`: Save and load arrays in binary format (.npy).\n",
        "* `np.savez()`, `np.load()`: Save and load multiple arrays in compressed binary format (.npz).\n",
        "* `np.savetxt()`, `np.loadtxt()`: Save and load arrays to and from text files (.txt, .csv).\n",
        "* `np.genfromtxt()`: Load data from a text file, with support for missing values.\n",
        "\n",
        "**Memory and Performance Tips:**\n",
        "\n",
        "* Understanding memory usage (`.nbytes`).\n",
        "* Views vs. Copies.\n",
        "* Vectorized operations.\n",
        "* Pre-allocating arrays.\n",
        "* Choosing appropriate data types (`dtype`).\n",
        "* Profiling code (using the `time` module).\n",
        "\n",
        "**Common Patterns in ML/AI:**\n",
        "\n",
        "* Implementation of functions for normalization, min-max scaling, one-hot encoding, train-test split indices, confusion matrix, softmax, and sigmoid.\n",
        "\n",
        "---\n",
        "---\n",
        "**`Mirza Naeem Beg`**<br>\n",
        "`Final Year UG Student,`<br>\n",
        "`Dept. of CSE,` [**`AUST`**](https://aust.edu/)\n",
        "\n",
        "[`Learn more about me;`](https://mirzanaeembeg.github.io/)\n",
        "---\n",
        "---\n",
        "---"
      ]
    }
  ]
}