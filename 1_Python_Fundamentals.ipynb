{
  "nbformat": 4,
  "nbformat_minor": 0,
  "metadata": {
    "colab": {
      "provenance": [],
      "authorship_tag": "ABX9TyPs/gRcHC3L03cFlen0/Wli",
      "include_colab_link": true
    },
    "kernelspec": {
      "name": "python3",
      "display_name": "Python 3"
    },
    "language_info": {
      "name": "python"
    }
  },
  "cells": [
    {
      "cell_type": "markdown",
      "metadata": {
        "id": "view-in-github",
        "colab_type": "text"
      },
      "source": [
        "<a href=\"https://colab.research.google.com/github/mirzanaeembeg/Python-Cheat-Sheet-ML-DL-AI/blob/main/1_Python_Fundamentals.ipynb\" target=\"_parent\"><img src=\"https://colab.research.google.com/assets/colab-badge.svg\" alt=\"Open In Colab\"/></a>"
      ]
    },
    {
      "cell_type": "markdown",
      "source": [
        "# **1. Python Fundamentals**\n",
        "\n",
        "This section provides a comprehensive overview of core [Python](https://docs.python.org/3/) concepts essential for beginners and as a refresher for those working in Machine Learning, Deep Learning, and AI.\n",
        "\n",
        "Here's what is covered:\n",
        "\n",
        "* **Print Statements and String Formatting:** Demonstrates various ways to display output and format strings using f-strings, `.format()`, and the older `%` formatting. It also includes examples of escape characters.\n",
        "* **Lists - Creation and Basic Operations:** Introduces lists as mutable sequences, showing how to create them, check their properties (`type`, `len`, `sum`, `max`, `min`), and use boolean functions like `any()` and `all()`.\n",
        "* **Range Function:** Explains the `range()` function for generating sequences of numbers, including examples with start, stop, and step arguments. It also shows common patterns like using `range()` for indexing.\n",
        "* **List Iteration and Modification:** Covers different methods for iterating over lists (direct, index-based, and `enumerate`). It also shows how to modify list elements during iteration and introduces list slicing for accessing subsets of a list.\n",
        "* **List Methods:** Details various built-in list methods for adding elements (`append`, `extend`, `insert`), removing elements (`count`, `index`, `remove`, `pop`), and modifying the list in-place (`reverse`, `sort`).\n",
        "* **Enumerate Function:** Explains how `enumerate()` provides both the index and value during iteration, with examples of basic usage, custom start values, and converting the output to a list.\n",
        "* **Zip Function:** Shows how `zip()` pairs elements from multiple iterables, demonstrating its use with two or more lists and explaining its behavior with lists of different lengths. It also includes an example of combining `enumerate` and `zip`.\n",
        "* **Iterators:** Introduces the concept of iterators and how to create and use them with `iter()` and `next()`. It also shows how to use an iterator with a loop.\n",
        "* **List Comprehensions:** Provides a concise way to create lists based on existing iterables. It covers basic syntax, conditions, complex expressions, temperature conversion examples, and nested list comprehensions.\n",
        "* **Set Comprehensions:** Explains how to create sets using a similar concise syntax to list comprehensions, highlighting their use for generating unique elements.\n",
        "* **Dictionary Comprehensions:** Shows how to create dictionaries efficiently using comprehensions, including examples with basic syntax, conditions, and working with dictionary methods like `.items()`, `.keys()`, and `.values()`.\n",
        "* **Lambda Functions:** Introduces small, anonymous functions created with `lambda`. It covers basic syntax, use with built-in functions like `filter()` and `map()`, using lambda for sorting with `key`, and examples of higher-order functions.\n",
        "* **Map and Filter Functions:** Details the `map()` function for applying a function to all items in an input list and the `filter()` function for constructing an iterator from elements of an iterable for which a function returns true.\n",
        "* **Collections Module:** Introduces useful data structures from the `collections` module, specifically `Counter` for counting hashable objects and `DefaultDict` for handling missing keys gracefully.\n",
        "* **String Templates:** Shows how to use `string.Template` for simple string substitutions, including basic usage and safe substitution to avoid errors with missing keys.\n",
        "* **Tuples:** Explains tuples as immutable sequences, covering creation, unpacking, the importance of the comma for single-element tuples, and introducing `namedtuple` for creating easily readable data structures.\n",
        "* **Advanced List Operations:** Provides examples of more complex list operations, including finding elements using comprehensions, and nested list comprehensions with `zip` and multiple conditions.\n",
        "* **Practical Examples and Patterns:** Illustrates common data processing patterns using the concepts covered, such as processing paired data with `zip` and grouping/aggregating with `defaultdict`. It also shows string and list combinations.\n",
        "* **Common Patterns and Best Practices:** Offers guidance on writing efficient and readable Python code, including tips for efficient iteration, choosing between lists, sets, and dictionaries, and using generators for memory efficiency.\n",
        "* **Common Mistakes to Avoid:** Highlights potential pitfalls, such as mutable default arguments, modifying a list while iterating over it, and understanding variable scope in comprehensions.\n",
        "* **Advanced:** The advanced topic of python for Machine Learning, Deep Learning and AI is covered.\n",
        "\n",
        "\n",
        "This section provides a solid foundation in Python's core features & [**`Built-in Functions`**](https://docs.python.org/3/library/functions.html), which are essential building blocks for more advanced topics in machine learning and data science.\n"
      ],
      "metadata": {
        "id": "FsjKe5pOTx6-"
      }
    },
    {
      "cell_type": "markdown",
      "source": [
        "## 1.1 Print Statements and String Formatting\n",
        "---\n",
        "- **Real Python**: [Python String Formatting: Available Tools and Their Features](https://realpython.com/python-string-formatting/)\n",
        "- **Python.org Official Documentation**: [Input and Output](https://docs.python.org/3/tutorial/inputoutput.html)\n",
        "- **GeeksforGeeks**: [Python String Formatting](https://www.geeksforgeeks.org/python-string-formatting/)\n",
        "- **Programiz**: [Python String Format()](https://www.programiz.com/python-programming/methods/string/format)\n",
        "- **DataCamp**: [Python String Formatting Tutorial](https://www.datacamp.com/tutorial/python-string-formatting)"
      ],
      "metadata": {
        "id": "GQ83U4NqppJs"
      }
    },
    {
      "cell_type": "markdown",
      "source": [
        "### Basic Print Statements\n",
        "This cell demonstrates different ways to print a single variable. Using f-strings is generally preferred for readability and efficiency, while comma separation is concise for simple cases, and string concatenation is less common for this purpose due to potential type conversion issues."
      ],
      "metadata": {
        "id": "OF8wKMuFUhqq"
      }
    },
    {
      "cell_type": "code",
      "source": [
        "x = 10\n",
        "print(f'The value of x is {x}')        # f-string formatting\n",
        "print('The value of x is', x)          # comma-separated\n",
        "print('x = ' + str(x))                 # string concatenation"
      ],
      "metadata": {
        "colab": {
          "base_uri": "https://localhost:8080/"
        },
        "id": "QKIW-dq7VMq5",
        "outputId": "b774c456-f50a-400d-e81c-640f63882495"
      },
      "execution_count": null,
      "outputs": [
        {
          "output_type": "stream",
          "name": "stdout",
          "text": [
            "The value of x is 10\n",
            "The value of x is 10\n",
            "x = 10\n"
          ]
        }
      ]
    },
    {
      "cell_type": "markdown",
      "source": [
        "### Multiple Variables\n",
        "This cell shows various methods for printing multiple variables. Comma separation is simple, f-strings offer a clean and readable way to embed variables directly into strings, and string concatenation requires explicit type conversion and can be less efficient for many variables."
      ],
      "metadata": {
        "id": "d9fSMNZ8Vh84"
      }
    },
    {
      "cell_type": "code",
      "source": [
        "x, y = 10, 20\n",
        "print('x =', x, 'y =', y)                  # comma-separated\n",
        "print(f'x = {x} y = {y}')                  # f-string\n",
        "print('x = ' + str(x) + ' y = ' + str(y))  # concatenation"
      ],
      "metadata": {
        "colab": {
          "base_uri": "https://localhost:8080/"
        },
        "id": "E4HyDJdRVjgX",
        "outputId": "10774bfb-0c41-4fc3-fb25-65f1e83b76c1"
      },
      "execution_count": null,
      "outputs": [
        {
          "output_type": "stream",
          "name": "stdout",
          "text": [
            "x = 10 y = 20\n",
            "x = 10 y = 20\n",
            "x = 10 y = 20\n"
          ]
        }
      ]
    },
    {
      "cell_type": "markdown",
      "source": [
        "### f-string Formatting in Python\n",
        "\n",
        "Learn about the f-string formatting technique in Python 3.6. In this tutorial, you'll see what advantages it offers and go through some example use cases."
      ],
      "metadata": {
        "id": "kDcutUIUKNAa"
      }
    },
    {
      "cell_type": "code",
      "source": [
        "## arithmetic expression\n",
        "print(f\"{5 * 5}\")\n",
        "\n",
        "def greet(name):\n",
        "    return \"Hello, \" + name\n",
        "## calling the function using f-string\n",
        "name = \"Datacamp\"\n",
        "print(f\"{greet(name)}\")\n",
        "\n",
        "## calling the 'title' method which makes the first letter of every word upper\n",
        "string = \"datacamp is an educational company.\"\n",
        "print(f\"{string.title()}\")\n",
        "\n",
        "class Sample:\n",
        "\n",
        "    def __init__(self, name, age):\n",
        "        self.name = name\n",
        "        self.age = age\n",
        "\n",
        "    ## this method will be called when we print the object\n",
        "    def __str__(self):\n",
        "        return f'{self.name} is {self.age} years old.'\n",
        "john = Sample(\"John\", 19)\n",
        "## it'll wake up the __str__() method\n",
        "print(f\"{john}\")"
      ],
      "metadata": {
        "colab": {
          "base_uri": "https://localhost:8080/"
        },
        "id": "fgdCcuYFKNyY",
        "outputId": "ce784f38-ccbf-446c-ed4b-1466d8ad9f24"
      },
      "execution_count": null,
      "outputs": [
        {
          "output_type": "stream",
          "name": "stdout",
          "text": [
            "25\n",
            "Hello, Datacamp\n",
            "Datacamp Is An Educational Company.\n",
            "John is 19 years old.\n"
          ]
        }
      ]
    },
    {
      "cell_type": "markdown",
      "source": [
        "### f-string in Dictionaries\n",
        "\n",
        "We have to be a bit careful while dealing with dictionary keys inside the **f-string**. You have to use a different quotation to the dictionary key and **f-string**. You are not permitted to use the same quotations for a dictionary key as if it was an **f-string**."
      ],
      "metadata": {
        "id": "RJRf81CzLdsg"
      }
    },
    {
      "cell_type": "code",
      "source": [
        "person = {\"name\": \"John\", \"age\": 19}\n",
        "print(f\"{person['name']} is {person['age']} years old.\")\n",
        "# print(f'{person['name']} is {person['age']} years old.') # Throws an error"
      ],
      "metadata": {
        "colab": {
          "base_uri": "https://localhost:8080/"
        },
        "id": "zrm0zcuCLlMc",
        "outputId": "226bfb6e-5f8d-4f93-9895-a6d866178de1"
      },
      "execution_count": null,
      "outputs": [
        {
          "output_type": "stream",
          "name": "stdout",
          "text": [
            "John is 19 years old.\n"
          ]
        }
      ]
    },
    {
      "cell_type": "markdown",
      "source": [
        "### String Formatting Methods\n",
        "This cell illustrates different string formatting methods. f-strings are the modern and recommended way due to their conciseness and performance. The `.format()` method is a good alternative for more complex formatting needs or compatibility with older Python versions. The `%` formatting is an older style and generally discouraged in new code."
      ],
      "metadata": {
        "id": "GlAhOP16VvEU"
      }
    },
    {
      "cell_type": "code",
      "source": [
        "# f-strings (Python 3.6+) - Recommended\n",
        "name, age = \"Alice\", 25\n",
        "print(f\"Hello {name}, you are {age} years old\")\n",
        "\n",
        "# .format() method\n",
        "print(\"Hello {}, you are {} years old\".format(name, age))\n",
        "print(\"Hello {0}, you are {1} years old\".format(name, age))\n",
        "\n",
        "# % formatting (older style)\n",
        "print(\"Hello %s, you are %d years old\" % (name, age))"
      ],
      "metadata": {
        "colab": {
          "base_uri": "https://localhost:8080/"
        },
        "id": "rkM2CjOvVzBP",
        "outputId": "c8e87c0c-01a5-48e1-c9ea-d77cbc298e37"
      },
      "execution_count": null,
      "outputs": [
        {
          "output_type": "stream",
          "name": "stdout",
          "text": [
            "Hello Alice, you are 25 years old\n",
            "Hello Alice, you are 25 years old\n",
            "Hello Alice, you are 25 years old\n",
            "Hello Alice, you are 25 years old\n"
          ]
        }
      ]
    },
    {
      "cell_type": "markdown",
      "source": [
        "### Escape Characters\n",
        "This cell demonstrates the use of escape characters to include special characters or formatting within a string, such as newlines (`\\n`), tabs (`\\t`), or quotation marks (`\\\"`)."
      ],
      "metadata": {
        "id": "Ssaxzn5LV5Uy"
      }
    },
    {
      "cell_type": "code",
      "source": [
        "print(\"Hello World\\n\")                  # newline\n",
        "print(\"Hello\\tWorld\")                   # tab\n",
        "print(\"He said \\\"Hello\\\"\")              # escaped quotes"
      ],
      "metadata": {
        "colab": {
          "base_uri": "https://localhost:8080/"
        },
        "id": "VL1ZMh1VWJWT",
        "outputId": "559ccdc4-88a7-47c8-9715-3e86287dba21"
      },
      "execution_count": null,
      "outputs": [
        {
          "output_type": "stream",
          "name": "stdout",
          "text": [
            "Hello World\n",
            "\n",
            "Hello\tWorld\n",
            "He said \"Hello\"\n"
          ]
        }
      ]
    },
    {
      "cell_type": "markdown",
      "source": [
        "## 1.2 Lists - Creation and Basic Operations\n",
        "---\n",
        "- **Real Python**: [Python's list Data Type: A Deep Dive With Examples](https://realpython.com/python-list/)\n",
        "- **GeeksforGeeks**: [Python Lists](https://www.geeksforgeeks.org/python-lists/)\n",
        "- **Python Geeks**: [Python Lists with Examples](https://pythongeeks.org/python-lists/)\n",
        "- **Programiz**: [Python List](https://www.programiz.com/python-programming/list)\n",
        "- **W3Schools**: [Python Lists](https://www.w3schools.com/python/python_lists.asp)\n",
        "---\n",
        "<div align=\"center\">\n",
        "<img src=\"https://drive.google.com/uc?id=1QV25sSV1TEkmGGJH4whpSz6kbHGNqXkD\" width=\"550\">\n",
        "<div align=\"center\">\n",
        "<img src=\"https://drive.google.com/uc?id=19AT0Wu90U3lFTuGOIdq-SJUjerxM_LnL\" width=\"550\">\n"
      ],
      "metadata": {
        "id": "NNVVFQ-OU26H"
      }
    },
    {
      "cell_type": "markdown",
      "source": [
        "In Python, a list is a built-in [data structure](https://docs.python.org/3/tutorial/datastructures.html) used to store an ordered, mutable sequence of items dynamic sized array (automatically grows and shrinks). We can store all types of items (including another list) in a list. A list may contain mixed type of items, this is possible because a list mainly stores references at contiguous locations and actual items maybe stored at different locations. Key characteristics of Python lists include:\n",
        "- `Ordered:` Items in a list maintain a defined order based on their insertion sequence.\n",
        "- `Changeable (Mutable):` Lists can be modified after creation, allowing for the addition, removal, or modification of elements.\n",
        "- `Allow Duplicates:` Lists can contain multiple occurrences of the same value.\n",
        "Indexed: List items are accessed using zero-based index numbers within square brackets `[]`.\n",
        "- `Heterogeneous:` Lists can store items of different data types (e.g., integers, strings, booleans, or even other lists) within the same list."
      ],
      "metadata": {
        "id": "50ptwAPvWSUW"
      }
    },
    {
      "cell_type": "markdown",
      "source": [
        "### List Creation\n",
        "This cell shows how to create lists, which are mutable ordered sequences. Lists are versatile and can hold elements of different data types, making them suitable for storing collections of items where order and duplicates matter.\n",
        "<div align=\"center\">\n",
        "<img src=\"https://drive.google.com/uc?id=1ohr-pwPv0ntDwx8v7iIsoCwCLPlHhW0M\" width=\"650\">\n"
      ],
      "metadata": {
        "id": "orm3z8nlXC_j"
      }
    },
    {
      "cell_type": "code",
      "source": [
        "# Different data types in lists\n",
        "mixed_list = [1, 2, 3, 4, 'string', 2.222]\n",
        "numbers = [1, 5, 9, 55, 4545]\n",
        "empty_list = []\n",
        "\n",
        "# Create a list [2, 2, 2, 2, 2]\n",
        "a = [2] * 5\n",
        "duplicate_list = [1, 1, 1, 1, 1]\n",
        "\n",
        "# Assignment on a list means it points to the same list in the memory\n",
        "b = mixed_list\n",
        "print(b)\n",
        "\n",
        "print(mixed_list)\n",
        "print(numbers)\n",
        "print(empty_list)\n",
        "print(duplicate_list)\n",
        "print(a)"
      ],
      "metadata": {
        "colab": {
          "base_uri": "https://localhost:8080/"
        },
        "id": "PMSWcfyzXFyk",
        "outputId": "02727b0d-dabe-44ca-f997-d07823836c5a"
      },
      "execution_count": null,
      "outputs": [
        {
          "output_type": "stream",
          "name": "stdout",
          "text": [
            "[1, 2, 3, 4, 'string', 2.222]\n",
            "[1, 5, 9, 55, 4545]\n",
            "[]\n",
            "[1, 1, 1, 1, 1]\n",
            "[2, 2, 2, 2, 2]\n"
          ]
        }
      ]
    },
    {
      "cell_type": "markdown",
      "source": [
        "### Using list() Constructor"
      ],
      "metadata": {
        "id": "Yjyqu_PJShiS"
      }
    },
    {
      "cell_type": "code",
      "source": [
        "# From a tuple\n",
        "a = list((1, 2, 3, 'apple', 4.5))\n",
        "print(a)"
      ],
      "metadata": {
        "colab": {
          "base_uri": "https://localhost:8080/"
        },
        "id": "Uv_mBzC6Su1d",
        "outputId": "28be1ed8-ad7d-4944-93e7-9ad505ee77e8"
      },
      "execution_count": null,
      "outputs": [
        {
          "output_type": "stream",
          "name": "stdout",
          "text": [
            "[1, 2, 3, 'apple', 4.5]\n"
          ]
        }
      ]
    },
    {
      "cell_type": "markdown",
      "source": [
        "### List Properties\n",
        "This cell demonstrates how to use built-in functions to quickly check basic properties of a list, such as its type, length, sum of elements (for numeric lists), and the maximum and minimum values."
      ],
      "metadata": {
        "id": "7AFO2eZ3XK5T"
      }
    },
    {
      "cell_type": "code",
      "source": [
        "my_list = [1, 2, 3, 4]\n",
        "print(type(my_list))                    # <class 'list'>\n",
        "print(len(my_list))                     # 4\n",
        "print(sum(my_list))                     # 10\n",
        "print(max(my_list))                     # 4\n",
        "print(min(my_list))                     # 1"
      ],
      "metadata": {
        "colab": {
          "base_uri": "https://localhost:8080/"
        },
        "id": "h28kJo8SXOmo",
        "outputId": "e975132b-4bf4-4486-858a-224698f86e54"
      },
      "execution_count": null,
      "outputs": [
        {
          "output_type": "stream",
          "name": "stdout",
          "text": [
            "<class 'list'>\n",
            "4\n",
            "10\n",
            "4\n",
            "1\n"
          ]
        }
      ]
    },
    {
      "cell_type": "markdown",
      "source": [
        "### Boolean Functions on Lists\n",
        "This cell shows how to use the boolean functions `any()` and `all()`. `any()` is useful for checking if at least one element in an iterable is true (or non-zero/non-empty), while `all()` checks if all elements are true."
      ],
      "metadata": {
        "id": "VqCACBmIXmXt"
      }
    },
    {
      "cell_type": "code",
      "source": [
        "list1 = [1, 0, 3, 1, 0, 2]\n",
        "print(any(list1))                       # True (any non-zero)\n",
        "print(all(list1))                       # False (contains zeros)\n",
        "\n",
        "list2 = [1, 2, 3, 4, 5]\n",
        "print(all(list2))                       # True (all non-zero)"
      ],
      "metadata": {
        "colab": {
          "base_uri": "https://localhost:8080/"
        },
        "id": "m4E4lrSSXoi0",
        "outputId": "81f3f796-6346-4361-c993-6ea98bc9ba0d"
      },
      "execution_count": null,
      "outputs": [
        {
          "output_type": "stream",
          "name": "stdout",
          "text": [
            "True\n",
            "False\n",
            "True\n"
          ]
        }
      ]
    },
    {
      "cell_type": "markdown",
      "source": [
        "### Accessing List Elements\n",
        "Elements in a list can be accessed using indexing. Python indexes start at `0`, so `a[0]` will access the first element, while negative indexing allows us to access elements from the end of the list. Like `index -1` represents the last elements of list.\n",
        "<div align=\"center\">\n",
        "<img src=\"https://drive.google.com/uc?id=18bmIigXRW33zPTPxKiHRqGZSpYcmKEi4\" width=\"650\">"
      ],
      "metadata": {
        "id": "5OT5Q-u1TPMr"
      }
    },
    {
      "cell_type": "code",
      "source": [
        "a = [10, 20, 30, 40, 50]\n",
        "\n",
        "# Access first element\n",
        "print(a[0])\n",
        "\n",
        "# Access last element\n",
        "print(a[-1])"
      ],
      "metadata": {
        "colab": {
          "base_uri": "https://localhost:8080/"
        },
        "id": "MnWY_4ZLW42a",
        "outputId": "5c3b661c-1079-44f3-8663-ce780ed10214"
      },
      "execution_count": null,
      "outputs": [
        {
          "output_type": "stream",
          "name": "stdout",
          "text": [
            "10\n",
            "50\n"
          ]
        }
      ]
    },
    {
      "cell_type": "markdown",
      "source": [
        "## 1.3 Range Function\n",
        "---\n",
        "- **Real Python**: [Python range() Function](https://realpython.com/python-range/)\n",
        "- **GeeksforGeeks**: [Python range() function](https://www.geeksforgeeks.org/python-range-function/)\n",
        "- **Python-Course.eu**: [The range() Function](https://python-course.eu/python-tutorial/range.php)\n",
        "- **Programiz**: [Python range()](https://www.programiz.com/python-programming/methods/built-in/range)"
      ],
      "metadata": {
        "id": "joo766kwXviL"
      }
    },
    {
      "cell_type": "markdown",
      "source": [
        "### Basic Range Usage\n",
        "This cell demonstrates the basic usage of the `range()` function, which is primarily used to generate sequences of numbers for looping. It's efficient as it generates numbers on the fly rather than creating a full list in memory."
      ],
      "metadata": {
        "id": "hMKRFLiHXyKB"
      }
    },
    {
      "cell_type": "code",
      "source": [
        "print(list(range(5)))                          # [0, 1, 2, 3, 4]\n",
        "print(list(range(1, 6)))                       # [1, 2, 3, 4, 5]\n",
        "print(list(range(1, 11, 2)))                   # [1, 3, 5, 7, 9] (step=2)\n",
        "print(list(range(10, 0, -1)))                  # [10, 9, 8, 7, 6, 5, 4, 3, 2, 1]\n",
        "print(list(range(-10, 0, 2)))                  # [-10, -8, -6, -4, -2]"
      ],
      "metadata": {
        "colab": {
          "base_uri": "https://localhost:8080/"
        },
        "id": "2Q61ogt4X0nw",
        "outputId": "73a443ec-485e-42b9-89c8-ab495e22de33"
      },
      "execution_count": null,
      "outputs": [
        {
          "output_type": "stream",
          "name": "stdout",
          "text": [
            "[0, 1, 2, 3, 4]\n",
            "[1, 2, 3, 4, 5]\n",
            "[1, 3, 5, 7, 9]\n",
            "[10, 9, 8, 7, 6, 5, 4, 3, 2, 1]\n",
            "[-10, -8, -6, -4, -2]\n"
          ]
        }
      ]
    },
    {
      "cell_type": "markdown",
      "source": [
        "### Common Range Patterns\n",
        "This cell shows a common and readable pattern of using `range(len(my_list))` to iterate over a list when you need both the index and the value, allowing you to access elements by their position."
      ],
      "metadata": {
        "id": "-w3qslFCYa3w"
      }
    },
    {
      "cell_type": "code",
      "source": [
        "# For indexing\n",
        "my_list = ['a', 'b', 'c', 'd']\n",
        "for i in range(len(my_list)):\n",
        "    print(f\"Index {i}: {my_list[i]}\")"
      ],
      "metadata": {
        "colab": {
          "base_uri": "https://localhost:8080/"
        },
        "id": "6A35v-q6YdhH",
        "outputId": "6f81f090-7376-4ab0-ac1c-5b38dceea0ab"
      },
      "execution_count": null,
      "outputs": [
        {
          "output_type": "stream",
          "name": "stdout",
          "text": [
            "Index 0: a\n",
            "Index 1: b\n",
            "Index 2: c\n",
            "Index 3: d\n"
          ]
        }
      ]
    },
    {
      "cell_type": "markdown",
      "source": [
        "## 1.4 List Iteration and Modification\n",
        "---\n",
        "- **Real Python**: [Python for Loops (Definite Iteration)](https://realpython.com/python-for-loop/)\n",
        "- **GeeksforGeeks**: [Python List Slicing](https://www.geeksforgeeks.org/python-list-slicing/)\n",
        "- **Python-Course.eu**: [Sequential Data Types](https://python-course.eu/python-tutorial/sequential-data-types.php)\n",
        "- **Programiz**: [Python List Slicing](https://www.programiz.com/python-programming/list-slicing)\n"
      ],
      "metadata": {
        "id": "XwKxpjo0YoZ_"
      }
    },
    {
      "cell_type": "markdown",
      "source": [
        "### Iterating Over Lists\n",
        "This cell illustrates different methods for iterating over lists. Direct iteration is the most Pythonic when you only need the elements. Index-based iteration is useful when you need to access elements by their position. `enumerate()` is preferred when you need both the index and the value during iteration."
      ],
      "metadata": {
        "id": "-dxnAJ2_YuE0"
      }
    },
    {
      "cell_type": "code",
      "source": [
        "# Method 1: Direct iteration\n",
        "fruits = ['apple', 'banana', 'orange']\n",
        "for fruit in fruits:\n",
        "    print(fruit)\n",
        "\n",
        "# Method 2: Index-based iteration\n",
        "for i in range(len(fruits)):\n",
        "    print(f\"{i}: {fruits[i]}\")\n",
        "\n",
        "# Method 3: Using enumerate (preferred for index + value)\n",
        "for index, fruit in enumerate(fruits):\n",
        "    print(f\"{index}: {fruit}\")"
      ],
      "metadata": {
        "colab": {
          "base_uri": "https://localhost:8080/"
        },
        "id": "sn9PJcLKYwpB",
        "outputId": "3fd478e0-7b36-4958-bdd1-5c84ec2b028f"
      },
      "execution_count": null,
      "outputs": [
        {
          "output_type": "stream",
          "name": "stdout",
          "text": [
            "apple\n",
            "banana\n",
            "orange\n",
            "0: apple\n",
            "1: banana\n",
            "2: orange\n",
            "0: apple\n",
            "1: banana\n",
            "2: orange\n"
          ]
        }
      ]
    },
    {
      "cell_type": "markdown",
      "source": [
        "### Modifying Lists During Iteration\n",
        "This cell demonstrates how to modify elements of a list in-place during iteration using index-based access within a loop. This is necessary when you need to change the existing elements of the list."
      ],
      "metadata": {
        "id": "BUZKA5sLY2KZ"
      }
    },
    {
      "cell_type": "code",
      "source": [
        "# Add 2 to each element\n",
        "for i in range(len(numbers)):\n",
        "    numbers[i] += 2\n",
        "print(numbers)  # [3, 4, 5, 6, 7]"
      ],
      "metadata": {
        "colab": {
          "base_uri": "https://localhost:8080/"
        },
        "id": "-VKs-wPsY7a_",
        "outputId": "e399ab04-f6fb-4a70-e697-b6451fb86f5a"
      },
      "execution_count": null,
      "outputs": [
        {
          "output_type": "stream",
          "name": "stdout",
          "text": [
            "[3, 7, 11, 57, 4547]\n"
          ]
        }
      ]
    },
    {
      "cell_type": "markdown",
      "source": [
        "### List Slicing\n",
        "This cell showcases list slicing, a powerful way to access or create sub-lists (or copies) of a list. It's useful for extracting specific portions of a list, reversing a list, or creating stepped sequences without modifying the original list.\n",
        "<div align=\"center\">\n",
        "<img src=\"https://drive.google.com/uc?id=1HHA_wcYDrMhe1Dzt5fqO4NliyerhhK-q\" width=\"650\">"
      ],
      "metadata": {
        "id": "655kVNGeZB8s"
      }
    },
    {
      "cell_type": "code",
      "source": [
        "my_list = [0, 1, 2, 3, 4, 5, 6, 7, 8, 9]\n",
        "print(my_list[2:5])                     # [2, 3, 4]\n",
        "print(my_list[:3])                      # [0, 1, 2]\n",
        "print(my_list[3:])                      # [3, 4, 5, 6, 7, 8, 9]\n",
        "print(my_list[::2])                     # [0, 2, 4, 6, 8] (every 2nd)\n",
        "print(my_list[::-1])                    # [9, 8, 7, 6, 5, 4, 3, 2, 1, 0] (reverse)\n",
        "print(my_list[::-2])                    # [9, 7, 5, 3, 1] (reverse every 2nd)"
      ],
      "metadata": {
        "colab": {
          "base_uri": "https://localhost:8080/"
        },
        "id": "BdV83xx9ZDnr",
        "outputId": "c5ff2e68-7eef-4ddb-dc60-2721b6732ba4"
      },
      "execution_count": null,
      "outputs": [
        {
          "output_type": "stream",
          "name": "stdout",
          "text": [
            "[2, 3, 4]\n",
            "[0, 1, 2]\n",
            "[3, 4, 5, 6, 7, 8, 9]\n",
            "[0, 2, 4, 6, 8]\n",
            "[9, 8, 7, 6, 5, 4, 3, 2, 1, 0]\n",
            "[9, 7, 5, 3, 1]\n"
          ]
        }
      ]
    },
    {
      "cell_type": "markdown",
      "source": [
        "## 1.5 List Methods\n",
        "---\n",
        "- **GeeksforGeeks**: [Python List methods](https://www.geeksforgeeks.org/list-methods-python/)\n",
        "- **Real Python**: [Working With Lists in Python](https://realpython.com/python-lists-tuples/)\n",
        "- **Python.org**: [More on Lists](https://docs.python.org/3/tutorial/datastructures.html#more-on-lists)\n",
        "- **W3Schools**: [Python List Methods](https://www.w3schools.com/python/python_lists_methods.asp)\n",
        "---\n",
        "Here are some other common list methods.\n",
        "\n",
        "- `list.append(elem)` -- adds a single element to the end of the list. Common error: does not return the new list, just modifies the original.\n",
        "- `list.insert(index, elem)` -- inserts the element at the given index, shifting elements to the right.\n",
        "- `list.extend(list2)` adds the elements in list2 to the end of the list. Using `+` or `+=` on a list is similar to using `extend()`.\n",
        "- `list.index(elem)` -- searches for the given element from the start of the list and returns its index. Throws a ValueError if the element does not appear.\n",
        "- `list.remove(elem)` -- searches for the first instance of the given element and removes it (throws ValueError if not present)\n",
        "- `list.sort()` -- sorts the list in place (does not return it). (The `sorted()` function shown later is preferred.)\n",
        "- `list.reverse()` -- reverses the list in place (does not return it)\n",
        "- `list.pop(index)` -- removes and returns the element at the given index. Returns the rightmost element if index is omitted (roughly the opposite of `append()`).\n",
        "\n",
        "Notice that these are **methods** on a list object, while len() is a function that takes the list (or string or whatever) as an argument."
      ],
      "metadata": {
        "id": "jPxjYVNjZHWz"
      }
    },
    {
      "cell_type": "markdown",
      "source": [
        "### Adding Elements\n",
        "This cell demonstrates different methods for adding elements to a list. `append()` adds a single element to the end. `extend()` adds multiple elements from another iterable. `insert()` adds an element at a specific position, shifting existing elements."
      ],
      "metadata": {
        "id": "u7cRJbMkZMja"
      }
    },
    {
      "cell_type": "code",
      "source": [
        "x = [1, 2, 3]\n",
        "\n",
        "# append() - adds single element\n",
        "x.append(4)                             # [1, 2, 3, 4]\n",
        "x.append([5, 6])                        # [1, 2, 3, 4, [5, 6]]\n",
        "print(x)\n",
        "\n",
        "# extend() - adds multiple elements\n",
        "y = [1, 2, 3]\n",
        "y.extend([4, 5])                        # [1, 2, 3, 4, 5]\n",
        "y.extend((6, 7))                        # [1, 2, 3, 4, 5, 6, 7] (works with tuples)\n",
        "print(y)\n",
        "\n",
        "# insert() - adds element at specific position\n",
        "z = [1, 2, 3]\n",
        "z.insert(1, 'inserted')                 # [1, 'inserted', 2, 3]\n",
        "print(z)\n"
      ],
      "metadata": {
        "colab": {
          "base_uri": "https://localhost:8080/"
        },
        "id": "B64CKVxqZOdZ",
        "outputId": "8665416c-52f7-47b3-ab46-553f25039771"
      },
      "execution_count": null,
      "outputs": [
        {
          "output_type": "stream",
          "name": "stdout",
          "text": [
            "[1, 2, 3, 4, [5, 6]]\n",
            "[1, 2, 3, 4, 5, 6, 7]\n",
            "[1, 'inserted', 2, 3]\n"
          ]
        }
      ]
    },
    {
      "cell_type": "markdown",
      "source": [
        "### Other Useful List Methods\n",
        "This cell covers other useful list methods. `count()` is used to find how many times an element appears. `index()` finds the position of the first occurrence. `remove()` removes the first matching element. `pop()` removes and returns an element by its index (or the last element if no index is given). `reverse()` and `sort()` modify the list in-place."
      ],
      "metadata": {
        "id": "22cXI1qiaUtH"
      }
    },
    {
      "cell_type": "code",
      "source": [
        "my_list = [1, 2, 3, 2, 4, 2]\n",
        "\n",
        "# Count occurrences\n",
        "print(my_list.count(2))                 # 3\n",
        "\n",
        "# Find index of first occurrence\n",
        "print(my_list.index(3))                 # 2\n",
        "\n",
        "# Remove elements\n",
        "my_list.remove(2)                       # Removes first occurrence of 2\n",
        "print(my_list)                          # [1, 3, 4, 2]\n",
        "popped = my_list.pop()                  # Removes and returns last element\n",
        "print(popped)                           # 2\n",
        "popped_at_index = my_list.pop(1)        # Removes and returns element at index 1\n",
        "print(popped_at_index)                  # 3\n",
        "\n",
        "# Reverse and sort return None\n",
        "my_list.reverse()                       # Reverses in-place\n",
        "print(my_list)                          # [4, 2, 1]\n",
        "my_list.sort()                          # Sorts in-place\n",
        "print(my_list)                          # [1, 2, 4]\n",
        "my_list.sort(reverse=True)              # Sorts in descending order\n",
        "print(my_list)                          # [4, 2, 1]"
      ],
      "metadata": {
        "colab": {
          "base_uri": "https://localhost:8080/"
        },
        "id": "lhKTJoTmaXpu",
        "outputId": "b1600cad-2857-4abd-d82e-8d1176505e00"
      },
      "execution_count": null,
      "outputs": [
        {
          "output_type": "stream",
          "name": "stdout",
          "text": [
            "3\n",
            "2\n",
            "[1, 3, 2, 4, 2]\n",
            "2\n",
            "3\n",
            "[4, 2, 1]\n",
            "[1, 2, 4]\n",
            "[4, 2, 1]\n"
          ]
        }
      ]
    },
    {
      "cell_type": "markdown",
      "source": [
        "## 1.6 Enumerate Function\n",
        "---\n",
        "- **Real Python**: [Python enumerate(): Simplify Looping With Counters](https://realpython.com/python-enumerate/)\n",
        "- **GeeksforGeeks**: [Enumerate() in Python](https://www.geeksforgeeks.org/enumerate-in-python/)\n",
        "- **Python-Course.eu**: [Enumerate](https://python-course.eu/python-tutorial/enumerate.php)\n",
        "- **Programiz**: [Python enumerate()](https://www.programiz.com/python-programming/methods/built-in/enumerate)\n",
        "\n",
        "The `enumerate()` function in Python is a built-in function that adds a counter to an iterable and returns it as an enumerate object. This function is particularly useful when you need both the index (or count) and the value of items while iterating through a sequence like a list, tuple, or string. This is often more convenient and Pythonic than manually managing a counter.\n",
        "\n",
        "How it works:\n",
        "- **Takes an iterable:** You provide an iterable object (e.g., a list, tuple, string) as an argument to `enumerate()`.\n",
        "- **Assigns a counter:** `enumerate()` internally iterates through the items of the iterable and assigns a numerical counter to each item, starting from 0 by default.\n",
        "- **Returns an enumerate object:** It returns an enumerate object, which can then be directly used in a for loop or converted into other data structures like a list of tuples.\n",
        "\n",
        "**Syntax:** `enumerate(iterable, start=0)`\n",
        "- *iterable:* The sequence or object you want to iterate over (e.g., a list, tuple, string).\n",
        "- *start:* (Optional) The starting value for the counter. If not specified, it defaults to 0.\n",
        "\n",
        "***Benefits:***\n",
        "- *Readability:* Makes code cleaner and more concise by directly providing both index and value.\n",
        "- *Efficiency:* Eliminates the need for manual index tracking using a separate counter variable or `range(len(iterable))`.\n",
        "- *Reduced errors:* Decreases the likelihood of off-by-one errors common with manual indexing.\n",
        "\n"
      ],
      "metadata": {
        "id": "mLvAKTP1ahAF"
      }
    },
    {
      "cell_type": "markdown",
      "source": [
        "### Basic Enumerate\n",
        "<div align=\"center\">\n",
        "<img src=\"https://drive.google.com/uc?id=1gCn-SSXuAkWP7cZi1PuhP8pxIdjr408E\" width=\"750\">"
      ],
      "metadata": {
        "id": "dM8760lJakUF"
      }
    },
    {
      "cell_type": "code",
      "source": [
        "days = [\"Mon\", \"Tue\", \"Wed\", \"Thu\", \"Fri\"]\n",
        "\n",
        "# Default start at 0\n",
        "for index, day in enumerate(days):\n",
        "    print(f\"{index}: {day}\")\n",
        "\n",
        "# Custom start value\n",
        "for index, day in enumerate(days, start=1):\n",
        "    print(f\"Day {index}: {day}\")\n",
        "\n",
        "# Convert to list\n",
        "indexed_days = list(enumerate(days, start=10))\n",
        "print(indexed_days)  # [(10, 'Mon'), (11, 'Tue'), ...]"
      ],
      "metadata": {
        "colab": {
          "base_uri": "https://localhost:8080/"
        },
        "id": "2kLnHDTuao5j",
        "outputId": "6bdf50ad-c0ac-4709-9ab5-f3e26db99961"
      },
      "execution_count": null,
      "outputs": [
        {
          "output_type": "stream",
          "name": "stdout",
          "text": [
            "0: Mon\n",
            "1: Tue\n",
            "2: Wed\n",
            "3: Thu\n",
            "4: Fri\n",
            "Day 1: Mon\n",
            "Day 2: Tue\n",
            "Day 3: Wed\n",
            "Day 4: Thu\n",
            "Day 5: Fri\n",
            "[(10, 'Mon'), (11, 'Tue'), (12, 'Wed'), (13, 'Thu'), (14, 'Fri')]\n"
          ]
        }
      ]
    },
    {
      "cell_type": "markdown",
      "source": [
        "### Practical Enumerate Usage\n",
        "This cell provides a practical example of using `enumerate()` to access both the index and value of numbers, allowing you to perform operations or checks that depend on both the position and the value of an element."
      ],
      "metadata": {
        "id": "DsMJ620eauUj"
      }
    },
    {
      "cell_type": "code",
      "source": [
        "numbers = [10, 11, 20, 23, 30, 40]\n",
        "\n",
        "for i, num in enumerate(numbers):\n",
        "    if num % 2 == 0:\n",
        "        print(f\"Index {i}: {num} is even\")\n",
        "    else:\n",
        "        print(f\"Index {i}: {num} is odd\")"
      ],
      "metadata": {
        "colab": {
          "base_uri": "https://localhost:8080/"
        },
        "id": "lBSI7XInaxKI",
        "outputId": "043924c1-5c05-41b2-c691-07e43bf44488"
      },
      "execution_count": null,
      "outputs": [
        {
          "output_type": "stream",
          "name": "stdout",
          "text": [
            "Index 0: 10 is even\n",
            "Index 1: 11 is odd\n",
            "Index 2: 20 is even\n",
            "Index 3: 23 is odd\n",
            "Index 4: 30 is even\n",
            "Index 5: 40 is even\n"
          ]
        }
      ]
    },
    {
      "cell_type": "markdown",
      "source": [
        "## 1.7 Zip Function\n",
        "---\n",
        "- **Real Python**: [Python zip() Function](https://realpython.com/python-zip-function/)\n",
        "- **GeeksforGeeks**: [Python zip() method](https://www.geeksforgeeks.org/python-zip-method/)\n",
        "- **Python-Course.eu**: [Zip in Python](https://python-course.eu/python-tutorial/zip.php)\n",
        "- **Programiz**: [Python zip()](https://www.programiz.com/python-programming/methods/built-in/zip)\n",
        "\n",
        "The `zip()` function in Python is a built-in utility that aggregates elements from multiple iterables (like lists, tuples, or strings) into a single iterator of tuples. It effectively **\"zips\"** corresponding elements together based on their index.\n",
        "\n",
        "**Syntax:** `zip(iterable1, iterable2, ...)`\n",
        "\n",
        "**Functionality:**\n",
        "\n",
        "- *Pairs Elements:* `zip()` takes one or more iterables as arguments and creates an iterator that yields tuples. Each tuple contains the element from the first iterable at a given index, followed by the element from the second iterable at the same index, and so on, for all provided iterables.\n",
        "- *Stops at Shortest Iterable:* The resulting iterator's length is determined by the shortest input iterable. Once the shortest iterable is exhausted, `zip()` stops producing tuples.\n",
        "- *Returns an Iterator:* `zip()` returns an iterator, not a list or tuple directly. This means it generates elements on demand, which can be memory-efficient for large datasets. To get a list or tuple, the result can be converted using `list()` or `tuple()`.\n",
        "\n",
        "**Common Use Cases:**\n",
        "\n",
        "- *Parallel Iteration:* Looping over multiple lists simultaneously, accessing corresponding elements in each iteration.\n",
        "- *Creating Dictionaries:* Combining two lists (e.g., one for keys and one for values) to create a dictionary.\n",
        "- *Data Transformation:* Grouping related data points from different sources.\n",
        "- *Unzipping:* Using `zip()` with the \"*\"(unpacking) operator can effectively **\"unzip\"** a list of tuples back into separate iterables.\n",
        "- *Transposing Matrices:* Converting rows to columns or vice versa in a matrix representation.\n",
        "\n"
      ],
      "metadata": {
        "id": "6vT0QPxJa115"
      }
    },
    {
      "cell_type": "markdown",
      "source": [
        "### Basic Zip Usage\n",
        "This cell shows the basic usage of the `zip()` function, which is used to pair elements from multiple iterables based on their position. This is useful for iterating over corresponding elements from different lists or tuples simultaneously."
      ],
      "metadata": {
        "id": "hfo37Nlba6LG"
      }
    },
    {
      "cell_type": "code",
      "source": [
        "names = ['Alice', 'Bob', 'Charlie']\n",
        "ages = [25, 30, 35]\n",
        "scores = [85, 92, 78]\n",
        "\n",
        "# Zip two lists\n",
        "for name, age in zip(names, ages):\n",
        "    print(f\"{name} is {age} years old\")\n",
        "\n",
        "# Zip multiple lists\n",
        "for name, age, score in zip(names, ages, scores):\n",
        "    print(f\"{name} ({age}) scored {score}\")\n",
        "\n",
        "# Convert to list\n",
        "paired = list(zip(names, ages))\n",
        "print(paired)  # [('Alice', 25), ('Bob', 30), ('Charlie', 35)]"
      ],
      "metadata": {
        "colab": {
          "base_uri": "https://localhost:8080/"
        },
        "id": "noZpNa0wa8KQ",
        "outputId": "df28cb55-f3ff-4de5-c6af-9c63219991f2"
      },
      "execution_count": null,
      "outputs": [
        {
          "output_type": "stream",
          "name": "stdout",
          "text": [
            "Alice is 25 years old\n",
            "Bob is 30 years old\n",
            "Charlie is 35 years old\n",
            "Alice (25) scored 85\n",
            "Bob (30) scored 92\n",
            "Charlie (35) scored 78\n",
            "[('Alice', 25), ('Bob', 30), ('Charlie', 35)]\n"
          ]
        }
      ]
    },
    {
      "cell_type": "markdown",
      "source": [
        "### Zip with Different Length Lists\n",
        "This cell demonstrates how `zip()` handles iterables of different lengths. It's important to note that `zip()` will stop creating pairs once the shortest iterable is exhausted, which can be useful or a consideration depending on your data."
      ],
      "metadata": {
        "id": "KNQxspgYbD01"
      }
    },
    {
      "cell_type": "code",
      "source": [
        "list1 = [1, 2, 3, 4, 5]\n",
        "list2 = ['a', 'b', 'c']\n",
        "\n",
        "# Zip stops at shortest list\n",
        "result = list(zip(list1, list2))\n",
        "print(result)  # [(1, 'a'), (2, 'b'), (3, 'c')]"
      ],
      "metadata": {
        "colab": {
          "base_uri": "https://localhost:8080/"
        },
        "id": "SS5Z9HhebEy0",
        "outputId": "12f48cd1-e042-488f-b3b9-8156a05599be"
      },
      "execution_count": null,
      "outputs": [
        {
          "output_type": "stream",
          "name": "stdout",
          "text": [
            "[(1, 'a'), (2, 'b'), (3, 'c')]\n"
          ]
        }
      ]
    },
    {
      "cell_type": "markdown",
      "source": [
        "### Combining Enumerate and Zip\n",
        "This cell shows how to combine `enumerate()` and `zip()`. This pattern is useful when you need to iterate over multiple iterables in parallel and also need to know the index of the current elements across all iterables."
      ],
      "metadata": {
        "id": "dg_rRnGXcCXF"
      }
    },
    {
      "cell_type": "code",
      "source": [
        "list1 = [1, 2, 3]\n",
        "list2 = ['a', 'b', 'c']\n",
        "\n",
        "for i, (num, letter) in enumerate(zip(list1, list2)):\n",
        "    print(f\"Index {i}: {num} -> {letter}\")"
      ],
      "metadata": {
        "colab": {
          "base_uri": "https://localhost:8080/"
        },
        "id": "J89wfbjocE2P",
        "outputId": "6dcc7f14-db79-420d-cc1c-8bd9603d5961"
      },
      "execution_count": null,
      "outputs": [
        {
          "output_type": "stream",
          "name": "stdout",
          "text": [
            "Index 0: 1 -> a\n",
            "Index 1: 2 -> b\n",
            "Index 2: 3 -> c\n"
          ]
        }
      ]
    },
    {
      "cell_type": "markdown",
      "source": [
        "## 1.8 Iterators\n",
        "---\n",
        "- **Real Python**: [Python Iterators: A Step-by-Step Introduction](https://realpython.com/python-iterators-iterables/)\n",
        "- **GeeksforGeeks**: [Iterators in Python](https://www.geeksforgeeks.org/iterators-in-python/)\n",
        "- **Python-Course.eu**: [Iterators and Iterables](https://python-course.eu/python-tutorial/iterators-and-iterables.php)\n",
        "- **Python.org**: [Iterator Types](https://docs.python.org/3/library/stdtypes.html#iterator-types)\n",
        "\n",
        "In Python, an iterator is an object that implements the iterator protocol, allowing sequential traversal through elements in a collection. This protocol consists of two methods:\n",
        "\n",
        "- $__iter__():$ This method is called to initialize and return the iterator object itself. If an object is an iterable (like a list or tuple), calling `iter()` on it will return an iterator.\n",
        "- $__next__():$ This method retrieves the next item from the sequence. When there are no more items to return, it raises a `StopIteration` exception, signaling the end of the iteration.\n",
        "\n",
        "**Key characteristics and uses of iterators:**\n",
        "\n",
        "- **Sequential Traversal:** Iterators enable processing elements one by one, which is particularly useful for large datasets as it avoids loading the entire collection into memory at once.\n",
        "- **Lazy Evaluation:** They support lazy evaluation, meaning values are generated only when requested, which is beneficial for potentially infinite sequences or computationally expensive operations.\n",
        "- **Memory Efficiency:** By yielding elements one at a time, iterators reduce memory consumption compared to creating a complete list or other data structure in memory.\n",
        "- **Integration with Loops:** Python's for loops implicitly use iterators. When you iterate over an iterable, a hidden iterator is created, and its $__next__()$ method is repeatedly called until `StopIteration` is raised.\n",
        "- **Custom Iterators:** You can create your own custom iterators by defining a class that implements the$ __iter__()$ and $__next__()$ methods, allowing you to define custom iteration logic for your data structures or algorithms.\n",
        "\n",
        "<div align=\"center\">\n",
        "<img src=\"https://drive.google.com/uc?id=1ynrzdj6cd1NWa4Y5AmyryWyo4UVAS3zw\" width=\"550\">"
      ],
      "metadata": {
        "id": "OEKGwVEScIHV"
      }
    },
    {
      "cell_type": "markdown",
      "source": [
        "### Creating and Using Iterators\n",
        "This cell introduces iterators, which are objects that represent a stream of data. Using `iter()` and `next()` allows you to process elements one by one, which can be memory efficient for large datasets."
      ],
      "metadata": {
        "id": "6Yo4ihhccMh8"
      }
    },
    {
      "cell_type": "code",
      "source": [
        "days = [\"Sun\", \"Mon\", \"Tue\", \"Wed\", \"Thu\", \"Fri\", \"Sat\"]\n",
        "\n",
        "# Create iterator\n",
        "day_iter = iter(days)\n",
        "\n",
        "# Get next elements\n",
        "print(next(day_iter))                   # Sun\n",
        "print(next(day_iter))                   # Mon\n",
        "print(next(day_iter))                   # Tue\n",
        "print(next(day_iter))                   # Wed\n",
        "print(next(day_iter))                   # Thu\n",
        "print(next(day_iter))                   # Fri\n",
        "print(next(day_iter))                   # Sat\n",
        "\n",
        "# Safe next with default value\n",
        "print(next(day_iter, \"No more days\"))"
      ],
      "metadata": {
        "colab": {
          "base_uri": "https://localhost:8080/"
        },
        "id": "CmESBoWUcPSN",
        "outputId": "7cf91694-9616-4018-bf6d-a3c48317752d"
      },
      "execution_count": null,
      "outputs": [
        {
          "output_type": "stream",
          "name": "stdout",
          "text": [
            "Sun\n",
            "Mon\n",
            "Tue\n",
            "Wed\n",
            "Thu\n",
            "Fri\n",
            "Sat\n",
            "No more days\n"
          ]
        }
      ]
    },
    {
      "cell_type": "markdown",
      "source": [
        "### Iterator with Loop\n",
        "This cell demonstrates how to use an iterator with a `while` loop. This pattern is useful when you need fine-grained control over the iteration process or when working with iterators that don't have a predefined length."
      ],
      "metadata": {
        "id": "x2TaphyZcUci"
      }
    },
    {
      "cell_type": "code",
      "source": [
        "days = [\"Sun\", \"Mon\", \"Tue\", \"Wed\"]\n",
        "day_iter = iter(days)\n",
        "\n",
        "while True:\n",
        "    day = next(day_iter, None)\n",
        "    if day is None:\n",
        "        break\n",
        "    print(day)"
      ],
      "metadata": {
        "colab": {
          "base_uri": "https://localhost:8080/"
        },
        "id": "BOVtIttZccNa",
        "outputId": "366b8298-e9d1-4146-fe14-f7989763a011"
      },
      "execution_count": null,
      "outputs": [
        {
          "output_type": "stream",
          "name": "stdout",
          "text": [
            "Sun\n",
            "Mon\n",
            "Tue\n",
            "Wed\n"
          ]
        }
      ]
    },
    {
      "cell_type": "markdown",
      "source": [
        "## 1.9 List Comprehensions\n",
        "---\n",
        "- **Real Python**: [When to Use a List Comprehension in Python](https://realpython.com/list-comprehension-python/)\n",
        "- **GeeksforGeeks**: [List Comprehension in Python](https://www.geeksforgeeks.org/python-list-comprehensions/)\n",
        "- **Python-Course.eu**: [List Comprehension](https://python-course.eu/python-tutorial/list-comprehension.php)\n",
        "- **Programiz**: [Python List Comprehension](https://www.programiz.com/python-programming/list-comprehension)\n",
        "\n",
        "List comprehension in Python provides a concise and readable way to create lists based on existing iterables (like lists, tuples, strings, or ranges). It offers a more compact syntax compared to traditional for loops for generating new lists, often resulting in more efficient and elegant code.\n",
        "\n",
        "**Basic Syntax:**\n",
        "```Python\n",
        "new_list = [expression for item in iterable if condition]\n",
        "```\n",
        "**Components:**\n",
        "\n",
        "- **expression:**The operation or transformation to be applied to each `item`. This determines what value will be added to the `new_list`.\n",
        "- **item:** A variable that represents each element from the `iterable` during the iteration.\n",
        "- **iterable:** The source sequence (e.g., a list, tuple, string, or `range()`) from which elements are processed.\n",
        "- **if condition (optional):** A filtering condition that, if present, determines whether an `item` should be included in the `new_list`. Only items for which the condition evaluates to `True` are processed by the `expression`.\n",
        "\n",
        "<div align=\"center\">\n",
        "<img src=\"https://drive.google.com/uc?id=1kOVsTNwEjkVZsOyK4cn5U5m1q8z6CGYT\" width=\"550\">\n",
        "<div align=\"center\">\n",
        "<img src=\"https://drive.google.com/uc?id=1OBPMJXhkuRx1mtgVOKIE0Z-JA80bT_M9\" width=\"550\">\n",
        "<div align=\"center\">\n",
        "<img src=\"https://drive.google.com/uc?id=1p7FdqZZilOrh2tVlZn-jUwnCi6eB2uV0\" width=\"350\">"
      ],
      "metadata": {
        "id": "BWFd-wRTceO8"
      }
    },
    {
      "cell_type": "markdown",
      "source": [
        "### Basic List Comprehensions\n",
        "This cell introduces basic list comprehensions, a concise and Pythonic way to create new lists. They offer a more readable and often more efficient alternative to traditional `for` loops for simple list creation and transformation tasks."
      ],
      "metadata": {
        "id": "5I48JQhyckMU"
      }
    },
    {
      "cell_type": "code",
      "source": [
        "# Basic syntax: [expression for item in iterable]\n",
        "squares = [x**2 for x in range(1, 6)]\n",
        "print(squares)  # [1, 4, 9, 16, 25]\n",
        "\n",
        "# With condition: [expression for item in iterable if condition]\n",
        "evens = [x for x in range(1, 11) if x % 2 == 0]\n",
        "print(evens)  # [2, 4, 6, 8, 10]\n",
        "\n",
        "# Complex expressions\n",
        "numbers = [1, 2, 3, 4, 5]\n",
        "result = [x**2 if x % 2 == 0 else x**3 for x in numbers]\n",
        "print(result)  # [1, 4, 27, 16, 125]\n",
        "\n",
        "divided = [x for x in range(50) if x % 2 == 0 if x % 6 == 0]\n",
        "print(divided)\n",
        "divided = [x for x in range(50) if x % 2 == 0 and x % 6 == 0]\n",
        "print(divided)\n",
        "divided = [x for x in range(50) if x % 2 == 0 or x % 6 == 0]\n",
        "print(divided)\n",
        "divided = [x for x in range(50) if not (x % 2 == 0 or x % 6 == 0)]\n",
        "print(divided)\n",
        "divided = [x for x in range(50) if x % 2 == 0 and not x % 6 == 0]\n",
        "print(divided)"
      ],
      "metadata": {
        "colab": {
          "base_uri": "https://localhost:8080/"
        },
        "id": "7DjNBgRgcmhS",
        "outputId": "0ee3d747-ec50-4bcb-89cd-41ef7bd068fc"
      },
      "execution_count": null,
      "outputs": [
        {
          "output_type": "stream",
          "name": "stdout",
          "text": [
            "[1, 4, 9, 16, 25]\n",
            "[2, 4, 6, 8, 10]\n",
            "[1, 4, 27, 16, 125]\n",
            "[0, 6, 12, 18, 24, 30, 36, 42, 48]\n",
            "[0, 6, 12, 18, 24, 30, 36, 42, 48]\n",
            "[0, 2, 4, 6, 8, 10, 12, 14, 16, 18, 20, 22, 24, 26, 28, 30, 32, 34, 36, 38, 40, 42, 44, 46, 48]\n",
            "[1, 3, 5, 7, 9, 11, 13, 15, 17, 19, 21, 23, 25, 27, 29, 31, 33, 35, 37, 39, 41, 43, 45, 47, 49]\n",
            "[2, 4, 8, 10, 14, 16, 20, 22, 26, 28, 32, 34, 38, 40, 44, 46]\n"
          ]
        }
      ]
    },
    {
      "cell_type": "markdown",
      "source": [
        "### Temperature Conversion Example\n",
        "This cell provides a practical example of using list comprehension for a common data transformation task: converting temperatures from Celsius to Fahrenheit. The concise syntax makes the conversion logic clear."
      ],
      "metadata": {
        "id": "8Ib76RxwcqAY"
      }
    },
    {
      "cell_type": "code",
      "source": [
        "celsius = [0, 10, 20, 30, 40]\n",
        "fahrenheit = [(temp * 9/5) + 32 for temp in celsius]\n",
        "print(fahrenheit)  # [32.0, 50.0, 68.0, 86.0, 104.0]\n",
        "\n",
        "# With condition\n",
        "fahrenheit_filtered = [(temp * 9/5) + 32 for temp in celsius if temp > 10]\n",
        "print(fahrenheit_filtered)  # [68.0, 86.0, 104.0]"
      ],
      "metadata": {
        "colab": {
          "base_uri": "https://localhost:8080/"
        },
        "id": "cWhBuUp8csrO",
        "outputId": "ebf92a90-12bb-472e-fcc6-6ccba286764c"
      },
      "execution_count": null,
      "outputs": [
        {
          "output_type": "stream",
          "name": "stdout",
          "text": [
            "[32.0, 50.0, 68.0, 86.0, 104.0]\n",
            "[68.0, 86.0, 104.0]\n"
          ]
        }
      ]
    },
    {
      "cell_type": "markdown",
      "source": [
        "### Nested List Comprehensions\n",
        "This cell demonstrates nested list comprehensions, which are useful for working with nested data structures like matrices. They provide a compact way to create or manipulate multi-dimensional lists."
      ],
      "metadata": {
        "id": "OI0eZv8Ccvih"
      }
    },
    {
      "cell_type": "code",
      "source": [
        "# Create a 3x3 matrix\n",
        "matrix = [[i*j for j in range(1, 4)] for i in range(1, 4)]\n",
        "print(matrix)  # [[1, 2, 3], [2, 4, 6], [3, 6, 9]]\n",
        "\n",
        "# Flatten a matrix\n",
        "flattened = [num for row in matrix for num in row]\n",
        "print(flattened)  # [1, 2, 3, 2, 4, 6, 3, 6, 9]"
      ],
      "metadata": {
        "colab": {
          "base_uri": "https://localhost:8080/"
        },
        "id": "BqRIhX7scxmv",
        "outputId": "6b74bd83-35cc-4817-e4a0-528c9e0cdeed"
      },
      "execution_count": null,
      "outputs": [
        {
          "output_type": "stream",
          "name": "stdout",
          "text": [
            "[[1, 2, 3], [2, 4, 6], [3, 6, 9]]\n",
            "[1, 2, 3, 2, 4, 6, 3, 6, 9]\n"
          ]
        }
      ]
    },
    {
      "cell_type": "markdown",
      "source": [
        "## 1.10 Set Comprehensions\n",
        "---\n",
        "- **Real Python**: [Sets in Python](https://realpython.com/python-sets/)\n",
        "- **GeeksforGeeks**: [Set Comprehensions in Python](https://www.geeksforgeeks.org/set-comprehensions-python/)\n",
        "- **Python-Course.eu**: [Sets and Set Comprehensions](https://python-course.eu/python-tutorial/sets-and-set-comprehensions.php)\n",
        "- **Programiz**: [Python Set Comprehension](https://www.programiz.com/python-programming/set-comprehension)\n",
        "\n",
        "Set comprehension in Python offers a concise and efficient method for creating sets. It allows for the generation of a new set by iterating over an existing iterable (such as a list, tuple, or another set) and applying an expression and/or a conditional filter to its elements.\n",
        "\n",
        "**Syntax:**\n",
        "```Python\n",
        "new_set = {expression for item in iterable if condition}\n",
        "```\n",
        "\n",
        "**Components:**\n",
        "\n",
        "- `expression:` The operation or value to be included in the new set. This can be a transformation of the `item` or the `item` itself.\n",
        "- `item:` A variable representing each element from the `iterable` during the iteration.\n",
        "- `iterable:` The existing sequence or collection being iterated over.\n",
        "- `if condition` (optional): A conditional statement that filters elements from the `iterable`. Only elements for which the condition evaluates to `True` are included in the new set.\n",
        "\n",
        "**Key Characteristics:**\n",
        "\n",
        "- *Conciseness:* Set comprehensions provide a more compact and readable way to create sets compared to traditional `for` loops with `add()` operations.\n",
        "- *Uniqueness:* As sets inherently store only unique elements, any duplicate values generated by the comprehension will automatically be removed.\n",
        "- *Order:* Sets are unordered collections; therefore, the order of elements in the resulting set is not guaranteed.\n"
      ],
      "metadata": {
        "id": "EgqlHyJRc1Ji"
      }
    },
    {
      "cell_type": "markdown",
      "source": [
        "### Basic Set Comprehensions\n",
        "This cell introduces set comprehensions, which are similar to list comprehensions but create sets. They are useful for efficiently creating sets from other iterables, automatically handling the uniqueness of elements."
      ],
      "metadata": {
        "id": "q09yVCxKc5yK"
      }
    },
    {
      "cell_type": "code",
      "source": [
        "# Basic set comprehension\n",
        "numbers = [1, 2, 2, 3, 3, 4, 5]\n",
        "unique_squares = {x**2 for x in numbers}\n",
        "print(unique_squares)  # {1, 4, 9, 16, 25}\n",
        "\n",
        "# Set from string (unique characters)\n",
        "text = \"hello world\"\n",
        "unique_chars = {c.upper() for c in text if not c.isspace()}\n",
        "print(unique_chars)  # {'H', 'E', 'L', 'O', 'W', 'R', 'D'}"
      ],
      "metadata": {
        "colab": {
          "base_uri": "https://localhost:8080/"
        },
        "id": "kt0PUDKec72H",
        "outputId": "5d544306-e0f6-4e76-9976-1b5952f1b2b2"
      },
      "execution_count": null,
      "outputs": [
        {
          "output_type": "stream",
          "name": "stdout",
          "text": [
            "{1, 4, 9, 16, 25}\n",
            "{'L', 'H', 'O', 'W', 'D', 'R', 'E'}\n"
          ]
        }
      ]
    },
    {
      "cell_type": "markdown",
      "source": [
        "### Temperature Set Example\n",
        "This cell provides an example of using set comprehension to quickly find the number of unique values resulting from an operation (temperature conversion), leveraging the set's property of storing only unique elements."
      ],
      "metadata": {
        "id": "iIHYLhxOdEwd"
      }
    },
    {
      "cell_type": "code",
      "source": [
        "celsius_temps = [5, 10, 12, 14, 10, 23, 41, 30, 12, 24, 12, 18, 29]\n",
        "fahrenheit_set = {(temp * 9/5) + 32 for temp in celsius_temps}\n",
        "print(len(fahrenheit_set))  # Number of unique Fahrenheit temperatures"
      ],
      "metadata": {
        "colab": {
          "base_uri": "https://localhost:8080/"
        },
        "id": "YkoM_98WdIan",
        "outputId": "2c2b932d-86c1-456e-9086-e166601927a5"
      },
      "execution_count": null,
      "outputs": [
        {
          "output_type": "stream",
          "name": "stdout",
          "text": [
            "10\n"
          ]
        }
      ]
    },
    {
      "cell_type": "markdown",
      "source": [
        "## 1.11 Dictionary Comprehensions\n",
        "---\n",
        "- **Real Python**: [Dictionaries in Python](https://realpython.com/python-dicts/)\n",
        "- **GeeksforGeeks**: [Dictionary Comprehensions in Python](https://www.geeksforgeeks.org/python-dictionary-comprehension/)\n",
        "- **Python-Course.eu**: [Dictionary Comprehension](https://python-course.eu/python-tutorial/dictionary-comprehensions.php)\n",
        "- **Programiz**: [Python Dictionary Comprehension](https://www.programiz.com/python-programming/dictionary-comprehension)\n",
        "\n",
        "\n",
        "Dictionary comprehension in Python provides a concise and elegant way to create dictionaries. It allows for the construction of a new dictionary by iterating over an existing iterable and applying an expression to generate key-value pairs.\n",
        "\n",
        "**Syntax:**\n",
        "```Python\n",
        "new_dict = {key_expression: value_expression for item in iterable if condition}\n",
        "```\n",
        "**Components:**\n",
        "- `{} (Curly braces):` Enclose the dictionary comprehension, indicating that a dictionary is being created.\n",
        "- `key_expression:value_expression:`Defines how the key and value for each item in the new dictionary are generated. Both can be expressions that operate on item.\n",
        "- `for item in iterable:` Specifies the iterable (e.g., list, tuple, set, another dictionary) from which items are processed.\n",
        "- `if condition` (Optional): An optional conditional statement that filters items from the iterable. Only items for which the condition evaluates to True are included in the new dictionary.\n",
        "\n",
        "Dictionary comprehensions offer a more compact and readable alternative to traditional for loops for creating and manipulating dictionaries, especially when dealing with transformations or filtering operations."
      ],
      "metadata": {
        "id": "_zCBZ97qdeNW"
      }
    },
    {
      "cell_type": "markdown",
      "source": [
        "### Basic Dictionary Comprehensions\n",
        "This cell introduces dictionary comprehensions, a concise way to create dictionaries. They are useful for efficiently building dictionaries where the key-value pairs can be generated from an iterable based on expressions."
      ],
      "metadata": {
        "id": "zzh4btxBdiqr"
      }
    },
    {
      "cell_type": "code",
      "source": [
        "# Basic syntax: {key_expr: value_expr for item in iterable}\n",
        "squares_dict = {x: x**2 for x in range(1, 6)}\n",
        "print(squares_dict)  # {1: 1, 2: 4, 3: 9, 4: 16, 5: 25}\n",
        "\n",
        "# Temperature conversion dictionary\n",
        "celsius = [0, 10, 20, 30, 40]\n",
        "temp_dict = {c: (c * 9/5) + 32 for c in celsius}\n",
        "print(temp_dict)  # {0: 32.0, 10: 50.0, 20: 68.0, 30: 86.0, 40: 104.0}"
      ],
      "metadata": {
        "colab": {
          "base_uri": "https://localhost:8080/"
        },
        "id": "KKkxxMiFdlf5",
        "outputId": "9a52b862-136d-4fe6-c272-d98dddd964cf"
      },
      "execution_count": null,
      "outputs": [
        {
          "output_type": "stream",
          "name": "stdout",
          "text": [
            "{1: 1, 2: 4, 3: 9, 4: 16, 5: 25}\n",
            "{0: 32.0, 10: 50.0, 20: 68.0, 30: 86.0, 40: 104.0}\n"
          ]
        }
      ]
    },
    {
      "cell_type": "markdown",
      "source": [
        "### Dictionary Comprehension with Conditions\n",
        "This cell demonstrates how to use dictionary comprehension with a conditional statement to filter key-value pairs from an existing dictionary based on their values. This is a concise way to create a subset of a dictionary."
      ],
      "metadata": {
        "id": "OnazLmvjdoUL"
      }
    },
    {
      "cell_type": "code",
      "source": [
        "# Filter dictionary\n",
        "original_dict = {\"NFLX\": 4950, \"TREX\": 2400, \"FIZZ\": 1800, \"XPO\": 1700}\n",
        "filtered_dict = {k: v for k, v in original_dict.items() if v > 2000}\n",
        "print(filtered_dict)  # {'NFLX': 4950, 'TREX': 2400}"
      ],
      "metadata": {
        "colab": {
          "base_uri": "https://localhost:8080/"
        },
        "id": "enZu6TBfdqjT",
        "outputId": "8d5ae58d-a386-4b8b-875d-5d3daf2495e4"
      },
      "execution_count": null,
      "outputs": [
        {
          "output_type": "stream",
          "name": "stdout",
          "text": [
            "{'NFLX': 4950, 'TREX': 2400}\n"
          ]
        }
      ]
    },
    {
      "cell_type": "markdown",
      "source": [
        "### Working with Dictionary Methods\n",
        "This cell shows how to iterate over a dictionary using `.items()` to access both keys and values simultaneously, and how to get lists of only the keys or only the values using `.keys()` and `.values()`. These methods are useful for accessing different parts of the dictionary's data."
      ],
      "metadata": {
        "id": "rHuR2UXcdueU"
      }
    },
    {
      "cell_type": "code",
      "source": [
        "sample_dict = {'a': 1, 'b': 2, 'c': 3}\n",
        "\n",
        "# Iterate over dictionary\n",
        "for key, value in sample_dict.items():\n",
        "    print(f\"{key}: {value}\")\n",
        "\n",
        "# Get keys and values\n",
        "print(list(sample_dict.keys()))     # ['a', 'b', 'c']\n",
        "print(list(sample_dict.values()))   # [1, 2, 3]"
      ],
      "metadata": {
        "colab": {
          "base_uri": "https://localhost:8080/"
        },
        "id": "Ior2hOIXdwhe",
        "outputId": "62b1fdd5-7027-4788-dcf0-4eab3cce204b"
      },
      "execution_count": null,
      "outputs": [
        {
          "output_type": "stream",
          "name": "stdout",
          "text": [
            "a: 1\n",
            "b: 2\n",
            "c: 3\n",
            "['a', 'b', 'c']\n",
            "[1, 2, 3]\n"
          ]
        }
      ]
    },
    {
      "cell_type": "markdown",
      "source": [
        "## 1.12 Lambda Functions\n",
        "---\n",
        "- **Real Python**: [Python lambda Functions](https://realpython.com/python-lambda/)\n",
        "- **GeeksforGeeks**: [Python Lambda, filter, map, reduce](https://www.geeksforgeeks.org/python-lambda-anonymous-functions-filter-map-reduce/)\n",
        "- **Python-Course.eu**: [Lambda, filter, map and reduce](https://python-course.eu/python-tutorial/lambda-filter-map-reduce.php)\n",
        "- **Programiz**: [Python Lambda/Anonymous Function](https://www.programiz.com/python-programming/anonymous-function)\n",
        "\n",
        "[Lambda](https://www.datacamp.com/tutorial/python-lambda-functions) functions in Python are small, anonymous functions defined using the `lambda` keyword. They are also known as anonymous functions because they do not require a formal `def` statement and a name like regular functions.\n",
        "\n",
        "**Key characteristics of Lambda Functions:**\n",
        "\n",
        "- `Anonymous:` They are not bound to a name unless explicitly assigned to a variable.\n",
        "- `Single Expression:` A lambda function can take any number of arguments but can only have one expression. The result of this expression is automatically returned.\n",
        "- `Concise:` They are typically used for short, simple operations that can be expressed in a single line of code.\n",
        "- `Inline Usage:` They are frequently used as arguments to higher-order functions like `map()`, `filter()`, and `sorted()`, where a small, temporary function is needed without the overhead of defining a full function.\n",
        "\n",
        "**Syntax:**\n",
        "```Python\n",
        "lambda arguments: expression\n",
        "```\n",
        "**When to use Lambda Functions:**\n",
        "\n",
        "Lambda functions are convenient when:\n",
        "\n",
        "- A small, simple function is needed for a one-time operation.\n",
        "- A function is required as an argument to a higher-order function, such as `map()`, `filter()`, or `sorted()`.\n",
        "- Defining a full def function would be overly verbose for the task at hand.\n",
        "\n",
        "Limitations:\n",
        "\n",
        "- `Single Expression:` They cannot contain multiple statements or complex logic.\n",
        "- `Readability:` Overuse of complex lambda functions can sometimes decrease code readability, especially for those unfamiliar with functional programming concepts.\n",
        "\n",
        "<div align=\"center\">\n",
        "<img src=\"https://drive.google.com/uc?id=1CyhDPSwoXQwsC19Nt-o3LBMgsdNkex9z\" height=\"350\" width=\"550\">"
      ],
      "metadata": {
        "id": "wwUPASrUd0eH"
      }
    },
    {
      "cell_type": "markdown",
      "source": [
        "### Basic Lambda Syntax\n",
        "This cell introduces lambda functions, which are small, anonymous functions defined with the `lambda` keyword. They are typically used for short, simple operations where a full `def` function definition is unnecessary."
      ],
      "metadata": {
        "id": "yNUR63Hjd5GZ"
      }
    },
    {
      "cell_type": "code",
      "source": [
        "# Basic lambda: lambda arguments: expression\n",
        "add = lambda x, y: x + y\n",
        "print(add(5, 3))  # 8\n",
        "\n",
        "# Single argument\n",
        "square = lambda x: x**2\n",
        "print(square(4))  # 16\n",
        "\n",
        "# Multiple arguments\n",
        "multiply = lambda x, y, z: x * y * z\n",
        "print(multiply(2, 3, 4))  # 24"
      ],
      "metadata": {
        "colab": {
          "base_uri": "https://localhost:8080/"
        },
        "id": "WTW7w09Vd7Mu",
        "outputId": "f9973e96-cad4-48e8-d29d-9993aecb30d6"
      },
      "execution_count": null,
      "outputs": [
        {
          "output_type": "stream",
          "name": "stdout",
          "text": [
            "8\n",
            "16\n",
            "24\n"
          ]
        }
      ]
    },
    {
      "cell_type": "markdown",
      "source": [
        "### Lambda with Built-in Functions\n",
        "This cell demonstrates the common use of lambda functions with `filter()` and `map()`. Lambda functions are convenient for providing simple, on-the-fly functions for these built-in functions, making the code more concise.\n",
        "- `map():` Applies a function to each item in an iterable and returns a map object (which can be converted to a list, tuple, etc.).\n",
        "- `filter():` Constructs an iterator from elements of an iterable for which a function returns true.\n",
        "- `sorted():` Returns a new sorted list from the items in an iterable. The key argument can be a function (often a lambda) to customize the sorting criteria."
      ],
      "metadata": {
        "id": "WfG-U5aheBQR"
      }
    },
    {
      "cell_type": "code",
      "source": [
        "numbers = [1, 2, 3, 4, 5, 6, 7, 8, 9, 10]\n",
        "\n",
        "# Filter with lambda\n",
        "evens = list(filter(lambda x: x % 2 == 0, numbers))\n",
        "print(evens)  # [2, 4, 6, 8, 10]\n",
        "\n",
        "# Map with lambda\n",
        "squares = list(map(lambda x: x**2, numbers))\n",
        "print(squares)  # [1, 4, 9, 16, 25, 36, 49, 64, 81, 100]\n",
        "\n",
        "# Multiple outputs with map\n",
        "cubes_and_squares = list(map(lambda x: (x**2, x**3), [1, 2, 3, 4]))\n",
        "print(cubes_and_squares)  # [(1, 1), (4, 8), (9, 27), (16, 64)]"
      ],
      "metadata": {
        "colab": {
          "base_uri": "https://localhost:8080/"
        },
        "id": "sU5XG6ikeCSd",
        "outputId": "208d7c54-e2f1-4d16-c3e2-a03253995656"
      },
      "execution_count": null,
      "outputs": [
        {
          "output_type": "stream",
          "name": "stdout",
          "text": [
            "[2, 4, 6, 8, 10]\n",
            "[1, 4, 9, 16, 25, 36, 49, 64, 81, 100]\n",
            "[(1, 1), (4, 8), (9, 27), (16, 64)]\n"
          ]
        }
      ]
    },
    {
      "cell_type": "markdown",
      "source": [
        "### Lambda for Sorting\n",
        "This cell shows how to use a lambda function as the `key` argument for the `sort()` method. This allows you to specify a custom sorting criteria based on a particular element or calculation for each item in the list."
      ],
      "metadata": {
        "id": "oe-V4fnReGpk"
      }
    },
    {
      "cell_type": "code",
      "source": [
        "# Sort by second element\n",
        "pairs = [(1, 'one'), (2, 'two'), (3, 'three'), (4, 'four')]\n",
        "pairs.sort(key=lambda x: x[1])  # Sort by string value\n",
        "print(pairs)\n",
        "\n",
        "# Sort by first element in reverse\n",
        "pairs.sort(key=lambda x: x[0], reverse=True)\n",
        "print(pairs)"
      ],
      "metadata": {
        "colab": {
          "base_uri": "https://localhost:8080/"
        },
        "id": "e8_1588QeI4j",
        "outputId": "0d30e2b6-7c36-4707-fe18-ef2f09560be6"
      },
      "execution_count": null,
      "outputs": [
        {
          "output_type": "stream",
          "name": "stdout",
          "text": [
            "[(4, 'four'), (1, 'one'), (3, 'three'), (2, 'two')]\n",
            "[(4, 'four'), (3, 'three'), (2, 'two'), (1, 'one')]\n"
          ]
        }
      ]
    },
    {
      "cell_type": "markdown",
      "source": [
        "### Higher-Order Functions with Lambda\n",
        "This cell demonstrates a higher-order function that returns a lambda function. This pattern allows you to create factory functions that generate other functions with specific configurations, showcasing the flexibility of lambda functions."
      ],
      "metadata": {
        "id": "k8E_TrGveLzZ"
      }
    },
    {
      "cell_type": "code",
      "source": [
        "def make_incrementor(n):\n",
        "    return lambda x: x + n\n",
        "\n",
        "increment_by_5 = make_incrementor(5)\n",
        "print(increment_by_5(10))  # 15"
      ],
      "metadata": {
        "colab": {
          "base_uri": "https://localhost:8080/"
        },
        "id": "dOIAmG_FeN4b",
        "outputId": "91152151-2205-4f5a-f0b8-2c5253e95e5d"
      },
      "execution_count": null,
      "outputs": [
        {
          "output_type": "stream",
          "name": "stdout",
          "text": [
            "15\n"
          ]
        }
      ]
    },
    {
      "cell_type": "markdown",
      "source": [
        "## 1.13 Map and Filter Functions\n",
        "---\n",
        "- **Real Python**: [Functional Programming in Python: When and How to Use It](https://realpython.com/python-functional-programming/)\n",
        "- **GeeksforGeeks**: [Python map() function](https://www.geeksforgeeks.org/python-map-function/) & [Python filter() function](https://www.geeksforgeeks.org/filter-in-python/)\n",
        "- **Python-Course.eu**: [Map, Filter and Reduce](https://python-course.eu/python-tutorial/lambda-filter-map-reduce.php)\n",
        "- **Programiz**: [Python map()](https://www.programiz.com/python-programming/methods/built-in/map) & [Python filter()](https://www.programiz.com/python-programming/methods/built-in/filter)\n",
        "\n"
      ],
      "metadata": {
        "id": "pZUp4pYreQmX"
      }
    },
    {
      "cell_type": "markdown",
      "source": [
        "### Map Function\n",
        "The `map()` function in Python is a built-in higher-order function that applies a given function to each item of an iterable (or multiple iterables) and returns a map object, which is an iterator.\n",
        "\n",
        "**Syntax:**\n",
        "```Python\n",
        "map(function, iterable, ...)\n",
        "```\n",
        "**Parameters:**\n",
        "- `function:` The function to be applied to each item of the iterable(s). This function can be a named function or an anonymous lambda function.\n",
        "- `iterable:` One or more iterables (like lists, tuples, strings, etc.) whose elements will be passed as arguments to the function. If multiple iterables are provided, the `function` must accept a corresponding number of arguments, and `map()` will iterate through them in parallel until one of the iterables is exhausted.\n",
        "\n",
        "**Return Value:**\n",
        "\n",
        "The `map()` function returns a map object. This object is an iterator that yields the results of applying the `function` to each item of the iterable(s). To view the results as a list, tuple, or other sequence type, you need to explicitly convert the map object using constructors like `list()`, `tuple()`, etc.\n",
        "\n",
        "**How it Works:**\n",
        "\n",
        "`map()` iterates through the provided iterable(s) and, for each element (or corresponding elements from multiple iterables), it calls the specified function with those elements as arguments. The return value of each function call is then yielded by the `map` object.\n",
        "\n",
        "**Benefits:**\n",
        "\n",
        "- `Conciseness:` It allows for applying transformations to data in a more compact and readable way compared to traditional for loops.\n",
        "- `Efficiency:` For large datasets, `map()` can be more memory-efficient as it returns an iterator, processing elements on demand rather than creating an entirely new list in memory at once.\n",
        "- `Functional Programming:` It aligns with functional programming paradigms by emphasizing the application of functions to data without modifying the original data structures.\n",
        "\n",
        "<div align=\"center\">\n",
        "<img src=\"https://drive.google.com/uc?id=1SLuW2p0RpvZNn8R5hP3d2wC5OE0JS3TL\" height=\"350\" width=\"550\">\n",
        "<div align=\"center\">\n",
        "<img src=\"https://drive.google.com/uc?id=1LCuIShrOGSUsTAwL-3QIBcJE40u2Wt2B\" height=\"350\" width=\"550\">\n"
      ],
      "metadata": {
        "id": "qO5aEnq9eVLm"
      }
    },
    {
      "cell_type": "code",
      "source": [
        "# Apply function to each element\n",
        "numbers = [1, 2, 3, 4, 5]\n",
        "doubled = list(map(lambda x: x * 2, numbers))\n",
        "print(doubled)  # [2, 4, 6, 8, 10]\n",
        "\n",
        "# Map with multiple iterables\n",
        "list1 = [1, 2, 3]\n",
        "list2 = [4, 5, 6]\n",
        "sums = list(map(lambda x, y: x + y, list1, list2))\n",
        "print(sums)  # [5, 7, 9]"
      ],
      "metadata": {
        "colab": {
          "base_uri": "https://localhost:8080/"
        },
        "id": "UB6Sc4rneXjZ",
        "outputId": "859c6c1c-6274-4269-ea53-ac3e9b604ebc"
      },
      "execution_count": null,
      "outputs": [
        {
          "output_type": "stream",
          "name": "stdout",
          "text": [
            "[2, 4, 6, 8, 10]\n",
            "[5, 7, 9]\n"
          ]
        }
      ]
    },
    {
      "cell_type": "markdown",
      "source": [
        "### Filter Function\n",
        "The `filter()` function in Python is a built-in function used to construct an iterator from elements of an iterable for which a function returns true. It offers a concise and functional way to select a subset of data based on a specific condition.\n",
        "\n",
        "**Syntax:**\n",
        "```Python\n",
        "filter(function, iterable)\n",
        "```\n",
        "\n",
        "**Arguments:**\n",
        "- `function:` A function that takes a single argument and returns a boolean value (`True` or `False`). This function determines whether an element should be included in the filtered output. If `None` is passed as the function, the identity function is assumed, and all \"falsy\" elements (e.g., `0`, `False`, `None`, empty strings, empty lists) in the iterable are skipped.\n",
        "- `iterable:` An iterable object (e.g., list, tuple, set, string) whose elements are to be filtered.\n",
        "\n",
        "**Return Value:**\n",
        "\n",
        "The `filter()` function returns a `filter` object, which is an iterator. This iterator yields only the elements from the input iterable for which the `function` returned a \"truthy\" value. To view or use the filtered results, the filter object typically needs to be converted into another data structure, such as a list or tuple, using `list()` or `tuple()`.\n",
        "\n",
        "Example:\n",
        "```Python\n",
        "def is_even(number):\n",
        "    return number % 2 == 0\n",
        "\n",
        "numbers = [1, 2, 3, 4, 5, 6, 7, 8, 9, 10]\n",
        "even_numbers = list(filter(is_even, numbers))\n",
        "print(even_numbers) # [2, 4, 6, 8, 10]\n",
        "```\n",
        "In this example, `filter()` applies the `is_even` function to each number in the `numbers` list. Only the numbers for which `is_even` returns `True` (i.e., the even numbers) are included in the `even_numbers` list. `filter()` is particularly useful for data manipulation and cleaning tasks, allowing for efficient and readable code when selecting elements based on a condition."
      ],
      "metadata": {
        "id": "8GunB3pmeb1k"
      }
    },
    {
      "cell_type": "code",
      "source": [
        "# Filter elements based on condition\n",
        "numbers = [1, 2, 3, 4, 5, 6, 7, 8, 9, 10]\n",
        "evens = list(filter(lambda x: x % 2 == 0, numbers))\n",
        "print(evens)  # [2, 4, 6, 8, 10]\n",
        "\n",
        "# Filter strings by length\n",
        "words = ['python', 'java', 'c', 'javascript', 'go']\n",
        "long_words = list(filter(lambda word: len(word) > 4, words))\n",
        "print(long_words)  # ['python', 'javascript']"
      ],
      "metadata": {
        "colab": {
          "base_uri": "https://localhost:8080/"
        },
        "id": "MmXWgtaweds7",
        "outputId": "2c38e1c7-8c9d-4e71-deca-b08ec890d25e"
      },
      "execution_count": null,
      "outputs": [
        {
          "output_type": "stream",
          "name": "stdout",
          "text": [
            "[2, 4, 6, 8, 10]\n",
            "['python', 'javascript']\n"
          ]
        }
      ]
    },
    {
      "cell_type": "markdown",
      "source": [
        "## 1.14 Collections Module\n",
        "---\n",
        "- **Real Python**: [Python's collections: A Buffet of Specialized Data Types](https://realpython.com/python-collections-module/)\n",
        "- **GeeksforGeeks**: [Python Collections Module](https://www.geeksforgeeks.org/python-collections-module/)\n",
        "- **Python.org**: [collections — Container datatypes](https://docs.python.org/3/library/collections.html)\n",
        "- **PyMOTW**: [collections – Container Data Types](https://pymotw.com/3/collections/)\n",
        "\n",
        "The `collections` module in Python is a part of the standard library that provides specialized container datatypes. These datatypes extend the functionality of Python's built-in containers like `list`, `dict`, `set`, and `tuple`, offering more efficient and convenient ways to handle specific data organization and manipulation tasks.\n",
        "\n",
        "**Key classes provided by the `collections` module include:**\n",
        "\n",
        "- `Counter:` Used for counting hashable objects. It creates a dictionary-like object where keys are elements and values are their counts.\n",
        "- `defaultdict:` A subclass of dict that provides a default value for a key if it's not present in the dictionary, preventing `KeyError`.\n",
        "- `deque:` A double-ended queue that supports fast appends and pops from both ends of the sequence, making it efficient for implementing queues and stacks.\n",
        "- `namedtuple:` A factory function for creating tuple subclasses with named fields. This allows accessing elements by name instead of just by index, improving code readability.\n",
        "- `OrderedDict:` A dictionary subclass that remembers the order in which its key-value pairs were inserted. (Note: In Python 3.7+, standard `dict` also preserves insertion order, but `OrderedDict` provides additional methods for reordering.)\n",
        "- `ChainMap:` A class for combining multiple dictionaries into a single view. It allows searching across multiple mappings and updates only the first mapping in the chain.\n",
        "\n",
        "These specialized containers in the collections module offer optimized solutions for common programming problems, leading to more concise, readable, and efficient code."
      ],
      "metadata": {
        "id": "2yMG5cf8eg95"
      }
    },
    {
      "cell_type": "markdown",
      "source": [
        "### Counter\n",
        "The `collections.Counter` class in Python is a specialized container data type provided by the `collections` module. It is a subclass of the built-in dict class, designed specifically for counting hashable objects.\n",
        "\n",
        "**Key Features and Functionality:**\n",
        "\n",
        "- **Counting Occurrences:** `Counter` is primarily used to count the occurrences of elements within an iterable (like a list, string, or tuple) or to store counts from a mapping (like a dictionary).\n",
        "- **Dictionary-like Behavior:** As a `dict` subclass, it inherits all dictionary methods and properties, allowing you to access counts using keys, iterate through items, and perform updates.\n",
        "- **Default Values:** When accessing a key that is not present in a `Counter` object, it returns a default value of 0 instead of raising a `KeyError`, which is convenient for handling missing data.\n",
        "- **`most_common()` Method:**\n",
        "It provides a `most_common(n)` method that returns a list of the `n` most common elements and their counts, ordered from most to least common.\n",
        "- **Arithmetic Operations:** `Counter` objects support arithmetic operations like addition, subtraction, intersection, and union, allowing you to combine or compare counts from different `Counter` instances.\n",
        "- **Negative Counts:** `Counter` objects can store negative counts, which can be useful in certain scenarios."
      ],
      "metadata": {
        "id": "x_1HdXg-elB9"
      }
    },
    {
      "cell_type": "code",
      "source": [
        "from collections import Counter\n",
        "\n",
        "# Count occurrences\n",
        "text = \"hello world\"\n",
        "char_count = Counter(text)\n",
        "print(char_count)  # Counter({'l': 3, 'o': 2, 'h': 1, 'e': 1, ' ': 1, 'w': 1, 'r': 1, 'd': 1})\n",
        "\n",
        "# Most common elements\n",
        "print(char_count.most_common(3))  # [('l', 3), ('o', 2), ('h', 1)]\n",
        "\n",
        "# Counter operations\n",
        "list1 = ['a', 'b', 'c', 'a', 'b', 'a']\n",
        "list2 = ['a', 'b', 'b', 'd']\n",
        "c1 = Counter(list1)\n",
        "c2 = Counter(list2)\n",
        "\n",
        "print(c1 + c2)  # Add counters\n",
        "print(c1 - c2)  # Subtract counters\n",
        "print(c1 & c2)  # Intersection (minimum counts)\n",
        "print(c1 | c2)  # Union (maximum counts)"
      ],
      "metadata": {
        "colab": {
          "base_uri": "https://localhost:8080/"
        },
        "id": "P0VYeOpDenO4",
        "outputId": "de8e3dc8-dba8-4412-989a-6e9ad47f7382"
      },
      "execution_count": null,
      "outputs": [
        {
          "output_type": "stream",
          "name": "stdout",
          "text": [
            "Counter({'l': 3, 'o': 2, 'h': 1, 'e': 1, ' ': 1, 'w': 1, 'r': 1, 'd': 1})\n",
            "[('l', 3), ('o', 2), ('h', 1)]\n",
            "Counter({'a': 4, 'b': 4, 'c': 1, 'd': 1})\n",
            "Counter({'a': 2, 'c': 1})\n",
            "Counter({'b': 2, 'a': 1})\n",
            "Counter({'a': 3, 'b': 2, 'c': 1, 'd': 1})\n"
          ]
        }
      ]
    },
    {
      "cell_type": "markdown",
      "source": [
        "### DefaultDict\n",
        "The `defaultdict` is a specialized dictionary-like object available in Python's `collections` module. It is a subclass of the built-in `dict` class and offers a convenient way to handle missing keys in a dictionary.\n",
        "\n",
        "**Key Features of `defaultdict`:**\n",
        "\n",
        "**Default Value for Missing Keys:** Unlike a standard `dict` which raises a `KeyError` when attempting to access a non-existent key, `defaultdict` automatically creates a new entry for that key and assigns a default value to it.\n",
        "\n",
        "**`default_factory` Argument:** When initializing a `defaultdict`, you provide a `default_factory` argument. This argument is a callable (like a function, class, or `lambda`) that will be invoked without arguments to produce the default value for any key that is accessed but not yet present in the dictionary.\n",
        "- **Common `default_factory` examples:**\n",
        "  - `list`: Creates an empty list as the default value, useful for grouping items.\n",
        "  - `int`: Creates an integer with a value of `0` as the default, useful for counting occurrences.\n",
        "  - `set`: Creates an empty set as the default, useful for storing unique items.\n",
        "  - Custom functions: Can be used to create more complex default values based on specific logic.\n",
        "\n",
        "**Benefits of using `defaultdict`:**\n",
        "- **Simplified Code:** Eliminates the need for explicit `if key in dictionary:` checks before adding or modifying values for new keys.\n",
        "- **Improved Readability:** Makes the code cleaner and more concise, especially when dealing with data aggregation or grouping tasks.\n",
        "- **Reduced Error Handling:** Prevents `KeyError` exceptions, leading to more robust code."
      ],
      "metadata": {
        "id": "dzcGGAm4etMs"
      }
    },
    {
      "cell_type": "code",
      "source": [
        "from collections import defaultdict\n",
        "\n",
        "# Default dictionary with default values\n",
        "dd = defaultdict(int)  # Default value is 0\n",
        "dd['existing'] = 5\n",
        "print(dd['existing'])     # 5\n",
        "print(dd['non_existing']) # 0 (default)\n",
        "\n",
        "# Default dictionary with lambda\n",
        "dd_lambda = defaultdict(lambda: \"Not found\")\n",
        "dd_lambda['key1'] = \"Found\"\n",
        "print(dd_lambda['key1'])        # Found\n",
        "print(dd_lambda['unknown'])     # Not found\n",
        "\n",
        "# Grouping with defaultdict\n",
        "from collections import defaultdict\n",
        "students = [('Alice', 'Math'), ('Bob', 'Physics'), ('Alice', 'Chemistry'), ('Bob', 'Math')]\n",
        "subjects_by_student = defaultdict(list)\n",
        "\n",
        "for student, subject in students:\n",
        "    subjects_by_student[student].append(subject)\n",
        "\n",
        "print(dict(subjects_by_student))  # {'Alice': ['Math', 'Chemistry'], 'Bob': ['Physics', 'Math']}"
      ],
      "metadata": {
        "colab": {
          "base_uri": "https://localhost:8080/"
        },
        "id": "w9U_WGtqewkU",
        "outputId": "e7645d37-6328-42b2-8dbe-e48db25bee68"
      },
      "execution_count": null,
      "outputs": [
        {
          "output_type": "stream",
          "name": "stdout",
          "text": [
            "5\n",
            "0\n",
            "Found\n",
            "Not found\n",
            "{'Alice': ['Math', 'Chemistry'], 'Bob': ['Physics', 'Math']}\n"
          ]
        }
      ]
    },
    {
      "cell_type": "markdown",
      "source": [
        "## 1.15 String Templates\n",
        "---\n",
        "- **Real Python**: [Python String Formatting: Available Tools and Their Features](https://realpython.com/python-string-formatting/)\n",
        "- **GeeksforGeeks**: [Template Class in Python](https://www.geeksforgeeks.org/template-class-in-python/)\n",
        "- **Python.org**: [string — Common string operations](https://docs.python.org/3/library/string.html#template-strings)\n",
        "- **Python-Course.eu**: [String Templates](https://python-course.eu/python-tutorial/string-class.php)\n",
        "\n",
        "Python's string templates, specifically the `Template` class from the `string` module, offer a way to perform string substitutions using a simple, $-based syntax. This method is particularly useful for scenarios requiring user-provided input or for creating templates where safety and ease of use are paramount.\n",
        "\n",
        "**Key Features and Usage:** Importing the Template class.\n",
        "```Python\n",
        "    from string import Template\n",
        "```\n",
        "**Creating a Template:** Define a string with placeholders marked by a dollar sign (`$`) followed by a variable name, or `${variable_name}` for clarity or when the variable name is followed by more characters.\n",
        "```Python\n",
        "    s = Template('Hello, $name! Your age is $age.')\n",
        "```\n",
        "***Substituting Values:** Use the `substitute()` method to replace placeholders with actual values, typically provided as a dictionary.\n",
        "```Python\n",
        "    data = {'name': 'Alice', 'age': 30}\n",
        "    result = s.substitute(data)\n",
        "    print(result)\n",
        "    # Output: Hello, Alice! Your age is 30.\n",
        "```\n",
        "\n",
        "**Safe Substitution with `safe_substitute()`:** The `safe_substitute()` method handles cases where a placeholder's value is missing in the provided dictionary without raising a `KeyError`. Instead, the placeholder remains in the string.\n",
        "```Python\n",
        "    s_safe = Template('Welcome, $user. Your ID is $id.')\n",
        "    data_safe = {'user': 'Bob'}\n",
        "    result_safe = s_safe.safe_substitute(data_safe)\n",
        "    print(result_safe)\n",
        "    # Output: Welcome, Bob. Your ID is $id.\n",
        "```\n",
        "\n",
        "**Advantages of Template Strings:**\n",
        "- **Simplicity:** The $-based syntax is straightforward and easy to understand.\n",
        "- **Security:** `Template` strings offer a safer way to handle user-provided input compared to f-strings or `.format()` when dealing with untrusted data, as they do not evaluate arbitrary expressions.\n",
        "- **Internationalization (i18n):** They are well-suited for internationalization purposes where text needs to be easily translated and adapted.\n",
        "\n",
        "Note: Python 3.14 introduced a new concept also referred to as \"Template Strings\" or \"T-Strings,\" which are a generalization of f-strings with a `t` prefix and different evaluation semantics, primarily aimed at addressing security concerns in specific contexts. However, the `Template` class from the `string` module discussed above remains a distinct and widely used feature for string templating in Python.\n",
        "\n",
        "<div align=\"center\">\n",
        "<img src=\"https://drive.google.com/uc?id=18WIsvhOXo7vhq4oXnUly-HhRJJUtlF1T\" height=\"350\" width=\"550\">\n"
      ],
      "metadata": {
        "id": "lx0_dsqve1lQ"
      }
    },
    {
      "cell_type": "markdown",
      "source": [
        "### Basic Templates\n",
        "This cell demonstrates using `string.Template` for simple string substitution. It's a safer alternative to `eval()` when dealing with user-provided strings and is suitable for basic templating needs."
      ],
      "metadata": {
        "id": "hnv964UXe6Wl"
      }
    },
    {
      "cell_type": "code",
      "source": [
        "from string import Template\n",
        "\n",
        "# Basic template\n",
        "template = Template(\"Hello $name, welcome to $place!\")\n",
        "result = template.substitute(name=\"Alice\", place=\"Python\")\n",
        "print(result)  # Hello Alice, welcome to Python!\n",
        "\n",
        "# Template with dictionary\n",
        "data = {\"name\": \"Bob\", \"age\": 30, \"city\": \"New York\"}\n",
        "template = Template(\"$name is $age years old and lives in $city\")\n",
        "result = template.substitute(data)\n",
        "print(result)  # Bob is 30 years old and lives in New York"
      ],
      "metadata": {
        "colab": {
          "base_uri": "https://localhost:8080/"
        },
        "id": "3BAV-Kume8TI",
        "outputId": "61fabcce-e3cf-458d-c3b1-c891373abbd8"
      },
      "execution_count": null,
      "outputs": [
        {
          "output_type": "stream",
          "name": "stdout",
          "text": [
            "Hello Alice, welcome to Python!\n",
            "Bob is 30 years old and lives in New York\n"
          ]
        }
      ]
    },
    {
      "cell_type": "markdown",
      "source": [
        "### Safe Substitution\n",
        "This cell shows how to use the `safe_substitute()` method of `string.Template`. This method is useful when you are not certain that all placeholders will be provided, as it avoids raising a `KeyError` and leaves missing placeholders in the output string."
      ],
      "metadata": {
        "id": "CACcgkd2fAix"
      }
    },
    {
      "cell_type": "code",
      "source": [
        "template = Template(\"Hello $name, you have $count messages\")\n",
        "# safe_substitute won't raise error for missing keys\n",
        "result = template.safe_substitute(name=\"Alice\")\n",
        "print(result)  # Hello Alice, you have $count messages"
      ],
      "metadata": {
        "colab": {
          "base_uri": "https://localhost:8080/"
        },
        "id": "v9XgJHnjfC7b",
        "outputId": "9f1799cd-baea-451b-ad15-8bb73b9c58ee"
      },
      "execution_count": null,
      "outputs": [
        {
          "output_type": "stream",
          "name": "stdout",
          "text": [
            "Hello Alice, you have $count messages\n"
          ]
        }
      ]
    },
    {
      "cell_type": "markdown",
      "source": [
        "## 1.16 Tuples\n",
        "---\n",
        "- **Real Python**: [Python's tuple Data Type: A Deep Dive With Examples](https://realpython.com/python-tuples/)\n",
        "- **GeeksforGeeks**: [Python Tuples](https://www.geeksforgeeks.org/python-tuples/)\n",
        "- **Programiz**: [Python Tuple](https://www.programiz.com/python-programming/tuple)\n",
        "- **Python-Course.eu**: [Tuples](https://python-course.eu/python-tutorial/tuples.php)\n",
        "\n",
        "A Python tuple is an ordered, immutable collection used to store multiple items in a single variable.\n",
        "\n",
        "**Key characteristics of Python tuples:**\n",
        "\n",
        "- **Ordered:** The items within a tuple maintain a defined order, which does not change after creation.\n",
        "- **Immutable:** Once a tuple is created, its elements cannot be modified, added, or removed. This distinguishes tuples from lists, which are mutable.\n",
        "- **Indexed:** Individual elements can be accessed by their position (index), starting from 0.\n",
        "- **Allows duplicates:** Tuples can contain duplicate values.\n",
        "- **Heterogeneous:** Tuples can store items of different data types.\n",
        "\n",
        "**Creating a Python tuple:**\n",
        "Tuples are typically created by placing comma-separated items inside parentheses `()`.\n",
        "```Python\n",
        "# Creating a tuple with multiple items\n",
        "my_tuple = (1, \"hello\", 3.14, True)\n",
        "print(my_tuple)\n",
        "\n",
        "# Creating a tuple with a single item (note the comma)\n",
        "single_item_tuple = (5,)\n",
        "print(single_item_tuple)\n",
        "```\n",
        "**Common uses of tuples:**\n",
        "- Returning multiple values from a function.\n",
        "- Representing fixed collections of data that should not be modified, such as coordinates or days of the week.\n",
        "- As dictionary keys, provided all elements within the tuple are themselves immutable.\n",
        "\n"
      ],
      "metadata": {
        "id": "_JFAGpEifGj1"
      }
    },
    {
      "cell_type": "markdown",
      "source": [
        "### Tuple Basics\n",
        "This cell covers the basics of creating and using tuples. Tuples are immutable ordered sequences, useful for grouping related data that should not be changed. Tuple unpacking is a convenient way to assign elements to individual variables."
      ],
      "metadata": {
        "id": "KGBKbqSGfKeu"
      }
    },
    {
      "cell_type": "code",
      "source": [
        "# Tuple creation\n",
        "coordinates = (10, 20)\n",
        "colors = ('red', 'green', 'blue')\n",
        "mixed = (1, 'hello', 3.14, True, 33)\n",
        "my_tuple = (1, 2, 3, 4, 5)\n",
        "\n",
        "# Tuple unpacking\n",
        "x, y = coordinates\n",
        "print(f\"x={x}, y={y}\")\n",
        "a, *b, c = mixed\n",
        "print(a)\n",
        "print(b)\n",
        "print(c)\n",
        "\n",
        "# Tuple with one element (note the comma)\n",
        "single = (42,)\n",
        "print(type(single))\n",
        "\n",
        "# Accessing elements\n",
        "print(my_tuple[0])  # Access first element\n",
        "print(my_tuple[-1]) # Access last element\n",
        "\n",
        "# Tuple slicing\n",
        "print(my_tuple[1:3]) # Slice from index 1 to 3 (exclusive)\n",
        "print(my_tuple[:2])  # Slice from beginning to index 2 (exclusive)\n",
        "print(my_tuple[3:])  # Slice from index 3 to the end\n",
        "print(my_tuple[::-1]) # Reverse the tuple\n",
        "\n",
        "# Tuple concatenation\n",
        "tuple1 = (1, 2)\n",
        "tuple2 = (3, 4)\n",
        "combined_tuple = tuple1 + tuple2\n",
        "print(combined_tuple)\n",
        "\n",
        "# Attempting to modify tuple (will raise an error)\n",
        "# my_tuple[0] = 10 # Uncommenting this line will cause a TypeError\n",
        "\n",
        "# Attempting to delete an element (will raise an error)\n",
        "# del my_tuple[0] # Uncommenting this line will cause a TypeError\n",
        "\n",
        "# Deleting the entire tuple (is possible)\n",
        "# del my_tuple # Uncommenting this line will delete the variable"
      ],
      "metadata": {
        "colab": {
          "base_uri": "https://localhost:8080/"
        },
        "id": "ioU1LZ6LfMoO",
        "outputId": "268e9e85-4371-4fd2-ea98-7765587f4fa7"
      },
      "execution_count": null,
      "outputs": [
        {
          "output_type": "stream",
          "name": "stdout",
          "text": [
            "x=10, y=20\n",
            "1\n",
            "['hello', 3.14, True]\n",
            "33\n",
            "<class 'tuple'>\n"
          ]
        }
      ]
    },
    {
      "cell_type": "markdown",
      "source": [
        "### Tuple Immutability\n",
        "This cell demonstrates the immutability of tuples. Unlike lists, once a tuple is created, its elements cannot be changed. This property makes tuples suitable for data that needs to remain constant."
      ],
      "metadata": {
        "id": "yPAZB6g5fQWF"
      }
    },
    {
      "cell_type": "code",
      "source": [
        "point = (3, 4)\n",
        "# point[0] = 5  # This would raise an error - tuples are immutable\n",
        "\n",
        "# But you can reassign the variable\n",
        "point = (5, 6)  # This is allowed"
      ],
      "metadata": {
        "id": "QJWGW44HfSfy"
      },
      "execution_count": null,
      "outputs": []
    },
    {
      "cell_type": "markdown",
      "source": [
        "### Named Tuples\n",
        "This cell introduces `collections.namedtuple`, which provides a way to create tuple subclasses with named fields. This improves code readability by allowing access to elements using descriptive names instead of just integer indices."
      ],
      "metadata": {
        "id": "c4Qh1uAzfWAQ"
      }
    },
    {
      "cell_type": "code",
      "source": [
        "from collections import namedtuple\n",
        "\n",
        "# Create a named tuple\n",
        "Point = namedtuple('Point', ['x', 'y'])\n",
        "p = Point(3, 4)\n",
        "print(p.x, p.y)  # 3 4\n",
        "print(p[0], p[1])  # 3 4 (still accessible by index)\n",
        "\n",
        "# Named tuple with methods\n",
        "Student = namedtuple('Student', ['name', 'age', 'grade'])\n",
        "student = Student('Alice', 20, 'A')\n",
        "print(student.name)  # Alice"
      ],
      "metadata": {
        "colab": {
          "base_uri": "https://localhost:8080/"
        },
        "id": "TIERTkIPfYFR",
        "outputId": "dcb14fc3-6d6a-4294-d26d-533875652ac4"
      },
      "execution_count": null,
      "outputs": [
        {
          "output_type": "stream",
          "name": "stdout",
          "text": [
            "3 4\n",
            "3 4\n",
            "Alice\n"
          ]
        }
      ]
    },
    {
      "cell_type": "markdown",
      "source": [
        "## 1.17 Advanced List Operations\n",
        "---\n",
        "- **GeeksforGeeks**: [Advanced Python List Methods and Techniques](https://www.geeksforgeeks.org/advanced-python-list-methods-and-techniques/)\n",
        "- **Real Python**: [Working With Lists in Python](https://realpython.com/python-lists-tuples/)\n",
        "- **Python Tricks**: [Advanced List Operations](https://pythontricks.com/python-list-operations/)"
      ],
      "metadata": {
        "id": "eyAM25eifb1f"
      }
    },
    {
      "cell_type": "markdown",
      "source": [
        "### Finding Elements\n",
        "This cell shows advanced examples of using list comprehensions to find elements based on specific conditions or patterns. List comprehensions provide a concise and often efficient way to filter or transform lists."
      ],
      "metadata": {
        "id": "Wv8EjXGGffKb"
      }
    },
    {
      "cell_type": "code",
      "source": [
        "numbers = [1, 3, 5, 7, 9, 11, 13, 15]\n",
        "\n",
        "# Find numbers containing digit '3'\n",
        "contains_three = [i for i in range(1, 1000) if '3' in str(i)]\n",
        "print(contains_three[:10])  # First 10 numbers containing '3'\n",
        "\n",
        "# Find multiples of 7\n",
        "multiples_of_seven = [i for i in range(1, 100) if i % 7 == 0]\n",
        "print(multiples_of_seven)\n",
        "\n",
        "# Count spaces in string\n",
        "text = \"Hello world this is Python\"\n",
        "space_count = len([char for char in text if char == ' '])\n",
        "print(space_count)  # 4"
      ],
      "metadata": {
        "colab": {
          "base_uri": "https://localhost:8080/"
        },
        "id": "naIDWmqGfhXB",
        "outputId": "8014c3e7-1b76-497c-9c4a-aa6a64fa1133"
      },
      "execution_count": null,
      "outputs": [
        {
          "output_type": "stream",
          "name": "stdout",
          "text": [
            "[3, 13, 23, 30, 31, 32, 33, 34, 35, 36]\n",
            "[7, 14, 21, 28, 35, 42, 49, 56, 63, 70, 77, 84, 91, 98]\n",
            "4\n"
          ]
        }
      ]
    },
    {
      "cell_type": "markdown",
      "source": [
        "### Complex List Comprehensions\n",
        "This cell demonstrates more complex list comprehensions, including combining them with `zip()` to process elements from multiple lists together and using multiple conditional statements for more specific filtering."
      ],
      "metadata": {
        "id": "W6UvDJkZflR9"
      }
    },
    {
      "cell_type": "code",
      "source": [
        "# Nested comprehensions with zip\n",
        "base = [5, 10, 15, 20, 25]\n",
        "height = [5, 4, 5, 5, 4]\n",
        "areas = [0.5 * b * h for b, h in zip(base, height)]\n",
        "print(areas)  # [12.5, 20.0, 37.5, 50.0, 50.0]\n",
        "\n",
        "# Multiple conditions\n",
        "numbers = range(1, 101)\n",
        "filtered = [x for x in numbers if x % 3 == 0 and x % 5 == 0]\n",
        "print(filtered)  # Multiples of both 3 and 5"
      ],
      "metadata": {
        "colab": {
          "base_uri": "https://localhost:8080/"
        },
        "id": "Vl7elmmYfoGG",
        "outputId": "8acc903f-1359-4fa3-fae4-c5e99200d2b8"
      },
      "execution_count": null,
      "outputs": [
        {
          "output_type": "stream",
          "name": "stdout",
          "text": [
            "[12.5, 20.0, 37.5, 50.0, 50.0]\n",
            "[15, 30, 45, 60, 75, 90]\n"
          ]
        }
      ]
    },
    {
      "cell_type": "markdown",
      "source": [
        "## 1.18 Practical Examples and Patterns\n",
        "---\n",
        "- **Real Python**: [Python Practice Problems: Get Ready for Your Next Interview](https://realpython.com/python-practice-problems/)\n",
        "- **GeeksforGeeks**: [Python Programming Examples](https://www.geeksforgeeks.org/python-programming-examples/)\n",
        "- **Python-Course.eu**: [Python Examples](https://python-course.eu/python-examples.php)\n",
        "\n"
      ],
      "metadata": {
        "id": "wSr-E4mWfs7A"
      }
    },
    {
      "cell_type": "markdown",
      "source": [
        "### Data Processing Patterns\n",
        "This cell illustrates common data processing patterns using fundamental Python concepts like `zip()` and `defaultdict`. These patterns are useful for tasks such as combining related data from different lists or aggregating data based on categories."
      ],
      "metadata": {
        "id": "U-TZrhVWfw80"
      }
    },
    {
      "cell_type": "code",
      "source": [
        "# Process paired data\n",
        "names = ['Alice', 'Bob', 'Charlie']\n",
        "scores = [85, 92, 78]\n",
        "\n",
        "# Create grade report\n",
        "grade_report = [(name, score, 'Pass' if score >= 80 else 'Fail')\n",
        "                for name, score in zip(names, scores)]\n",
        "print(grade_report)\n",
        "\n",
        "# Group and aggregate\n",
        "from collections import defaultdict\n",
        "sales_data = [('Jan', 100), ('Feb', 150), ('Jan', 200), ('Mar', 175), ('Feb', 125)]\n",
        "monthly_sales = defaultdict(int)\n",
        "\n",
        "for month, amount in sales_data:\n",
        "    monthly_sales[month] += amount\n",
        "\n",
        "print(dict(monthly_sales))  # {'Jan': 300, 'Feb': 275, 'Mar': 175}"
      ],
      "metadata": {
        "colab": {
          "base_uri": "https://localhost:8080/"
        },
        "id": "hR_ILrzBfzH7",
        "outputId": "a6f7d7e0-1420-457a-b8d3-57e6a91b3ec8"
      },
      "execution_count": null,
      "outputs": [
        {
          "output_type": "stream",
          "name": "stdout",
          "text": [
            "[('Alice', 85, 'Pass'), ('Bob', 92, 'Pass'), ('Charlie', 78, 'Fail')]\n",
            "{'Jan': 300, 'Feb': 275, 'Mar': 175}\n"
          ]
        }
      ]
    },
    {
      "cell_type": "markdown",
      "source": [
        "### String and List Combinations\n",
        "This cell shows how to use list comprehension, f-strings, and `zip()` to combine elements from multiple lists and format them into strings. This is a concise way to generate formatted output from multiple data sources."
      ],
      "metadata": {
        "id": "reuNTR2rf2og"
      }
    },
    {
      "cell_type": "code",
      "source": [
        "# Combine letters and numbers\n",
        "letters = ['a', 'b', 'c']\n",
        "numbers = [1, 2, 3]\n",
        "decimals = [0.1, 0.2, 0.3]\n",
        "\n",
        "combined = [f\"{letter}{num}{dec}\" for letter, num, dec in zip(letters, numbers, decimals)]\n",
        "print(combined)  # ['a10.1', 'b20.2', 'c30.3']"
      ],
      "metadata": {
        "colab": {
          "base_uri": "https://localhost:8080/"
        },
        "id": "BG6xlpz9f5sB",
        "outputId": "f1b8d9ab-ca37-4089-8ee9-67cce8268d42"
      },
      "execution_count": null,
      "outputs": [
        {
          "output_type": "stream",
          "name": "stdout",
          "text": [
            "['a10.1', 'b20.2', 'c30.3']\n"
          ]
        }
      ]
    },
    {
      "cell_type": "markdown",
      "source": [
        "## 1.19 Common Patterns and Best Practices\n",
        "---\n",
        "- **Real Python**: [Python Code Quality: Tools & Best Practices](https://realpython.com/python-code-quality/)\n",
        "- **Effective Python**: [Brett Slatkin's Effective Python Blog](https://effectivepython.com/)\n",
        "- **Python.org**: [PEP 8 -- Style Guide for Python Code](https://pep8.org/)\n",
        "- **Clean Code Python**: [GitHub - Clean Code concepts adapted for Python](https://github.com/zedr/clean-code-python)\n",
        "\n"
      ],
      "metadata": {
        "id": "38UjLApvf88H"
      }
    },
    {
      "cell_type": "markdown",
      "source": [
        "### Efficient Iteration\n",
        "This cell provides best practices for efficient iteration. Using direct iteration, `enumerate()`, and `zip()` are generally more Pythonic and often more efficient than iterating using `range(len(list))`, especially for large iterables."
      ],
      "metadata": {
        "id": "5tChE5xsgChG"
      }
    },
    {
      "cell_type": "code",
      "source": [
        "# Instead of range(len(list))\n",
        "items = ['apple', 'banana', 'cherry']\n",
        "\n",
        "# Good: Direct iteration when you don't need index\n",
        "for item in items:\n",
        "    print(item)\n",
        "\n",
        "# Good: Use enumerate when you need both index and value\n",
        "for i, item in enumerate(items):\n",
        "    print(f\"{i}: {item}\")\n",
        "\n",
        "# Good: Use zip for multiple lists\n",
        "list1 = [1, 2, 3]\n",
        "list2 = ['a', 'b', 'c']\n",
        "for num, letter in zip(list1, list2):\n",
        "    print(f\"{num}: {letter}\")"
      ],
      "metadata": {
        "colab": {
          "base_uri": "https://localhost:8080/"
        },
        "id": "EBY5yJJSgEd9",
        "outputId": "d0764a3b-5a7b-47a5-8f33-80b62f78addd"
      },
      "execution_count": null,
      "outputs": [
        {
          "output_type": "stream",
          "name": "stdout",
          "text": [
            "apple\n",
            "banana\n",
            "cherry\n",
            "0: apple\n",
            "1: banana\n",
            "2: cherry\n",
            "1: a\n",
            "2: b\n",
            "3: c\n"
          ]
        }
      ]
    },
    {
      "cell_type": "markdown",
      "source": [
        "### List vs Set vs Dictionary Choice\n",
        "This cell offers guidance on choosing the appropriate data structure (list, set, or dictionary) based on the requirements of your data and the operations you need to perform. Each structure has different characteristics regarding order, uniqueness, and access methods."
      ],
      "metadata": {
        "id": "vybVTmMLgJ_O"
      }
    },
    {
      "cell_type": "code",
      "source": [
        "# Use list for ordered data that allows duplicates\n",
        "scores = [85, 92, 78, 85, 90]\n",
        "print(scores)\n",
        "\n",
        "# Use set for unique items\n",
        "unique_scores = {85, 92, 78, 90}\n",
        "print(unique_scores)\n",
        "\n",
        "# Use dictionary for key-value mapping\n",
        "student_scores = {'Alice': 85, 'Bob': 92, 'Charlie': 78}\n",
        "print(student_scores)"
      ],
      "metadata": {
        "colab": {
          "base_uri": "https://localhost:8080/"
        },
        "id": "nUt68NTFgMOY",
        "outputId": "a3b9ca2b-2699-4b82-8061-12f45551c315"
      },
      "execution_count": null,
      "outputs": [
        {
          "output_type": "stream",
          "name": "stdout",
          "text": [
            "[85, 92, 78, 85, 90]\n",
            "{90, 92, 85, 78}\n",
            "{'Alice': 85, 'Bob': 92, 'Charlie': 78}\n"
          ]
        }
      ]
    },
    {
      "cell_type": "markdown",
      "source": [
        "### Memory Efficient Operations\n",
        "This cell explains how to use generators and generator expressions for memory efficiency. They are particularly useful when working with very large datasets, as they generate values on demand rather than storing the entire sequence in memory at once."
      ],
      "metadata": {
        "id": "Z5B_YMrSgg42"
      }
    },
    {
      "cell_type": "code",
      "source": [
        "# Use generators for large datasets\n",
        "def squares_generator(n):\n",
        "    for i in range(n):\n",
        "        yield i**2\n",
        "\n",
        "# Generator expression (like list comprehension but memory efficient)\n",
        "squares_gen = (x**2 for x in range(1000000))  # Won't create all at once\n",
        "\n",
        "# Convert to list only when needed\n",
        "first_ten_squares = list(squares_gen)[:10]\n",
        "print(first_ten_squares)"
      ],
      "metadata": {
        "colab": {
          "base_uri": "https://localhost:8080/"
        },
        "id": "3Y6saes5gizx",
        "outputId": "77d86953-7484-412c-e78d-5393f29d48b8"
      },
      "execution_count": null,
      "outputs": [
        {
          "output_type": "stream",
          "name": "stdout",
          "text": [
            "[0, 1, 4, 9, 16, 25, 36, 49, 64, 81]\n"
          ]
        }
      ]
    },
    {
      "cell_type": "markdown",
      "source": [
        "## 1.20 Common Mistakes to Avoid\n",
        "---\n",
        "- **Real Python**: [Python Tricks: The Book](https://realpython.com/python-tricks/)\n",
        "- **GeeksforGeeks**: [Python Programming Mistakes](https://www.geeksforgeeks.org/python-programming-mistakes/)\n",
        "- **Medium**: [10 Python Mistakes You Need to Avoid](https://towardsdatascience.com/10-python-mistakes-you-need-to-avoid-2bf8a4b5e5c9)\n",
        "\n"
      ],
      "metadata": {
        "id": "IdURwrxRgysm"
      }
    },
    {
      "cell_type": "markdown",
      "source": [
        "### Mutable Default Arguments\n",
        "This cell highlights a common pitfall: using mutable default arguments in function definitions. This can lead to unexpected behavior as the default list is shared across all calls. The recommended approach avoids this issue by initializing the list inside the function when no list is provided."
      ],
      "metadata": {
        "id": "bCOoRD6bg3r8"
      }
    },
    {
      "cell_type": "code",
      "source": [
        "# Bad\n",
        "def add_item(item, target_list=[]):\n",
        "    target_list.append(item)\n",
        "    return target_list\n",
        "\n",
        "# Good\n",
        "def add_item(item, target_list=None):\n",
        "    if target_list is None:\n",
        "        target_list = []\n",
        "    target_list.append(item)\n",
        "    return target_list"
      ],
      "metadata": {
        "id": "Br3lzRpFg6LM"
      },
      "execution_count": null,
      "outputs": []
    },
    {
      "cell_type": "markdown",
      "source": [
        "### Modifying List While Iterating\n",
        "This cell explains a common mistake of modifying a list while iterating over it, which can lead to unexpected results or errors. It provides safer alternatives, such as iterating over a copy of the list or using list comprehensions to create a new list with the desired elements."
      ],
      "metadata": {
        "id": "U8WmTQnehIVc"
      }
    },
    {
      "cell_type": "code",
      "source": [
        "numbers = [1, 2, 3, 4, 5]\n",
        "\n",
        "# Bad - can cause issues\n",
        "# for num in numbers:\n",
        "#     if num % 2 == 0:\n",
        "#         numbers.remove(num)\n",
        "\n",
        "# Good - iterate over a copy\n",
        "for num in numbers[:]:  # Slice creates a copy\n",
        "    if num % 2 == 0:\n",
        "        numbers.remove(num)\n",
        "\n",
        "# Better - use list comprehension\n",
        "numbers = [num for num in numbers if num % 2 != 0]"
      ],
      "metadata": {
        "id": "19-wJ3f1hKXr"
      },
      "execution_count": null,
      "outputs": []
    },
    {
      "cell_type": "markdown",
      "source": [
        "### Understanding Variable Scope\n",
        "This cell demonstrates the concept of variable scope in comprehensions. It's important to understand that variables defined within a comprehension have a local scope and do not affect variables with the same name outside the comprehension."
      ],
      "metadata": {
        "id": "QXgbIy3ohRZQ"
      }
    },
    {
      "cell_type": "code",
      "source": [
        "# Be careful with variable scope in comprehensions\n",
        "x = 10\n",
        "squares = [x**2 for x in range(5)]  # x in comprehension is local\n",
        "print(x)  # Still 10, not affected by comprehension"
      ],
      "metadata": {
        "colab": {
          "base_uri": "https://localhost:8080/"
        },
        "id": "eFjv6CAVhUfv",
        "outputId": "611fe959-14dc-42da-b8a3-e52fcb57a776"
      },
      "execution_count": null,
      "outputs": [
        {
          "output_type": "stream",
          "name": "stdout",
          "text": [
            "10\n"
          ]
        }
      ]
    },
    {
      "cell_type": "markdown",
      "source": [
        "---\n",
        "\n",
        "## Quick Reference Summary\n",
        "\n",
        "### Essential Functions\n",
        "- `len()`, `sum()`, `min()`, `max()`, `any()`, `all()`\n",
        "- `range()`, `enumerate()`, `zip()`\n",
        "- `map()`, `filter()`, `sorted()`\n",
        "\n",
        "### String Methods\n",
        "- `.format()`, f-strings, `.join()`, `.split()`\n",
        "- `.strip()`, `.replace()`, `.upper()`, `.lower()`\n",
        "\n",
        "### List Methods\n",
        "- `.append()`, `.extend()`, `.insert()`, `.remove()`, `.pop()`\n",
        "- `.sort()`, `.reverse()`, `.count()`, `.index()`\n",
        "\n",
        "### Dictionary Methods\n",
        "- `.keys()`, `.values()`, `.items()`, `.get()`, `.update()`\n",
        "\n",
        "### Comprehension Syntax\n",
        "- List: `[expr for item in iterable if condition]`\n",
        "- Set: `{expr for item in iterable if condition}`\n",
        "- Dict: `{key_expr: val_expr for item in iterable if condition}`\n",
        "\n",
        "\n"
      ],
      "metadata": {
        "id": "59evvUTEhYrC"
      }
    },
    {
      "cell_type": "markdown",
      "source": [
        "## **Starting The Advanced From Here**"
      ],
      "metadata": {
        "id": "WZ8jK4wc28CE"
      }
    },
    {
      "cell_type": "markdown",
      "source": [
        "## 1.21 Object-Oriented Programming (OOP)\n",
        "---\n",
        "- **Real Python**: [Object-Oriented Programming (OOP) in Python 3](https://realpython.com/python3-object-oriented-programming/)\n",
        "- **GeeksforGeeks**: [Python OOPs Concepts](https://www.geeksforgeeks.org/python-oops-concepts/)\n",
        "- **Programiz**: [Python Object Oriented Programming](https://www.programiz.com/python-programming/object-oriented-programming)\n",
        "- **Python-Course.eu**: [Object Oriented Programming](https://python-course.eu/oop/)\n",
        "- **Automate the Boring Stuff**: [Chapter 15 - Object-Oriented Programming](https://automatetheboringstuff.com/2e/chapter15/)\n",
        "\n",
        "Object-Oriented Programming (OOP) is a programming paradigm based on the concept of \"objects\", which can contain data and code that operates on the data. In the context of data science and machine learning, OOP can be used to structure code, create reusable components, and manage complexity, especially when building larger projects or custom models.\n",
        "\n",
        "**Key OOP concepts relevant to data science include:**\n",
        "\n",
        "- **Classes:** Blueprints for creating objects. They define the data (attributes) and the functions (methods) that objects of that class will have.\n",
        "- **Objects:** Instances of a class. When a class is defined, no memory is allocated until an object is created.\n",
        "- **Attributes:** Variables that belong to an object. They represent the state or characteristics of an object.\n",
        "- **Methods:** Functions that belong to an object. They define the behavior or actions that an object can perform.\n",
        "- **Inheritance:** A mechanism that allows a new class (subclass or derived class) to inherit attributes and methods from an existing class (superclass or base class). This promotes code reusability.\n",
        "- **Encapsulation:** The bundling of data (attributes) and methods that operate on the data into a single unit (a class). This helps in hiding the internal state of an object and protecting it from external access."
      ],
      "metadata": {
        "id": "iXgIn9FhCipq"
      }
    },
    {
      "cell_type": "code",
      "metadata": {
        "colab": {
          "base_uri": "https://localhost:8080/"
        },
        "id": "dde8edf7",
        "outputId": "2f37f576-351b-4dd5-fed8-49d4b8693602"
      },
      "source": [
        "# Define a base class for a generic model\n",
        "class BaseModel:\n",
        "    \"\"\"\n",
        "    A base class for machine learning models.\n",
        "    Demonstrates attributes and methods.\n",
        "    \"\"\"\n",
        "    def __init__(self, model_name, version=1.0):\n",
        "        \"\"\"\n",
        "        Constructor to initialize the model with a name and version.\n",
        "        Demonstrates attributes.\n",
        "        \"\"\"\n",
        "        self.model_name = model_name  # Public attribute\n",
        "        self._version = version       # Protected attribute (convention)\n",
        "        self.__status = \"Initialized\" # Private attribute (name mangling)\n",
        "        print(f\"[{self.model_name}] Model initialized (Version: {self._version}).\")\n",
        "\n",
        "    def train(self, data):\n",
        "        \"\"\"\n",
        "        A generic training method.\n",
        "        Demonstrates a method.\n",
        "        \"\"\"\n",
        "        print(f\"[{self.model_name}] Training started with data...\")\n",
        "        # Simulate training process\n",
        "        import time\n",
        "        time.sleep(0.5)\n",
        "        self.__status = \"Trained\"\n",
        "        print(f\"[{self.model_name}] Training finished. Status: {self.__status}\")\n",
        "\n",
        "    def predict(self, input_data):\n",
        "        \"\"\"\n",
        "        A generic prediction method.\n",
        "        Demonstrates a method and returning a value.\n",
        "        \"\"\"\n",
        "        import time # Import time module here\n",
        "        if self.__status != \"Trained\":\n",
        "            print(f\"[{self.model_name}] Warning: Model not trained. Returning dummy prediction.\")\n",
        "            return None\n",
        "        print(f\"[{self.model_name}] Making prediction for input data...\")\n",
        "        # Simulate prediction process\n",
        "        time.sleep(0.2)\n",
        "        prediction = f\"Prediction from {self.model_name} for {input_data}\"\n",
        "        return prediction\n",
        "\n",
        "    def get_status(self):\n",
        "        \"\"\"\n",
        "        Demonstrates accessing a private attribute via a public method (encapsulation).\n",
        "        \"\"\"\n",
        "        return self.__status\n",
        "\n",
        "    # Example of encapsulation: a method to update a protected attribute safely\n",
        "    def update_version(self, new_version):\n",
        "        \"\"\"\n",
        "        Updates the model version if the new version is greater than the current one.\n",
        "        \"\"\"\n",
        "        if new_version > self._version:\n",
        "            print(f\"[{self.model_name}] Updating version from {self._version} to {new_version}\")\n",
        "            self._version = new_version\n",
        "        else:\n",
        "            print(f\"[{self.model_name}] New version {new_version} is not greater than current version {self._version}. Version not updated.\")\n",
        "\n",
        "# Define a subclass inheriting from BaseModel\n",
        "class RegressionModel(BaseModel):\n",
        "    \"\"\"\n",
        "    A subclass for regression models, inheriting from BaseModel.\n",
        "    Demonstrates inheritance and adding specialized attributes/methods.\n",
        "    \"\"\"\n",
        "    def __init__(self, model_name, version=1.0, learning_rate=0.01):\n",
        "        \"\"\"\n",
        "        Constructor for RegressionModel, calling the parent constructor.\n",
        "        \"\"\"\n",
        "        # Call the constructor of the parent class\n",
        "        super().__init__(model_name, version)\n",
        "        self.learning_rate = learning_rate # Specialized attribute\n",
        "        print(f\"[{self.model_name}] Regression model specific attribute: learning_rate={self.learning_rate}\")\n",
        "\n",
        "    def evaluate(self, test_data, actual_values):\n",
        "        \"\"\"\n",
        "        A specialized evaluation method for regression models.\n",
        "        Demonstrates overriding or adding methods.\n",
        "        \"\"\"\n",
        "        print(f\"[{self.model_name}] Evaluating regression model...\")\n",
        "        # Simulate evaluation process (e.g., calculate RMSE)\n",
        "        import random\n",
        "        rmse = random.uniform(0.5, 5.0)\n",
        "        print(f\"[{self.model_name}] Evaluation complete. Simulated RMSE: {rmse:.2f}\")\n",
        "        return rmse\n",
        "\n",
        "    # Regression models might have a different training process\n",
        "    # Python doesn't have explicit @Override, but you can redefine methods\n",
        "    def train(self, data, epochs=100):\n",
        "         \"\"\"\n",
        "         Overridden training method for regression models with epochs.\n",
        "         \"\"\"\n",
        "         print(f\"[{self.model_name}] Regression model training started for {epochs} epochs...\")\n",
        "         # Simulate regression specific training\n",
        "         import time\n",
        "         time.sleep(epochs * 0.01)\n",
        "         # Accessing parent's private attribute using name mangling (less common, shows it's possible)\n",
        "         # self._BaseModel__status = \"Trained (Regression Specific)\"\n",
        "         # More standard practice is to use a public method to change status if available\n",
        "         # Or manage status within the subclass if it's significantly different\n",
        "         print(f\"[{self.model_name}] Regression training finished after {epochs} epochs.\")\n",
        "\n",
        "\n",
        "# Define another subclass for a different type of model\n",
        "class ClassificationModel(BaseModel):\n",
        "    \"\"\"\n",
        "    A subclass for classification models.\n",
        "    \"\"\"\n",
        "    def __init__(self, model_name, version=1.0, activation_function=\"sigmoid\"):\n",
        "        super().__init__(model_name, version)\n",
        "        self.activation_function = activation_function\n",
        "        print(f\"[{self.model_name}] Classification model specific attribute: activation_function={self.activation_function}\")\n",
        "\n",
        "    def evaluate(self, test_data, actual_labels):\n",
        "        \"\"\"\n",
        "        A specialized evaluation method for classification models.\n",
        "        \"\"\"\n",
        "        print(f\"[{self.model_name}] Evaluating classification model...\")\n",
        "        # Simulate evaluation process (e.g., calculate accuracy)\n",
        "        import random\n",
        "        accuracy = random.uniform(0.7, 0.95)\n",
        "        print(f\"[{self.model_name}] Evaluation complete. Simulated Accuracy: {accuracy:.2f}\")\n",
        "        return accuracy\n",
        "\n",
        "    # Classification models might have a different training process\n",
        "    def train(self, data, epochs=200):\n",
        "        \"\"\"\n",
        "        Overridden training method for classification models with epochs.\n",
        "        \"\"\"\n",
        "        print(f\"[{self.model_name}] Classification model training started for {epochs} epochs...\")\n",
        "        # Simulate classification specific training\n",
        "        import time\n",
        "        time.sleep(epochs * 0.005) # Shorter sleep for more epochs\n",
        "        # Update status via parent's method if needed, or manage here.\n",
        "        # Since BaseModel has a train method that sets status, we can call that\n",
        "        # or set it directly if we understand the parent's implementation.\n",
        "        # For simplicity here, we'll just print completion.\n",
        "        # If we wanted to use the parent's status, we might do:\n",
        "        # super().train(data) # This would call the BaseModel train method first\n",
        "        print(f\"[{self.model_name}] Classification training finished after {epochs} epochs.\")\n",
        "\n",
        "\n",
        "# --- Demonstrating OOP Concepts ---\n",
        "\n",
        "print(\"--- Creating Objects ---\")\n",
        "# Create objects (instances of the classes)\n",
        "generic_model = BaseModel(\"GenericModel\")\n",
        "linear_reg = RegressionModel(\"LinearRegression\", learning_rate=0.005)\n",
        "logistic_reg = ClassificationModel(\"LogisticRegression\", activation_function=\"relu\")\n",
        "\n",
        "print(\"\\n--- Accessing Attributes and Calling Methods ---\")\n",
        "# Accessing attributes\n",
        "print(f\"Generic model name: {generic_model.model_name}\")\n",
        "# print(f\"Generic model version: {generic_model._version}\") # Accessing protected (by convention)\n",
        "# print(f\"Generic model status: {generic_model.__status}\") # Direct access to private will fail\n",
        "\n",
        "# Accessing private attribute via a public method (encapsulation)\n",
        "print(f\"Generic model status (via method): {generic_model.get_status()}\")\n",
        "\n",
        "# Calling methods\n",
        "dummy_data = [1, 2, 3, 4, 5]\n",
        "generic_model.train(dummy_data)\n",
        "prediction = generic_model.predict([10])\n",
        "print(f\"Generic model prediction: {prediction}\")\n",
        "\n",
        "print(\"-\" * 20)\n",
        "\n",
        "# Accessing subclass specific attributes\n",
        "print(f\"Linear Regression learning rate: {linear_reg.learning_rate}\")\n",
        "print(f\"Logistic Regression activation function: {logistic_reg.activation_function}\")\n",
        "\n",
        "# Calling subclass specific methods\n",
        "linear_reg.evaluate(dummy_data, [1, 2, 3, 4, 5]) # Dummy evaluation data\n",
        "logistic_reg.evaluate(dummy_data, [0, 1, 0, 1, 1]) # Dummy evaluation data\n",
        "\n",
        "print(\"-\" * 20)\n",
        "# Demonstrating overridden method\n",
        "linear_reg.train(dummy_data, epochs=50) # Calls the overridden train method in RegressionModel\n",
        "logistic_reg.train(dummy_data, epochs=200) # Calls the overridden train method in ClassificationModel\n",
        "\n",
        "print(\"-\" * 20)\n",
        "# Accessing status again to see the change after training (using the public method)\n",
        "print(f\"Generic model status after training: {generic_model.get_status()}\")\n",
        "print(f\"Linear Regression status after training: {linear_reg.get_status()}\") # Calls the inherited get_status\n",
        "print(f\"Logistic Regression status after training: {logistic_reg.get_status()}\") # Calls the inherited get_status\n",
        "\n",
        "\n",
        "print(\"\\n--- Encapsulation Example (Updating Version) ---\")\n",
        "generic_model.update_version(1.1)\n",
        "generic_model.update_version(1.0) # Won't update\n",
        "\n",
        "print(\"-\" * 20)\n",
        "print(\"\\n--- Demonstrating Name Mangling (Accessing 'private' attribute) ---\")\n",
        "# While you shouldn't normally do this, Python \"mangles\" private attribute names\n",
        "# This makes direct access harder but not impossible.\n",
        "# The name is changed to _ClassName__attribute_name\n",
        "try:\n",
        "    print(f\"Accessing mangled private status of generic_model: {generic_model._BaseModel__status}\")\n",
        "    print(f\"Accessing mangled private status of linear_reg: {linear_reg._BaseModel__status}\")\n",
        "    print(f\"Accessing mangled private status of logistic_reg: {logistic_reg._BaseModel__status}\") # Add this line\n",
        "except AttributeError as e:\n",
        "    print(f\"Could not access private attribute directly: {e}\")"
      ],
      "execution_count": 11,
      "outputs": [
        {
          "output_type": "stream",
          "name": "stdout",
          "text": [
            "--- Creating Objects ---\n",
            "[GenericModel] Model initialized (Version: 1.0).\n",
            "[LinearRegression] Model initialized (Version: 1.0).\n",
            "[LinearRegression] Regression model specific attribute: learning_rate=0.005\n",
            "[LogisticRegression] Model initialized (Version: 1.0).\n",
            "[LogisticRegression] Classification model specific attribute: activation_function=relu\n",
            "\n",
            "--- Accessing Attributes and Calling Methods ---\n",
            "Generic model name: GenericModel\n",
            "Generic model status (via method): Initialized\n",
            "[GenericModel] Training started with data...\n",
            "[GenericModel] Training finished. Status: Trained\n",
            "[GenericModel] Making prediction for input data...\n",
            "Generic model prediction: Prediction from GenericModel for [10]\n",
            "--------------------\n",
            "Linear Regression learning rate: 0.005\n",
            "Logistic Regression activation function: relu\n",
            "[LinearRegression] Evaluating regression model...\n",
            "[LinearRegression] Evaluation complete. Simulated RMSE: 2.37\n",
            "[LogisticRegression] Evaluating classification model...\n",
            "[LogisticRegression] Evaluation complete. Simulated Accuracy: 0.86\n",
            "--------------------\n",
            "[LinearRegression] Regression model training started for 50 epochs...\n",
            "[LinearRegression] Regression training finished after 50 epochs.\n",
            "[LogisticRegression] Classification model training started for 200 epochs...\n",
            "[LogisticRegression] Classification training finished after 200 epochs.\n",
            "--------------------\n",
            "Generic model status after training: Trained\n",
            "Linear Regression status after training: Initialized\n",
            "Logistic Regression status after training: Initialized\n",
            "\n",
            "--- Encapsulation Example (Updating Version) ---\n",
            "[GenericModel] Updating version from 1.0 to 1.1\n",
            "[GenericModel] New version 1.0 is not greater than current version 1.1. Version not updated.\n",
            "--------------------\n",
            "\n",
            "--- Demonstrating Name Mangling (Accessing 'private' attribute) ---\n",
            "Accessing mangled private status of generic_model: Trained\n",
            "Accessing mangled private status of linear_reg: Initialized\n",
            "Accessing mangled private status of logistic_reg: Initialized\n"
          ]
        }
      ]
    },
    {
      "cell_type": "markdown",
      "source": [
        "## 1.22 File Handling\n",
        "---\n",
        "- **Real Python**: [Working With Files in Python](https://realpython.com/working-with-files-in-python/)\n",
        "- **GeeksforGeeks**: [File Handling in Python](https://www.geeksforgeeks.org/file-handling-python/)\n",
        "- **Programiz**: [File I/O in Python](https://www.programiz.com/python-programming/file-io)\n",
        "\n",
        "File handling is a fundamental aspect of data science workflows, as it involves reading data from various sources and saving processed data or model outputs to files. Python provides built-in functions and modules to interact with files, allowing you to work with different file formats commonly used in data science.\n",
        "\n",
        "**Why File Handling is Important in Data Science:**\n",
        "\n",
        "- **Data Loading:** Data for analysis and modeling is often stored in files (e.g., datasets in CSV format).\n",
        "- **Data Saving:** Results of analysis, cleaned datasets, or trained model parameters need to be saved for future use or sharing.\n",
        "- **Configuration:** Reading configuration settings from files.\n",
        "- **Logging:** Writing logs during program execution.\n",
        "\n",
        "**Common File Formats in Data Science:**\n",
        "\n",
        "- **CSV (Comma Separated Values):** A simple and widely used format for tabular data. Each line in the file represents a row, and values within a row are separated by commas (or other delimiters).\n",
        "- **JSON (JavaScript Object Notation):** A lightweight data interchange format that is easy for humans to read and write and easy for machines to parse and generate. It is commonly used for storing nested or semi-structured data.\n",
        "- **Pickle:** A Python-specific format for serializing and deserializing Python object structures. It allows you to save complex Python objects (like lists, dictionaries, or even trained machine learning models) to a file and load them back later."
      ],
      "metadata": {
        "id": "QWRQri37EaRx"
      }
    },
    {
      "cell_type": "code",
      "metadata": {
        "colab": {
          "base_uri": "https://localhost:8080/"
        },
        "id": "1eb19d10",
        "outputId": "63fada3f-7837-480c-b67e-e50079748f2d"
      },
      "source": [
        "# Writing to a text file\n",
        "file_content = \"This is the first line.\\nThis is the second line.\"\n",
        "with open(\"example.txt\", \"w\") as f:\n",
        "    f.write(file_content)\n",
        "\n",
        "print(\"Successfully wrote to example.txt\")"
      ],
      "execution_count": null,
      "outputs": [
        {
          "output_type": "stream",
          "name": "stdout",
          "text": [
            "Successfully wrote to example.txt\n"
          ]
        }
      ]
    },
    {
      "cell_type": "code",
      "metadata": {
        "colab": {
          "base_uri": "https://localhost:8080/"
        },
        "id": "1bff1806",
        "outputId": "60525462-60c3-404a-f871-90761d7234e2"
      },
      "source": [
        "# Reading from a text file\n",
        "with open(\"example.txt\", \"r\") as f:\n",
        "    read_content = f.read()\n",
        "\n",
        "print(\"Content of example.txt:\")\n",
        "print(read_content)"
      ],
      "execution_count": null,
      "outputs": [
        {
          "output_type": "stream",
          "name": "stdout",
          "text": [
            "Content of example.txt:\n",
            "This is the first line.\n",
            "This is the second line.\n"
          ]
        }
      ]
    },
    {
      "cell_type": "markdown",
      "source": [
        "### Handling CSV Files\n",
        "CSV (Comma Separated Values) is a simple and common file format for storing tabular data. It's widely used because it can be easily read and written by various software, including spreadsheet programs and data analysis tools.\n",
        "\n",
        "Python's built-in csv module provides convenient functions for working with CSV files, handling issues like quoted fields and different delimiters.\n",
        "\n",
        "- **Real Python**: [Working with CSV Files in Python](https://realpython.com/python-csv/)\n",
        "- **GeeksforGeeks**: [Working with csv files in Python](https://www.geeksforgeeks.org/working-csv-files-python/)\n",
        "- **Python.org**: [csv — CSV File Reading and Writing](https://docs.python.org/3/library/csv.html)"
      ],
      "metadata": {
        "id": "yu1UZG0fFEju"
      }
    },
    {
      "cell_type": "code",
      "metadata": {
        "colab": {
          "base_uri": "https://localhost:8080/"
        },
        "id": "de12211d",
        "outputId": "c118cec3-60a8-4bc9-de68-2aeaeb5036f5"
      },
      "source": [
        "import csv\n",
        "\n",
        "# Data to write to CSV\n",
        "csv_data = [\n",
        "    ['Name', 'Age', 'City'],\n",
        "    ['Alice', 30, 'New York'],\n",
        "    ['Bob', 25, 'Los Angeles'],\n",
        "    ['Charlie', 35, 'Chicago']\n",
        "]\n",
        "\n",
        "# Writing to a CSV file\n",
        "with open(\"example.csv\", \"w\", newline=\"\") as csvfile:\n",
        "    csv_writer = csv.writer(csvfile)\n",
        "    csv_writer.writerows(csv_data)\n",
        "\n",
        "print(\"Successfully wrote to example.csv\")"
      ],
      "execution_count": null,
      "outputs": [
        {
          "output_type": "stream",
          "name": "stdout",
          "text": [
            "Successfully wrote to example.csv\n"
          ]
        }
      ]
    },
    {
      "cell_type": "code",
      "metadata": {
        "colab": {
          "base_uri": "https://localhost:8080/"
        },
        "id": "7bb051f0",
        "outputId": "55994141-d158-4a21-cd9a-b305d705e65f"
      },
      "source": [
        "import csv\n",
        "\n",
        "# Reading from a CSV file\n",
        "with open(\"example.csv\", \"r\") as csvfile:\n",
        "    csv_reader = csv.reader(csvfile)\n",
        "    read_csv_data = list(csv_reader)\n",
        "\n",
        "print(\"Content of example.csv:\")\n",
        "for row in read_csv_data:\n",
        "    print(row)"
      ],
      "execution_count": null,
      "outputs": [
        {
          "output_type": "stream",
          "name": "stdout",
          "text": [
            "Content of example.csv:\n",
            "['Name', 'Age', 'City']\n",
            "['Alice', '30', 'New York']\n",
            "['Bob', '25', 'Los Angeles']\n",
            "['Charlie', '35', 'Chicago']\n"
          ]
        }
      ]
    },
    {
      "cell_type": "markdown",
      "source": [
        "### Handling JSON Files\n",
        "JSON (JavaScript Object Notation) is a popular lightweight data interchange format. It's human-readable and easy for machines to parse, making it ideal for transmitting data between a server and web application, or for storing configuration files and semi-structured data.\n",
        "\n",
        "Python's built-in json module provides methods for working with JSON data, converting Python objects to JSON strings (dump/dumps) and JSON strings to Python objects (load/loads).\n",
        "\n",
        "- **Real Python**: [Working With JSON Data in Python](https://realpython.com/python-json/)\n",
        "- **GeeksforGeeks**: [Working With JSON Data in Python](https://www.geeksforgeeks.org/working-with-json-data-in-python/)\n",
        "- **Python.org**: [json — JSON encoder and decoder](https://docs.python.org/3/library/json.html)"
      ],
      "metadata": {
        "id": "VRNydW3GFdfN"
      }
    },
    {
      "cell_type": "code",
      "metadata": {
        "colab": {
          "base_uri": "https://localhost:8080/"
        },
        "id": "230f5adf",
        "outputId": "8c5aea94-9446-45e5-f89a-fdd622af563f"
      },
      "source": [
        "import json\n",
        "\n",
        "# Data to write to JSON\n",
        "json_data = {\n",
        "    \"name\": \"Data Science Project\",\n",
        "    \"version\": 1.0,\n",
        "    \"settings\": {\n",
        "        \"model\": \"linear_regression\",\n",
        "        \"parameters\": {\"alpha\": 0.1, \"iterations\": 1000}\n",
        "    },\n",
        "    \"data_files\": [\"train.csv\", \"test.csv\"]\n",
        "}\n",
        "\n",
        "# Writing to a JSON file\n",
        "with open(\"example.json\", \"w\") as jsonfile:\n",
        "    json.dump(json_data, jsonfile, indent=4) # Use indent for pretty printing\n",
        "\n",
        "print(\"Successfully wrote to example.json\")"
      ],
      "execution_count": null,
      "outputs": [
        {
          "output_type": "stream",
          "name": "stdout",
          "text": [
            "Successfully wrote to example.json\n"
          ]
        }
      ]
    },
    {
      "cell_type": "markdown",
      "source": [
        "### Handling Pickle Files\n",
        "Pickle is a Python-specific module used for serializing and deserializing Python object structures. Serialization (pickling) converts a Python object into a byte stream, and deserialization (unpickling) reconstructs the original object from the byte stream.\n",
        "\n",
        "Pickle is particularly useful in data science for:\n",
        "\n",
        "- **Saving and loading trained machine learning models:** Allows you to save a model after training and load it later for making predictions without retraining.\n",
        "- **Storing large data structures:** Efficiently saving and loading complex Python objects like lists of lists, dictionaries, or custom class instances.\n",
        "- **Persisting session state:** Saving the state of a Python program or analysis session.\n",
        "\n",
        "**Caution:** The pickle module is **not secure** against maliciously constructed data. Never unpickle data received from an untrusted or unauthenticated source.\n",
        "\n",
        "- **Real Python**: [Object Serialization in Python](https://realpython.com/python-pickle-module/)\n",
        "- **GeeksforGeeks**: [Python Pickle Module](https://www.geeksforgeeks.org/python-pickle-module/)\n",
        "- **Python.org**: [pickle — Python object serialization](https://docs.python.org/3/library/pickle.html)"
      ],
      "metadata": {
        "id": "Umwp6zjeFpC0"
      }
    },
    {
      "cell_type": "code",
      "metadata": {
        "colab": {
          "base_uri": "https://localhost:8080/"
        },
        "id": "8f27b602",
        "outputId": "d5e2446f-9d9d-4aaa-aef4-37c1245423a6"
      },
      "source": [
        "import pickle\n",
        "\n",
        "# Create a Python object to pickle\n",
        "data_to_pickle = {\n",
        "    \"model_name\": \"linear_regression\",\n",
        "    \"parameters\": {\"alpha\": 0.01, \"iterations\": 500},\n",
        "    \"metrics\": {\"rmse\": 1.5, \"r_squared\": 0.9},\n",
        "    \"data_summary\": [1, 2, 3, 4, 5]\n",
        "}\n",
        "\n",
        "# Define the filename\n",
        "pickle_filename = \"example_data.pkl\"\n",
        "\n",
        "# Write the object to a pickle file in binary write mode\n",
        "with open(pickle_filename, 'wb') as f:\n",
        "    pickle.dump(data_to_pickle, f)\n",
        "\n",
        "print(f\"Successfully pickled data to {pickle_filename}\")"
      ],
      "execution_count": null,
      "outputs": [
        {
          "output_type": "stream",
          "name": "stdout",
          "text": [
            "Successfully pickled data to example_data.pkl\n"
          ]
        }
      ]
    },
    {
      "cell_type": "code",
      "metadata": {
        "colab": {
          "base_uri": "https://localhost:8080/"
        },
        "id": "9e677930",
        "outputId": "2b1b671d-9e2d-4abe-b0df-c6dda7f4f8b4"
      },
      "source": [
        "# Read the pickled object back from the file in binary read mode\n",
        "with open(pickle_filename, 'rb') as f:\n",
        "    loaded_data = pickle.load(f)\n",
        "\n",
        "# Print the loaded object\n",
        "print(\"Successfully unpickled data:\")\n",
        "print(loaded_data)"
      ],
      "execution_count": null,
      "outputs": [
        {
          "output_type": "stream",
          "name": "stdout",
          "text": [
            "Successfully unpickled data:\n",
            "{'model_name': 'linear_regression', 'parameters': {'alpha': 0.01, 'iterations': 500}, 'metrics': {'rmse': 1.5, 'r_squared': 0.9}, 'data_summary': [1, 2, 3, 4, 5]}\n"
          ]
        }
      ]
    },
    {
      "cell_type": "markdown",
      "source": [
        "## 1.23 Error Handling and Debugging\n",
        "---\n",
        "- **Real Python**: [Python Exceptions Handling](https://realpython.com/python-exceptions/)\n",
        "- **GeeksforGeeks**: [Python Exception Handling](https://www.geeksforgeeks.org/python-exception-handling/)\n",
        "- **Programiz**: [Python Exception Handling](https://www.programiz.com/python-programming/exception-handling)\n",
        "- **Python.org**: [Errors and Exceptions](https://docs.python.org/3/tutorial/errors.html)\n",
        "- **Real Python**: [Python Debugging With Pdb](https://realpython.com/python-debugging-pdb/)\n",
        "\n",
        "In data science, where code often interacts with real-world data that can be messy or unpredictable, anticipating and handling errors gracefully is crucial for writing robust and reliable applications. Error handling prevents your programs from crashing unexpectedly and allows you to provide informative feedback or take alternative actions when issues arise.\n",
        "\n",
        "Debugging is the process of identifying and resolving errors (bugs) in your code. It's an essential skill for any developer to ensure their programs function correctly.\n",
        "\n",
        "**Exception Handling (try-except)**\n",
        "Python uses exceptions to signal errors. When an error occurs, Python raises an exception. You can catch and handle these exceptions using try, except, else, and finally blocks.\n",
        "\n",
        "- **try:** The block of code that might raise an exception.\n",
        "- **except:** The block of code that is executed if a specific type of exception occurs in the try block.\n",
        "- **else:** (Optional) The block of code that is executed if the try block finishes without raising any exceptions.\n",
        "- **finally:** (Optional) The block of code that is always executed, regardless of whether an exception occurred or not. This is often used for cleanup operations (like closing files)."
      ],
      "metadata": {
        "id": "Bnx3BkOtwJg6"
      }
    },
    {
      "cell_type": "code",
      "metadata": {
        "colab": {
          "base_uri": "https://localhost:8080/"
        },
        "id": "5b6e5771",
        "outputId": "0bd7f236-b6b3-42d1-ae82-fbd22859c826"
      },
      "source": [
        "# Example: Handling ZeroDivisionError\n",
        "def divide_numbers(a, b):\n",
        "    try:\n",
        "        result = a / b\n",
        "        print(f\"The result of division is: {result}\")\n",
        "    except ZeroDivisionError:\n",
        "        print(\"Error: Cannot divide by zero!\")\n",
        "    except TypeError:\n",
        "        print(\"Error: Invalid input types for division.\")\n",
        "    except Exception as e: # Catching other potential errors\n",
        "        print(f\"An unexpected error occurred: {e}\")\n",
        "\n",
        "divide_numbers(10, 2)\n",
        "divide_numbers(10, 0)\n",
        "divide_numbers(10, 'a')"
      ],
      "execution_count": null,
      "outputs": [
        {
          "output_type": "stream",
          "name": "stdout",
          "text": [
            "The result of division is: 5.0\n",
            "Error: Cannot divide by zero!\n",
            "Error: Invalid input types for division.\n"
          ]
        }
      ]
    },
    {
      "cell_type": "code",
      "metadata": {
        "colab": {
          "base_uri": "https://localhost:8080/"
        },
        "id": "208c0dd2",
        "outputId": "df1af1f4-93f5-49cd-c122-b653dc00cef7"
      },
      "source": [
        "# Example: Using try, except, else, and finally\n",
        "def process_file(filename):\n",
        "    try:\n",
        "        f = open(filename, 'r')\n",
        "        content = f.read()\n",
        "        print(\"File read successfully.\")\n",
        "    except FileNotFoundError:\n",
        "        print(f\"Error: File '{filename}' not found.\")\n",
        "    except Exception as e:\n",
        "        print(f\"An error occurred while reading the file: {e}\")\n",
        "    else:\n",
        "        print(\"No exceptions occurred.\")\n",
        "        # Process the content if file reading was successful\n",
        "        print(\"File content:\")\n",
        "        print(content)\n",
        "    finally:\n",
        "        if 'f' in locals() and not f.closed:\n",
        "            f.close()\n",
        "            print(\"File closed in finally block.\")\n",
        "        elif 'f' not in locals():\n",
        "             print(\"File variable was not created due to error.\")\n",
        "        else:\n",
        "             print(\"File was already closed.\")\n",
        "\n",
        "\n",
        "# Test cases\n",
        "process_file(\"non_existent_file.txt\") # This will raise FileNotFoundError\n",
        "print(\"-\" * 20)\n",
        "# Create a dummy file for the successful case\n",
        "with open(\"existing_file.txt\", \"w\") as f:\n",
        "    f.write(\"Hello, world!\")\n",
        "process_file(\"existing_file.txt\") # This will succeed"
      ],
      "execution_count": null,
      "outputs": [
        {
          "output_type": "stream",
          "name": "stdout",
          "text": [
            "Error: File 'non_existent_file.txt' not found.\n",
            "File variable was not created due to error.\n",
            "--------------------\n",
            "File read successfully.\n",
            "No exceptions occurred.\n",
            "File content:\n",
            "Hello, world!\n",
            "File closed in finally block.\n"
          ]
        }
      ]
    },
    {
      "cell_type": "code",
      "metadata": {
        "colab": {
          "base_uri": "https://localhost:8080/"
        },
        "id": "406b9459",
        "outputId": "d115814f-7b67-452a-a23a-e6545a1f00eb"
      },
      "source": [
        "# Example: Raising an exception\n",
        "def process_positive_number(number):\n",
        "    if number <= 0:\n",
        "        raise ValueError(\"Input must be a positive number\")\n",
        "    print(f\"Processing positive number: {number}\")\n",
        "\n",
        "try:\n",
        "    process_positive_number(10)\n",
        "    process_positive_number(-5) # This will raise a ValueError\n",
        "except ValueError as ve:\n",
        "    print(f\"Caught exception: {ve}\")\n",
        "\n",
        "print(\"\\n### Debugging Basics\")\n",
        "print(\"Debugging is the process of finding and fixing errors in your code.\")\n",
        "print(\"Basic techniques include:\")\n",
        "print(\"- Using `print()` statements to inspect variable values and execution flow.\")\n",
        "print(\"- Using a debugger (like the one integrated in IDEs or Python's built-in `pdb`) to step through code execution line by line, inspect variables, and set breakpoints.\")\n",
        "print(\"\\nExample using `pdb` (uncomment to run):\")\n",
        "print(\"# import pdb\")\n",
        "print(\"# def buggy_function(x, y):\")\n",
        "print(\"#     result = x + y * 2\")\n",
        "print(\"#     pdb.set_trace() # Set a breakpoint here\")\n",
        "print(\"#     final_result = result / 0 # This will cause an error\")\n",
        "print(\"#     return final_result\")\n",
        "print(\"# buggy_function(5, 3)\")"
      ],
      "execution_count": null,
      "outputs": [
        {
          "output_type": "stream",
          "name": "stdout",
          "text": [
            "Processing positive number: 10\n",
            "Caught exception: Input must be a positive number\n",
            "\n",
            "### Debugging Basics\n",
            "Debugging is the process of finding and fixing errors in your code.\n",
            "Basic techniques include:\n",
            "- Using `print()` statements to inspect variable values and execution flow.\n",
            "- Using a debugger (like the one integrated in IDEs or Python's built-in `pdb`) to step through code execution line by line, inspect variables, and set breakpoints.\n",
            "\n",
            "Example using `pdb` (uncomment to run):\n",
            "# import pdb\n",
            "# def buggy_function(x, y):\n",
            "#     result = x + y * 2\n",
            "#     pdb.set_trace() # Set a breakpoint here\n",
            "#     final_result = result / 0 # This will cause an error\n",
            "#     return final_result\n",
            "# buggy_function(5, 3)\n"
          ]
        }
      ]
    },
    {
      "cell_type": "markdown",
      "source": [
        "## 1.24 Virtual Environments\n",
        "---\n",
        "- **Real Python**: [Python Virtual Environments: A Primer](https://realpython.com/python-virtual-environments-a-primer/)\n",
        "- **GeeksforGeeks**: [Python Virtual Environment](https://www.geeksforgeeks.org/python-virtual-environment/)\n",
        "- **Python.org**: [venv — Creation of virtual environments](https://docs.python.org/3/library/venv.html)\n",
        "- **Python Guide**: [Virtual Environments](https://docs.python-guide.org/dev/virtualenvs/)\n",
        "\n",
        "Virtual environments are isolated Python environments that allow you to manage dependencies for your projects separately. This is crucial in data science, machine learning, and AI development for several reasons:\n",
        "\n",
        "- **Dependency Management:** Different projects may require different versions of the same library. Virtual environments prevent conflicts by keeping project dependencies isolated.\n",
        "- **Reproducibility:** By specifying the exact versions of libraries used in a virtual environment, you can ensure that your project can be reproduced by others (or yourself in the future) with the same dependencies.\n",
        "- **Cleanliness:** Keeps your global Python installation clean and avoids cluttering it with project-specific packages.\n",
        "- **Avoiding Conflicts:** Prevents conflicts between system-wide packages and project-specific packages.\n",
        "\n",
        "Using virtual environments is a best practice for any Python development, especially when working on multiple projects or collaborating with others.\n",
        "\n",
        "**1.Creating a Virtual Environment**\n",
        "\n",
        "The recommended way to create virtual environments in Python 3.3+ is using the built-in venv module. Open your terminal or command prompt and navigate to your project directory. Then run the following command:\n",
        "\n",
        "`python -m venv myenv`\n",
        "- `python`: Invokes the Python interpreter.\n",
        "- `-m venv`: Tells Python to run the venv module.\n",
        "- `myenv`: The name you want to give to your virtual environment. You can choose any name, but venv or .venv are common conventions.\n",
        "\n",
        "This command creates a new directory (e.g., myenv) in your project folder containing a minimal Python environment, including a copy of the Python interpreter and the pip package installer.\n",
        "\n",
        "**2.Activating a Virtual Environment**\n",
        "\n",
        "Before you can install packages into a virtual environment or run scripts within it, you need to activate it. The activation command is different depending on your operating system and shell.\n",
        "\n",
        "- **On macOS and Linux:**\n",
        "`source myenv/bin/activate`\n",
        "- **On Windows (Command Prompt):**\n",
        "`myenv\\Scripts\\activate.bat`\n",
        "- **On Windows (PowerShell):**\n",
        "`myenv\\Scripts\\Activate.ps1`\n",
        "\n",
        "Once activated, your terminal prompt will usually change to indicate the name of the active virtual environment (e.g., `(myenv) your_username@your_computer:~/your_project$`).\n",
        "\n",
        "**3.Installing Packages in a Virtual Environment**\n",
        "\n",
        "With the virtual environment activated, you can use pip to install packages. These packages will be installed only within the active virtual environment, not in your global Python installation.\n",
        "\n",
        "`pip install pandas scikit-learn numpy`\n",
        "\n",
        "You can install multiple packages at once by listing them after pip install. To save the list of installed packages and their versions for reproducibility, you can use:\n",
        "\n",
        "`pip freeze > requirements.txt`\n",
        "\n",
        "And to install packages from a `requirements.txt` file:\n",
        "\n",
        "`pip install -r requirements.txt`\n",
        "\n",
        "**4.Deactivating a Virtual Environment**\n",
        "\n",
        "When you are finished working in a virtual environment, you can deactivate it. This returns your terminal to using the global Python environment.\n",
        "`deactivate`\n",
        "\n",
        "The prompt will return to its normal appearance."
      ],
      "metadata": {
        "id": "MO89Xnrfyt6_"
      }
    },
    {
      "cell_type": "markdown",
      "source": [
        "## 1.25 More Advanced Data Structures\n",
        "---\n",
        "- **Real Python**: [Python Data Structures](https://realpython.com/python-data-structures/)\n",
        "- **GeeksforGeeks**: [Python Data Structures](https://www.geeksforgeeks.org/python-data-structures/)\n",
        "- **Python-Course.eu**: [Data Structures](https://python-course.eu/python-tutorial/data-structures.php)\n",
        "- **Python.org**: [Data Structures](https://docs.python.org/3/tutorial/datastructures.html)\n",
        "\n",
        "The `collections` module in Python offers several specialized container datatypes that go beyond the basic list, dict, and set. These can be particularly useful in data science for specific tasks requiring efficient data handling or preservation of order.\n",
        "\n",
        "**collections.deque**\n",
        "\n",
        "`collections.deque` (pronounced \"deck\") is a double-ended queue. It's designed for efficient appending and popping from both ends of the sequence. While lists support similar operations, they are less efficient for insertions and deletions at the beginning because all other elements need to be shifted. Deques are particularly useful for implementing queues and stacks, and for maintaining a fixed-size history of recent items.\n",
        "\n",
        "**Why use deque in Data Science?**\n",
        "\n",
        "- **Efficient History Tracking:** Maintaining a limited history of recent data points or model outputs.\n",
        "- **Implementing Queues/Stacks:** For algorithms or data processing pipelines that require queue or stack-like behavior.\n",
        "- **Logging or Buffering:** Efficiently adding and removing items from a buffer.\n",
        "\n",
        "**collections.OrderedDict**\n",
        "\n",
        "`collections.OrderedDict` is a dictionary subclass that remembers the order in which its key-value pairs were inserted. While standard dictionaries in Python 3.7+ also preserve insertion order, OrderedDict provides additional methods for reordering and equality checks that consider order. It's useful when the sequence of items is semantically important.\n",
        "\n",
        "**Why use OrderedDict in Data Science?**\n",
        "\n",
        "- **Configuration Loading:** Loading configuration settings where the order of parameters matters.\n",
        "- **Processing Data in Sequence:** When data needs to be processed or presented in the exact order it was received or defined.\n",
        "- **Maintaining Feature Order:** In some machine learning contexts, the order of features might be relevant."
      ],
      "metadata": {
        "id": "GIfteoJedI9E"
      }
    },
    {
      "cell_type": "code",
      "metadata": {
        "colab": {
          "base_uri": "https://localhost:8080/"
        },
        "id": "ef8dfe6e",
        "outputId": "c084acf7-5475-43ef-e4a2-cbd8eecc839c"
      },
      "source": [
        "from collections import deque\n",
        "\n",
        "# Example: Maintaining a limited history of recent data points\n",
        "# Create a deque with a maximum size\n",
        "recent_data_points = deque(maxlen=5)\n",
        "\n",
        "print(\"Adding data points...\")\n",
        "for i in range(10):\n",
        "    recent_data_points.append(f\"data_point_{i+1}\")\n",
        "    print(f\"Deque after adding data_point_{i+1}: {list(recent_data_points)}\")\n",
        "\n",
        "print(\"\\nAppending to the left...\")\n",
        "recent_data_points.appendleft(\"urgent_data\")\n",
        "print(f\"Deque after appendleft: {list(recent_data_points)}\") # Note that the oldest element is removed\n",
        "\n",
        "print(\"\\nPopping from the right...\")\n",
        "popped_right = recent_data_points.pop()\n",
        "print(f\"Popped from right: {popped_right}\")\n",
        "print(f\"Deque after pop: {list(recent_data_points)}\")\n",
        "\n",
        "print(\"\\nPopping from the left...\")\n",
        "popped_left = recent_data_points.popleft()\n",
        "print(f\"Popped from left: {popped_left}\")\n",
        "print(f\"Deque after popleft: {list(recent_data_points)}\")\n",
        "\n",
        "# Example: Using deque as a queue (FIFO)\n",
        "data_queue = deque()\n",
        "data_queue.append(\"task1\")\n",
        "data_queue.append(\"task2\")\n",
        "data_queue.append(\"task3\")\n",
        "print(f\"\\nQueue: {list(data_queue)}\")\n",
        "print(f\"Processing: {data_queue.popleft()}\")\n",
        "print(f\"Processing: {data_queue.popleft()}\")\n",
        "print(f\"Queue after processing: {list(data_queue)}\")\n",
        "\n",
        "# Example: Using deque as a stack (LIFO)\n",
        "data_stack = deque()\n",
        "data_stack.append(\"step1\")\n",
        "data_stack.append(\"step2\")\n",
        "data_stack.append(\"step3\")\n",
        "print(f\"\\nStack: {list(data_stack)}\")\n",
        "print(f\"Undoing: {data_stack.pop()}\")\n",
        "print(f\"Undoing: {data_stack.pop()}\")\n",
        "print(f\"Stack after undoing: {list(data_stack)}\")"
      ],
      "execution_count": null,
      "outputs": [
        {
          "output_type": "stream",
          "name": "stdout",
          "text": [
            "Adding data points...\n",
            "Deque after adding data_point_1: ['data_point_1']\n",
            "Deque after adding data_point_2: ['data_point_1', 'data_point_2']\n",
            "Deque after adding data_point_3: ['data_point_1', 'data_point_2', 'data_point_3']\n",
            "Deque after adding data_point_4: ['data_point_1', 'data_point_2', 'data_point_3', 'data_point_4']\n",
            "Deque after adding data_point_5: ['data_point_1', 'data_point_2', 'data_point_3', 'data_point_4', 'data_point_5']\n",
            "Deque after adding data_point_6: ['data_point_2', 'data_point_3', 'data_point_4', 'data_point_5', 'data_point_6']\n",
            "Deque after adding data_point_7: ['data_point_3', 'data_point_4', 'data_point_5', 'data_point_6', 'data_point_7']\n",
            "Deque after adding data_point_8: ['data_point_4', 'data_point_5', 'data_point_6', 'data_point_7', 'data_point_8']\n",
            "Deque after adding data_point_9: ['data_point_5', 'data_point_6', 'data_point_7', 'data_point_8', 'data_point_9']\n",
            "Deque after adding data_point_10: ['data_point_6', 'data_point_7', 'data_point_8', 'data_point_9', 'data_point_10']\n",
            "\n",
            "Appending to the left...\n",
            "Deque after appendleft: ['urgent_data', 'data_point_6', 'data_point_7', 'data_point_8', 'data_point_9']\n",
            "\n",
            "Popping from the right...\n",
            "Popped from right: data_point_9\n",
            "Deque after pop: ['urgent_data', 'data_point_6', 'data_point_7', 'data_point_8']\n",
            "\n",
            "Popping from the left...\n",
            "Popped from left: urgent_data\n",
            "Deque after popleft: ['data_point_6', 'data_point_7', 'data_point_8']\n",
            "\n",
            "Queue: ['task1', 'task2', 'task3']\n",
            "Processing: task1\n",
            "Processing: task2\n",
            "Queue after processing: ['task3']\n",
            "\n",
            "Stack: ['step1', 'step2', 'step3']\n",
            "Undoing: step3\n",
            "Undoing: step2\n",
            "Stack after undoing: ['step1']\n"
          ]
        }
      ]
    },
    {
      "cell_type": "code",
      "metadata": {
        "colab": {
          "base_uri": "https://localhost:8080/"
        },
        "id": "f2abf5dd",
        "outputId": "766344e0-be46-4b45-d0ea-a4b9904ed02c"
      },
      "source": [
        "from collections import OrderedDict\n",
        "\n",
        "# Example: Processing data in a specific sequence\n",
        "# Using OrderedDict to maintain insertion order\n",
        "ordered_settings = OrderedDict()\n",
        "ordered_settings['model'] = 'random_forest'\n",
        "ordered_settings['n_estimators'] = 100\n",
        "ordered_settings['random_state'] = 42\n",
        "ordered_settings['max_depth'] = 10\n",
        "\n",
        "print(\"OrderedDict (Insertion order preserved):\")\n",
        "for key, value in ordered_settings.items():\n",
        "    print(f\"{key}: {value}\")\n",
        "\n",
        "# Comparing with a standard dictionary (order is also preserved in Python 3.7+,\n",
        "# but OrderedDict has specific methods and guarantees for older versions or\n",
        "# when order-based equality/reordering is needed)\n",
        "print(\"\\nStandard Dictionary (Insertion order preserved in Python 3.7+):\")\n",
        "standard_settings = {}\n",
        "standard_settings['model'] = 'random_forest'\n",
        "standard_settings['n_estimators'] = 100\n",
        "standard_settings['random_state'] = 42\n",
        "standard_settings['max_depth'] = 10\n",
        "\n",
        "for key, value in standard_settings.items():\n",
        "    print(f\"{key}: {value}\")\n",
        "\n",
        "# Example of OrderedDict specific method (move_to_end)\n",
        "print(\"\\nMoving 'model' to the end in OrderedDict:\")\n",
        "ordered_settings.move_to_end('model')\n",
        "for key, value in ordered_settings.items():\n",
        "    print(f\"{key}: {value}\")\n",
        "\n",
        "# Note: Standard dictionaries do not have a move_to_end method.\n",
        "# Attempting to move an element in a standard dict would typically require\n",
        "# rebuilding the dictionary or using a different approach."
      ],
      "execution_count": null,
      "outputs": [
        {
          "output_type": "stream",
          "name": "stdout",
          "text": [
            "OrderedDict (Insertion order preserved):\n",
            "model: random_forest\n",
            "n_estimators: 100\n",
            "random_state: 42\n",
            "max_depth: 10\n",
            "\n",
            "Standard Dictionary (Insertion order preserved in Python 3.7+):\n",
            "model: random_forest\n",
            "n_estimators: 100\n",
            "random_state: 42\n",
            "max_depth: 10\n",
            "\n",
            "Moving 'model' to the end in OrderedDict:\n",
            "n_estimators: 100\n",
            "random_state: 42\n",
            "max_depth: 10\n",
            "model: random_forest\n"
          ]
        }
      ]
    },
    {
      "cell_type": "markdown",
      "source": [
        "## 1.26 Working with Dates and Times\n",
        "---\n",
        "- **Real Python**: [Working with Dates and Times in Python](https://realpython.com/python-datetime/)\n",
        "- **GeeksforGeeks**: [Python DateTime Module](https://www.geeksforgeeks.org/python-datetime-module/)\n",
        "- **Programiz**: [Python datetime](https://www.programiz.com/python-programming/datetime)\n",
        "- **Python.org**: [datetime — Basic date and time types](https://docs.python.org/3/library/datetime.html)\n",
        "- **PyMOTW**: [datetime – Date and Time Value Manipulation](https://pymotw.com/3/datetime/)\n",
        "\n",
        "Handling dates and times is a fundamental aspect of working with time-series data in data science. Python's built-in datetime module provides classes for manipulating dates, times, and time intervals.\n",
        "\n",
        "**Importance for Time-Series Data:**\n",
        "\n",
        "- **Indexing and Filtering:** Time-series data is often indexed by time. You need to filter or select data based on date and time ranges.\n",
        "- **Resampling and Aggregation:** Aggregating data over different time frequencies (e.g., daily to monthly).\n",
        "- **Feature Engineering:** Extracting features from date/time information (e.g., day of the week, month, year).\n",
        "Analyzing Trends and Seasonality: Identifying patterns and cyclic variations over time.\n",
        "\n",
        "**Key classes in the datetime module:**\n",
        "\n",
        "- **`datetime`:** Represents a combination of a date and a time.\n",
        "- **`date`:** Represents a date (year, month, day).\n",
        "- **`time`:** Represents a time (hour, minute, second, microsecond).\n",
        "- **`timedelta`:** Represents a duration or difference between two datetime or date objects."
      ],
      "metadata": {
        "id": "u1mXdWcGec_Q"
      }
    },
    {
      "cell_type": "code",
      "metadata": {
        "colab": {
          "base_uri": "https://localhost:8080/"
        },
        "id": "37e04958",
        "outputId": "bbaac584-7943-46f3-f7de-9c3b6142bf3b"
      },
      "source": [
        "from datetime import datetime\n",
        "\n",
        "# Get the current date and time\n",
        "now = datetime.now()\n",
        "print(f\"Current date and time: {now}\")\n",
        "\n",
        "# Create a specific datetime object\n",
        "specific_dt = datetime(2023, 10, 26, 14, 30, 0)\n",
        "print(f\"Specific datetime: {specific_dt}\")\n",
        "\n",
        "# Access components\n",
        "print(f\"Year: {specific_dt.year}\")\n",
        "print(f\"Month: {specific_dt.month}\")\n",
        "print(f\"Day: {specific_dt.day}\")\n",
        "print(f\"Hour: {specific_dt.hour}\")\n",
        "print(f\"Minute: {specific_dt.minute}\")\n",
        "print(f\"Second: {specific_dt.second}\")\n",
        "\n",
        "# Format datetime objects as strings (strftime)\n",
        "formatted_date = now.strftime(\"%Y-%m-%d %H:%M:%S\")\n",
        "print(f\"Formatted date (YYYY-MM-DD HH:MM:SS): {formatted_date}\")\n",
        "\n",
        "# Parse strings into datetime objects (strptime)\n",
        "date_string = \"2024-01-15 09:00:00\"\n",
        "parsed_dt = datetime.strptime(date_string, \"%Y-%m-%d %H:%M:%S\")\n",
        "print(f\"Parsed datetime from string: {parsed_dt}\")"
      ],
      "execution_count": null,
      "outputs": [
        {
          "output_type": "stream",
          "name": "stdout",
          "text": [
            "Current date and time: 2025-07-24 19:45:28.730708\n",
            "Specific datetime: 2023-10-26 14:30:00\n",
            "Year: 2023\n",
            "Month: 10\n",
            "Day: 26\n",
            "Hour: 14\n",
            "Minute: 30\n",
            "Second: 0\n",
            "Formatted date (YYYY-MM-DD HH:MM:SS): 2025-07-24 19:45:28\n",
            "Parsed datetime from string: 2024-01-15 09:00:00\n"
          ]
        }
      ]
    },
    {
      "cell_type": "code",
      "metadata": {
        "colab": {
          "base_uri": "https://localhost:8080/"
        },
        "id": "facddeb9",
        "outputId": "c4ccaf1f-5e5d-4911-f568-cd37eac6bc3a"
      },
      "source": [
        "from datetime import timedelta, date\n",
        "\n",
        "# Create timedelta objects\n",
        "delta_hours = timedelta(hours=3)\n",
        "delta_days = timedelta(days=7)\n",
        "delta_weeks = timedelta(weeks=2)\n",
        "\n",
        "# Perform arithmetic with datetime objects\n",
        "dt1 = datetime(2023, 10, 26, 14, 30, 0)\n",
        "dt2 = dt1 + delta_hours\n",
        "print(f\"Adding 3 hours to {dt1}: {dt2}\")\n",
        "\n",
        "dt3 = dt1 - delta_weeks\n",
        "print(f\"Subtracting 2 weeks from {dt1}: {dt3}\")\n",
        "\n",
        "# Calculate difference between two datetime objects (results in timedelta)\n",
        "time_difference = now - specific_dt\n",
        "print(f\"Time difference between now and specific_dt: {time_difference}\")\n",
        "print(f\"Difference in days: {time_difference.days}\")\n",
        "print(f\"Difference in seconds: {time_difference.total_seconds()}\")\n",
        "\n",
        "# Perform arithmetic with date objects\n",
        "d1 = date(2023, 10, 26)\n",
        "d2 = d1 + delta_days\n",
        "print(f\"Adding 7 days to {d1}: {d2}\")\n",
        "\n",
        "# Calculate difference between two date objects (results in timedelta)\n",
        "date_difference = date.today() - d1\n",
        "print(f\"Date difference between today and {d1}: {date_difference}\")"
      ],
      "execution_count": null,
      "outputs": [
        {
          "output_type": "stream",
          "name": "stdout",
          "text": [
            "Adding 3 hours to 2023-10-26 14:30:00: 2023-10-26 17:30:00\n",
            "Subtracting 2 weeks from 2023-10-26 14:30:00: 2023-10-12 14:30:00\n",
            "Time difference between now and specific_dt: 637 days, 5:15:28.730708\n",
            "Difference in days: 637\n",
            "Difference in seconds: 55055728.730708\n",
            "Adding 7 days to 2023-10-26: 2023-11-02\n",
            "Date difference between today and 2023-10-26: 637 days, 0:00:00\n"
          ]
        }
      ]
    },
    {
      "cell_type": "markdown",
      "source": [
        "## 1.27 Regular Expressions\n",
        "---\n",
        "- **Real Python**: [Regular Expressions: Regexes in Python](https://realpython.com/regex-python/)\n",
        "- **GeeksforGeeks**: [Regular Expression in Python](https://www.geeksforgeeks.org/regular-expression-python/)\n",
        "- **Programiz**: [Python RegEx](https://www.programiz.com/python-programming/regex)\n",
        "- **Python.org**: [re — Regular expression operations](https://docs.python.org/3/library/re.html)\n",
        "- **RegexOne**: [Interactive Regular Expression Tutorial](https://regexone.com/)\n",
        "- **Python-Course.eu**: [Regular Expressions](https://python-course.eu/python-tutorial/re.php)\n",
        "- **PyMOTW**: [re – Regular Expressions](https://pymotw.com/3/re/)\n",
        "\n",
        "Regular expressions, often shortened to \"regex\" or \"regexp\", are powerful patterns used for matching character combinations in strings. They are a fundamental tool for text processing and pattern matching, and are widely used in data science for tasks such as:\n",
        "\n",
        "- **Data Cleaning:** Finding and replacing specific patterns (e.g., removing special characters, standardizing formats).\n",
        "- **Text Extraction:** Pulling out specific information from unstructured text (e.g., email addresses, phone numbers, dates).\n",
        "- **Text Validation:** Checking if a string conforms to a required format.\n",
        "- **Feature Engineering in NLP:** Creating features based on patterns in text data.\n",
        "\n",
        "Python's built-in re module provides comprehensive support for regular expressions. Key functions in this module include:\n",
        "\n",
        "- **`re.search()`:** Scans through a string looking for the first location where the regex pattern produces a match.\n",
        "- **`re.match()`:** Checks for a match only at the beginning of the string.\n",
        "- **`re.findall()`:** Finds all non-overlapping matches of the pattern in the string and returns them as a list.\n",
        "- **`re.sub()`:** Substitutes all occurrences of the pattern in the string with a replacement."
      ],
      "metadata": {
        "id": "8kZfmY6bhb3A"
      }
    },
    {
      "cell_type": "markdown",
      "source": [
        "### `re.search()`\n",
        "\n",
        "The `re.search()` function scans through a string, looking for the **first** location where the regular expression pattern produces a match. If a match is found, it returns a match object; otherwise, it returns None. The match object contains information about the match, such as the matched string and its position.\n"
      ],
      "metadata": {
        "id": "0l9z-KWPiE43"
      }
    },
    {
      "cell_type": "code",
      "metadata": {
        "colab": {
          "base_uri": "https://localhost:8080/"
        },
        "id": "c904fb45",
        "outputId": "1fa31f13-9cc2-4256-e06c-c411317bf710"
      },
      "source": [
        "import re\n",
        "\n",
        "text = \"The quick brown fox jumps over the lazy dog.\"\n",
        "\n",
        "# Search for the first occurrence of \"fox\"\n",
        "match = re.search(r\"fox\", text)\n",
        "\n",
        "if match:\n",
        "    print(f\"Found match: {match.group()}\")\n",
        "    print(f\"Start index: {match.start()}\")\n",
        "    print(f\"End index: {match.end()}\")\n",
        "else:\n",
        "    print(\"Pattern not found.\")\n",
        "\n",
        "# Search for a pattern that doesn't exist\n",
        "match_fail = re.search(r\"cat\", text)\n",
        "\n",
        "if match_fail:\n",
        "    print(f\"Found match: {match_fail.group()}\")\n",
        "else:\n",
        "    print(\"Pattern 'cat' not found.\")\n",
        "\n",
        "# Search for a pattern using a character class\n",
        "match_char_class = re.search(r\"[qQ]uick\", text) # Matches 'quick' or 'Quick'\n",
        "\n",
        "if match_char_class:\n",
        "    print(f\"Found match using character class: {match_char_class.group()}\")\n",
        "else:\n",
        "    print(\"Pattern 'quick' or 'Quick' not found.\")"
      ],
      "execution_count": null,
      "outputs": [
        {
          "output_type": "stream",
          "name": "stdout",
          "text": [
            "Found match: fox\n",
            "Start index: 16\n",
            "End index: 19\n",
            "Pattern 'cat' not found.\n",
            "Found match using character class: quick\n"
          ]
        }
      ]
    },
    {
      "cell_type": "markdown",
      "source": [
        "### `re.match()`\n",
        "The `re.match()` function checks for a match **only at the beginning** of the string. If the pattern matches the start of the string, it returns a match `object`; otherwise, it returns `None`. This is the key difference from `re.search()`, which scans the entire string."
      ],
      "metadata": {
        "id": "PHRwC75viaRh"
      }
    },
    {
      "cell_type": "code",
      "metadata": {
        "colab": {
          "base_uri": "https://localhost:8080/"
        },
        "id": "e7eb7c65",
        "outputId": "caf3a0de-276f-4c27-8a0c-8f04f4c52324"
      },
      "source": [
        "import re\n",
        "\n",
        "text1 = \"Data science is fascinating.\"\n",
        "text2 = \"Is data science fascinating?\"\n",
        "\n",
        "# Use re.match() - checks only the beginning\n",
        "match1 = re.match(r\"Data\", text1)\n",
        "match2 = re.match(r\"Data\", text2)\n",
        "\n",
        "if match1:\n",
        "    print(f\"re.match() found match in text1: {match1.group()}\")\n",
        "else:\n",
        "    print(\"re.match() did not find match in text1.\") # This won't be printed\n",
        "\n",
        "if match2:\n",
        "    print(f\"re.match() found match in text2: {match2.group()}\")\n",
        "else:\n",
        "    print(\"re.match() did not find match in text2.\") # This will be printed\n",
        "\n",
        "print(\"-\" * 20)\n",
        "\n",
        "# Use re.search() - scans the entire string\n",
        "search1 = re.search(r\"science\", text1)\n",
        "search2 = re.search(r\"science\", text2)\n",
        "\n",
        "if search1:\n",
        "    print(f\"re.search() found match in text1: {search1.group()}\")\n",
        "else:\n",
        "    print(\"re.search() did not find match in text1.\")\n",
        "\n",
        "if search2:\n",
        "    print(f\"re.search() found match in text2: {search2.group()}\")\n",
        "else:\n",
        "    print(\"re.search() did not find match in text2.\")"
      ],
      "execution_count": null,
      "outputs": [
        {
          "output_type": "stream",
          "name": "stdout",
          "text": [
            "re.match() found match in text1: Data\n",
            "re.match() did not find match in text2.\n",
            "--------------------\n",
            "re.search() found match in text1: science\n",
            "re.search() found match in text2: science\n"
          ]
        }
      ]
    },
    {
      "cell_type": "markdown",
      "source": [
        "### `re.findall()`\n",
        "The `re.findall()` function finds **all non-overlapping occurrences** of the pattern in the string and returns them as a list of strings. This is useful when you need to extract multiple pieces of information from a text."
      ],
      "metadata": {
        "id": "ub8BFay3izxn"
      }
    },
    {
      "cell_type": "code",
      "metadata": {
        "colab": {
          "base_uri": "https://localhost:8080/"
        },
        "id": "697df44b",
        "outputId": "1058df8a-54ed-4416-e937-d4f32835fe21"
      },
      "source": [
        "import re\n",
        "\n",
        "text = \"Emails: alice@example.com, bob.smith@mail.org, invalid-email\"\n",
        "\n",
        "# Find all email addresses (simple pattern)\n",
        "email_pattern = r'\\b[A-Za-z0-9._%+-]+@[A-Za-z0-9.-]+\\.[A-Z|a-z]{2,}\\b'\n",
        "emails_found = re.findall(email_pattern, text)\n",
        "\n",
        "print(f\"Found emails: {emails_found}\")\n",
        "\n",
        "text_numbers = \"The numbers are 123, 456, and 789.\"\n",
        "\n",
        "# Find all numbers\n",
        "number_pattern = r'\\d+' # Matches one or more digits\n",
        "numbers_found = re.findall(number_pattern, text_numbers)\n",
        "\n",
        "print(f\"Found numbers: {numbers_found}\")"
      ],
      "execution_count": null,
      "outputs": [
        {
          "output_type": "stream",
          "name": "stdout",
          "text": [
            "Found emails: ['alice@example.com', 'bob.smith@mail.org']\n",
            "Found numbers: ['123', '456', '789']\n"
          ]
        }
      ]
    },
    {
      "cell_type": "markdown",
      "source": [
        "### `re.sub()`\n",
        "The `re.sub()` function substitutes all occurrences of the pattern in the string with a replacement string. This is commonly used for data cleaning and anonymization.\n",
        "\n",
        "**Syntax:** `re.sub(pattern, repl, string, count=0, flags=0)`\n",
        "\n",
        "- `pattern:` The regular expression pattern to search for.\n",
        "- `repl:` The replacement string or a function to generate the replacement string.\n",
        "- `string:` The input string to perform substitution on.\n",
        "- `count:` (Optional) The maximum number of pattern occurrences to be replaced. Defaults to 0, meaning replace all occurrences.\n",
        "- `flags:` (Optional) Flags that modify the behavior of the pattern matching (e.g., `re.IGNORECASE`)."
      ],
      "metadata": {
        "id": "baAX7VV7jER_"
      }
    },
    {
      "cell_type": "code",
      "metadata": {
        "colab": {
          "base_uri": "https://localhost:8080/"
        },
        "id": "5a3e771d",
        "outputId": "6b60e15a-b4e2-4355-c438-3be4b4eb78a2"
      },
      "source": [
        "import re\n",
        "\n",
        "# Original string with simple patterns to replace\n",
        "text_simple = \"Replace all spaces with underscores.\"\n",
        "print(f\"Original string (simple): {text_simple}\")\n",
        "\n",
        "# Example 1: Replacing a simple pattern (spaces with underscores)\n",
        "replaced_simple = re.sub(r\"\\s\", \"_\", text_simple)\n",
        "print(f\"After replacement (simple): {replaced_simple}\")\n",
        "\n",
        "print(\"-\" * 20)\n",
        "\n",
        "# Original string with more complex patterns and mixed case\n",
        "text_complex = \"Emails: Test@Example.com, Another.Email-123@mail.org, Invalid@.com\"\n",
        "print(f\"Original string (complex): {text_complex}\")\n",
        "\n",
        "# Example 2: Replacing a more complex pattern (email addresses with a placeholder)\n",
        "# Using re.IGNORECASE flag to match case-insensitively\n",
        "email_pattern_complex = r'\\b[A-Za-z0-9._%+-]+@[A-Za-z0-9.-]+\\.[A-Z|a-z]{2,}\\b'\n",
        "replaced_complex = re.sub(email_pattern_complex, \"[EMAIL_REMOVED]\", text_complex, flags=re.IGNORECASE)\n",
        "print(f\"After replacement (complex): {replaced_complex}\")"
      ],
      "execution_count": null,
      "outputs": [
        {
          "output_type": "stream",
          "name": "stdout",
          "text": [
            "Original string (simple): Replace all spaces with underscores.\n",
            "After replacement (simple): Replace_all_spaces_with_underscores.\n",
            "--------------------\n",
            "Original string (complex): Emails: Test@Example.com, Another.Email-123@mail.org, Invalid@.com\n",
            "After replacement (complex): Emails: [EMAIL_REMOVED], [EMAIL_REMOVED], Invalid@.com\n"
          ]
        }
      ]
    },
    {
      "cell_type": "markdown",
      "source": [
        "## 1.28 Generators and Iterators (In-depth)\n",
        "---\n",
        "- **Real Python**: [Introduction to Python Generators](https://realpython.com/introduction-to-python-generators/)\n",
        "- **GeeksforGeeks**: [Generators in Python](https://www.geeksforgeeks.org/generators-in-python/)\n",
        "- **Python-Course.eu**: [Generators and Iterators](https://python-course.eu/python-tutorial/generators-and-iterators.php)\n",
        "- **Python.org**: [The Python yield keyword explained](https://docs.python.org/3/reference/expressions.html#yield-expressions)\n",
        "\n",
        "Generators and iterators are powerful concepts in Python that are particularly important in data science for working with large datasets efficiently. They allow you to process data one item at a time, rather than loading the entire dataset into memory, which can be crucial for handling big data or infinite sequences.\n",
        "\n",
        "- **Iterators:** Objects that represent a stream of data. They implement the iterator protocol, which means they have a `__iter__()` method (returning the iterator object itself) and a `__next__()` method (returning the next item from the stream or raising `StopIteration` when done).\n",
        "- **Generators:** A simple and concise way to create iterators. They are defined like normal functions but use the `yield` keyword instead of `return`. When a generator function is called, it returns a generator object (which is a type of iterator). The `yield` keyword pauses the function's execution and saves its state, resuming from where it left off when `__next__()` is called again.\n",
        "\n",
        "**Importance for Memory Efficiency:** In data science, you often deal with datasets that can exceed the available RAM. Generators and iterators enable lazy evaluation, meaning values are generated on demand. This significantly reduces memory usage compared to creating and storing entire lists or other sequences in memory."
      ],
      "metadata": {
        "id": "WhO8NK3Cjxzh"
      }
    },
    {
      "cell_type": "markdown",
      "source": [
        "### The `yield` Keyword\n",
        "- **Real Python**: [Python \"yield\" Keyword Explained](https://realpython.com/python-yield/)\n",
        "\n",
        "The `yield` keyword is the key difference between a regular function and a generator function. Instead of returning a value and terminating, `yield` pauses the function's execution, sends a value back to the caller, and saves its internal state (including the values of local variables and the position of execution).\n",
        "\n",
        "When the generator's `__next__()` method is called again, the function resumes from where it last yielded, continuing execution until the next `yield` statement or the function ends (which raises `StopIteration`).\n",
        "\n",
        "**Simple Generator Example:**\n",
        "\n",
        "This example demonstrates a generator function that yields a sequence of numbers."
      ],
      "metadata": {
        "id": "ykyL6sfTksEd"
      }
    },
    {
      "cell_type": "code",
      "metadata": {
        "colab": {
          "base_uri": "https://localhost:8080/"
        },
        "id": "d9c3396b",
        "outputId": "41cb61ec-10fb-482c-82d7-e5568645dc81"
      },
      "source": [
        "def simple_generator():\n",
        "    print(\"Generator started\")\n",
        "    yield 1\n",
        "    print(\"Resumed and yielded 2\")\n",
        "    yield 2\n",
        "    print(\"Resumed and yielded 3\")\n",
        "    yield 3\n",
        "    print(\"Generator finished\")\n",
        "\n",
        "# Create a generator object\n",
        "gen = simple_generator()\n",
        "\n",
        "# Iterate through the generator using next()\n",
        "print(next(gen))\n",
        "print(next(gen))\n",
        "print(next(gen))\n",
        "\n",
        "# Trying to get the next value after the generator is exhausted will raise StopIteration\n",
        "try:\n",
        "    next(gen)\n",
        "except StopIteration:\n",
        "    print(\"Caught StopIteration: Generator is exhausted.\")\n",
        "\n",
        "print(\"\\nIterating with a for loop (most common way):\")\n",
        "# Generators are iterators, so they can be used directly in for loops\n",
        "for value in simple_generator():\n",
        "    print(value)"
      ],
      "execution_count": null,
      "outputs": [
        {
          "output_type": "stream",
          "name": "stdout",
          "text": [
            "Generator started\n",
            "1\n",
            "Resumed and yielded 2\n",
            "2\n",
            "Resumed and yielded 3\n",
            "3\n",
            "Generator finished\n",
            "Caught StopIteration: Generator is exhausted.\n",
            "\n",
            "Iterating with a for loop (most common way):\n",
            "Generator started\n",
            "1\n",
            "Resumed and yielded 2\n",
            "2\n",
            "Resumed and yielded 3\n",
            "3\n",
            "Generator finished\n"
          ]
        }
      ]
    },
    {
      "cell_type": "markdown",
      "source": [
        "### Generator Expressions\n",
        "- **GeeksforGeeks**: [Generator Expressions in Python](https://www.geeksforgeeks.org/generator-expressions/)\n",
        "\n",
        "Similar to list comprehensions, Python provides a concise syntax for creating simple generators on the fly, known as generator expressions. They use parentheses `()` instead of square brackets `[]` (for list comprehensions) or curly braces `{}` (for set/dictionary comprehensions).\n",
        "\n",
        "Generator expressions are more memory-efficient than list comprehensions when dealing with large sequences because they don't construct the entire list in memory. They yield values one by one as requested.\n",
        "\n",
        "**Generator Expression Example:**\n",
        "\n",
        "This example shows how to create and use a generator expression."
      ],
      "metadata": {
        "id": "T9CdNYCMlIy5"
      }
    },
    {
      "cell_type": "code",
      "metadata": {
        "colab": {
          "base_uri": "https://localhost:8080/"
        },
        "id": "36809445",
        "outputId": "2d218614-710a-4ea0-9183-b3b20973e2ca"
      },
      "source": [
        "# Generator expression\n",
        "gen_exp = (x**2 for x in range(10))\n",
        "print(f\"Generator expression object: {gen_exp}\")\n",
        "\n",
        "# Iterate through the generator expression\n",
        "print(\"Iterating through generator expression:\")\n",
        "for value in gen_exp:\n",
        "    print(value)\n",
        "\n",
        "# Memory efficiency comparison for large ranges\n",
        "import sys\n",
        "\n",
        "# Generator expression (low memory)\n",
        "gen_large = (x**2 for x in range(1000000))\n",
        "print(f\"\\nSize of generator expression for 1M numbers: {sys.getsizeof(gen_large)} bytes\") # Size of the generator object itself\n",
        "\n",
        "# List comprehension (high memory)\n",
        "# Uncommenting the next line might cause memory issues for very large ranges\n",
        "# list_large = [x**2 for x in range(1000000)]\n",
        "# print(f\"Size of list comprehension for 1M numbers: {sys.getsizeof(list_large)} bytes\") # Size of the entire list"
      ],
      "execution_count": null,
      "outputs": [
        {
          "output_type": "stream",
          "name": "stdout",
          "text": [
            "Generator expression object: <generator object <genexpr> at 0x7c04658ecba0>\n",
            "Iterating through generator expression:\n",
            "0\n",
            "1\n",
            "4\n",
            "9\n",
            "16\n",
            "25\n",
            "36\n",
            "49\n",
            "64\n",
            "81\n",
            "\n",
            "Size of generator expression for 1M numbers: 208 bytes\n"
          ]
        }
      ]
    },
    {
      "cell_type": "markdown",
      "source": [
        "### Benefits of Generators and Use Cases in Data Science\n",
        "- **DataCamp**: [Python Generators Tutorial](https://www.datacamp.com/tutorial/python-generators)\n",
        "- **Towards Data Science**: [Python Generators for Data Scientists](https://towardsdatascience.com/python-generators-for-data-scientists-bdee9a0374a5)\n",
        "\n",
        "The primary benefits of using generators are:\n",
        "\n",
        "- **Memory Efficiency:** As demonstrated, they consume significantly less memory for large or infinite sequences compared to creating full lists or tuples.\n",
        "- **Lazy Evaluation:** Values are computed and yielded only when requested. This is useful for processing large files line by line, working with potentially infinite data streams, or when the cost of computing each item is high.\n",
        "- **Improved Performance (sometimes):** In scenarios where you don't need all elements at once, lazy evaluation can save computation time and resources.\n",
        "\n",
        "**Common Data Science Use Cases:**\n",
        "\n",
        "- **Reading Large Files:** Processing large CSV, text, or log files line by line without loading the entire file into memory.\n",
        "- **Processing Data Streams:** Handling continuous streams of data where the total size is unknown or very large.\n",
        "- **Generating Data Batches:** Creating batches of data for training machine learning models (e.g., image data, text data) on the fly, especially with limited memory.\n",
        "- **Implementing Infinite Sequences:** Creating generators for sequences that conceptually have no end (e.g., a sequence of prime numbers).\n",
        "\n",
        "**The Iterator Protocol Revisited**\n",
        "\n",
        "As mentioned earlier, generators are a simple way to create iterators. When you define a generator function using `yield`, Python automatically handles the implementation of the iterator protocol (`__iter__()` and `__next__()`) for the generator object it returns. The `__iter__()` method of a generator object simply returns the generator object itself, and the `__next__()` method is implicitly called each time you use `next()` or iterate with a for loop, executing the generator function until the next `yield` or the function ends."
      ],
      "metadata": {
        "id": "T1XkQeJ0lceA"
      }
    },
    {
      "cell_type": "code",
      "metadata": {
        "colab": {
          "base_uri": "https://localhost:8080/"
        },
        "id": "22606297",
        "outputId": "7543de9c-6607-4a9f-ada7-23d10ae31d7b"
      },
      "source": [
        "# More practical example: Reading a large file line by line using a generator\n",
        "\n",
        "def read_large_file(filepath):\n",
        "    \"\"\"\n",
        "    A generator function to read a large file line by line.\n",
        "    Yields each line of the file.\n",
        "    \"\"\"\n",
        "    print(f\"Opening file: {filepath}\")\n",
        "    try:\n",
        "        with open(filepath, 'r') as f:\n",
        "            for line in f:\n",
        "                # You could perform some processing on the line here before yielding\n",
        "                yield line.strip() # Yield the stripped line\n",
        "    except FileNotFoundError:\n",
        "        print(f\"Error: File not found at {filepath}\")\n",
        "    finally:\n",
        "        print(f\"Finished reading or file not found: {filepath}\")\n",
        "\n",
        "# Create a dummy large file for demonstration\n",
        "dummy_file_content = \"\\n\".join([f\"This is line {i+1}\" for i in range(1000)])\n",
        "with open(\"large_dummy_file.txt\", \"w\") as f:\n",
        "    f.write(dummy_file_content)\n",
        "\n",
        "# Use the generator to process the file line by line\n",
        "print(\"\\nProcessing large dummy file with generator:\")\n",
        "line_count = 0\n",
        "for line in read_large_file(\"large_dummy_file.txt\"):\n",
        "    # Process the line (e.g., print, count, analyze)\n",
        "    # print(line) # Uncomment to see each line being processed\n",
        "    line_count += 1\n",
        "    if line_count < 5 or line_count > 995: # Print first few and last few lines processed\n",
        "        print(f\"Processed line {line_count}: {line}\")\n",
        "    elif line_count == 5:\n",
        "         print(\"...\")\n",
        "\n",
        "\n",
        "print(f\"\\nTotal lines processed: {line_count}\")\n",
        "\n",
        "# Example with a non-existent file to show error handling within generator\n",
        "print(\"\\nTesting generator with non-existent file:\")\n",
        "for line in read_large_file(\"non_existent_file.txt\"):\n",
        "    # This loop body won't execute if the file is not found\n",
        "    pass\n",
        "\n",
        "# Clean up the dummy file\n",
        "import os\n",
        "os.remove(\"large_dummy_file.txt\")\n",
        "print(\"\\nDummy file removed.\")"
      ],
      "execution_count": null,
      "outputs": [
        {
          "output_type": "stream",
          "name": "stdout",
          "text": [
            "\n",
            "Processing large dummy file with generator:\n",
            "Opening file: large_dummy_file.txt\n",
            "Processed line 1: This is line 1\n",
            "Processed line 2: This is line 2\n",
            "Processed line 3: This is line 3\n",
            "Processed line 4: This is line 4\n",
            "...\n",
            "Processed line 996: This is line 996\n",
            "Processed line 997: This is line 997\n",
            "Processed line 998: This is line 998\n",
            "Processed line 999: This is line 999\n",
            "Processed line 1000: This is line 1000\n",
            "Finished reading or file not found: large_dummy_file.txt\n",
            "\n",
            "Total lines processed: 1000\n",
            "\n",
            "Testing generator with non-existent file:\n",
            "Opening file: non_existent_file.txt\n",
            "Error: File not found at non_existent_file.txt\n",
            "Finished reading or file not found: non_existent_file.txt\n",
            "\n",
            "Dummy file removed.\n"
          ]
        }
      ]
    },
    {
      "cell_type": "markdown",
      "source": [
        "## 1.29 Decorators and Generators\n",
        "---\n",
        "- **Real Python**: [Primer on Python Decorators](https://realpython.com/primer-on-python-decorators/)\n",
        "- **GeeksforGeeks**: [Decorators in Python](https://www.geeksforgeeks.org/decorators-in-python/)\n",
        "- **Python-Course.eu**: [Decorators](https://python-course.eu/python-tutorial/decorators.php)\n",
        "- **Programiz**: [Python Decorators](https://www.programiz.com/python-programming/decorator)\n",
        "\n",
        "Decorators and generators are advanced Python concepts that can significantly improve code organization, reusability, and efficiency, particularly in data science and machine learning workflows.\n",
        "\n",
        "**Decorators**\n",
        "\n",
        "Decorators are a powerful and flexible feature in Python that allow you to modify or enhance the behavior of a function or method. They are essentially functions that take another function as an argument, add some kind of functionality, and then return another function (or the original function modified).\n",
        "\n",
        "The syntax for using decorators is the `@decorator_name` placed directly above the function definition.\n",
        "\n",
        "**How Decorators Work:**\n",
        "\n",
        "When you use the `@decorator_name` syntax, it's equivalent to writing:\n",
        "```Python\n",
        "def my_function():\n",
        "    pass\n",
        "\n",
        "my_function = decorator_name(my_function)\n",
        "```\n",
        "The `decorator_name` function is called with `my_function` as its argument, and the returned function is then assigned back to the name my_function. This returned function is often a \"wrapper\" function that executes the additional logic before or after calling the original function.\n",
        "\n",
        "**Common Use Cases in Data Science:**\n",
        "\n",
        "- **Logging:** Recording function calls, arguments, and return values.\n",
        "- **Access Control/Permissions:** Restricting access to certain functions based on user roles.\n",
        "- **Memoization/Caching:** Storing the results of expensive function calls and returning the cached result when the same inputs occur again.\n",
        "- **Timing:** Measuring the execution time of a function.\n",
        "- **Input Validation:** Checking if function arguments meet certain criteria.\n",
        "- **Retries:** Automatically retrying a function call if it fails."
      ],
      "metadata": {
        "id": "71I-H6nCm3IY"
      }
    },
    {
      "cell_type": "code",
      "metadata": {
        "colab": {
          "base_uri": "https://localhost:8080/"
        },
        "id": "cbcf247a",
        "outputId": "b9343155-1311-407a-ec7e-3bfa7cf13fb5"
      },
      "source": [
        "def simple_decorator(func):\n",
        "    \"\"\"A simple decorator that prints messages before and after function execution.\"\"\"\n",
        "    def wrapper():\n",
        "        print(\"Decorator: Before calling the function.\")\n",
        "        func()\n",
        "        print(\"Decorator: After calling the function.\")\n",
        "    return wrapper\n",
        "\n",
        "@simple_decorator\n",
        "def say_hello():\n",
        "    \"\"\"A simple function to be decorated.\"\"\"\n",
        "    print(\"Hello from the decorated function!\")\n",
        "\n",
        "# Call the decorated function\n",
        "print(\"Calling the decorated function:\")\n",
        "say_hello()\n",
        "\n",
        "print(\"\\nLet's look at the function name after decoration:\")\n",
        "print(f\"Function name: {say_hello.__name__}\") # Note: Use functools.wraps for proper function metadata\n",
        "print(f\"Function docstring: {say_hello.__doc__}\") # Note: Docstring is also lost without functools.wraps"
      ],
      "execution_count": null,
      "outputs": [
        {
          "output_type": "stream",
          "name": "stdout",
          "text": [
            "Calling the decorated function:\n",
            "Decorator: Before calling the function.\n",
            "Hello from the decorated function!\n",
            "Decorator: After calling the function.\n",
            "\n",
            "Let's look at the function name after decoration:\n",
            "Function name: wrapper\n",
            "Function docstring: None\n"
          ]
        }
      ]
    },
    {
      "cell_type": "markdown",
      "source": [
        "### Generators\n",
        "As briefly introduced earlier (and covered more in-depth in section 1.28), generators are a memory-efficient way to create iterators. They are defined using functions and the yield keyword.\n",
        "\n",
        "**How Generators Differ from Regular Functions:**\n",
        "\n",
        "- **yield vs return**: Regular functions use return to send back a value and terminate execution. Generator functions use `yield` to send back a value and pause execution, saving their internal state.\n",
        "- **State Preservation**: When a generator yields, it remembers where it left off. The next time `__next__()` is called (either explicitly or implicitly by a loop), it resumes execution from that point.\n",
        "- **Lazy Evaluation**: Generators produce values one at a time as they are requested. They do not compute and store all values in memory upfront.\n",
        "\n",
        "**Memory Efficiency:**\n",
        "\n",
        "This lazy evaluation is the key to their memory efficiency. For very large datasets or potentially infinite sequences, generators allow you to process the data in chunks or item by item, consuming significantly less memory than loading everything into a list or other collection.\n",
        "\n",
        "**Use Cases with Large Datasets:**\n",
        "\n",
        "- **Processing large files:** Reading and processing data from files line by line or in chunks.\n",
        "- **Creating data pipelines:** Building a sequence of operations where data is passed from one step to the next without intermediate storage of the entire dataset.\n",
        "- **Generating data batches:** Providing data in small batches for training machine learning models, especially when the full dataset doesn't fit in memory."
      ],
      "metadata": {
        "id": "F8WH5zOLojkM"
      }
    },
    {
      "cell_type": "code",
      "metadata": {
        "colab": {
          "base_uri": "https://localhost:8080/"
        },
        "id": "8bdc601d",
        "outputId": "5c42a19f-875c-4a39-ffe7-00c7e5015fb7"
      },
      "source": [
        "def count_up_to(n):\n",
        "    \"\"\"A simple generator that yields numbers from 1 to n.\"\"\"\n",
        "    i = 1\n",
        "    while i <= n:\n",
        "        yield i\n",
        "        i += 1\n",
        "\n",
        "# Create a generator object\n",
        "counter_gen = count_up_to(5)\n",
        "\n",
        "# Iterate through the generator using a for loop\n",
        "print(\"Counting up to 5 using a generator:\")\n",
        "for number in counter_gen:\n",
        "    print(number)\n",
        "\n",
        "# Generators can also be iterated using next() (though less common for simple cases)\n",
        "# Resetting the generator requires calling the function again\n",
        "counter_gen_manual = count_up_to(3)\n",
        "print(\"\\nCounting up to 3 using next():\")\n",
        "print(next(counter_gen_manual))\n",
        "print(next(counter_gen_manual))\n",
        "print(next(counter_gen_manual))\n",
        "\n",
        "# The next call would raise StopIteration\n",
        "try:\n",
        "    next(counter_gen_manual)\n",
        "except StopIteration:\n",
        "    print(\"Generator manually exhausted.\")"
      ],
      "execution_count": null,
      "outputs": [
        {
          "output_type": "stream",
          "name": "stdout",
          "text": [
            "Counting up to 5 using a generator:\n",
            "1\n",
            "2\n",
            "3\n",
            "4\n",
            "5\n",
            "\n",
            "Counting up to 3 using next():\n",
            "1\n",
            "2\n",
            "3\n",
            "Generator manually exhausted.\n"
          ]
        }
      ]
    },
    {
      "cell_type": "markdown",
      "source": [
        "### Applications in Data Science\n",
        "- **Towards Data Science**: [Python Decorators for Data Science](https://towardsdatascience.com/python-decorators-for-data-science-6913f717669a)\n",
        "\n",
        "\n",
        "Decorators and generators are not just theoretical concepts; they have practical and valuable applications in real-world data science projects.\n",
        "\n",
        "**Decorators in Data Science:**\n",
        "\n",
        "- **Timing Function Execution:** Use a decorator to wrap functions that perform computationally expensive tasks (like model training or complex data transformations) to measure exactly how long they take to run. This is vital for performance optimization.\n",
        "- **Caching Results (Memoization):** Apply a decorator to functions that have the same output for the same input and are called multiple times. This can save significant computation time by returning cached results instead of re-calculating them.\n",
        "- **Input Validation:** Create decorators to automatically check if the arguments passed to a data processing or model function are of the correct type, format, or within a valid range, preventing errors early on.\n",
        "- **Resource Management:** Decorators can be used to ensure resources (like database connections or file handles) are properly opened before a function runs and closed afterward.\n",
        "\n",
        "**Generators in Data Science:**\n",
        "\n",
        "- **Processing Large Files:** As demonstrated, generators are ideal for reading and processing large datasets from files line by line or in chunks, preventing memory overload.\n",
        "- **Creating Data Pipelines:** Link multiple data processing steps together using generators. The output of one generator becomes the input for the next, creating a memory-efficient pipeline where data flows through the steps without being fully materialized at each stage.\n",
        "- **Generating Data Batches:** When training machine learning models, especially deep learning models, it's common to train on small batches of data. Generators can be used to yield these batches on demand, which is essential for large datasets that don't fit into RAM.\n",
        "- **Simulating Data Streams:** Generators can simulate real-time data streams for testing or online learning scenarios."
      ],
      "metadata": {
        "id": "sehUZFtgpow1"
      }
    },
    {
      "cell_type": "code",
      "metadata": {
        "colab": {
          "base_uri": "https://localhost:8080/"
        },
        "id": "e3081260",
        "outputId": "f9252a8d-b9f0-4551-d342-6cbf9f747b1b"
      },
      "source": [
        "import time\n",
        "import functools # Import functools to preserve original function metadata\n",
        "\n",
        "def timing_decorator(func):\n",
        "    \"\"\"A decorator that measures the execution time of a function.\"\"\"\n",
        "    @functools.wraps(func) # Use functools.wraps to preserve original function name, docstring, etc.\n",
        "    def wrapper(*args, **kwargs):\n",
        "        start_time = time.time()\n",
        "        result = func(*args, **kwargs)\n",
        "        end_time = time.time()\n",
        "        duration = end_time - start_time\n",
        "        print(f\"Function '{func.__name__}' took {duration:.4f} seconds to execute.\")\n",
        "        return result\n",
        "    return wrapper\n",
        "\n",
        "# Example data science function to time\n",
        "@timing_decorator\n",
        "def perform_complex_calculation(n):\n",
        "    \"\"\"Performs a simple but time-consuming calculation.\"\"\"\n",
        "    total = 0\n",
        "    for i in range(n):\n",
        "        total += i**2\n",
        "    return total\n",
        "\n",
        "@timing_decorator\n",
        "def simulate_data_loading(file_size_mb):\n",
        "    \"\"\"Simulates loading a file by pausing execution.\"\"\"\n",
        "    print(f\"Simulating loading a {file_size_mb}MB file...\")\n",
        "    time.sleep(file_size_mb * 0.01) # Simulate delay based on file size\n",
        "    print(\"Data loading simulated.\")\n",
        "    return f\"Loaded {file_size_mb}MB\"\n",
        "\n",
        "# Use the decorated functions\n",
        "print(\"Running complex calculation:\")\n",
        "result_calc = perform_complex_calculation(1000000)\n",
        "print(f\"Calculation result: {result_calc}\")\n",
        "\n",
        "print(\"\\nRunning data loading simulation:\")\n",
        "result_load = simulate_data_loading(50)\n",
        "print(f\"Loading result: {result_load}\")\n",
        "\n",
        "print(\"\\nLet's look at the function name and docstring after decoration with functools.wraps:\")\n",
        "print(f\"Function name: {perform_complex_calculation.__name__}\")\n",
        "print(f\"Function docstring: {perform_complex_calculation.__doc__}\")"
      ],
      "execution_count": null,
      "outputs": [
        {
          "output_type": "stream",
          "name": "stdout",
          "text": [
            "Running complex calculation:\n",
            "Function 'perform_complex_calculation' took 0.2108 seconds to execute.\n",
            "Calculation result: 333332833333500000\n",
            "\n",
            "Running data loading simulation:\n",
            "Simulating loading a 50MB file...\n",
            "Data loading simulated.\n",
            "Function 'simulate_data_loading' took 0.5005 seconds to execute.\n",
            "Loading result: Loaded 50MB\n",
            "\n",
            "Let's look at the function name and docstring after decoration with functools.wraps:\n",
            "Function name: perform_complex_calculation\n",
            "Function docstring: Performs a simple but time-consuming calculation.\n"
          ]
        }
      ]
    },
    {
      "cell_type": "code",
      "metadata": {
        "colab": {
          "base_uri": "https://localhost:8080/"
        },
        "id": "8779437a",
        "outputId": "2830583c-c73e-4cd1-cd2c-fc75aca8f3d2"
      },
      "source": [
        "import os # Import os for file cleanup\n",
        "\n",
        "# Assume 'large_dummy_file.txt' was created in a previous step\n",
        "# If not, create a dummy large file for demonstration\n",
        "dummy_file_path = \"large_dummy_file.txt\"\n",
        "if not os.path.exists(dummy_file_path):\n",
        "    dummy_file_content = \"\\n\".join([f\"This is line {i+1}, some data point {i*10}\" for i in range(50000)])\n",
        "    with open(dummy_file_path, \"w\") as f:\n",
        "        f.write(dummy_file_content)\n",
        "    print(f\"Created dummy file: {dummy_file_path}\")\n",
        "\n",
        "\n",
        "def data_chunk_generator(filepath, chunk_size=1000):\n",
        "    \"\"\"\n",
        "    A generator function to read and yield data from a file in chunks.\n",
        "    Assumes each line is a data record.\n",
        "    \"\"\"\n",
        "    print(f\"\\nStarting to read file in chunks: {filepath}\")\n",
        "    chunk = []\n",
        "    try:\n",
        "        with open(filepath, 'r') as f:\n",
        "            for line in f:\n",
        "                # Basic processing: split line into parts (e.g., simulating CSV)\n",
        "                data_point = line.strip().split(', ')\n",
        "                chunk.append(data_point)\n",
        "                if len(chunk) == chunk_size:\n",
        "                    print(f\"Yielding a chunk of {chunk_size} data points.\")\n",
        "                    yield chunk\n",
        "                    chunk = [] # Reset chunk after yielding\n",
        "            # Yield any remaining data in the last chunk\n",
        "            if chunk:\n",
        "                print(f\"Yielding the final chunk of {len(chunk)} data points.\")\n",
        "                yield chunk\n",
        "    except FileNotFoundError:\n",
        "        print(f\"Error: File not found at {filepath}\")\n",
        "    except Exception as e:\n",
        "        print(f\"An error occurred while reading the file: {e}\")\n",
        "    finally:\n",
        "        print(f\"Finished reading file: {filepath}\")\n",
        "\n",
        "\n",
        "# Use the generator to process the large file in chunks\n",
        "print(\"Processing large file in chunks:\")\n",
        "total_processed_lines = 0\n",
        "for data_chunk in data_chunk_generator(dummy_file_path, chunk_size=5000):\n",
        "    # Process each chunk (e.g., perform analysis, train on batch)\n",
        "    print(f\"Received a chunk with {len(data_chunk)} lines.\")\n",
        "    total_processed_lines += len(data_chunk)\n",
        "    # Example processing: print the first data point in the chunk\n",
        "    if data_chunk:\n",
        "         print(f\"  First data point in chunk: {data_chunk[0]}\")\n",
        "\n",
        "print(f\"\\nTotal lines processed across all chunks: {total_processed_lines}\")\n",
        "\n",
        "# Clean up the dummy file\n",
        "if os.path.exists(dummy_file_path):\n",
        "    os.remove(dummy_file_path)\n",
        "    print(\"Dummy file removed.\")"
      ],
      "execution_count": null,
      "outputs": [
        {
          "output_type": "stream",
          "name": "stdout",
          "text": [
            "Created dummy file: large_dummy_file.txt\n",
            "Processing large file in chunks:\n",
            "\n",
            "Starting to read file in chunks: large_dummy_file.txt\n",
            "Yielding a chunk of 5000 data points.\n",
            "Received a chunk with 5000 lines.\n",
            "  First data point in chunk: ['This is line 1', 'some data point 0']\n",
            "Yielding a chunk of 5000 data points.\n",
            "Received a chunk with 5000 lines.\n",
            "  First data point in chunk: ['This is line 5001', 'some data point 50000']\n",
            "Yielding a chunk of 5000 data points.\n",
            "Received a chunk with 5000 lines.\n",
            "  First data point in chunk: ['This is line 10001', 'some data point 100000']\n",
            "Yielding a chunk of 5000 data points.\n",
            "Received a chunk with 5000 lines.\n",
            "  First data point in chunk: ['This is line 15001', 'some data point 150000']\n",
            "Yielding a chunk of 5000 data points.\n",
            "Received a chunk with 5000 lines.\n",
            "  First data point in chunk: ['This is line 20001', 'some data point 200000']\n",
            "Yielding a chunk of 5000 data points.\n",
            "Received a chunk with 5000 lines.\n",
            "  First data point in chunk: ['This is line 25001', 'some data point 250000']\n",
            "Yielding a chunk of 5000 data points.\n",
            "Received a chunk with 5000 lines.\n",
            "  First data point in chunk: ['This is line 30001', 'some data point 300000']\n",
            "Yielding a chunk of 5000 data points.\n",
            "Received a chunk with 5000 lines.\n",
            "  First data point in chunk: ['This is line 35001', 'some data point 350000']\n",
            "Yielding a chunk of 5000 data points.\n",
            "Received a chunk with 5000 lines.\n",
            "  First data point in chunk: ['This is line 40001', 'some data point 400000']\n",
            "Yielding a chunk of 5000 data points.\n",
            "Received a chunk with 5000 lines.\n",
            "  First data point in chunk: ['This is line 45001', 'some data point 450000']\n",
            "Finished reading file: large_dummy_file.txt\n",
            "\n",
            "Total lines processed across all chunks: 50000\n",
            "Dummy file removed.\n"
          ]
        }
      ]
    },
    {
      "cell_type": "markdown",
      "source": [
        "## 1.30 Parallelism and Concurrency\n",
        "---\n",
        "- **Real Python**: [Speed Up Your Python Program With Concurrency](https://realpython.com/python-concurrency/)\n",
        "- **GeeksforGeeks**: [Multithreading in Python](https://www.geeksforgeeks.org/multithreading-python-set-1/)\n",
        "- **Python.org**: [concurrent.futures — Launching parallel tasks](https://docs.python.org/3/library/concurrent.futures.html)\n",
        "- **Real Python**: [Python Parallel Processing](https://realpython.com/python-parallel-processing/)\n",
        "- **Python-Course.eu**: [Parallel Processing](https://python-course.eu/numerical-programming/parallel-processing.php)\n",
        "- **DataCamp**: [Parallel Programming with Python](https://www.datacamp.com/tutorial/parallel-programming-with-python)\n",
        "\n",
        "In data science and computationally intensive tasks, leveraging multiple CPU cores or efficiently managing I/O operations can significantly speed up computations. Parallelism and concurrency are two related but distinct concepts for achieving this.\n",
        "\n",
        "- **Concurrency:** Deals with managing multiple tasks that can be executed simultaneously but might not be running at the exact same instant (e.g., switching between tasks during I/O waits). It's about structuring code to handle multiple operations that are in progress at the same time.\n",
        "- **Parallelism:** Deals with running multiple tasks truly simultaneously on multiple processors or cores. It's about achieving speedup by performing computations in parallel.\n",
        "\n",
        "**Benefits for Speeding Up Computations:**\n",
        "\n",
        "- **Reduced Execution Time:** For tasks that can be broken down into independent sub-tasks, running them in parallel can drastically reduce the total time required.\n",
        "- **Improved Responsiveness:** For applications involving I/O (like reading files or making network requests), concurrency allows the program to continue doing other work while waiting for I/O operations to complete, preventing the program from freezing.\n",
        "\n",
        "**CPU-bound vs. I/O-bound Tasks:**\n",
        "\n",
        "- **CPU-bound tasks:** Spend most of their time performing computations (e.g., complex mathematical calculations, matrix operations, model training). These benefit most from **parallelism** using multiple CPU cores.\n",
        "- **I/O-bound tasks:** Spend most of their time waiting for input/output operations (e.g., reading/writing files, network requests, database queries). These benefit most from **concurrency** using threading or asynchronous programming.\n",
        "\n",
        "**Multiprocessing**\n",
        "\n",
        "Python's multiprocessing module is used for creating and managing processes. Each process has its own independent memory space, bypassing the Global Interpreter Lock (GIL). This makes multiprocessing well-suited for **CPU-bound** tasks where you want to utilize multiple CPU cores to perform computations in parallel.\n",
        "\n",
        "**Threading**\n",
        "\n",
        "Python's threading module is used for creating and managing threads within a single process. Threads share the same memory space. While threads can provide concurrency for **I/O-bound tasks** (as the thread can switch to another task while waiting for I/O), they are less effective for speeding up **CPU-bound tasks** in CPython due to the **Global Interpreter Lock (GIL)**.\n",
        "\n",
        "**Global Interpreter Lock (GIL):** The GIL is a mutex (a lock) that protects access to Python objects, preventing multiple native threads from executing Python bytecode at the same time in a single process. This means that even on multi-core processors, a single Python process running CPU-bound code using threads will only execute on one core at a time. The GIL is released during I/O operations, which is why threading can still be beneficial for I/O-bound tasks.\n"
      ],
      "metadata": {
        "id": "pN6qrH1Yqw15"
      }
    },
    {
      "cell_type": "markdown",
      "source": [
        "### **Conceptual Example 1: Parallel Data Processing**\n",
        "\n",
        "Imagine you have a large dataset split into several smaller files, and you need to perform the same independent analysis on each file. This is a scenario where parallelism could be beneficial."
      ],
      "metadata": {
        "id": "cp8oyy1ctImu"
      }
    },
    {
      "cell_type": "code",
      "source": [
        "# Conceptual code - not actual multiprocessing implementation here\n",
        "\n",
        "def analyze_data_file(filepath):\n",
        "    \"\"\"\n",
        "    Conceptual function to simulate data analysis on a single file.\n",
        "    This would likely involve reading, processing, and analyzing data,\n",
        "    which could be CPU-bound.\n",
        "    \"\"\"\n",
        "    print(f\"Analyzing file: {filepath}\")\n",
        "    # Simulate some work\n",
        "    import time\n",
        "    time.sleep(1) # Simulate computation time\n",
        "    print(f\"Finished analyzing: {filepath}\")\n",
        "    return f\"Results from {filepath}\"\n",
        "\n",
        "# List of independent data files to process\n",
        "data_files = [\n",
        "    \"data_part_1.csv\",\n",
        "    \"data_part_2.csv\",\n",
        "    \"data_part_3.csv\",\n",
        "    \"data_part_4.csv\",\n",
        "]\n",
        "\n",
        "print(\"Starting sequential processing...\")\n",
        "# Sequential processing (without parallelism)\n",
        "results_sequential = []\n",
        "for file in data_files:\n",
        "    result = analyze_data_file(file)\n",
        "    results_sequential.append(result)\n",
        "print(\"Sequential processing finished.\")\n",
        "\n",
        "# --- How Multiprocessing COULD be applied here (conceptual) ---\n",
        "# import multiprocessing\n",
        "#\n",
        "# print(\"Starting parallel processing with multiprocessing...\")\n",
        "# # Using a Pool of worker processes\n",
        "# with multiprocessing.Pool(processes=4) as pool: # Use up to 4 cores\n",
        "#     # Map the analyze_data_file function to the list of files\n",
        "#     results_parallel = pool.map(analyze_data_file, data_files)\n",
        "# print(\"Parallel processing finished.\")\n",
        "# --------------------------------------------------------------\n",
        "\n",
        "# In the conceptual multiprocessing example, each analyze_data_file call\n",
        "# would run in a separate process on a different CPU core, potentially\n",
        "# reducing the total execution time compared to the sequential approach,\n",
        "# assuming the task is CPU-bound."
      ],
      "metadata": {
        "colab": {
          "base_uri": "https://localhost:8080/"
        },
        "id": "AV98vfTSsTRr",
        "outputId": "44776a59-f27f-4e9c-8d27-9a3328578d06"
      },
      "execution_count": 4,
      "outputs": [
        {
          "output_type": "stream",
          "name": "stdout",
          "text": [
            "Starting sequential processing...\n",
            "Analyzing file: data_part_1.csv\n",
            "Finished analyzing: data_part_1.csv\n",
            "Analyzing file: data_part_2.csv\n",
            "Finished analyzing: data_part_2.csv\n",
            "Analyzing file: data_part_3.csv\n",
            "Finished analyzing: data_part_3.csv\n",
            "Analyzing file: data_part_4.csv\n",
            "Finished analyzing: data_part_4.csv\n",
            "Sequential processing finished.\n"
          ]
        }
      ]
    },
    {
      "cell_type": "markdown",
      "source": [
        "### **Conceptual Example 2: Concurrent I/O Operations**\n",
        "\n",
        "Imagine you need to download data from several different URLs. While one download is waiting for data from the network, another download can start or continue. This is an I/O-bound scenario where concurrency could be beneficial."
      ],
      "metadata": {
        "id": "jyF9YSmatTFV"
      }
    },
    {
      "cell_type": "code",
      "source": [
        "# Conceptual code - not actual threading implementation here\n",
        "\n",
        "def download_data_from_url(url):\n",
        "    \"\"\"\n",
        "    Conceptual function to simulate downloading data from a URL.\n",
        "    This would likely involve waiting for network responses, which is I/O-bound.\n",
        "    \"\"\"\n",
        "    print(f\"Starting download from: {url}\")\n",
        "    # Simulate waiting for network data\n",
        "    import time\n",
        "    import random\n",
        "    wait_time = random.uniform(0.5, 2.0) # Simulate variable network latency\n",
        "    time.sleep(wait_time)\n",
        "    print(f\"Finished download from: {url}\")\n",
        "    return f\"Data from {url}\"\n",
        "\n",
        "# List of URLs to download data from\n",
        "data_urls = [\n",
        "    \"http://example.com/data1\",\n",
        "    \"http://example.com/data2\",\n",
        "    \"http://example.com/data3\",\n",
        "]\n",
        "\n",
        "print(\"Starting sequential download...\")\n",
        "# Sequential download (without concurrency)\n",
        "results_sequential_io = []\n",
        "for url in data_urls:\n",
        "    result = download_data_from_url(url)\n",
        "    results_sequential_io.append(result)\n",
        "print(\"Sequential download finished.\")\n",
        "\n",
        "# --- How Threading COULD be applied here (conceptual) ---\n",
        "# import threading\n",
        "#\n",
        "# print(\"Starting concurrent download with threading...\")\n",
        "# # List to store results (need to be careful with shared data in threading)\n",
        "# results_concurrent_io = []\n",
        "# # Lock for safely updating the shared results list\n",
        "# results_lock = threading.Lock()\n",
        "#\n",
        "# def download_and_store(url, results_list, lock):\n",
        "#    result = download_data_from_url(url)\n",
        "#    with lock:\n",
        "#        results_list.append(result)\n",
        "#\n",
        "# threads = []\n",
        "# for url in data_urls:\n",
        "#    thread = threading.Thread(target=download_and_store, args=(url, results_concurrent_io, results_lock))\n",
        "#    threads.append(thread)\n",
        "#    thread.start()\n",
        "#\n",
        "# # Wait for all threads to complete\n",
        "# for thread in threads:\n",
        "#    thread.join()\n",
        "#\n",
        "# print(\"Concurrent download finished.\")\n",
        "# --------------------------------------------------------------\n",
        "\n",
        "# In the conceptual threading example, while one thread is waiting for a download\n",
        "# to complete (I/O), the GIL is released, allowing other threads to run and start\n",
        "# their downloads. This can lead to a shorter total execution time compared to\n",
        "# sequential processing for I/O-bound tasks."
      ],
      "metadata": {
        "colab": {
          "base_uri": "https://localhost:8080/"
        },
        "id": "d8gN1DL_sqE9",
        "outputId": "3c3b32c4-b9e9-49cf-89c8-5869d1f447b0"
      },
      "execution_count": 7,
      "outputs": [
        {
          "output_type": "stream",
          "name": "stdout",
          "text": [
            "Starting sequential download...\n",
            "Starting download from: http://example.com/data1\n",
            "Finished download from: http://example.com/data1\n",
            "Starting download from: http://example.com/data2\n",
            "Finished download from: http://example.com/data2\n",
            "Starting download from: http://example.com/data3\n",
            "Finished download from: http://example.com/data3\n",
            "Sequential download finished.\n"
          ]
        }
      ]
    },
    {
      "cell_type": "markdown",
      "source": [
        "## 1.31 Practical Examples\n",
        "---\n",
        "- **Real Python**: [Python Practice Problems](https://realpython.com/python-practice-problems/)\n",
        "- **GeeksforGeeks**: [Python Programming Examples](https://www.geeksforgeeks.org/python-programming-examples/)\n",
        "- **HackerRank**: [Python Domain](https://www.hackerrank.com/domains/python)\n",
        "- **LeetCode**: [Python Problems](https://leetcode.com/problemset/all/)\n",
        "\n",
        "This section provides practical examples that combine multiple Python concepts covered in the previous sections. These examples demonstrate how these fundamental building blocks can be integrated to solve common data science and data processing tasks."
      ],
      "metadata": {
        "id": "7NidVOpRtcXc"
      }
    },
    {
      "cell_type": "markdown",
      "source": [
        "### Example 1: Processing Student Scores\n",
        "- **GeeksforGeeks**: [Python Programs for Student Data](https://www.geeksforgeeks.org/python-program-to-find-student-with-highest-marks/)\n"
      ],
      "metadata": {
        "id": "d6rz2Vuht7kq"
      }
    },
    {
      "cell_type": "code",
      "metadata": {
        "colab": {
          "base_uri": "https://localhost:8080/"
        },
        "id": "276778c1",
        "outputId": "b79c39f6-9fb1-4728-88ee-df404a58af55"
      },
      "source": [
        "import csv\n",
        "import os\n",
        "\n",
        "# Example 1: Processing student data from a CSV file\n",
        "\n",
        "# Create a dummy CSV file for demonstration\n",
        "dummy_csv_content = \"\"\"name,subject,score\n",
        "Alice,Math,85\n",
        "Bob,Physics,92\n",
        "Alice,Chemistry,78\n",
        "Bob,Math,90\n",
        "Charlie,History,65\n",
        "Alice,Physics,88\n",
        "\"\"\"\n",
        "dummy_csv_path = \"student_scores.csv\"\n",
        "with open(dummy_csv_path, \"w\", newline=\"\") as f:\n",
        "    f.write(dummy_csv_content)\n",
        "\n",
        "print(\"--- Example 1: Processing Student Scores ---\")\n",
        "\n",
        "student_data = []\n",
        "try:\n",
        "    # Read data from the dummy CSV file\n",
        "    with open(dummy_csv_path, 'r') as csvfile:\n",
        "        csv_reader = csv.reader(csvfile)\n",
        "        header = next(csv_reader) # Skip header row\n",
        "        for row in csv_reader:\n",
        "            # Basic validation and type conversion\n",
        "            if len(row) == 3:\n",
        "                try:\n",
        "                    name, subject, score_str = row\n",
        "                    score = int(score_str)\n",
        "                    student_data.append({'name': name, 'subject': subject, 'score': score})\n",
        "                except ValueError:\n",
        "                    print(f\"Skipping row due to invalid score: {row}\")\n",
        "            else:\n",
        "                print(f\"Skipping invalid row format: {row}\")\n",
        "\n",
        "except FileNotFoundError:\n",
        "    print(f\"Error: The file '{dummy_csv_path}' was not found.\")\n",
        "except Exception as e:\n",
        "    print(f\"An unexpected error occurred while reading the file: {e}\")\n",
        "\n",
        "\n",
        "if student_data:\n",
        "    print(\"\\nRaw student data loaded:\")\n",
        "    print(student_data)\n",
        "\n",
        "    # Use list comprehension to filter data (e.g., scores above 80)\n",
        "    high_scores = [s for s in student_data if s['score'] >= 80]\n",
        "    print(\"\\nStudents with scores >= 80:\")\n",
        "    print(high_scores)\n",
        "\n",
        "    # Use dictionary comprehension to create a dictionary of average scores per student\n",
        "    # Group scores by student first using defaultdict (or manual grouping)\n",
        "    from collections import defaultdict\n",
        "    scores_by_student = defaultdict(list)\n",
        "    for record in student_data:\n",
        "        scores_by_student[record['name']].append(record['score'])\n",
        "\n",
        "    # Calculate average using a lambda function with map and sum\n",
        "    average_scores = {\n",
        "        name: sum(scores) / len(scores)\n",
        "        for name, scores in scores_by_student.items()\n",
        "    }\n",
        "    print(\"\\nAverage scores per student:\")\n",
        "    print(average_scores)\n",
        "\n",
        "    # Example using map and lambda to apply a function to filtered data\n",
        "    # Get just the names of students with high scores\n",
        "    high_achievers_names = list(map(lambda s: s['name'], high_scores))\n",
        "    print(\"\\nNames of high achievers:\")\n",
        "    print(high_achievers_names)\n",
        "\n",
        "else:\n",
        "    print(\"\\nNo student data was loaded to process.\")\n",
        "\n",
        "# Clean up the dummy CSV file\n",
        "if os.path.exists(dummy_csv_path):\n",
        "    os.remove(dummy_csv_path)\n",
        "    print(f\"\\nCleaned up dummy file: {dummy_csv_path}\")"
      ],
      "execution_count": null,
      "outputs": [
        {
          "output_type": "stream",
          "name": "stdout",
          "text": [
            "--- Example 1: Processing Student Scores ---\n",
            "\n",
            "Raw student data loaded:\n",
            "[{'name': 'Alice', 'subject': 'Math', 'score': 85}, {'name': 'Bob', 'subject': 'Physics', 'score': 92}, {'name': 'Alice', 'subject': 'Chemistry', 'score': 78}, {'name': 'Bob', 'subject': 'Math', 'score': 90}, {'name': 'Charlie', 'subject': 'History', 'score': 65}, {'name': 'Alice', 'subject': 'Physics', 'score': 88}]\n",
            "\n",
            "Students with scores >= 80:\n",
            "[{'name': 'Alice', 'subject': 'Math', 'score': 85}, {'name': 'Bob', 'subject': 'Physics', 'score': 92}, {'name': 'Bob', 'subject': 'Math', 'score': 90}, {'name': 'Alice', 'subject': 'Physics', 'score': 88}]\n",
            "\n",
            "Average scores per student:\n",
            "{'Alice': 83.66666666666667, 'Bob': 91.0, 'Charlie': 65.0}\n",
            "\n",
            "Names of high achievers:\n",
            "['Alice', 'Bob', 'Bob', 'Alice']\n",
            "\n",
            "Cleaned up dummy file: student_scores.csv\n"
          ]
        }
      ]
    },
    {
      "cell_type": "markdown",
      "source": [
        "### Example 2: Analyzing Log Data using Generators and Collections\n",
        "- **Real Python**: [Working with Large Datasets in Python](https://realpython.com/working-with-large-excel-files-in-pandas/)\n",
        "- **Towards Data Science**: [Log Analysis with Python](https://towardsdatascience.com/log-analysis-with-python-b74a86c0a97)"
      ],
      "metadata": {
        "id": "oiDKRJOPtxd8"
      }
    },
    {
      "cell_type": "code",
      "metadata": {
        "colab": {
          "base_uri": "https://localhost:8080/"
        },
        "id": "67dd430b",
        "outputId": "88bbd96a-679c-4683-de8c-d2ff996891b6"
      },
      "source": [
        "# Example 2: Analyzing Log Data using Generators and Collections\n",
        "\n",
        "import os\n",
        "import random\n",
        "from collections import Counter\n",
        "\n",
        "# Create a dummy large log file for demonstration (simulating different event types)\n",
        "dummy_log_path = \"dummy_log.txt\"\n",
        "event_types = [\"INFO\", \"WARNING\", \"ERROR\", \"DEBUG\"]\n",
        "log_content = \"\\n\".join([\n",
        "    f\"[{i+1}] {random.choice(event_types)}: This is a log message.\"\n",
        "    for i in range(50000) # Simulate a large file with 50,000 lines\n",
        "])\n",
        "\n",
        "with open(dummy_log_path, \"w\") as f:\n",
        "    f.write(log_content)\n",
        "\n",
        "print(\"--- Example 2: Analyzing Log Data ---\")\n",
        "\n",
        "def log_line_generator(filepath):\n",
        "    \"\"\"\n",
        "    A generator function to read log file line by line.\n",
        "    Includes basic error handling for file not found.\n",
        "    \"\"\"\n",
        "    print(f\"Processing log file: {filepath}...\")\n",
        "    try:\n",
        "        with open(filepath, 'r') as f:\n",
        "            for line in f:\n",
        "                yield line.strip() # Yield each line, stripped of whitespace\n",
        "    except FileNotFoundError:\n",
        "        print(f\"Error: Log file not found at {filepath}\")\n",
        "    except Exception as e:\n",
        "        print(f\"An error occurred while reading the log file: {e}\")\n",
        "    print(f\"Finished processing log file: {filepath}.\")\n",
        "\n",
        "\n",
        "# Use the generator to read lines and Counter to count event types\n",
        "event_counts = Counter()\n",
        "total_processed_lines = 0\n",
        "\n",
        "# Iterate over the log lines using the generator\n",
        "for line in log_line_generator(dummy_log_path):\n",
        "    # Simple parsing to extract event type\n",
        "    if \":\" in line:\n",
        "        try:\n",
        "            # Assuming format like \"[ID] EVENT_TYPE: message\"\n",
        "            parts = line.split(\":\", 1) # Split only on the first colon\n",
        "            event_part = parts[0].split(\"] \")[1] # Extract the part after \"] \"\n",
        "            event_type = event_part.strip()\n",
        "            if event_type in event_types: # Only count predefined event types\n",
        "                event_counts[event_type] += 1\n",
        "            else:\n",
        "                 # Handle lines that don't match expected event types format\n",
        "                 # print(f\"Skipping line with unexpected event type format: {line}\")\n",
        "                 pass # Or count as 'UNKNOWN' event_counts['UNKNOWN'] += 1\n",
        "\n",
        "            total_processed_lines += 1\n",
        "        except IndexError:\n",
        "            # Handle lines that don't have the expected \"[ID] EVENT_TYPE: \" format\n",
        "            # print(f\"Skipping line with unexpected format: {line}\")\n",
        "            pass # Or count as 'MALFORMED' event_counts['MALFORMED'] += 1\n",
        "        except Exception as e:\n",
        "             print(f\"An error occurred while processing line: {line} - {e}\")\n",
        "             pass # Continue processing other lines\n",
        "    else:\n",
        "        # Handle lines without a colon (e.g., empty lines)\n",
        "        # print(f\"Skipping line without colon: {line}\")\n",
        "        pass # Or count as 'OTHER' event_counts['OTHER'] += 1\n",
        "\n",
        "\n",
        "if total_processed_lines > 0:\n",
        "    print(f\"\\nTotal lines processed: {total_processed_lines}\")\n",
        "    print(\"\\nEvent type counts:\")\n",
        "    print(event_counts)\n",
        "\n",
        "    print(\"\\nMost common event types:\")\n",
        "    print(event_counts.most_common(2)) # Get the 2 most common types\n",
        "\n",
        "else:\n",
        "    print(\"\\nNo log data was processed.\")\n",
        "\n",
        "\n",
        "# Test generator with a non-existent file\n",
        "print(\"\\nTesting log generator with non-existent file:\")\n",
        "for line in log_line_generator(\"non_existent_log.txt\"):\n",
        "    # This loop body won't execute if the file is not found\n",
        "    pass\n",
        "\n",
        "\n",
        "# Clean up the dummy log file\n",
        "if os.path.exists(dummy_log_path):\n",
        "    os.remove(dummy_log_path)\n",
        "    print(f\"\\nCleaned up dummy log file: {dummy_log_path}\")"
      ],
      "execution_count": null,
      "outputs": [
        {
          "output_type": "stream",
          "name": "stdout",
          "text": [
            "--- Example 2: Analyzing Log Data ---\n",
            "Processing log file: dummy_log.txt...\n",
            "Finished processing log file: dummy_log.txt.\n",
            "\n",
            "Total lines processed: 50000\n",
            "\n",
            "Event type counts:\n",
            "Counter({'ERROR': 12585, 'WARNING': 12557, 'INFO': 12464, 'DEBUG': 12394})\n",
            "\n",
            "Most common event types:\n",
            "[('ERROR', 12585), ('WARNING', 12557)]\n",
            "\n",
            "Testing log generator with non-existent file:\n",
            "Processing log file: non_existent_log.txt...\n",
            "Error: Log file not found at non_existent_log.txt\n",
            "Finished processing log file: non_existent_log.txt.\n",
            "\n",
            "Cleaned up dummy log file: dummy_log.txt\n"
          ]
        }
      ]
    },
    {
      "cell_type": "markdown",
      "source": [
        "## 1.32 Code Optimization and Profiling\n",
        "---\n",
        "- **Real Python**: [Python Timer Functions: Three Ways to Monitor Your Code](https://realpython.com/python-timer/)\n",
        "- **GeeksforGeeks**: [Python Code Optimization](https://www.geeksforgeeks.org/python-code-optimizations/)\n",
        "- **Python.org**: [The Python Profilers](https://docs.python.org/3/library/profile.html)\n",
        "\n",
        "In data science, especially when dealing with large datasets or complex models, the performance of your code can become a critical factor. **Code optimization** is the process of modifying your code to make it run more efficiently, typically by reducing execution time or memory usage. **Profiling** is the process of analyzing your code to identify performance bottlenecks – the parts of your code that consume the most resources (time, memory, CPU).\n",
        "\n",
        "**Importance in Data Science:**\n",
        "\n",
        "- **Handling Large Data:** Processing massive datasets efficiently requires optimized code to avoid excessive memory consumption or prohibitively long execution times.\n",
        "- **Faster Model Training:** Training complex machine learning models can be computationally expensive. Identifying and optimizing bottlenecks in training loops or data preprocessing can significantly reduce training time.\n",
        "- **Real-time Applications:** For applications requiring low latency (e.g., real-time predictions), optimized code is essential.\n",
        "- **Resource Management:** Efficient code uses fewer computational resources, which can be important in cloud environments or on resource-constrained systems.\n",
        "\n",
        "**Common Python Profiling Tools:**\n",
        "\n",
        "Python's standard library provides several tools for profiling:\n",
        "\n",
        "- **`cProfile`:** A deterministic profiler that provides detailed reports on function calls, execution times, and call counts. It's useful for identifying which functions are taking the most time.\n",
        "- **`timeit`:** A module for microbenchmarking small code snippets. It runs the code multiple times and reports the average execution time, useful for comparing the performance of different approaches for the same task."
      ],
      "metadata": {
        "id": "aPCLrBi8uLW_"
      }
    },
    {
      "cell_type": "markdown",
      "source": [
        "### Using cProfile\n",
        "- **Real Python**: [Python's cProfile: Profiling Your Code](https://realpython.com/python-profiling/)\n",
        "- **PyMOTW**: [profile and cProfile – Performance Analysis](https://pymotw.com/3/profile/)\n",
        "\n",
        "`cProfile` is a built-in profiler that gives you a detailed breakdown of where your program spends its time. It is deterministic, meaning it tracks every function call. This makes it suitable for identifying the most time-consuming functions in your code.\n",
        "\n",
        "To use `cProfile` from within a script or a Jupyter Notebook cell, you can use the `%prun` magic command.\n",
        "\n",
        "`%prun options function_call`\n",
        "\n",
        "Common options include:\n",
        "\n",
        "- `-s sort_order`: Sort the output by a specific column (e.g., `cumulative`, `tottime`, `ncalls`). cumulative is often the most useful, showing the total time spent in a function including calls to other functions.\n",
        "\n",
        "**Interpreting `cProfile` Output:**\n",
        "\n",
        "The output of `cProfile` typically includes columns such as:\n",
        "\n",
        "- `ncalls`: The number of times the function was called.\n",
        "- `tottime`: The total time spent in the function itself, excluding time spent in functions called by it.\n",
        "- `percall` (for tottime): Average time per call (tottime / ncalls).\n",
        "- `cumtime`: The cumulative time spent in the function including time spent in functions called by it.\n",
        "- `percall` (for cumtime): Average cumulative time per call (cumtime / ncalls).\n",
        "- `filename`:lineno(function): The location and name of the function.\n",
        "\n",
        "Look for functions with high cumtime or tottime to identify performance bottlenecks.\n",
        "\n",
        "**Example:**\n",
        "\n",
        "Let's profile a function that simulates some computational work by calling other functions that introduce delays."
      ],
      "metadata": {
        "id": "O-rWLRrLu4rz"
      }
    },
    {
      "cell_type": "code",
      "metadata": {
        "colab": {
          "base_uri": "https://localhost:8080/"
        },
        "id": "622f03f1",
        "outputId": "4fbd265c-3377-47cf-b6f3-abe3e318c2b1"
      },
      "source": [
        "import time\n",
        "\n",
        "def slow_function_part1(n):\n",
        "    \"\"\"Simulates a slow computation.\"\"\"\n",
        "    time.sleep(0.1)\n",
        "    return sum(i for i in range(n))\n",
        "\n",
        "def slow_function_part2(data):\n",
        "    \"\"\"Simulates another slow computation.\"\"\"\n",
        "    time.sleep(0.2)\n",
        "    return sorted(data)\n",
        "\n",
        "def main_slow_process(size):\n",
        "    \"\"\"Main function that calls other potentially slow functions.\"\"\"\n",
        "    print(f\"Starting slow process with size {size}\")\n",
        "    result1 = slow_function_part1(size // 2)\n",
        "    data_list = list(range(size))\n",
        "    result2 = slow_function_part2(data_list)\n",
        "    print(\"Slow process finished.\")\n",
        "    return result1, result2\n",
        "\n",
        "# Profile the main_slow_process function\n",
        "print(\"Profiling main_slow_process...\")\n",
        "get_ipython().run_cell_magic('prun', '-s cumulative', 'main_slow_process(10000)')"
      ],
      "execution_count": null,
      "outputs": [
        {
          "output_type": "stream",
          "name": "stdout",
          "text": [
            "Profiling main_slow_process...\n",
            "Starting slow process with size 10000\n",
            "Slow process finished.\n",
            " "
          ]
        }
      ]
    },
    {
      "cell_type": "markdown",
      "source": [
        "### Using timeit\n",
        "- **Real Python**: [Python Timer Functions](https://realpython.com/python-timer/)\n",
        "- **GeeksforGeeks**: [Timeit in Python](https://www.geeksforgeeks.org/timeit-python-examples/)\n",
        "\n",
        "`timeit` is a module designed for microbenchmarking small bits of Python code. It runs the code snippet multiple times (controlled by the number parameter) and repeats the entire test multiple times (controlled by the repeat parameter) to provide a more reliable average execution time, minimizing the impact of variations in system load.\n",
        "\n",
        "It's ideal for comparing the performance of two or more different ways to achieve the same result, helping you choose the most efficient one for small operations.\n",
        "\n",
        "To use timeit from within a Jupyter Notebook cell, you can use the `%timeit` or `%%timeit` magic commands.\n",
        "\n",
        "- `%timeit`: Times a single line of Python code.\n",
        "- `%%timeit`: Times an entire cell of Python code.\n",
        "\n",
        "`%timeit [-n number] [-r repeat] [-p prec] [statement]`\n",
        "\n",
        "- `-n number`: The number of times to execute the statement in each run (loop). timeit automatically determines a reasonable default if not specified.\n",
        "- `-r repeat`: The number of times to repeat the timing of the statement (the entire test). timeit automatically determines a reasonable default if not specified.\n",
        "- `-p prec`: The precision of the reported time.\n",
        "\n",
        "**Example:**\n",
        "\n",
        "Let's use timeit to compare the performance of two common ways to concatenate strings or lists."
      ],
      "metadata": {
        "id": "EQjg2O4Jv1cu"
      }
    },
    {
      "cell_type": "code",
      "metadata": {
        "colab": {
          "base_uri": "https://localhost:8080/"
        },
        "id": "efe55401",
        "outputId": "6cee8176-bdc9-4e1e-b9ff-559ddbdf26bb"
      },
      "source": [
        "# Example: Comparing string concatenation methods\n",
        "\n",
        "print(\"Comparing string concatenation using '+' vs '.join()':\")\n",
        "long_string_list = ['a'] * 10000\n",
        "\n",
        "# Method 1: Using '+' (generally slower for many concatenations)\n",
        "get_ipython().run_cell_magic('timeit', '', \"result_plus = ''\\nfor s in long_string_list:\\n    result_plus += s\")\n",
        "\n",
        "# Method 2: Using '.join()' (generally faster for many concatenations)\n",
        "get_ipython().run_cell_magic('timeit', '', \"result_join = ''.join(long_string_list)\")\n",
        "\n",
        "print(\"\\nComparing list creation/concatenation methods:\")\n",
        "\n",
        "# Method 1: Using '+' for list concatenation (creates new lists)\n",
        "get_ipython().run_cell_magic('timeit', '', \"my_list_plus = []\\nfor i in range(1000):\\n    my_list_plus = my_list_plus + [i]\")\n",
        "\n",
        "# Method 2: Using list.append() (modifies list in-place, generally faster)\n",
        "get_ipython().run_cell_magic('timeit', '', \"my_list_append = []\\nfor i in range(1000):\\n    my_list_append.append(i)\")\n",
        "\n",
        "# Method 3: Using list comprehension (often the most Pythonic and efficient)\n",
        "get_ipython().run_cell_magic('timeit', '', \"my_list_comp = [i for i in range(1000)]\")"
      ],
      "execution_count": null,
      "outputs": [
        {
          "output_type": "stream",
          "name": "stdout",
          "text": [
            "Comparing string concatenation using '+' vs '.join()':\n",
            "1.42 ms ± 359 µs per loop (mean ± std. dev. of 7 runs, 100 loops each)\n",
            "113 µs ± 26.8 µs per loop (mean ± std. dev. of 7 runs, 10000 loops each)\n",
            "\n",
            "Comparing list creation/concatenation methods:\n",
            "1.38 ms ± 227 µs per loop (mean ± std. dev. of 7 runs, 1000 loops each)\n",
            "31.8 µs ± 1.74 µs per loop (mean ± std. dev. of 7 runs, 10000 loops each)\n",
            "24.4 µs ± 995 ns per loop (mean ± std. dev. of 7 runs, 10000 loops each)\n"
          ]
        }
      ]
    },
    {
      "cell_type": "markdown",
      "source": [
        "### Common Code Optimization Techniques\n",
        "- **Towards Data Science**: [5 Python Performance Tips](https://towardsdatascience.com/5-python-performance-tips-b5e3d23d2c00)\n",
        "- **Real Python**: [Python Code Quality](https://realpython.com/python-code-quality/)\n",
        "\n",
        "Once profiling has helped you identify performance bottlenecks, you can apply various optimization techniques:\n",
        "\n",
        "- **Choose Appropriate Data Structures:** Selecting the right data structure (lists, sets, dictionaries, tuples, or specialized `collections` types like `deque` or `Counter`) based on the operations you need to perform can have a significant impact on performance. For example, checking for membership (`in`) is much faster in sets than in lists.\n",
        "- **Use Built-in Functions and Libraries:** Python's built-in functions (like `sum()`, `len()`, `max()`, `min()`) and standard library modules are often implemented in C and are highly optimized. Prefer these over writing your own equivalent logic in pure Python when possible.\n",
        "- **List/Set/Dictionary Comprehensions:** As demonstrated in earlier sections, comprehensions are often more concise and faster than traditional for loops for creating and transforming lists, sets, and dictionaries.\n",
        "- **Generators:** For processing large datasets or potentially infinite sequences, use generators and generator expressions (as discussed in section 1.28) to avoid loading everything into memory, saving significant memory and potentially time.\n",
        "- **Vectorization with NumPy:** For numerical operations, especially on arrays and matrices, using NumPy's vectorized operations is dramatically faster than using Python loops. NumPy operations are implemented in C and can leverage optimized linear algebra libraries.\n",
        "- **Avoid Unnecessary Object Creation:** Creating and destroying objects in loops can add overhead. Try to reuse objects or use techniques that minimize temporary object creation.\n",
        "- **Optimize Loops:** If you must use loops, try to move computations outside the loop if they don't depend on the loop variable. Avoid repeatedly accessing attributes or performing expensive operations inside tight loops.\n",
        "- **Consider Algorithms:** Sometimes, the biggest performance gains come from choosing a more efficient algorithm for your task, rather than micro-optimizing the code implementation.\n",
        "- **Just-In-Time (JIT) Compilers:** For highly performance-critical sections of numerical code, libraries like Numba or PyPy can sometimes provide significant speedups by compiling Python code to machine code.\n",
        "- **Parallelism and Concurrency:** For CPU-bound tasks, use `multiprocessing` to leverage multiple cores. For I/O-bound tasks, use `threading` or asynchronous programming (as briefly introduced in section 1.30) to overlap waiting time with other work."
      ],
      "metadata": {
        "id": "850w6rJEwgsl"
      }
    },
    {
      "cell_type": "markdown",
      "source": [
        "## 1.33 Recommended Libraries for Data Science\n",
        "---\n",
        "- **Real Python**: [The Most Popular Python Libraries](https://realpython.com/python-libraries/)\n",
        "- **GeeksforGeeks**: [Python Libraries for Data Science](https://www.geeksforgeeks.org/python-libraries-for-data-science/)\n",
        "- **DataCamp**: [Python Data Science Libraries](https://www.datacamp.com/blog/top-python-libraries-for-data-science)\n",
        "- **Towards Data Science**: [Essential Python Libraries for Data Science](https://towardsdatascience.com/best-python-libraries-for-machine-learning-and-deep-learning-b0bd40c7e8c)\n",
        "- **KDnuggets**: [Top Python Libraries for Data Science](https://www.kdnuggets.com/2020/11/top-python-libraries-data-science.html)\n",
        "\n",
        "While Python's standard library provides a solid foundation, the true power of Python for data science, machine learning, and AI comes from its extensive ecosystem of specialized third-party libraries. These libraries offer highly optimized tools and functionalities for a wide range of tasks, from numerical computation to model building and visualization.\n",
        "\n",
        "**Numerical Computing**\n",
        "- **NumPy (Numerical Python):** The fundamental package for numerical computing in Python. It provides support for large, multi-dimensional arrays and matrices, along with a collection of high-level mathematical functions to operate on these arrays. NumPy is the backbone of many other data science libraries.\n",
        "\n",
        "**Data Manipulation and Analysis**\n",
        "- **Pandas:** An essential library for data manipulation and analysis. It introduces two primary data structures: the `DataFrame` (a two-dimensional table) and the `Series` (a one-dimensional array). Pandas provides powerful tools for reading and writing data, cleaning, filtering, transforming, and aggregating data.\n",
        "\n",
        "**Visualization**\n",
        "- **Matplotlib:** A comprehensive library for creating static, animated, and interactive visualizations in Python. It offers a wide variety of plots and charts and provides a high degree of control over the appearance of your visualizations.\n",
        "- **Seaborn:** Built on top of Matplotlib, Seaborn provides a high-level interface for drawing attractive and informative statistical graphics. It simplifies the creation of common plot types and offers aesthetically pleasing default styles.\n",
        "\n",
        "**Machine Learning**\n",
        "- **Scikit-learn:** A powerful and easy-to-use library for machine learning in Python. It provides a wide range of supervised and unsupervised learning algorithms, as well as tools for model selection, evaluation, and data preprocessing. Its consistent API makes it easy to experiment with different models.\n",
        "\n",
        "**Deep Learning**\n",
        "- **TensorFlow:** An open-source platform for machine learning and deep learning developed by Google. It provides a comprehensive ecosystem of tools, libraries, and resources for building and deploying machine learning models, particularly neural networks.\n",
        "- **PyTorch:** An open-source machine learning library developed by Facebook's AI Research lab. It is known for its flexibility, ease of use, and dynamic computation graph, making it popular for research and development in deep learning.\n",
        "\n",
        "**Other Useful Libraries**\n",
        "- **SciPy (Scientific Python):** Built on top of NumPy, SciPy provides a collection of algorithms and functions for scientific and technical computing, including modules for optimization, linear algebra, integration, interpolation, and more.\n",
        "- **Statsmodels:** A library that provides classes and functions for the estimation of many different statistical models, as well as for conducting statistical tests and statistical data exploration."
      ],
      "metadata": {
        "id": "km7dvGalx0FN"
      }
    },
    {
      "cell_type": "markdown",
      "source": [
        "## **Additional Comprehensive Learning Platforms**\n",
        "\n",
        "### **Complete Course Platforms**\n",
        "- **Real Python**: [Complete Python Learning Path](https://realpython.com/learning-paths/)\n",
        "- **GeeksforGeeks**: [Python Tutorial](https://www.geeksforgeeks.org/python-programming-language/)\n",
        "- **Python-Course.eu**: [Complete Python Course](https://python-course.eu/)\n",
        "- **Programiz**: [Learn Python Programming](https://www.programiz.com/python-programming)\n",
        "- **W3Schools**: [Python Tutorial](https://www.w3schools.com/python/)\n",
        "\n",
        "### **Interactive Learning**\n",
        "- **Codecademy**: [Learn Python 3](https://www.codecademy.com/learn/learn-python-3)\n",
        "- **DataCamp**: [Introduction to Python](https://www.datacamp.com/courses/intro-to-python-for-data-science)\n",
        "- **freeCodeCamp**: [Scientific Computing with Python](https://www.freecodecamp.org/learn/scientific-computing-with-python/)\n",
        "\n",
        "### **Books and Documentation**\n",
        "- **Python.org**: [Official Python Tutorial](https://docs.python.org/3/tutorial/)\n",
        "- **Automate the Boring Stuff with Python**: [Online Book](https://automatetheboringstuff.com/)\n",
        "- **Python Crash Course**: [Book Resources](https://ehmatthes.github.io/pcc/)\n",
        "- **Think Python**: [Online Book](https://greenteapress.com/wp/think-python-2e/)\n",
        "\n",
        "---\n",
        "\n",
        "**Note**: This comprehensive list provides the most authoritative and well-maintained resources for each topic. Real Python, GeeksforGeeks, and official Python documentation are consistently the most reliable sources for learning Python concepts in depth. Each resource has been selected based on content quality, comprehensive coverage, practical examples, and community recognition."
      ],
      "metadata": {
        "id": "oO9QKA659TLM"
      }
    },
    {
      "cell_type": "markdown",
      "source": [
        "# 🚀 Complete Python Cheat Sheet for Machine Learning, Deep Learning & AI\n",
        "### 📋 Table of Contents\n",
        "\n",
        "- [Introduction](https://colab.research.google.com/drive/1AmLQ-g3jVHH52TD0C3paQpnJu4Wl9e0D?usp=sharing)\n",
        "\n",
        "\n",
        "1. [**Python Fundamentals**](https://colab.research.google.com/drive/1linKYA8PHgnMb4ugYkClIWu0_7SdfLtk?usp=sharing) - Your foundation for data science success\n",
        "2. [**NumPy - Numerical Computing**](https://colab.research.google.com/drive/1qZFirXOdQtbtfCdJPtT9RU-FshLo9qLH?usp=sharing) - Power through numbers with blazing speed\n",
        "3. [**Pandas - Data Manipulation**](https://colab.research.google.com/drive/18QZJEVNTCqfHAATjvYZZy4e-gcDmKpMk?usp=sharing) - Transform chaos into insights\n",
        "4. **Matplotlib & Seaborn - Data Visualization** - Paint pictures with data\n",
        "5. **Scikit-learn - Machine Learning** - Your first step into intelligent systems\n",
        "6. **TensorFlow & Keras - Deep Learning** - Build brains that think\n",
        "7. **PyTorch - Deep Learning** - Flexible neural network creation\n",
        "8. **Data Preprocessing** - Clean data, clear results\n",
        "9. **Model Evaluation & Metrics** - Measure what matters\n",
        "10. **Advanced Topics** - Push the boundaries of possibility\n",
        "11. **Best Practices** - Code like a professional\n",
        "12. **Resources & Further Learning** - Never stop growing\n",
        "\n",
        "* * *\n",
        "\n",
        "### **Copyright © 2025, [`Mirza Naeem Beg`](https://mirzanaeembeg.github.io/). All rights reserved.**\n",
        "\n",
        "### <mark>**Important Note:**</mark>\n",
        "***This content is provided solely for educational purposes. I am the sole author of this entire cheat sheet. While some images from the internet and AI-generated code and descriptions were used where necessary, the overall compilation, structure, and majority of the content are my original work. And I am inspired by my Soft Computing Lab (CSE4130) and Pattern & Machine Learning Lab (CSE4114) to do this entire thing.***\n",
        "\n",
        "* * *"
      ],
      "metadata": {
        "id": "c34XyQwGouXg"
      }
    },
    {
      "cell_type": "markdown",
      "source": [
        "**`Mirza Naeem Beg`**<br>\n",
        "`Final Year UG Student,`<br>\n",
        "`Dept. of CSE,` [**`AUST`**](https://aust.edu/)\n",
        "\n",
        "[`Learn more about me;`](https://mirzanaeembeg.github.io/)\n",
        "\n"
      ],
      "metadata": {
        "id": "kTOrA8Gkoq2R"
      }
    }
  ]
}