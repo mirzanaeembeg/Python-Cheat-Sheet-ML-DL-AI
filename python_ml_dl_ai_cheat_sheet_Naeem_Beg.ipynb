{
  "nbformat": 4,
  "nbformat_minor": 0,
  "metadata": {
    "colab": {
      "provenance": [],
      "authorship_tag": "ABX9TyNtj0proBuhlnxI8h3HqfDW",
      "include_colab_link": true
    },
    "kernelspec": {
      "name": "python3",
      "display_name": "Python 3"
    },
    "language_info": {
      "name": "python"
    }
  },
  "cells": [
    {
      "cell_type": "markdown",
      "metadata": {
        "id": "view-in-github",
        "colab_type": "text"
      },
      "source": [
        "<a href=\"https://colab.research.google.com/github/mirzanaeembeg/Python-Cheat-Sheet-ML-DL-AI/blob/main/python_ml_dl_ai_cheat_sheet_Naeem_Beg.ipynb\" target=\"_parent\"><img src=\"https://colab.research.google.com/assets/colab-badge.svg\" alt=\"Open In Colab\"/></a>"
      ]
    },
    {
      "cell_type": "markdown",
      "source": [
        "# Complete Python Cheat Sheet for Machine Learning, Deep Learning & AI\n",
        "\n",
        "## Table of Contents\n",
        "1. [Python Fundamentals](#1-python-fundamentals)\n",
        "2. [NumPy - Numerical Computing](#2-numpy---numerical-computing)\n",
        "3. [Pandas - Data Manipulation](#3-pandas---data-manipulation)\n",
        "4. [Matplotlib & Seaborn - Data Visualization](#4-matplotlib--seaborn---data-visualization)\n",
        "5. [Scikit-learn - Machine Learning](#5-scikit-learn---machine-learning)\n",
        "6. [TensorFlow & Keras - Deep Learning](#6-tensorflow--keras---deep-learning)\n",
        "7. [PyTorch - Deep Learning](#7-pytorch---deep-learning)\n",
        "8. [Data Preprocessing](#8-data-preprocessing)\n",
        "9. [Model Evaluation & Metrics](#9-model-evaluation--metrics)\n",
        "10. [Advanced Topics](#10-advanced-topics)\n",
        "11. [Best Practices](#11-best-practices)\n",
        "12. [Resources & Further Learning](#12-resources--further-learning)\n",
        "\n",
        "---"
      ],
      "metadata": {
        "id": "8sZyKy-HTD00"
      }
    },
    {
      "cell_type": "markdown",
      "source": [
        "# **1. Python Fundamentals**\n",
        "## 1.1 Print Statements and String Formatting\n",
        "\n",
        "---\n",
        "\n"
      ],
      "metadata": {
        "id": "FsjKe5pOTx6-"
      }
    },
    {
      "cell_type": "markdown",
      "source": [
        "### Basic Print Statements"
      ],
      "metadata": {
        "id": "OF8wKMuFUhqq"
      }
    },
    {
      "cell_type": "code",
      "source": [
        "x = 10\n",
        "print(f'The value of x is {x}')        # f-string formatting\n",
        "print('The value of x is', x)          # comma-separated\n",
        "print('x = ' + str(x))                 # string concatenation"
      ],
      "metadata": {
        "colab": {
          "base_uri": "https://localhost:8080/"
        },
        "id": "QKIW-dq7VMq5",
        "outputId": "2d326ca8-5ef2-4428-e6a7-cd16e434c577"
      },
      "execution_count": 1,
      "outputs": [
        {
          "output_type": "stream",
          "name": "stdout",
          "text": [
            "The value of x is 10\n",
            "The value of x is 10\n",
            "x = 10\n"
          ]
        }
      ]
    },
    {
      "cell_type": "markdown",
      "source": [
        "### Multiple Variables"
      ],
      "metadata": {
        "id": "d9fSMNZ8Vh84"
      }
    },
    {
      "cell_type": "code",
      "source": [
        "x, y = 10, 20\n",
        "print('x =', x, 'y =', y)                  # comma-separated\n",
        "print(f'x = {x} y = {y}')                  # f-string\n",
        "print('x = ' + str(x) + ' y = ' + str(y))  # concatenation"
      ],
      "metadata": {
        "colab": {
          "base_uri": "https://localhost:8080/"
        },
        "id": "E4HyDJdRVjgX",
        "outputId": "8638b700-3f49-4cdc-8ee8-c80be82f29f8"
      },
      "execution_count": 2,
      "outputs": [
        {
          "output_type": "stream",
          "name": "stdout",
          "text": [
            "x = 10 y = 20\n",
            "x = 10 y = 20\n",
            "x = 10 y = 20\n"
          ]
        }
      ]
    },
    {
      "cell_type": "markdown",
      "source": [
        "### String Formatting Methods"
      ],
      "metadata": {
        "id": "GlAhOP16VvEU"
      }
    },
    {
      "cell_type": "code",
      "source": [
        "# f-strings (Python 3.6+) - Recommended\n",
        "name, age = \"Alice\", 25\n",
        "print(f\"Hello {name}, you are {age} years old\")\n",
        "\n",
        "# .format() method\n",
        "print(\"Hello {}, you are {} years old\".format(name, age))\n",
        "print(\"Hello {0}, you are {1} years old\".format(name, age))\n",
        "\n",
        "# % formatting (older style)\n",
        "print(\"Hello %s, you are %d years old\" % (name, age))"
      ],
      "metadata": {
        "colab": {
          "base_uri": "https://localhost:8080/"
        },
        "id": "rkM2CjOvVzBP",
        "outputId": "0ab3b607-773f-4622-932c-31195d41f0e1"
      },
      "execution_count": 4,
      "outputs": [
        {
          "output_type": "stream",
          "name": "stdout",
          "text": [
            "Hello Alice, you are 25 years old\n",
            "Hello Alice, you are 25 years old\n",
            "Hello Alice, you are 25 years old\n",
            "Hello Alice, you are 25 years old\n"
          ]
        }
      ]
    },
    {
      "cell_type": "markdown",
      "source": [
        "### Escape Characters"
      ],
      "metadata": {
        "id": "Ssaxzn5LV5Uy"
      }
    },
    {
      "cell_type": "code",
      "source": [
        "print(\"Hello World\\n\")                  # newline\n",
        "print(\"Hello\\tWorld\")                   # tab\n",
        "print(\"He said \\\"Hello\\\"\")              # escaped quotes"
      ],
      "metadata": {
        "colab": {
          "base_uri": "https://localhost:8080/"
        },
        "id": "VL1ZMh1VWJWT",
        "outputId": "1e930e90-a26d-4ebb-875b-ff723bf2e9d4"
      },
      "execution_count": 5,
      "outputs": [
        {
          "output_type": "stream",
          "name": "stdout",
          "text": [
            "Hello World\n",
            "\n",
            "Hello\tWorld\n",
            "He said \"Hello\"\n"
          ]
        }
      ]
    },
    {
      "cell_type": "markdown",
      "source": [
        "## 1.2 Lists - Creation and Basic Operations\n",
        "---\n",
        "\n"
      ],
      "metadata": {
        "id": "50ptwAPvWSUW"
      }
    },
    {
      "cell_type": "markdown",
      "source": [
        "### List Creation"
      ],
      "metadata": {
        "id": "orm3z8nlXC_j"
      }
    },
    {
      "cell_type": "code",
      "source": [
        "# Different data types in lists\n",
        "mixed_list = [1, 2, 3, 4, 'string', 2.222]\n",
        "numbers = [1, 5, 9, 55, 4545]\n",
        "empty_list = []\n",
        "print(mixed_list)\n",
        "print(numbers)\n",
        "print(empty_list)"
      ],
      "metadata": {
        "colab": {
          "base_uri": "https://localhost:8080/"
        },
        "id": "PMSWcfyzXFyk",
        "outputId": "6ba1d9ea-027c-43b0-e93e-02adcd4233d1"
      },
      "execution_count": 11,
      "outputs": [
        {
          "output_type": "stream",
          "name": "stdout",
          "text": [
            "[1, 2, 3, 4, 'string', 2.222]\n",
            "[1, 5, 9, 55, 4545]\n",
            "[]\n"
          ]
        }
      ]
    },
    {
      "cell_type": "markdown",
      "source": [
        "### List Properties"
      ],
      "metadata": {
        "id": "7AFO2eZ3XK5T"
      }
    },
    {
      "cell_type": "code",
      "source": [
        "my_list = [1, 2, 3, 4]\n",
        "print(type(my_list))                    # <class 'list'>\n",
        "print(len(my_list))                     # 4\n",
        "print(sum(my_list))                     # 10\n",
        "print(max(my_list))                     # 4\n",
        "print(min(my_list))                     # 1"
      ],
      "metadata": {
        "colab": {
          "base_uri": "https://localhost:8080/"
        },
        "id": "h28kJo8SXOmo",
        "outputId": "6fb2375b-4345-41f5-d9d2-097fbf7aaa3a"
      },
      "execution_count": 7,
      "outputs": [
        {
          "output_type": "stream",
          "name": "stdout",
          "text": [
            "<class 'list'>\n",
            "4\n",
            "10\n",
            "4\n",
            "1\n"
          ]
        }
      ]
    },
    {
      "cell_type": "markdown",
      "source": [
        "### Boolean Functions on Lists"
      ],
      "metadata": {
        "id": "VqCACBmIXmXt"
      }
    },
    {
      "cell_type": "code",
      "source": [
        "list1 = [1, 0, 3, 1, 0, 2]\n",
        "print(any(list1))                       # True (any non-zero)\n",
        "print(all(list1))                       # False (contains zeros)\n",
        "\n",
        "list2 = [1, 2, 3, 4, 5]\n",
        "print(all(list2))                       # True (all non-zero)"
      ],
      "metadata": {
        "colab": {
          "base_uri": "https://localhost:8080/"
        },
        "id": "m4E4lrSSXoi0",
        "outputId": "fb9e3754-1cb3-4fdd-dd77-3d2280d68ee4"
      },
      "execution_count": 12,
      "outputs": [
        {
          "output_type": "stream",
          "name": "stdout",
          "text": [
            "True\n",
            "False\n",
            "True\n"
          ]
        }
      ]
    },
    {
      "cell_type": "markdown",
      "source": [
        "## 1.3 Range Function"
      ],
      "metadata": {
        "id": "joo766kwXviL"
      }
    },
    {
      "cell_type": "markdown",
      "source": [
        "### Basic Range Usage"
      ],
      "metadata": {
        "id": "hMKRFLiHXyKB"
      }
    },
    {
      "cell_type": "code",
      "source": [
        "print(list(range(5)))                          # [0, 1, 2, 3, 4]\n",
        "print(list(range(1, 6)))                       # [1, 2, 3, 4, 5]\n",
        "print(list(range(1, 11, 2)))                   # [1, 3, 5, 7, 9] (step=2)\n",
        "print(list(range(10, 0, -1)))                  # [10, 9, 8, 7, 6, 5, 4, 3, 2, 1]\n",
        "print(list(range(-10, 0, 2)))                  # [-10, -8, -6, -4, -2]"
      ],
      "metadata": {
        "colab": {
          "base_uri": "https://localhost:8080/"
        },
        "id": "2Q61ogt4X0nw",
        "outputId": "58b4fb17-d40e-4b75-fa3e-e6ee1e659258"
      },
      "execution_count": 29,
      "outputs": [
        {
          "output_type": "stream",
          "name": "stdout",
          "text": [
            "[0, 1, 2, 3, 4]\n",
            "[1, 2, 3, 4, 5]\n",
            "[1, 3, 5, 7, 9]\n",
            "[10, 9, 8, 7, 6, 5, 4, 3, 2, 1]\n",
            "[-10, -8, -6, -4, -2]\n"
          ]
        }
      ]
    },
    {
      "cell_type": "markdown",
      "source": [
        "### Common Range Patterns"
      ],
      "metadata": {
        "id": "-w3qslFCYa3w"
      }
    },
    {
      "cell_type": "code",
      "source": [
        "# For indexing\n",
        "my_list = ['a', 'b', 'c', 'd']\n",
        "for i in range(len(my_list)):\n",
        "    print(f\"Index {i}: {my_list[i]}\")"
      ],
      "metadata": {
        "colab": {
          "base_uri": "https://localhost:8080/"
        },
        "id": "6A35v-q6YdhH",
        "outputId": "0154b94b-6f4a-4da9-e869-5e36067b605f"
      },
      "execution_count": 20,
      "outputs": [
        {
          "output_type": "stream",
          "name": "stdout",
          "text": [
            "Index 0: a\n",
            "Index 1: b\n",
            "Index 2: c\n",
            "Index 3: d\n"
          ]
        }
      ]
    },
    {
      "cell_type": "markdown",
      "source": [
        "## 1.4 List Iteration and Modification\n",
        "\n",
        "---\n",
        "\n"
      ],
      "metadata": {
        "id": "XwKxpjo0YoZ_"
      }
    },
    {
      "cell_type": "markdown",
      "source": [
        "### Iterating Over Lists"
      ],
      "metadata": {
        "id": "-dxnAJ2_YuE0"
      }
    },
    {
      "cell_type": "code",
      "source": [
        "# Method 1: Direct iteration\n",
        "fruits = ['apple', 'banana', 'orange']\n",
        "for fruit in fruits:\n",
        "    print(fruit)\n",
        "\n",
        "# Method 2: Index-based iteration\n",
        "for i in range(len(fruits)):\n",
        "    print(f\"{i}: {fruits[i]}\")\n",
        "\n",
        "# Method 3: Using enumerate (preferred for index + value)\n",
        "for index, fruit in enumerate(fruits):\n",
        "    print(f\"{index}: {fruit}\")"
      ],
      "metadata": {
        "colab": {
          "base_uri": "https://localhost:8080/"
        },
        "id": "sn9PJcLKYwpB",
        "outputId": "0d7262fa-2210-42cc-866b-557d3daea7c8"
      },
      "execution_count": 21,
      "outputs": [
        {
          "output_type": "stream",
          "name": "stdout",
          "text": [
            "apple\n",
            "banana\n",
            "orange\n",
            "0: apple\n",
            "1: banana\n",
            "2: orange\n",
            "0: apple\n",
            "1: banana\n",
            "2: orange\n"
          ]
        }
      ]
    },
    {
      "cell_type": "markdown",
      "source": [
        "### Modifying Lists During Iteration"
      ],
      "metadata": {
        "id": "BUZKA5sLY2KZ"
      }
    },
    {
      "cell_type": "code",
      "source": [
        "# Add 2 to each element\n",
        "for i in range(len(numbers)):\n",
        "    numbers[i] += 2\n",
        "print(numbers)  # [3, 4, 5, 6, 7]"
      ],
      "metadata": {
        "colab": {
          "base_uri": "https://localhost:8080/"
        },
        "id": "-VKs-wPsY7a_",
        "outputId": "e60b5289-0be6-4481-d2cd-797c5f152d79"
      },
      "execution_count": 22,
      "outputs": [
        {
          "output_type": "stream",
          "name": "stdout",
          "text": [
            "[3, 7, 11, 57, 4547]\n"
          ]
        }
      ]
    },
    {
      "cell_type": "markdown",
      "source": [
        "### List Slicing"
      ],
      "metadata": {
        "id": "655kVNGeZB8s"
      }
    },
    {
      "cell_type": "code",
      "source": [
        "my_list = [0, 1, 2, 3, 4, 5, 6, 7, 8, 9]\n",
        "print(my_list[2:5])                     # [2, 3, 4]\n",
        "print(my_list[:3])                      # [0, 1, 2]\n",
        "print(my_list[3:])                      # [3, 4, 5, 6, 7, 8, 9]\n",
        "print(my_list[::2])                     # [0, 2, 4, 6, 8] (every 2nd)\n",
        "print(my_list[::-1])                    # [9, 8, 7, 6, 5, 4, 3, 2, 1, 0] (reverse)\n",
        "print(my_list[::-2])                    # [9, 7, 5, 3, 1] (reverse every 2nd)"
      ],
      "metadata": {
        "colab": {
          "base_uri": "https://localhost:8080/"
        },
        "id": "BdV83xx9ZDnr",
        "outputId": "994a071b-fe3d-4af9-92c6-47fc8eb2b8b9"
      },
      "execution_count": 23,
      "outputs": [
        {
          "output_type": "stream",
          "name": "stdout",
          "text": [
            "[2, 3, 4]\n",
            "[0, 1, 2]\n",
            "[3, 4, 5, 6, 7, 8, 9]\n",
            "[0, 2, 4, 6, 8]\n",
            "[9, 8, 7, 6, 5, 4, 3, 2, 1, 0]\n",
            "[9, 7, 5, 3, 1]\n"
          ]
        }
      ]
    },
    {
      "cell_type": "markdown",
      "source": [
        "## 1.5 List Methods"
      ],
      "metadata": {
        "id": "jPxjYVNjZHWz"
      }
    },
    {
      "cell_type": "markdown",
      "source": [
        "### Adding Elements"
      ],
      "metadata": {
        "id": "u7cRJbMkZMja"
      }
    },
    {
      "cell_type": "code",
      "source": [
        "x = [1, 2, 3]\n",
        "\n",
        "# append() - adds single element\n",
        "x.append(4)                             # [1, 2, 3, 4]\n",
        "x.append([5, 6])                        # [1, 2, 3, 4, [5, 6]]\n",
        "print(x)\n",
        "\n",
        "# extend() - adds multiple elements\n",
        "y = [1, 2, 3]\n",
        "y.extend([4, 5])                        # [1, 2, 3, 4, 5]\n",
        "y.extend((6, 7))                        # [1, 2, 3, 4, 5, 6, 7] (works with tuples)\n",
        "print(y)\n",
        "\n",
        "# insert() - adds element at specific position\n",
        "z = [1, 2, 3]\n",
        "z.insert(1, 'inserted')                 # [1, 'inserted', 2, 3]\n",
        "print(z)\n"
      ],
      "metadata": {
        "colab": {
          "base_uri": "https://localhost:8080/"
        },
        "id": "B64CKVxqZOdZ",
        "outputId": "2e51d629-7dbc-42d3-f802-4aa324c9f8d0"
      },
      "execution_count": 27,
      "outputs": [
        {
          "output_type": "stream",
          "name": "stdout",
          "text": [
            "[1, 2, 3, 4, [5, 6]]\n",
            "[1, 2, 3, 4, 5, 6, 7]\n",
            "[1, 'inserted', 2, 3]\n"
          ]
        }
      ]
    },
    {
      "cell_type": "markdown",
      "source": [
        "### Other Useful List Methods"
      ],
      "metadata": {
        "id": "22cXI1qiaUtH"
      }
    },
    {
      "cell_type": "code",
      "source": [
        "my_list = [1, 2, 3, 2, 4, 2]\n",
        "\n",
        "# Count occurrences\n",
        "print(my_list.count(2))                 # 3\n",
        "\n",
        "# Find index of first occurrence\n",
        "print(my_list.index(3))                 # 2\n",
        "\n",
        "# Remove elements\n",
        "my_list.remove(2)                       # Removes first occurrence of 2\n",
        "popped = my_list.pop()                  # Removes and returns last element\n",
        "popped_at_index = my_list.pop(1)        # Removes and returns element at index 1\n",
        "\n",
        "# Reverse and sort\n",
        "my_list.reverse()                       # Reverses in-place\n",
        "my_list.sort()                          # Sorts in-place\n",
        "my_list.sort(reverse=True)              # Sorts in descending order"
      ],
      "metadata": {
        "colab": {
          "base_uri": "https://localhost:8080/"
        },
        "id": "lhKTJoTmaXpu",
        "outputId": "f9f8a129-f4d6-4dd0-f8ca-91d2c481fc36"
      },
      "execution_count": 30,
      "outputs": [
        {
          "output_type": "stream",
          "name": "stdout",
          "text": [
            "3\n",
            "2\n"
          ]
        }
      ]
    },
    {
      "cell_type": "markdown",
      "source": [
        "## 1.6 Enumerate Function\n",
        "\n",
        "---\n",
        "\n"
      ],
      "metadata": {
        "id": "mLvAKTP1ahAF"
      }
    },
    {
      "cell_type": "markdown",
      "source": [
        "### Basic Enumerate"
      ],
      "metadata": {
        "id": "dM8760lJakUF"
      }
    },
    {
      "cell_type": "code",
      "source": [
        "days = [\"Mon\", \"Tue\", \"Wed\", \"Thu\", \"Fri\"]\n",
        "\n",
        "# Default start at 0\n",
        "for index, day in enumerate(days):\n",
        "    print(f\"{index}: {day}\")\n",
        "\n",
        "# Custom start value\n",
        "for index, day in enumerate(days, start=1):\n",
        "    print(f\"Day {index}: {day}\")\n",
        "\n",
        "# Convert to list\n",
        "indexed_days = list(enumerate(days, start=10))\n",
        "print(indexed_days)  # [(10, 'Mon'), (11, 'Tue'), ...]"
      ],
      "metadata": {
        "colab": {
          "base_uri": "https://localhost:8080/"
        },
        "id": "2kLnHDTuao5j",
        "outputId": "4ea11623-2380-4fb7-bf90-1fb00428af5a"
      },
      "execution_count": 31,
      "outputs": [
        {
          "output_type": "stream",
          "name": "stdout",
          "text": [
            "0: Mon\n",
            "1: Tue\n",
            "2: Wed\n",
            "3: Thu\n",
            "4: Fri\n",
            "Day 1: Mon\n",
            "Day 2: Tue\n",
            "Day 3: Wed\n",
            "Day 4: Thu\n",
            "Day 5: Fri\n",
            "[(10, 'Mon'), (11, 'Tue'), (12, 'Wed'), (13, 'Thu'), (14, 'Fri')]\n"
          ]
        }
      ]
    },
    {
      "cell_type": "markdown",
      "source": [
        "### Practical Enumerate Usage"
      ],
      "metadata": {
        "id": "DsMJ620eauUj"
      }
    },
    {
      "cell_type": "code",
      "source": [
        "numbers = [10, 11, 20, 23, 30, 40]\n",
        "\n",
        "for i, num in enumerate(numbers):\n",
        "    if num % 2 == 0:\n",
        "        print(f\"Index {i}: {num} is even\")\n",
        "    else:\n",
        "        print(f\"Index {i}: {num} is odd\")"
      ],
      "metadata": {
        "colab": {
          "base_uri": "https://localhost:8080/"
        },
        "id": "lBSI7XInaxKI",
        "outputId": "43a5f6b1-a6ec-445f-a6c4-2d5b7697eae1"
      },
      "execution_count": 32,
      "outputs": [
        {
          "output_type": "stream",
          "name": "stdout",
          "text": [
            "Index 0: 10 is even\n",
            "Index 1: 11 is odd\n",
            "Index 2: 20 is even\n",
            "Index 3: 23 is odd\n",
            "Index 4: 30 is even\n",
            "Index 5: 40 is even\n"
          ]
        }
      ]
    },
    {
      "cell_type": "markdown",
      "source": [
        "## 1.7 Zip Function\n",
        "\n",
        "---\n",
        "\n"
      ],
      "metadata": {
        "id": "6vT0QPxJa115"
      }
    },
    {
      "cell_type": "markdown",
      "source": [
        "### Basic Zip Usage"
      ],
      "metadata": {
        "id": "hfo37Nlba6LG"
      }
    },
    {
      "cell_type": "code",
      "source": [
        "names = ['Alice', 'Bob', 'Charlie']\n",
        "ages = [25, 30, 35]\n",
        "scores = [85, 92, 78]\n",
        "\n",
        "# Zip two lists\n",
        "for name, age in zip(names, ages):\n",
        "    print(f\"{name} is {age} years old\")\n",
        "\n",
        "# Zip multiple lists\n",
        "for name, age, score in zip(names, ages, scores):\n",
        "    print(f\"{name} ({age}) scored {score}\")\n",
        "\n",
        "# Convert to list\n",
        "paired = list(zip(names, ages))\n",
        "print(paired)  # [('Alice', 25), ('Bob', 30), ('Charlie', 35)]"
      ],
      "metadata": {
        "colab": {
          "base_uri": "https://localhost:8080/"
        },
        "id": "noZpNa0wa8KQ",
        "outputId": "dd591fc7-eb14-4960-9d49-a8a4e944faf2"
      },
      "execution_count": 33,
      "outputs": [
        {
          "output_type": "stream",
          "name": "stdout",
          "text": [
            "Alice is 25 years old\n",
            "Bob is 30 years old\n",
            "Charlie is 35 years old\n",
            "Alice (25) scored 85\n",
            "Bob (30) scored 92\n",
            "Charlie (35) scored 78\n",
            "[('Alice', 25), ('Bob', 30), ('Charlie', 35)]\n"
          ]
        }
      ]
    },
    {
      "cell_type": "markdown",
      "source": [
        "### Zip with Different Length Lists"
      ],
      "metadata": {
        "id": "KNQxspgYbD01"
      }
    },
    {
      "cell_type": "code",
      "source": [
        "list1 = [1, 2, 3, 4, 5]\n",
        "list2 = ['a', 'b', 'c']\n",
        "\n",
        "# Zip stops at shortest list\n",
        "result = list(zip(list1, list2))\n",
        "print(result)  # [(1, 'a'), (2, 'b'), (3, 'c')]"
      ],
      "metadata": {
        "colab": {
          "base_uri": "https://localhost:8080/"
        },
        "id": "SS5Z9HhebEy0",
        "outputId": "058dd5e0-7281-497f-b24b-f5dde2e82664"
      },
      "execution_count": 34,
      "outputs": [
        {
          "output_type": "stream",
          "name": "stdout",
          "text": [
            "[(1, 'a'), (2, 'b'), (3, 'c')]\n"
          ]
        }
      ]
    },
    {
      "cell_type": "markdown",
      "source": [
        "### Combining Enumerate and Zip"
      ],
      "metadata": {
        "id": "dg_rRnGXcCXF"
      }
    },
    {
      "cell_type": "code",
      "source": [
        "list1 = [1, 2, 3]\n",
        "list2 = ['a', 'b', 'c']\n",
        "\n",
        "for i, (num, letter) in enumerate(zip(list1, list2)):\n",
        "    print(f\"Index {i}: {num} -> {letter}\")"
      ],
      "metadata": {
        "colab": {
          "base_uri": "https://localhost:8080/"
        },
        "id": "J89wfbjocE2P",
        "outputId": "476a2e49-274a-4024-be14-370d5c6e9d84"
      },
      "execution_count": 35,
      "outputs": [
        {
          "output_type": "stream",
          "name": "stdout",
          "text": [
            "Index 0: 1 -> a\n",
            "Index 1: 2 -> b\n",
            "Index 2: 3 -> c\n"
          ]
        }
      ]
    },
    {
      "cell_type": "markdown",
      "source": [
        "## 1.8 Iterators\n",
        "\n",
        "---\n",
        "\n"
      ],
      "metadata": {
        "id": "OEKGwVEScIHV"
      }
    },
    {
      "cell_type": "markdown",
      "source": [
        "### Creating and Using Iterators"
      ],
      "metadata": {
        "id": "6Yo4ihhccMh8"
      }
    },
    {
      "cell_type": "code",
      "source": [
        "days = [\"Sun\", \"Mon\", \"Tue\", \"Wed\", \"Thu\", \"Fri\", \"Sat\"]\n",
        "\n",
        "# Create iterator\n",
        "day_iter = iter(days)\n",
        "\n",
        "# Get next elements\n",
        "print(next(day_iter))                   # Sun\n",
        "print(next(day_iter))                   # Mon\n",
        "print(next(day_iter))                   # Tue\n",
        "\n",
        "# Safe next with default value\n",
        "print(next(day_iter, \"No more days\"))"
      ],
      "metadata": {
        "colab": {
          "base_uri": "https://localhost:8080/"
        },
        "id": "CmESBoWUcPSN",
        "outputId": "83d96267-ffb4-4105-ef55-a5ecdc544d7f"
      },
      "execution_count": 36,
      "outputs": [
        {
          "output_type": "stream",
          "name": "stdout",
          "text": [
            "Sun\n",
            "Mon\n",
            "Tue\n",
            "Wed\n"
          ]
        }
      ]
    },
    {
      "cell_type": "markdown",
      "source": [
        "### Iterator with Loop"
      ],
      "metadata": {
        "id": "x2TaphyZcUci"
      }
    },
    {
      "cell_type": "code",
      "source": [
        "days = [\"Sun\", \"Mon\", \"Tue\", \"Wed\"]\n",
        "day_iter = iter(days)\n",
        "\n",
        "while True:\n",
        "    day = next(day_iter, None)\n",
        "    if day is None:\n",
        "        break\n",
        "    print(day)"
      ],
      "metadata": {
        "colab": {
          "base_uri": "https://localhost:8080/"
        },
        "id": "BOVtIttZccNa",
        "outputId": "e58c70ae-6662-4ac1-f646-a701d56a298d"
      },
      "execution_count": 37,
      "outputs": [
        {
          "output_type": "stream",
          "name": "stdout",
          "text": [
            "Sun\n",
            "Mon\n",
            "Tue\n",
            "Wed\n"
          ]
        }
      ]
    },
    {
      "cell_type": "markdown",
      "source": [
        "## 1.9 List Comprehensions\n",
        "\n",
        "---\n",
        "\n"
      ],
      "metadata": {
        "id": "BWFd-wRTceO8"
      }
    },
    {
      "cell_type": "markdown",
      "source": [
        "### Basic List Comprehensions"
      ],
      "metadata": {
        "id": "5I48JQhyckMU"
      }
    },
    {
      "cell_type": "code",
      "source": [
        "# Basic syntax: [expression for item in iterable]\n",
        "squares = [x**2 for x in range(1, 6)]\n",
        "print(squares)  # [1, 4, 9, 16, 25]\n",
        "\n",
        "# With condition: [expression for item in iterable if condition]\n",
        "evens = [x for x in range(1, 11) if x % 2 == 0]\n",
        "print(evens)  # [2, 4, 6, 8, 10]\n",
        "\n",
        "# Complex expressions\n",
        "numbers = [1, 2, 3, 4, 5]\n",
        "result = [x**2 if x % 2 == 0 else x**3 for x in numbers]\n",
        "print(result)  # [1, 4, 27, 16, 125]"
      ],
      "metadata": {
        "colab": {
          "base_uri": "https://localhost:8080/"
        },
        "id": "7DjNBgRgcmhS",
        "outputId": "7e48c8b1-15a7-4c63-f56e-1921f2e02830"
      },
      "execution_count": 38,
      "outputs": [
        {
          "output_type": "stream",
          "name": "stdout",
          "text": [
            "[1, 4, 9, 16, 25]\n",
            "[2, 4, 6, 8, 10]\n",
            "[1, 4, 27, 16, 125]\n"
          ]
        }
      ]
    },
    {
      "cell_type": "markdown",
      "source": [
        "### Temperature Conversion Example"
      ],
      "metadata": {
        "id": "8Ib76RxwcqAY"
      }
    },
    {
      "cell_type": "code",
      "source": [
        "celsius = [0, 10, 20, 30, 40]\n",
        "fahrenheit = [(temp * 9/5) + 32 for temp in celsius]\n",
        "print(fahrenheit)  # [32.0, 50.0, 68.0, 86.0, 104.0]\n",
        "\n",
        "# With condition\n",
        "fahrenheit_filtered = [(temp * 9/5) + 32 for temp in celsius if temp > 10]\n",
        "print(fahrenheit_filtered)  # [68.0, 86.0, 104.0]"
      ],
      "metadata": {
        "colab": {
          "base_uri": "https://localhost:8080/"
        },
        "id": "cWhBuUp8csrO",
        "outputId": "249d11bf-4cf6-4909-92ba-12aee9b3f031"
      },
      "execution_count": 39,
      "outputs": [
        {
          "output_type": "stream",
          "name": "stdout",
          "text": [
            "[32.0, 50.0, 68.0, 86.0, 104.0]\n",
            "[68.0, 86.0, 104.0]\n"
          ]
        }
      ]
    },
    {
      "cell_type": "markdown",
      "source": [
        "### Nested List Comprehensions"
      ],
      "metadata": {
        "id": "OI0eZv8Ccvih"
      }
    },
    {
      "cell_type": "code",
      "source": [
        "# Create a 3x3 matrix\n",
        "matrix = [[i*j for j in range(1, 4)] for i in range(1, 4)]\n",
        "print(matrix)  # [[1, 2, 3], [2, 4, 6], [3, 6, 9]]\n",
        "\n",
        "# Flatten a matrix\n",
        "flattened = [num for row in matrix for num in row]\n",
        "print(flattened)  # [1, 2, 3, 2, 4, 6, 3, 6, 9]"
      ],
      "metadata": {
        "colab": {
          "base_uri": "https://localhost:8080/"
        },
        "id": "BqRIhX7scxmv",
        "outputId": "e1730f7a-9b18-4457-fd0f-1624f6ddfa74"
      },
      "execution_count": 40,
      "outputs": [
        {
          "output_type": "stream",
          "name": "stdout",
          "text": [
            "[[1, 2, 3], [2, 4, 6], [3, 6, 9]]\n",
            "[1, 2, 3, 2, 4, 6, 3, 6, 9]\n"
          ]
        }
      ]
    },
    {
      "cell_type": "markdown",
      "source": [
        "## 1.10 Set Comprehensions\n",
        "\n",
        "---\n",
        "\n"
      ],
      "metadata": {
        "id": "EgqlHyJRc1Ji"
      }
    },
    {
      "cell_type": "markdown",
      "source": [
        "### Basic Set Comprehensions"
      ],
      "metadata": {
        "id": "q09yVCxKc5yK"
      }
    },
    {
      "cell_type": "code",
      "source": [
        "# Basic set comprehension\n",
        "numbers = [1, 2, 2, 3, 3, 4, 5]\n",
        "unique_squares = {x**2 for x in numbers}\n",
        "print(unique_squares)  # {1, 4, 9, 16, 25}\n",
        "\n",
        "# Set from string (unique characters)\n",
        "text = \"hello world\"\n",
        "unique_chars = {c.upper() for c in text if not c.isspace()}\n",
        "print(unique_chars)  # {'H', 'E', 'L', 'O', 'W', 'R', 'D'}"
      ],
      "metadata": {
        "colab": {
          "base_uri": "https://localhost:8080/"
        },
        "id": "kt0PUDKec72H",
        "outputId": "a84fb000-de25-4dea-9d00-1367b47890fe"
      },
      "execution_count": 41,
      "outputs": [
        {
          "output_type": "stream",
          "name": "stdout",
          "text": [
            "{1, 4, 9, 16, 25}\n",
            "{'L', 'E', 'H', 'O', 'D', 'R', 'W'}\n"
          ]
        }
      ]
    },
    {
      "cell_type": "markdown",
      "source": [
        "### Temperature Set Example"
      ],
      "metadata": {
        "id": "iIHYLhxOdEwd"
      }
    },
    {
      "cell_type": "code",
      "source": [
        "celsius_temps = [5, 10, 12, 14, 10, 23, 41, 30, 12, 24, 12, 18, 29]\n",
        "fahrenheit_set = {(temp * 9/5) + 32 for temp in celsius_temps}\n",
        "print(len(fahrenheit_set))  # Number of unique Fahrenheit temperatures"
      ],
      "metadata": {
        "colab": {
          "base_uri": "https://localhost:8080/"
        },
        "id": "YkoM_98WdIan",
        "outputId": "9109363c-2138-4136-ab9c-4b121935a122"
      },
      "execution_count": 42,
      "outputs": [
        {
          "output_type": "stream",
          "name": "stdout",
          "text": [
            "10\n"
          ]
        }
      ]
    },
    {
      "cell_type": "markdown",
      "source": [
        "## 1.11 Dictionary Comprehensions\n",
        "\n",
        "---\n",
        "\n"
      ],
      "metadata": {
        "id": "_zCBZ97qdeNW"
      }
    },
    {
      "cell_type": "markdown",
      "source": [
        "### Basic Dictionary Comprehensions"
      ],
      "metadata": {
        "id": "zzh4btxBdiqr"
      }
    },
    {
      "cell_type": "code",
      "source": [
        "# Basic syntax: {key_expr: value_expr for item in iterable}\n",
        "squares_dict = {x: x**2 for x in range(1, 6)}\n",
        "print(squares_dict)  # {1: 1, 2: 4, 3: 9, 4: 16, 5: 25}\n",
        "\n",
        "# Temperature conversion dictionary\n",
        "celsius = [0, 10, 20, 30, 40]\n",
        "temp_dict = {c: (c * 9/5) + 32 for c in celsius}\n",
        "print(temp_dict)  # {0: 32.0, 10: 50.0, 20: 68.0, 30: 86.0, 40: 104.0}"
      ],
      "metadata": {
        "colab": {
          "base_uri": "https://localhost:8080/"
        },
        "id": "KKkxxMiFdlf5",
        "outputId": "bd739b82-63c8-487a-ab07-8e8830094f3e"
      },
      "execution_count": 43,
      "outputs": [
        {
          "output_type": "stream",
          "name": "stdout",
          "text": [
            "{1: 1, 2: 4, 3: 9, 4: 16, 5: 25}\n",
            "{0: 32.0, 10: 50.0, 20: 68.0, 30: 86.0, 40: 104.0}\n"
          ]
        }
      ]
    },
    {
      "cell_type": "markdown",
      "source": [
        "### Dictionary Comprehension with Conditions"
      ],
      "metadata": {
        "id": "OnazLmvjdoUL"
      }
    },
    {
      "cell_type": "code",
      "source": [
        "# Filter dictionary\n",
        "original_dict = {\"NFLX\": 4950, \"TREX\": 2400, \"FIZZ\": 1800, \"XPO\": 1700}\n",
        "filtered_dict = {k: v for k, v in original_dict.items() if v > 2000}\n",
        "print(filtered_dict)  # {'NFLX': 4950, 'TREX': 2400}"
      ],
      "metadata": {
        "colab": {
          "base_uri": "https://localhost:8080/"
        },
        "id": "enZu6TBfdqjT",
        "outputId": "6bff43da-ef51-4fdc-ce2f-a9677e40b4cd"
      },
      "execution_count": 44,
      "outputs": [
        {
          "output_type": "stream",
          "name": "stdout",
          "text": [
            "{'NFLX': 4950, 'TREX': 2400}\n"
          ]
        }
      ]
    },
    {
      "cell_type": "markdown",
      "source": [
        "### Working with Dictionary Methods"
      ],
      "metadata": {
        "id": "rHuR2UXcdueU"
      }
    },
    {
      "cell_type": "code",
      "source": [
        "sample_dict = {'a': 1, 'b': 2, 'c': 3}\n",
        "\n",
        "# Iterate over dictionary\n",
        "for key, value in sample_dict.items():\n",
        "    print(f\"{key}: {value}\")\n",
        "\n",
        "# Get keys and values\n",
        "print(list(sample_dict.keys()))     # ['a', 'b', 'c']\n",
        "print(list(sample_dict.values()))   # [1, 2, 3]"
      ],
      "metadata": {
        "colab": {
          "base_uri": "https://localhost:8080/"
        },
        "id": "Ior2hOIXdwhe",
        "outputId": "a7696b0e-4932-4d0d-b97f-6531a3df486e"
      },
      "execution_count": 45,
      "outputs": [
        {
          "output_type": "stream",
          "name": "stdout",
          "text": [
            "a: 1\n",
            "b: 2\n",
            "c: 3\n",
            "['a', 'b', 'c']\n",
            "[1, 2, 3]\n"
          ]
        }
      ]
    },
    {
      "cell_type": "markdown",
      "source": [
        "## 1.12 Lambda Functions\n",
        "\n",
        "---\n",
        "\n"
      ],
      "metadata": {
        "id": "wwUPASrUd0eH"
      }
    },
    {
      "cell_type": "markdown",
      "source": [
        "### Basic Lambda Syntax"
      ],
      "metadata": {
        "id": "yNUR63Hjd5GZ"
      }
    },
    {
      "cell_type": "code",
      "source": [
        "# Basic lambda: lambda arguments: expression\n",
        "add = lambda x, y: x + y\n",
        "print(add(5, 3))  # 8\n",
        "\n",
        "# Single argument\n",
        "square = lambda x: x**2\n",
        "print(square(4))  # 16\n",
        "\n",
        "# Multiple arguments\n",
        "multiply = lambda x, y, z: x * y * z\n",
        "print(multiply(2, 3, 4))  # 24"
      ],
      "metadata": {
        "colab": {
          "base_uri": "https://localhost:8080/"
        },
        "id": "WTW7w09Vd7Mu",
        "outputId": "eeef8b57-c051-4ef3-928d-265c2b37b39c"
      },
      "execution_count": 46,
      "outputs": [
        {
          "output_type": "stream",
          "name": "stdout",
          "text": [
            "8\n",
            "16\n",
            "24\n"
          ]
        }
      ]
    },
    {
      "cell_type": "markdown",
      "source": [
        "### Lambda with Built-in Functions"
      ],
      "metadata": {
        "id": "WfG-U5aheBQR"
      }
    },
    {
      "cell_type": "code",
      "source": [
        "numbers = [1, 2, 3, 4, 5, 6, 7, 8, 9, 10]\n",
        "\n",
        "# Filter with lambda\n",
        "evens = list(filter(lambda x: x % 2 == 0, numbers))\n",
        "print(evens)  # [2, 4, 6, 8, 10]\n",
        "\n",
        "# Map with lambda\n",
        "squares = list(map(lambda x: x**2, numbers))\n",
        "print(squares)  # [1, 4, 9, 16, 25, 36, 49, 64, 81, 100]\n",
        "\n",
        "# Multiple outputs with map\n",
        "cubes_and_squares = list(map(lambda x: (x**2, x**3), [1, 2, 3, 4]))\n",
        "print(cubes_and_squares)  # [(1, 1), (4, 8), (9, 27), (16, 64)]"
      ],
      "metadata": {
        "colab": {
          "base_uri": "https://localhost:8080/"
        },
        "id": "sU5XG6ikeCSd",
        "outputId": "994ba775-09f5-4069-fb53-357ea85259af"
      },
      "execution_count": 47,
      "outputs": [
        {
          "output_type": "stream",
          "name": "stdout",
          "text": [
            "[2, 4, 6, 8, 10]\n",
            "[1, 4, 9, 16, 25, 36, 49, 64, 81, 100]\n",
            "[(1, 1), (4, 8), (9, 27), (16, 64)]\n"
          ]
        }
      ]
    },
    {
      "cell_type": "markdown",
      "source": [
        "### Lambda for Sorting"
      ],
      "metadata": {
        "id": "oe-V4fnReGpk"
      }
    },
    {
      "cell_type": "code",
      "source": [
        "# Sort by second element\n",
        "pairs = [(1, 'one'), (2, 'two'), (3, 'three'), (4, 'four')]\n",
        "pairs.sort(key=lambda x: x[1])  # Sort by string value\n",
        "print(pairs)\n",
        "\n",
        "# Sort by first element in reverse\n",
        "pairs.sort(key=lambda x: x[0], reverse=True)\n",
        "print(pairs)"
      ],
      "metadata": {
        "colab": {
          "base_uri": "https://localhost:8080/"
        },
        "id": "e8_1588QeI4j",
        "outputId": "7c9f7df7-5927-4b77-b0ec-024e5e244630"
      },
      "execution_count": 48,
      "outputs": [
        {
          "output_type": "stream",
          "name": "stdout",
          "text": [
            "[(4, 'four'), (1, 'one'), (3, 'three'), (2, 'two')]\n",
            "[(4, 'four'), (3, 'three'), (2, 'two'), (1, 'one')]\n"
          ]
        }
      ]
    },
    {
      "cell_type": "markdown",
      "source": [
        "### Higher-Order Functions with Lambda"
      ],
      "metadata": {
        "id": "k8E_TrGveLzZ"
      }
    },
    {
      "cell_type": "code",
      "source": [
        "def make_incrementor(n):\n",
        "    return lambda x: x + n\n",
        "\n",
        "increment_by_5 = make_incrementor(5)\n",
        "print(increment_by_5(10))  # 15"
      ],
      "metadata": {
        "colab": {
          "base_uri": "https://localhost:8080/"
        },
        "id": "dOIAmG_FeN4b",
        "outputId": "01f6d54e-27aa-456c-8c45-7b57f7cc10c9"
      },
      "execution_count": 49,
      "outputs": [
        {
          "output_type": "stream",
          "name": "stdout",
          "text": [
            "15\n"
          ]
        }
      ]
    },
    {
      "cell_type": "markdown",
      "source": [
        "## 1.13 Map and Filter Functions\n",
        "\n",
        "---\n",
        "\n"
      ],
      "metadata": {
        "id": "pZUp4pYreQmX"
      }
    },
    {
      "cell_type": "markdown",
      "source": [
        "### Map Function"
      ],
      "metadata": {
        "id": "qO5aEnq9eVLm"
      }
    },
    {
      "cell_type": "code",
      "source": [
        "# Apply function to each element\n",
        "numbers = [1, 2, 3, 4, 5]\n",
        "doubled = list(map(lambda x: x * 2, numbers))\n",
        "print(doubled)  # [2, 4, 6, 8, 10]\n",
        "\n",
        "# Map with multiple iterables\n",
        "list1 = [1, 2, 3]\n",
        "list2 = [4, 5, 6]\n",
        "sums = list(map(lambda x, y: x + y, list1, list2))\n",
        "print(sums)  # [5, 7, 9]"
      ],
      "metadata": {
        "colab": {
          "base_uri": "https://localhost:8080/"
        },
        "id": "UB6Sc4rneXjZ",
        "outputId": "da5c8089-780a-47fc-a57c-99f4ed588d02"
      },
      "execution_count": 50,
      "outputs": [
        {
          "output_type": "stream",
          "name": "stdout",
          "text": [
            "[2, 4, 6, 8, 10]\n",
            "[5, 7, 9]\n"
          ]
        }
      ]
    },
    {
      "cell_type": "markdown",
      "source": [
        "### Filter Function"
      ],
      "metadata": {
        "id": "8GunB3pmeb1k"
      }
    },
    {
      "cell_type": "code",
      "source": [
        "# Filter elements based on condition\n",
        "numbers = [1, 2, 3, 4, 5, 6, 7, 8, 9, 10]\n",
        "evens = list(filter(lambda x: x % 2 == 0, numbers))\n",
        "print(evens)  # [2, 4, 6, 8, 10]\n",
        "\n",
        "# Filter strings by length\n",
        "words = ['python', 'java', 'c', 'javascript', 'go']\n",
        "long_words = list(filter(lambda word: len(word) > 4, words))\n",
        "print(long_words)  # ['python', 'javascript']"
      ],
      "metadata": {
        "colab": {
          "base_uri": "https://localhost:8080/"
        },
        "id": "MmXWgtaweds7",
        "outputId": "d7d1b5cb-a880-4221-fd3b-ed43e3e8a9ea"
      },
      "execution_count": 51,
      "outputs": [
        {
          "output_type": "stream",
          "name": "stdout",
          "text": [
            "[2, 4, 6, 8, 10]\n",
            "['python', 'javascript']\n"
          ]
        }
      ]
    },
    {
      "cell_type": "markdown",
      "source": [
        "## 1.14 Collections Module\n",
        "\n",
        "---\n",
        "\n"
      ],
      "metadata": {
        "id": "2yMG5cf8eg95"
      }
    },
    {
      "cell_type": "markdown",
      "source": [
        "### Counter"
      ],
      "metadata": {
        "id": "x_1HdXg-elB9"
      }
    },
    {
      "cell_type": "code",
      "source": [
        "from collections import Counter\n",
        "\n",
        "# Count occurrences\n",
        "text = \"hello world\"\n",
        "char_count = Counter(text)\n",
        "print(char_count)  # Counter({'l': 3, 'o': 2, 'h': 1, 'e': 1, ' ': 1, 'w': 1, 'r': 1, 'd': 1})\n",
        "\n",
        "# Most common elements\n",
        "print(char_count.most_common(3))  # [('l', 3), ('o', 2), ('h', 1)]\n",
        "\n",
        "# Counter operations\n",
        "list1 = ['a', 'b', 'c', 'a', 'b', 'a']\n",
        "list2 = ['a', 'b', 'b', 'd']\n",
        "c1 = Counter(list1)\n",
        "c2 = Counter(list2)\n",
        "\n",
        "print(c1 + c2)  # Add counters\n",
        "print(c1 - c2)  # Subtract counters\n",
        "print(c1 & c2)  # Intersection (minimum counts)\n",
        "print(c1 | c2)  # Union (maximum counts)"
      ],
      "metadata": {
        "colab": {
          "base_uri": "https://localhost:8080/"
        },
        "id": "P0VYeOpDenO4",
        "outputId": "d9fbc661-d9d3-426a-dbad-e7c6053cb94d"
      },
      "execution_count": 52,
      "outputs": [
        {
          "output_type": "stream",
          "name": "stdout",
          "text": [
            "Counter({'l': 3, 'o': 2, 'h': 1, 'e': 1, ' ': 1, 'w': 1, 'r': 1, 'd': 1})\n",
            "[('l', 3), ('o', 2), ('h', 1)]\n",
            "Counter({'a': 4, 'b': 4, 'c': 1, 'd': 1})\n",
            "Counter({'a': 2, 'c': 1})\n",
            "Counter({'b': 2, 'a': 1})\n",
            "Counter({'a': 3, 'b': 2, 'c': 1, 'd': 1})\n"
          ]
        }
      ]
    },
    {
      "cell_type": "markdown",
      "source": [
        "### DefaultDict"
      ],
      "metadata": {
        "id": "dzcGGAm4etMs"
      }
    },
    {
      "cell_type": "code",
      "source": [
        "from collections import defaultdict\n",
        "\n",
        "# Default dictionary with default values\n",
        "dd = defaultdict(int)  # Default value is 0\n",
        "dd['existing'] = 5\n",
        "print(dd['existing'])     # 5\n",
        "print(dd['non_existing']) # 0 (default)\n",
        "\n",
        "# Default dictionary with lambda\n",
        "dd_lambda = defaultdict(lambda: \"Not found\")\n",
        "dd_lambda['key1'] = \"Found\"\n",
        "print(dd_lambda['key1'])        # Found\n",
        "print(dd_lambda['unknown'])     # Not found\n",
        "\n",
        "# Grouping with defaultdict\n",
        "from collections import defaultdict\n",
        "students = [('Alice', 'Math'), ('Bob', 'Physics'), ('Alice', 'Chemistry'), ('Bob', 'Math')]\n",
        "subjects_by_student = defaultdict(list)\n",
        "\n",
        "for student, subject in students:\n",
        "    subjects_by_student[student].append(subject)\n",
        "\n",
        "print(dict(subjects_by_student))  # {'Alice': ['Math', 'Chemistry'], 'Bob': ['Physics', 'Math']}"
      ],
      "metadata": {
        "colab": {
          "base_uri": "https://localhost:8080/"
        },
        "id": "w9U_WGtqewkU",
        "outputId": "c59d46cb-e2c7-4ae2-9c3e-df70303e4f45"
      },
      "execution_count": 53,
      "outputs": [
        {
          "output_type": "stream",
          "name": "stdout",
          "text": [
            "5\n",
            "0\n",
            "Found\n",
            "Not found\n",
            "{'Alice': ['Math', 'Chemistry'], 'Bob': ['Physics', 'Math']}\n"
          ]
        }
      ]
    },
    {
      "cell_type": "markdown",
      "source": [
        "## 1.15 String Templates\n",
        "\n",
        "---\n",
        "\n"
      ],
      "metadata": {
        "id": "lx0_dsqve1lQ"
      }
    },
    {
      "cell_type": "markdown",
      "source": [
        "### Basic Templates"
      ],
      "metadata": {
        "id": "hnv964UXe6Wl"
      }
    },
    {
      "cell_type": "code",
      "source": [
        "from string import Template\n",
        "\n",
        "# Basic template\n",
        "template = Template(\"Hello $name, welcome to $place!\")\n",
        "result = template.substitute(name=\"Alice\", place=\"Python\")\n",
        "print(result)  # Hello Alice, welcome to Python!\n",
        "\n",
        "# Template with dictionary\n",
        "data = {\"name\": \"Bob\", \"age\": 30, \"city\": \"New York\"}\n",
        "template = Template(\"$name is $age years old and lives in $city\")\n",
        "result = template.substitute(data)\n",
        "print(result)  # Bob is 30 years old and lives in New York"
      ],
      "metadata": {
        "colab": {
          "base_uri": "https://localhost:8080/"
        },
        "id": "3BAV-Kume8TI",
        "outputId": "f454d310-62f0-41b9-990b-f8189ed547a7"
      },
      "execution_count": 54,
      "outputs": [
        {
          "output_type": "stream",
          "name": "stdout",
          "text": [
            "Hello Alice, welcome to Python!\n",
            "Bob is 30 years old and lives in New York\n"
          ]
        }
      ]
    },
    {
      "cell_type": "markdown",
      "source": [
        "### Safe Substitution"
      ],
      "metadata": {
        "id": "CACcgkd2fAix"
      }
    },
    {
      "cell_type": "code",
      "source": [
        "template = Template(\"Hello $name, you have $count messages\")\n",
        "# safe_substitute won't raise error for missing keys\n",
        "result = template.safe_substitute(name=\"Alice\")\n",
        "print(result)  # Hello Alice, you have $count messages"
      ],
      "metadata": {
        "colab": {
          "base_uri": "https://localhost:8080/"
        },
        "id": "v9XgJHnjfC7b",
        "outputId": "2f413717-b536-49f4-c107-b073d7e9c542"
      },
      "execution_count": 55,
      "outputs": [
        {
          "output_type": "stream",
          "name": "stdout",
          "text": [
            "Hello Alice, you have $count messages\n"
          ]
        }
      ]
    },
    {
      "cell_type": "markdown",
      "source": [
        "## 1.16 Tuples\n",
        "\n",
        "---\n",
        "\n"
      ],
      "metadata": {
        "id": "_JFAGpEifGj1"
      }
    },
    {
      "cell_type": "markdown",
      "source": [
        "### Tuple Basics"
      ],
      "metadata": {
        "id": "KGBKbqSGfKeu"
      }
    },
    {
      "cell_type": "code",
      "source": [
        "# Tuple creation\n",
        "coordinates = (10, 20)\n",
        "colors = ('red', 'green', 'blue')\n",
        "mixed = (1, 'hello', 3.14, True)\n",
        "\n",
        "# Tuple unpacking\n",
        "x, y = coordinates\n",
        "print(f\"x={x}, y={y}\")  # x=10, y=20\n",
        "\n",
        "# Tuple with one element (note the comma)\n",
        "single = (42,)\n",
        "print(type(single))  # <class 'tuple'>"
      ],
      "metadata": {
        "colab": {
          "base_uri": "https://localhost:8080/"
        },
        "id": "ioU1LZ6LfMoO",
        "outputId": "c71e293b-0357-4421-9047-91b5911e8f7f"
      },
      "execution_count": 56,
      "outputs": [
        {
          "output_type": "stream",
          "name": "stdout",
          "text": [
            "x=10, y=20\n",
            "<class 'tuple'>\n"
          ]
        }
      ]
    },
    {
      "cell_type": "markdown",
      "source": [
        "### Tuple Immutability"
      ],
      "metadata": {
        "id": "yPAZB6g5fQWF"
      }
    },
    {
      "cell_type": "code",
      "source": [
        "point = (3, 4)\n",
        "# point[0] = 5  # This would raise an error - tuples are immutable\n",
        "\n",
        "# But you can reassign the variable\n",
        "point = (5, 6)  # This is allowed"
      ],
      "metadata": {
        "id": "QJWGW44HfSfy"
      },
      "execution_count": null,
      "outputs": []
    },
    {
      "cell_type": "markdown",
      "source": [
        "### Named Tuples"
      ],
      "metadata": {
        "id": "c4Qh1uAzfWAQ"
      }
    },
    {
      "cell_type": "code",
      "source": [
        "from collections import namedtuple\n",
        "\n",
        "# Create a named tuple\n",
        "Point = namedtuple('Point', ['x', 'y'])\n",
        "p = Point(3, 4)\n",
        "print(p.x, p.y)  # 3 4\n",
        "print(p[0], p[1])  # 3 4 (still accessible by index)\n",
        "\n",
        "# Named tuple with methods\n",
        "Student = namedtuple('Student', ['name', 'age', 'grade'])\n",
        "student = Student('Alice', 20, 'A')\n",
        "print(student.name)  # Alice"
      ],
      "metadata": {
        "colab": {
          "base_uri": "https://localhost:8080/"
        },
        "id": "TIERTkIPfYFR",
        "outputId": "ad2b3991-31a5-4dd2-d840-f46530fd51bf"
      },
      "execution_count": 57,
      "outputs": [
        {
          "output_type": "stream",
          "name": "stdout",
          "text": [
            "3 4\n",
            "3 4\n",
            "Alice\n"
          ]
        }
      ]
    },
    {
      "cell_type": "markdown",
      "source": [
        "## 1.17 Advanced List Operations"
      ],
      "metadata": {
        "id": "eyAM25eifb1f"
      }
    },
    {
      "cell_type": "markdown",
      "source": [
        "### Finding Elements"
      ],
      "metadata": {
        "id": "Wv8EjXGGffKb"
      }
    },
    {
      "cell_type": "code",
      "source": [
        "numbers = [1, 3, 5, 7, 9, 11, 13, 15]\n",
        "\n",
        "# Find numbers containing digit '3'\n",
        "contains_three = [i for i in range(1, 1000) if '3' in str(i)]\n",
        "print(contains_three[:10])  # First 10 numbers containing '3'\n",
        "\n",
        "# Find multiples of 7\n",
        "multiples_of_seven = [i for i in range(1, 100) if i % 7 == 0]\n",
        "print(multiples_of_seven)\n",
        "\n",
        "# Count spaces in string\n",
        "text = \"Hello world this is Python\"\n",
        "space_count = len([char for char in text if char == ' '])\n",
        "print(space_count)  # 4"
      ],
      "metadata": {
        "colab": {
          "base_uri": "https://localhost:8080/"
        },
        "id": "naIDWmqGfhXB",
        "outputId": "ea66fb50-2064-4404-b487-029d086f6641"
      },
      "execution_count": 58,
      "outputs": [
        {
          "output_type": "stream",
          "name": "stdout",
          "text": [
            "[3, 13, 23, 30, 31, 32, 33, 34, 35, 36]\n",
            "[7, 14, 21, 28, 35, 42, 49, 56, 63, 70, 77, 84, 91, 98]\n",
            "4\n"
          ]
        }
      ]
    },
    {
      "cell_type": "markdown",
      "source": [
        "### Complex List Comprehensions"
      ],
      "metadata": {
        "id": "W6UvDJkZflR9"
      }
    },
    {
      "cell_type": "code",
      "source": [
        "# Nested comprehensions with zip\n",
        "base = [5, 10, 15, 20, 25]\n",
        "height = [5, 4, 5, 5, 4]\n",
        "areas = [0.5 * b * h for b, h in zip(base, height)]\n",
        "print(areas)  # [12.5, 20.0, 37.5, 50.0, 50.0]\n",
        "\n",
        "# Multiple conditions\n",
        "numbers = range(1, 101)\n",
        "filtered = [x for x in numbers if x % 3 == 0 and x % 5 == 0]\n",
        "print(filtered)  # Multiples of both 3 and 5"
      ],
      "metadata": {
        "colab": {
          "base_uri": "https://localhost:8080/"
        },
        "id": "Vl7elmmYfoGG",
        "outputId": "50afca0f-98fc-43ca-e2fc-ea128ab3551d"
      },
      "execution_count": 59,
      "outputs": [
        {
          "output_type": "stream",
          "name": "stdout",
          "text": [
            "[12.5, 20.0, 37.5, 50.0, 50.0]\n",
            "[15, 30, 45, 60, 75, 90]\n"
          ]
        }
      ]
    },
    {
      "cell_type": "markdown",
      "source": [
        "## 1.18 Practical Examples and Patterns\n",
        "\n",
        "---\n",
        "\n"
      ],
      "metadata": {
        "id": "wSr-E4mWfs7A"
      }
    },
    {
      "cell_type": "markdown",
      "source": [
        "### Data Processing Patterns"
      ],
      "metadata": {
        "id": "U-TZrhVWfw80"
      }
    },
    {
      "cell_type": "code",
      "source": [
        "# Process paired data\n",
        "names = ['Alice', 'Bob', 'Charlie']\n",
        "scores = [85, 92, 78]\n",
        "\n",
        "# Create grade report\n",
        "grade_report = [(name, score, 'Pass' if score >= 80 else 'Fail')\n",
        "                for name, score in zip(names, scores)]\n",
        "print(grade_report)\n",
        "\n",
        "# Group and aggregate\n",
        "from collections import defaultdict\n",
        "sales_data = [('Jan', 100), ('Feb', 150), ('Jan', 200), ('Mar', 175), ('Feb', 125)]\n",
        "monthly_sales = defaultdict(int)\n",
        "\n",
        "for month, amount in sales_data:\n",
        "    monthly_sales[month] += amount\n",
        "\n",
        "print(dict(monthly_sales))  # {'Jan': 300, 'Feb': 275, 'Mar': 175}"
      ],
      "metadata": {
        "colab": {
          "base_uri": "https://localhost:8080/"
        },
        "id": "hR_ILrzBfzH7",
        "outputId": "8b16c18f-f830-4603-b708-c0f964eb3193"
      },
      "execution_count": 60,
      "outputs": [
        {
          "output_type": "stream",
          "name": "stdout",
          "text": [
            "[('Alice', 85, 'Pass'), ('Bob', 92, 'Pass'), ('Charlie', 78, 'Fail')]\n",
            "{'Jan': 300, 'Feb': 275, 'Mar': 175}\n"
          ]
        }
      ]
    },
    {
      "cell_type": "markdown",
      "source": [
        "### String and List Combinations"
      ],
      "metadata": {
        "id": "reuNTR2rf2og"
      }
    },
    {
      "cell_type": "code",
      "source": [
        "# Combine letters and numbers\n",
        "letters = ['a', 'b', 'c']\n",
        "numbers = [1, 2, 3]\n",
        "decimals = [0.1, 0.2, 0.3]\n",
        "\n",
        "combined = [f\"{letter}{num}{dec}\" for letter, num, dec in zip(letters, numbers, decimals)]\n",
        "print(combined)  # ['a10.1', 'b20.2', 'c30.3']"
      ],
      "metadata": {
        "colab": {
          "base_uri": "https://localhost:8080/"
        },
        "id": "BG6xlpz9f5sB",
        "outputId": "45e855e9-3ff5-48d1-eafb-e90ed899941f"
      },
      "execution_count": 61,
      "outputs": [
        {
          "output_type": "stream",
          "name": "stdout",
          "text": [
            "['a10.1', 'b20.2', 'c30.3']\n"
          ]
        }
      ]
    },
    {
      "cell_type": "markdown",
      "source": [
        "## 1.19 Common Patterns and Best Practices\n",
        "\n",
        "---\n",
        "\n"
      ],
      "metadata": {
        "id": "38UjLApvf88H"
      }
    },
    {
      "cell_type": "markdown",
      "source": [
        "### Efficient Iteration"
      ],
      "metadata": {
        "id": "5tChE5xsgChG"
      }
    },
    {
      "cell_type": "code",
      "source": [
        "# Instead of range(len(list))\n",
        "items = ['apple', 'banana', 'cherry']\n",
        "\n",
        "# Good: Direct iteration when you don't need index\n",
        "for item in items:\n",
        "    print(item)\n",
        "\n",
        "# Good: Use enumerate when you need both index and value\n",
        "for i, item in enumerate(items):\n",
        "    print(f\"{i}: {item}\")\n",
        "\n",
        "# Good: Use zip for multiple lists\n",
        "list1 = [1, 2, 3]\n",
        "list2 = ['a', 'b', 'c']\n",
        "for num, letter in zip(list1, list2):\n",
        "    print(f\"{num}: {letter}\")"
      ],
      "metadata": {
        "colab": {
          "base_uri": "https://localhost:8080/"
        },
        "id": "EBY5yJJSgEd9",
        "outputId": "a2a21848-e2d5-4fea-cc49-6cd4bcefe017"
      },
      "execution_count": 62,
      "outputs": [
        {
          "output_type": "stream",
          "name": "stdout",
          "text": [
            "apple\n",
            "banana\n",
            "cherry\n",
            "0: apple\n",
            "1: banana\n",
            "2: cherry\n",
            "1: a\n",
            "2: b\n",
            "3: c\n"
          ]
        }
      ]
    },
    {
      "cell_type": "markdown",
      "source": [
        "### List vs Set vs Dictionary Choice"
      ],
      "metadata": {
        "id": "vybVTmMLgJ_O"
      }
    },
    {
      "cell_type": "code",
      "source": [
        "# Use list for ordered data that allows duplicates\n",
        "scores = [85, 92, 78, 85, 90]\n",
        "print(scores)\n",
        "\n",
        "# Use set for unique items\n",
        "unique_scores = {85, 92, 78, 90}\n",
        "print(unique_scores)\n",
        "\n",
        "# Use dictionary for key-value mapping\n",
        "student_scores = {'Alice': 85, 'Bob': 92, 'Charlie': 78}\n",
        "print(student_scores)"
      ],
      "metadata": {
        "colab": {
          "base_uri": "https://localhost:8080/"
        },
        "id": "nUt68NTFgMOY",
        "outputId": "217f37e7-3b4a-40f0-fd2d-8951e5dce9ce"
      },
      "execution_count": 64,
      "outputs": [
        {
          "output_type": "stream",
          "name": "stdout",
          "text": [
            "[85, 92, 78, 85, 90]\n",
            "{90, 92, 85, 78}\n",
            "{'Alice': 85, 'Bob': 92, 'Charlie': 78}\n"
          ]
        }
      ]
    },
    {
      "cell_type": "markdown",
      "source": [
        "### Memory Efficient Operations"
      ],
      "metadata": {
        "id": "Z5B_YMrSgg42"
      }
    },
    {
      "cell_type": "code",
      "source": [
        "# Use generators for large datasets\n",
        "def squares_generator(n):\n",
        "    for i in range(n):\n",
        "        yield i**2\n",
        "\n",
        "# Generator expression (like list comprehension but memory efficient)\n",
        "squares_gen = (x**2 for x in range(1000000))  # Won't create all at once\n",
        "\n",
        "# Convert to list only when needed\n",
        "first_ten_squares = list(squares_gen)[:10]\n",
        "print(first_ten_squares)"
      ],
      "metadata": {
        "colab": {
          "base_uri": "https://localhost:8080/"
        },
        "id": "3Y6saes5gizx",
        "outputId": "91fe6c17-9b4f-4071-c5cc-d13e8c598d6d"
      },
      "execution_count": 69,
      "outputs": [
        {
          "output_type": "stream",
          "name": "stdout",
          "text": [
            "[0, 1, 4, 9, 16, 25, 36, 49, 64, 81]\n"
          ]
        }
      ]
    },
    {
      "cell_type": "markdown",
      "source": [
        "## 1.20 Common Mistakes to Avoid\n",
        "\n",
        "---\n",
        "\n"
      ],
      "metadata": {
        "id": "IdURwrxRgysm"
      }
    },
    {
      "cell_type": "markdown",
      "source": [
        "### Mutable Default Arguments"
      ],
      "metadata": {
        "id": "bCOoRD6bg3r8"
      }
    },
    {
      "cell_type": "code",
      "source": [
        "# Bad\n",
        "def add_item(item, target_list=[]):\n",
        "    target_list.append(item)\n",
        "    return target_list\n",
        "\n",
        "# Good\n",
        "def add_item(item, target_list=None):\n",
        "    if target_list is None:\n",
        "        target_list = []\n",
        "    target_list.append(item)\n",
        "    return target_list"
      ],
      "metadata": {
        "id": "Br3lzRpFg6LM"
      },
      "execution_count": 70,
      "outputs": []
    },
    {
      "cell_type": "markdown",
      "source": [
        "### Modifying List While Iterating"
      ],
      "metadata": {
        "id": "U8WmTQnehIVc"
      }
    },
    {
      "cell_type": "code",
      "source": [
        "numbers = [1, 2, 3, 4, 5]\n",
        "\n",
        "# Bad - can cause issues\n",
        "# for num in numbers:\n",
        "#     if num % 2 == 0:\n",
        "#         numbers.remove(num)\n",
        "\n",
        "# Good - iterate over a copy\n",
        "for num in numbers[:]:  # Slice creates a copy\n",
        "    if num % 2 == 0:\n",
        "        numbers.remove(num)\n",
        "\n",
        "# Better - use list comprehension\n",
        "numbers = [num for num in numbers if num % 2 != 0]"
      ],
      "metadata": {
        "id": "19-wJ3f1hKXr"
      },
      "execution_count": 71,
      "outputs": []
    },
    {
      "cell_type": "markdown",
      "source": [
        "### Understanding Variable Scope"
      ],
      "metadata": {
        "id": "QXgbIy3ohRZQ"
      }
    },
    {
      "cell_type": "code",
      "source": [
        "# Be careful with variable scope in comprehensions\n",
        "x = 10\n",
        "squares = [x**2 for x in range(5)]  # x in comprehension is local\n",
        "print(x)  # Still 10, not affected by comprehension"
      ],
      "metadata": {
        "colab": {
          "base_uri": "https://localhost:8080/"
        },
        "id": "eFjv6CAVhUfv",
        "outputId": "1eb9397d-3069-44e2-d44b-787cf98e8420"
      },
      "execution_count": 72,
      "outputs": [
        {
          "output_type": "stream",
          "name": "stdout",
          "text": [
            "10\n"
          ]
        }
      ]
    },
    {
      "cell_type": "markdown",
      "source": [
        "---\n",
        "\n",
        "## Quick Reference Summary\n",
        "\n",
        "### Essential Functions\n",
        "- `len()`, `sum()`, `min()`, `max()`, `any()`, `all()`\n",
        "- `range()`, `enumerate()`, `zip()`\n",
        "- `map()`, `filter()`, `sorted()`\n",
        "\n",
        "### String Methods\n",
        "- `.format()`, f-strings, `.join()`, `.split()`\n",
        "- `.strip()`, `.replace()`, `.upper()`, `.lower()`\n",
        "\n",
        "### List Methods\n",
        "- `.append()`, `.extend()`, `.insert()`, `.remove()`, `.pop()`\n",
        "- `.sort()`, `.reverse()`, `.count()`, `.index()`\n",
        "\n",
        "### Dictionary Methods\n",
        "- `.keys()`, `.values()`, `.items()`, `.get()`, `.update()`\n",
        "\n",
        "### Comprehension Syntax\n",
        "- List: `[expr for item in iterable if condition]`\n",
        "- Set: `{expr for item in iterable if condition}`\n",
        "- Dict: `{key_expr: val_expr for item in iterable if condition}`\n",
        "\n",
        "---\n",
        "\n",
        "**`Mirza Naeem Beg`**<br>\n",
        "`Final Year UG Student,`<br>\n",
        "`Dept. of CSE,` [`AUST`](https://aust.edu/)\n",
        "\n",
        "[`Learn more about me;`](https://mirzanaeembeg.github.io/)\n",
        "---\n",
        "\n"
      ],
      "metadata": {
        "id": "59evvUTEhYrC"
      }
    }
  ]
}