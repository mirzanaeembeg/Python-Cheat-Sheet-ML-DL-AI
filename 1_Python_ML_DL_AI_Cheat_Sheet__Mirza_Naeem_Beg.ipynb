{
  "nbformat": 4,
  "nbformat_minor": 0,
  "metadata": {
    "colab": {
      "provenance": [],
      "authorship_tag": "ABX9TyMZFfDsjf8cPPxT4IlJt2Az",
      "include_colab_link": true
    },
    "kernelspec": {
      "name": "python3",
      "display_name": "Python 3"
    },
    "language_info": {
      "name": "python"
    }
  },
  "cells": [
    {
      "cell_type": "markdown",
      "metadata": {
        "id": "view-in-github",
        "colab_type": "text"
      },
      "source": [
        "<a href=\"https://colab.research.google.com/github/mirzanaeembeg/Python-Cheat-Sheet-ML-DL-AI/blob/main/1_Python_ML_DL_AI_Cheat_Sheet__Mirza_Naeem_Beg.ipynb\" target=\"_parent\"><img src=\"https://colab.research.google.com/assets/colab-badge.svg\" alt=\"Open In Colab\"/></a>"
      ]
    },
    {
      "cell_type": "markdown",
      "source": [
        "# Complete Python Cheat Sheet for Machine Learning, Deep Learning & AI\n",
        "\n",
        "## Table of Contents\n",
        "1. [Python Fundamentals](#1-python-fundamentals)\n",
        "   - Covers core Python concepts like data types, control flow, functions, and more.\n",
        "2. [NumPy - Numerical Computing](https://colab.research.google.com/drive/1qZFirXOdQtbtfCdJPtT9RU-FshLo9qLH?usp=sharing)\n",
        "   - Focuses on array manipulation and mathematical operations using NumPy.\n",
        "3. [Pandas - Data Manipulation](#3-pandas---data-manipulation)\n",
        "   - Explores data structures and tools for data analysis with Pandas.\n",
        "4. [Matplotlib & Seaborn - Data Visualization](#4-matplotlib--seaborn---data-visualization)\n",
        "   - Guides you through creating visualizations with Matplotlib and Seaborn.\n",
        "5. [Scikit-learn - Machine Learning](#5-scikit-learn---machine-learning)\n",
        "   - Introduces machine learning algorithms and workflows using Scikit-learn.\n",
        "6. [TensorFlow & Keras - Deep Learning](#6-tensorflow--keras---deep-learning)\n",
        "   - Covers building and training neural networks with TensorFlow and Keras.\n",
        "7. [PyTorch - Deep Learning](#7-pytorch---deep-learning)\n",
        "   - Explores deep learning concepts and implementation using PyTorch.\n",
        "8. [Data Preprocessing](#8-data-preprocessing)\n",
        "   - Discusses techniques for cleaning, transforming, and preparing data.\n",
        "9. [Model Evaluation & Metrics](#9-model-evaluation--metrics)\n",
        "   - Explains how to evaluate model performance using various metrics.\n",
        "10. [Advanced Topics](#10-advanced-topics)\n",
        "    - Delves into more complex Python and ML concepts.\n",
        "11. [Best Practices](#11-best-practices)\n",
        "    - Provides tips and guidelines for writing efficient and readable code.\n",
        "12. [Resources & Further Learning](#12-resources--further-learning)\n",
        "    - Lists additional resources for continuing your learning journey.\n",
        "\n",
        "* * *"
      ],
      "metadata": {
        "id": "8sZyKy-HTD00"
      }
    },
    {
      "cell_type": "markdown",
      "source": [
        "# **1. Python Fundamentals** <a id=\"1-python-fundamentals\"></a>\n",
        "* * *\n",
        "* * *\n",
        "This section, `1.Python Fundamentals` provides a comprehensive overview of core [Python](https://docs.python.org/3/) concepts essential for beginners and as a refresher for those working in Machine Learning, Deep Learning, and AI.\n",
        "\n",
        "Here's what is covered:\n",
        "\n",
        "* **Print Statements and String Formatting:** Demonstrates various ways to display output and format strings using f-strings, `.format()`, and the older `%` formatting. It also includes examples of escape characters.\n",
        "* **Lists - Creation and Basic Operations:** Introduces lists as mutable sequences, showing how to create them, check their properties (`type`, `len`, `sum`, `max`, `min`), and use boolean functions like `any()` and `all()`.\n",
        "* **Range Function:** Explains the `range()` function for generating sequences of numbers, including examples with start, stop, and step arguments. It also shows common patterns like using `range()` for indexing.\n",
        "* **List Iteration and Modification:** Covers different methods for iterating over lists (direct, index-based, and `enumerate`). It also shows how to modify list elements during iteration and introduces list slicing for accessing subsets of a list.\n",
        "* **List Methods:** Details various built-in list methods for adding elements (`append`, `extend`, `insert`), removing elements (`count`, `index`, `remove`, `pop`), and modifying the list in-place (`reverse`, `sort`).\n",
        "* **Enumerate Function:** Explains how `enumerate()` provides both the index and value during iteration, with examples of basic usage, custom start values, and converting the output to a list.\n",
        "* **Zip Function:** Shows how `zip()` pairs elements from multiple iterables, demonstrating its use with two or more lists and explaining its behavior with lists of different lengths. It also includes an example of combining `enumerate` and `zip`.\n",
        "* **Iterators:** Introduces the concept of iterators and how to create and use them with `iter()` and `next()`. It also shows how to use an iterator with a loop.\n",
        "* **List Comprehensions:** Provides a concise way to create lists based on existing iterables. It covers basic syntax, conditions, complex expressions, temperature conversion examples, and nested list comprehensions.\n",
        "* **Set Comprehensions:** Explains how to create sets using a similar concise syntax to list comprehensions, highlighting their use for generating unique elements.\n",
        "* **Dictionary Comprehensions:** Shows how to create dictionaries efficiently using comprehensions, including examples with basic syntax, conditions, and working with dictionary methods like `.items()`, `.keys()`, and `.values()`.\n",
        "* **Lambda Functions:** Introduces small, anonymous functions created with `lambda`. It covers basic syntax, use with built-in functions like `filter()` and `map()`, using lambda for sorting with `key`, and examples of higher-order functions.\n",
        "* **Map and Filter Functions:** Details the `map()` function for applying a function to all items in an input list and the `filter()` function for constructing an iterator from elements of an iterable for which a function returns true.\n",
        "* **Collections Module:** Introduces useful data structures from the `collections` module, specifically `Counter` for counting hashable objects and `DefaultDict` for handling missing keys gracefully.\n",
        "* **String Templates:** Shows how to use `string.Template` for simple string substitutions, including basic usage and safe substitution to avoid errors with missing keys.\n",
        "* **Tuples:** Explains tuples as immutable sequences, covering creation, unpacking, the importance of the comma for single-element tuples, and introducing `namedtuple` for creating easily readable data structures.\n",
        "* **Advanced List Operations:** Provides examples of more complex list operations, including finding elements using comprehensions, and nested list comprehensions with `zip` and multiple conditions.\n",
        "* **Practical Examples and Patterns:** Illustrates common data processing patterns using the concepts covered, such as processing paired data with `zip` and grouping/aggregating with `defaultdict`. It also shows string and list combinations.\n",
        "* **Common Patterns and Best Practices:** Offers guidance on writing efficient and readable Python code, including tips for efficient iteration, choosing between lists, sets, and dictionaries, and using generators for memory efficiency.\n",
        "* **Common Mistakes to Avoid:** Highlights potential pitfalls, such as mutable default arguments, modifying a list while iterating over it, and understanding variable scope in comprehensions.\n",
        "\n",
        "## This section provides a solid foundation in Python's core features, which are essential building blocks for more advanced topics in machine learning and data science.\n"
      ],
      "metadata": {
        "id": "FsjKe5pOTx6-"
      }
    },
    {
      "cell_type": "markdown",
      "source": [
        "## 1.1 Print Statements and String Formatting\n",
        "---"
      ],
      "metadata": {
        "id": "GQ83U4NqppJs"
      }
    },
    {
      "cell_type": "markdown",
      "source": [
        "### Basic Print Statements"
      ],
      "metadata": {
        "id": "OF8wKMuFUhqq"
      }
    },
    {
      "cell_type": "code",
      "source": [
        "x = 10\n",
        "print(f'The value of x is {x}')        # f-string formatting\n",
        "print('The value of x is', x)          # comma-separated\n",
        "print('x = ' + str(x))                 # string concatenation"
      ],
      "metadata": {
        "colab": {
          "base_uri": "https://localhost:8080/"
        },
        "id": "QKIW-dq7VMq5",
        "outputId": "b774c456-f50a-400d-e81c-640f63882495"
      },
      "execution_count": null,
      "outputs": [
        {
          "output_type": "stream",
          "name": "stdout",
          "text": [
            "The value of x is 10\n",
            "The value of x is 10\n",
            "x = 10\n"
          ]
        }
      ]
    },
    {
      "cell_type": "markdown",
      "source": [
        "### Multiple Variables"
      ],
      "metadata": {
        "id": "d9fSMNZ8Vh84"
      }
    },
    {
      "cell_type": "code",
      "source": [
        "x, y = 10, 20\n",
        "print('x =', x, 'y =', y)                  # comma-separated\n",
        "print(f'x = {x} y = {y}')                  # f-string\n",
        "print('x = ' + str(x) + ' y = ' + str(y))  # concatenation"
      ],
      "metadata": {
        "colab": {
          "base_uri": "https://localhost:8080/"
        },
        "id": "E4HyDJdRVjgX",
        "outputId": "10774bfb-0c41-4fc3-fb25-65f1e83b76c1"
      },
      "execution_count": null,
      "outputs": [
        {
          "output_type": "stream",
          "name": "stdout",
          "text": [
            "x = 10 y = 20\n",
            "x = 10 y = 20\n",
            "x = 10 y = 20\n"
          ]
        }
      ]
    },
    {
      "cell_type": "markdown",
      "source": [
        "### String Formatting Methods"
      ],
      "metadata": {
        "id": "GlAhOP16VvEU"
      }
    },
    {
      "cell_type": "code",
      "source": [
        "# f-strings (Python 3.6+) - Recommended\n",
        "name, age = \"Alice\", 25\n",
        "print(f\"Hello {name}, you are {age} years old\")\n",
        "\n",
        "# .format() method\n",
        "print(\"Hello {}, you are {} years old\".format(name, age))\n",
        "print(\"Hello {0}, you are {1} years old\".format(name, age))\n",
        "\n",
        "# % formatting (older style)\n",
        "print(\"Hello %s, you are %d years old\" % (name, age))"
      ],
      "metadata": {
        "colab": {
          "base_uri": "https://localhost:8080/"
        },
        "id": "rkM2CjOvVzBP",
        "outputId": "c8e87c0c-01a5-48e1-c9ea-d77cbc298e37"
      },
      "execution_count": null,
      "outputs": [
        {
          "output_type": "stream",
          "name": "stdout",
          "text": [
            "Hello Alice, you are 25 years old\n",
            "Hello Alice, you are 25 years old\n",
            "Hello Alice, you are 25 years old\n",
            "Hello Alice, you are 25 years old\n"
          ]
        }
      ]
    },
    {
      "cell_type": "markdown",
      "source": [
        "### Escape Characters"
      ],
      "metadata": {
        "id": "Ssaxzn5LV5Uy"
      }
    },
    {
      "cell_type": "code",
      "source": [
        "print(\"Hello World\\n\")                  # newline\n",
        "print(\"Hello\\tWorld\")                   # tab\n",
        "print(\"He said \\\"Hello\\\"\")              # escaped quotes"
      ],
      "metadata": {
        "colab": {
          "base_uri": "https://localhost:8080/"
        },
        "id": "VL1ZMh1VWJWT",
        "outputId": "559ccdc4-88a7-47c8-9715-3e86287dba21"
      },
      "execution_count": null,
      "outputs": [
        {
          "output_type": "stream",
          "name": "stdout",
          "text": [
            "Hello World\n",
            "\n",
            "Hello\tWorld\n",
            "He said \"Hello\"\n"
          ]
        }
      ]
    },
    {
      "cell_type": "markdown",
      "source": [
        "## 1.2 Lists - Creation and Basic Operations\n",
        "---\n",
        "\n"
      ],
      "metadata": {
        "id": "50ptwAPvWSUW"
      }
    },
    {
      "cell_type": "markdown",
      "source": [
        "### List Creation"
      ],
      "metadata": {
        "id": "orm3z8nlXC_j"
      }
    },
    {
      "cell_type": "code",
      "source": [
        "# Different data types in lists\n",
        "mixed_list = [1, 2, 3, 4, 'string', 2.222]\n",
        "numbers = [1, 5, 9, 55, 4545]\n",
        "empty_list = []\n",
        "print(mixed_list)\n",
        "print(numbers)\n",
        "print(empty_list)"
      ],
      "metadata": {
        "colab": {
          "base_uri": "https://localhost:8080/"
        },
        "id": "PMSWcfyzXFyk",
        "outputId": "eeb36640-7fa9-440d-b195-e7af28db6ebb"
      },
      "execution_count": null,
      "outputs": [
        {
          "output_type": "stream",
          "name": "stdout",
          "text": [
            "[1, 2, 3, 4, 'string', 2.222]\n",
            "[1, 5, 9, 55, 4545]\n",
            "[]\n"
          ]
        }
      ]
    },
    {
      "cell_type": "markdown",
      "source": [
        "### List Properties"
      ],
      "metadata": {
        "id": "7AFO2eZ3XK5T"
      }
    },
    {
      "cell_type": "code",
      "source": [
        "my_list = [1, 2, 3, 4]\n",
        "print(type(my_list))                    # <class 'list'>\n",
        "print(len(my_list))                     # 4\n",
        "print(sum(my_list))                     # 10\n",
        "print(max(my_list))                     # 4\n",
        "print(min(my_list))                     # 1"
      ],
      "metadata": {
        "colab": {
          "base_uri": "https://localhost:8080/"
        },
        "id": "h28kJo8SXOmo",
        "outputId": "e975132b-4bf4-4486-858a-224698f86e54"
      },
      "execution_count": null,
      "outputs": [
        {
          "output_type": "stream",
          "name": "stdout",
          "text": [
            "<class 'list'>\n",
            "4\n",
            "10\n",
            "4\n",
            "1\n"
          ]
        }
      ]
    },
    {
      "cell_type": "markdown",
      "source": [
        "### Boolean Functions on Lists"
      ],
      "metadata": {
        "id": "VqCACBmIXmXt"
      }
    },
    {
      "cell_type": "code",
      "source": [
        "list1 = [1, 0, 3, 1, 0, 2]\n",
        "print(any(list1))                       # True (any non-zero)\n",
        "print(all(list1))                       # False (contains zeros)\n",
        "\n",
        "list2 = [1, 2, 3, 4, 5]\n",
        "print(all(list2))                       # True (all non-zero)"
      ],
      "metadata": {
        "colab": {
          "base_uri": "https://localhost:8080/"
        },
        "id": "m4E4lrSSXoi0",
        "outputId": "5dceb5b7-a05e-401d-82cd-05ad33cd7f3e"
      },
      "execution_count": null,
      "outputs": [
        {
          "output_type": "stream",
          "name": "stdout",
          "text": [
            "True\n",
            "False\n",
            "True\n"
          ]
        }
      ]
    },
    {
      "cell_type": "markdown",
      "source": [
        "## 1.3 Range Function"
      ],
      "metadata": {
        "id": "joo766kwXviL"
      }
    },
    {
      "cell_type": "markdown",
      "source": [
        "### Basic Range Usage"
      ],
      "metadata": {
        "id": "hMKRFLiHXyKB"
      }
    },
    {
      "cell_type": "code",
      "source": [
        "print(list(range(5)))                          # [0, 1, 2, 3, 4]\n",
        "print(list(range(1, 6)))                       # [1, 2, 3, 4, 5]\n",
        "print(list(range(1, 11, 2)))                   # [1, 3, 5, 7, 9] (step=2)\n",
        "print(list(range(10, 0, -1)))                  # [10, 9, 8, 7, 6, 5, 4, 3, 2, 1]\n",
        "print(list(range(-10, 0, 2)))                  # [-10, -8, -6, -4, -2]"
      ],
      "metadata": {
        "colab": {
          "base_uri": "https://localhost:8080/"
        },
        "id": "2Q61ogt4X0nw",
        "outputId": "3c72c0c6-3e60-410a-d855-689484043e96"
      },
      "execution_count": null,
      "outputs": [
        {
          "output_type": "stream",
          "name": "stdout",
          "text": [
            "[0, 1, 2, 3, 4]\n",
            "[1, 2, 3, 4, 5]\n",
            "[1, 3, 5, 7, 9]\n",
            "[10, 9, 8, 7, 6, 5, 4, 3, 2, 1]\n",
            "[-10, -8, -6, -4, -2]\n"
          ]
        }
      ]
    },
    {
      "cell_type": "markdown",
      "source": [
        "### Common Range Patterns"
      ],
      "metadata": {
        "id": "-w3qslFCYa3w"
      }
    },
    {
      "cell_type": "code",
      "source": [
        "# For indexing\n",
        "my_list = ['a', 'b', 'c', 'd']\n",
        "for i in range(len(my_list)):\n",
        "    print(f\"Index {i}: {my_list[i]}\")"
      ],
      "metadata": {
        "colab": {
          "base_uri": "https://localhost:8080/"
        },
        "id": "6A35v-q6YdhH",
        "outputId": "6f81f090-7376-4ab0-ac1c-5b38dceea0ab"
      },
      "execution_count": null,
      "outputs": [
        {
          "output_type": "stream",
          "name": "stdout",
          "text": [
            "Index 0: a\n",
            "Index 1: b\n",
            "Index 2: c\n",
            "Index 3: d\n"
          ]
        }
      ]
    },
    {
      "cell_type": "markdown",
      "source": [
        "## 1.4 List Iteration and Modification\n",
        "\n",
        "---\n",
        "\n"
      ],
      "metadata": {
        "id": "XwKxpjo0YoZ_"
      }
    },
    {
      "cell_type": "markdown",
      "source": [
        "### Iterating Over Lists"
      ],
      "metadata": {
        "id": "-dxnAJ2_YuE0"
      }
    },
    {
      "cell_type": "code",
      "source": [
        "# Method 1: Direct iteration\n",
        "fruits = ['apple', 'banana', 'orange']\n",
        "for fruit in fruits:\n",
        "    print(fruit)\n",
        "\n",
        "# Method 2: Index-based iteration\n",
        "for i in range(len(fruits)):\n",
        "    print(f\"{i}: {fruits[i]}\")\n",
        "\n",
        "# Method 3: Using enumerate (preferred for index + value)\n",
        "for index, fruit in enumerate(fruits):\n",
        "    print(f\"{index}: {fruit}\")"
      ],
      "metadata": {
        "colab": {
          "base_uri": "https://localhost:8080/"
        },
        "id": "sn9PJcLKYwpB",
        "outputId": "3fd478e0-7b36-4958-bdd1-5c84ec2b028f"
      },
      "execution_count": null,
      "outputs": [
        {
          "output_type": "stream",
          "name": "stdout",
          "text": [
            "apple\n",
            "banana\n",
            "orange\n",
            "0: apple\n",
            "1: banana\n",
            "2: orange\n",
            "0: apple\n",
            "1: banana\n",
            "2: orange\n"
          ]
        }
      ]
    },
    {
      "cell_type": "markdown",
      "source": [
        "### Modifying Lists During Iteration"
      ],
      "metadata": {
        "id": "BUZKA5sLY2KZ"
      }
    },
    {
      "cell_type": "code",
      "source": [
        "# Add 2 to each element\n",
        "for i in range(len(numbers)):\n",
        "    numbers[i] += 2\n",
        "print(numbers)  # [3, 4, 5, 6, 7]"
      ],
      "metadata": {
        "colab": {
          "base_uri": "https://localhost:8080/"
        },
        "id": "-VKs-wPsY7a_",
        "outputId": "e399ab04-f6fb-4a70-e697-b6451fb86f5a"
      },
      "execution_count": null,
      "outputs": [
        {
          "output_type": "stream",
          "name": "stdout",
          "text": [
            "[3, 7, 11, 57, 4547]\n"
          ]
        }
      ]
    },
    {
      "cell_type": "markdown",
      "source": [
        "### List Slicing"
      ],
      "metadata": {
        "id": "655kVNGeZB8s"
      }
    },
    {
      "cell_type": "code",
      "source": [
        "my_list = [0, 1, 2, 3, 4, 5, 6, 7, 8, 9]\n",
        "print(my_list[2:5])                     # [2, 3, 4]\n",
        "print(my_list[:3])                      # [0, 1, 2]\n",
        "print(my_list[3:])                      # [3, 4, 5, 6, 7, 8, 9]\n",
        "print(my_list[::2])                     # [0, 2, 4, 6, 8] (every 2nd)\n",
        "print(my_list[::-1])                    # [9, 8, 7, 6, 5, 4, 3, 2, 1, 0] (reverse)\n",
        "print(my_list[::-2])                    # [9, 7, 5, 3, 1] (reverse every 2nd)"
      ],
      "metadata": {
        "colab": {
          "base_uri": "https://localhost:8080/"
        },
        "id": "BdV83xx9ZDnr",
        "outputId": "c5ff2e68-7eef-4ddb-dc60-2721b6732ba4"
      },
      "execution_count": null,
      "outputs": [
        {
          "output_type": "stream",
          "name": "stdout",
          "text": [
            "[2, 3, 4]\n",
            "[0, 1, 2]\n",
            "[3, 4, 5, 6, 7, 8, 9]\n",
            "[0, 2, 4, 6, 8]\n",
            "[9, 8, 7, 6, 5, 4, 3, 2, 1, 0]\n",
            "[9, 7, 5, 3, 1]\n"
          ]
        }
      ]
    },
    {
      "cell_type": "markdown",
      "source": [
        "## 1.5 List Methods"
      ],
      "metadata": {
        "id": "jPxjYVNjZHWz"
      }
    },
    {
      "cell_type": "markdown",
      "source": [
        "### Adding Elements"
      ],
      "metadata": {
        "id": "u7cRJbMkZMja"
      }
    },
    {
      "cell_type": "code",
      "source": [
        "x = [1, 2, 3]\n",
        "\n",
        "# append() - adds single element\n",
        "x.append(4)                             # [1, 2, 3, 4]\n",
        "x.append([5, 6])                        # [1, 2, 3, 4, [5, 6]]\n",
        "print(x)\n",
        "\n",
        "# extend() - adds multiple elements\n",
        "y = [1, 2, 3]\n",
        "y.extend([4, 5])                        # [1, 2, 3, 4, 5]\n",
        "y.extend((6, 7))                        # [1, 2, 3, 4, 5, 6, 7] (works with tuples)\n",
        "print(y)\n",
        "\n",
        "# insert() - adds element at specific position\n",
        "z = [1, 2, 3]\n",
        "z.insert(1, 'inserted')                 # [1, 'inserted', 2, 3]\n",
        "print(z)\n"
      ],
      "metadata": {
        "colab": {
          "base_uri": "https://localhost:8080/"
        },
        "id": "B64CKVxqZOdZ",
        "outputId": "8665416c-52f7-47b3-ab46-553f25039771"
      },
      "execution_count": null,
      "outputs": [
        {
          "output_type": "stream",
          "name": "stdout",
          "text": [
            "[1, 2, 3, 4, [5, 6]]\n",
            "[1, 2, 3, 4, 5, 6, 7]\n",
            "[1, 'inserted', 2, 3]\n"
          ]
        }
      ]
    },
    {
      "cell_type": "markdown",
      "source": [
        "### Other Useful List Methods"
      ],
      "metadata": {
        "id": "22cXI1qiaUtH"
      }
    },
    {
      "cell_type": "code",
      "source": [
        "my_list = [1, 2, 3, 2, 4, 2]\n",
        "\n",
        "# Count occurrences\n",
        "print(my_list.count(2))                 # 3\n",
        "\n",
        "# Find index of first occurrence\n",
        "print(my_list.index(3))                 # 2\n",
        "\n",
        "# Remove elements\n",
        "my_list.remove(2)                       # Removes first occurrence of 2\n",
        "popped = my_list.pop()                  # Removes and returns last element\n",
        "popped_at_index = my_list.pop(1)        # Removes and returns element at index 1\n",
        "\n",
        "# Reverse and sort\n",
        "my_list.reverse()                       # Reverses in-place\n",
        "my_list.sort()                          # Sorts in-place\n",
        "my_list.sort(reverse=True)              # Sorts in descending order"
      ],
      "metadata": {
        "colab": {
          "base_uri": "https://localhost:8080/"
        },
        "id": "lhKTJoTmaXpu",
        "outputId": "3f52a6f5-f631-4bcc-830e-43bc51482600"
      },
      "execution_count": null,
      "outputs": [
        {
          "output_type": "stream",
          "name": "stdout",
          "text": [
            "3\n",
            "2\n"
          ]
        }
      ]
    },
    {
      "cell_type": "markdown",
      "source": [
        "## 1.6 Enumerate Function\n",
        "\n",
        "---\n",
        "\n"
      ],
      "metadata": {
        "id": "mLvAKTP1ahAF"
      }
    },
    {
      "cell_type": "markdown",
      "source": [
        "### Basic Enumerate"
      ],
      "metadata": {
        "id": "dM8760lJakUF"
      }
    },
    {
      "cell_type": "code",
      "source": [
        "days = [\"Mon\", \"Tue\", \"Wed\", \"Thu\", \"Fri\"]\n",
        "\n",
        "# Default start at 0\n",
        "for index, day in enumerate(days):\n",
        "    print(f\"{index}: {day}\")\n",
        "\n",
        "# Custom start value\n",
        "for index, day in enumerate(days, start=1):\n",
        "    print(f\"Day {index}: {day}\")\n",
        "\n",
        "# Convert to list\n",
        "indexed_days = list(enumerate(days, start=10))\n",
        "print(indexed_days)  # [(10, 'Mon'), (11, 'Tue'), ...]"
      ],
      "metadata": {
        "colab": {
          "base_uri": "https://localhost:8080/"
        },
        "id": "2kLnHDTuao5j",
        "outputId": "6bdf50ad-c0ac-4709-9ab5-f3e26db99961"
      },
      "execution_count": null,
      "outputs": [
        {
          "output_type": "stream",
          "name": "stdout",
          "text": [
            "0: Mon\n",
            "1: Tue\n",
            "2: Wed\n",
            "3: Thu\n",
            "4: Fri\n",
            "Day 1: Mon\n",
            "Day 2: Tue\n",
            "Day 3: Wed\n",
            "Day 4: Thu\n",
            "Day 5: Fri\n",
            "[(10, 'Mon'), (11, 'Tue'), (12, 'Wed'), (13, 'Thu'), (14, 'Fri')]\n"
          ]
        }
      ]
    },
    {
      "cell_type": "markdown",
      "source": [
        "### Practical Enumerate Usage"
      ],
      "metadata": {
        "id": "DsMJ620eauUj"
      }
    },
    {
      "cell_type": "code",
      "source": [
        "numbers = [10, 11, 20, 23, 30, 40]\n",
        "\n",
        "for i, num in enumerate(numbers):\n",
        "    if num % 2 == 0:\n",
        "        print(f\"Index {i}: {num} is even\")\n",
        "    else:\n",
        "        print(f\"Index {i}: {num} is odd\")"
      ],
      "metadata": {
        "colab": {
          "base_uri": "https://localhost:8080/"
        },
        "id": "lBSI7XInaxKI",
        "outputId": "043924c1-5c05-41b2-c691-07e43bf44488"
      },
      "execution_count": null,
      "outputs": [
        {
          "output_type": "stream",
          "name": "stdout",
          "text": [
            "Index 0: 10 is even\n",
            "Index 1: 11 is odd\n",
            "Index 2: 20 is even\n",
            "Index 3: 23 is odd\n",
            "Index 4: 30 is even\n",
            "Index 5: 40 is even\n"
          ]
        }
      ]
    },
    {
      "cell_type": "markdown",
      "source": [
        "## 1.7 Zip Function\n",
        "\n",
        "---\n",
        "\n"
      ],
      "metadata": {
        "id": "6vT0QPxJa115"
      }
    },
    {
      "cell_type": "markdown",
      "source": [
        "### Basic Zip Usage"
      ],
      "metadata": {
        "id": "hfo37Nlba6LG"
      }
    },
    {
      "cell_type": "code",
      "source": [
        "names = ['Alice', 'Bob', 'Charlie']\n",
        "ages = [25, 30, 35]\n",
        "scores = [85, 92, 78]\n",
        "\n",
        "# Zip two lists\n",
        "for name, age in zip(names, ages):\n",
        "    print(f\"{name} is {age} years old\")\n",
        "\n",
        "# Zip multiple lists\n",
        "for name, age, score in zip(names, ages, scores):\n",
        "    print(f\"{name} ({age}) scored {score}\")\n",
        "\n",
        "# Convert to list\n",
        "paired = list(zip(names, ages))\n",
        "print(paired)  # [('Alice', 25), ('Bob', 30), ('Charlie', 35)]"
      ],
      "metadata": {
        "colab": {
          "base_uri": "https://localhost:8080/"
        },
        "id": "noZpNa0wa8KQ",
        "outputId": "df28cb55-f3ff-4de5-c6af-9c63219991f2"
      },
      "execution_count": null,
      "outputs": [
        {
          "output_type": "stream",
          "name": "stdout",
          "text": [
            "Alice is 25 years old\n",
            "Bob is 30 years old\n",
            "Charlie is 35 years old\n",
            "Alice (25) scored 85\n",
            "Bob (30) scored 92\n",
            "Charlie (35) scored 78\n",
            "[('Alice', 25), ('Bob', 30), ('Charlie', 35)]\n"
          ]
        }
      ]
    },
    {
      "cell_type": "markdown",
      "source": [
        "### Zip with Different Length Lists"
      ],
      "metadata": {
        "id": "KNQxspgYbD01"
      }
    },
    {
      "cell_type": "code",
      "source": [
        "list1 = [1, 2, 3, 4, 5]\n",
        "list2 = ['a', 'b', 'c']\n",
        "\n",
        "# Zip stops at shortest list\n",
        "result = list(zip(list1, list2))\n",
        "print(result)  # [(1, 'a'), (2, 'b'), (3, 'c')]"
      ],
      "metadata": {
        "colab": {
          "base_uri": "https://localhost:8080/"
        },
        "id": "SS5Z9HhebEy0",
        "outputId": "12f48cd1-e042-488f-b3b9-8156a05599be"
      },
      "execution_count": null,
      "outputs": [
        {
          "output_type": "stream",
          "name": "stdout",
          "text": [
            "[(1, 'a'), (2, 'b'), (3, 'c')]\n"
          ]
        }
      ]
    },
    {
      "cell_type": "markdown",
      "source": [
        "### Combining Enumerate and Zip"
      ],
      "metadata": {
        "id": "dg_rRnGXcCXF"
      }
    },
    {
      "cell_type": "code",
      "source": [
        "list1 = [1, 2, 3]\n",
        "list2 = ['a', 'b', 'c']\n",
        "\n",
        "for i, (num, letter) in enumerate(zip(list1, list2)):\n",
        "    print(f\"Index {i}: {num} -> {letter}\")"
      ],
      "metadata": {
        "colab": {
          "base_uri": "https://localhost:8080/"
        },
        "id": "J89wfbjocE2P",
        "outputId": "6dcc7f14-db79-420d-cc1c-8bd9603d5961"
      },
      "execution_count": null,
      "outputs": [
        {
          "output_type": "stream",
          "name": "stdout",
          "text": [
            "Index 0: 1 -> a\n",
            "Index 1: 2 -> b\n",
            "Index 2: 3 -> c\n"
          ]
        }
      ]
    },
    {
      "cell_type": "markdown",
      "source": [
        "## 1.8 Iterators\n",
        "\n",
        "---\n",
        "\n"
      ],
      "metadata": {
        "id": "OEKGwVEScIHV"
      }
    },
    {
      "cell_type": "markdown",
      "source": [
        "### Creating and Using Iterators"
      ],
      "metadata": {
        "id": "6Yo4ihhccMh8"
      }
    },
    {
      "cell_type": "code",
      "source": [
        "days = [\"Sun\", \"Mon\", \"Tue\", \"Wed\", \"Thu\", \"Fri\", \"Sat\"]\n",
        "\n",
        "# Create iterator\n",
        "day_iter = iter(days)\n",
        "\n",
        "# Get next elements\n",
        "print(next(day_iter))                   # Sun\n",
        "print(next(day_iter))                   # Mon\n",
        "print(next(day_iter))                   # Tue\n",
        "\n",
        "# Safe next with default value\n",
        "print(next(day_iter, \"No more days\"))"
      ],
      "metadata": {
        "colab": {
          "base_uri": "https://localhost:8080/"
        },
        "id": "CmESBoWUcPSN",
        "outputId": "5d344a96-054b-4d7e-a5b8-292019f5bc5f"
      },
      "execution_count": null,
      "outputs": [
        {
          "output_type": "stream",
          "name": "stdout",
          "text": [
            "Sun\n",
            "Mon\n",
            "Tue\n",
            "Wed\n"
          ]
        }
      ]
    },
    {
      "cell_type": "markdown",
      "source": [
        "### Iterator with Loop"
      ],
      "metadata": {
        "id": "x2TaphyZcUci"
      }
    },
    {
      "cell_type": "code",
      "source": [
        "days = [\"Sun\", \"Mon\", \"Tue\", \"Wed\"]\n",
        "day_iter = iter(days)\n",
        "\n",
        "while True:\n",
        "    day = next(day_iter, None)\n",
        "    if day is None:\n",
        "        break\n",
        "    print(day)"
      ],
      "metadata": {
        "colab": {
          "base_uri": "https://localhost:8080/"
        },
        "id": "BOVtIttZccNa",
        "outputId": "9a30f6ba-7f1b-436e-cc8d-06ec970c5e37"
      },
      "execution_count": null,
      "outputs": [
        {
          "output_type": "stream",
          "name": "stdout",
          "text": [
            "Sun\n",
            "Mon\n",
            "Tue\n",
            "Wed\n"
          ]
        }
      ]
    },
    {
      "cell_type": "markdown",
      "source": [
        "## 1.9 List Comprehensions\n",
        "\n",
        "---\n",
        "\n"
      ],
      "metadata": {
        "id": "BWFd-wRTceO8"
      }
    },
    {
      "cell_type": "markdown",
      "source": [
        "### Basic List Comprehensions"
      ],
      "metadata": {
        "id": "5I48JQhyckMU"
      }
    },
    {
      "cell_type": "code",
      "source": [
        "# Basic syntax: [expression for item in iterable]\n",
        "squares = [x**2 for x in range(1, 6)]\n",
        "print(squares)  # [1, 4, 9, 16, 25]\n",
        "\n",
        "# With condition: [expression for item in iterable if condition]\n",
        "evens = [x for x in range(1, 11) if x % 2 == 0]\n",
        "print(evens)  # [2, 4, 6, 8, 10]\n",
        "\n",
        "# Complex expressions\n",
        "numbers = [1, 2, 3, 4, 5]\n",
        "result = [x**2 if x % 2 == 0 else x**3 for x in numbers]\n",
        "print(result)  # [1, 4, 27, 16, 125]"
      ],
      "metadata": {
        "colab": {
          "base_uri": "https://localhost:8080/"
        },
        "id": "7DjNBgRgcmhS",
        "outputId": "de63b515-cea8-4d35-ebdf-36af7265e87c"
      },
      "execution_count": null,
      "outputs": [
        {
          "output_type": "stream",
          "name": "stdout",
          "text": [
            "[1, 4, 9, 16, 25]\n",
            "[2, 4, 6, 8, 10]\n",
            "[1, 4, 27, 16, 125]\n"
          ]
        }
      ]
    },
    {
      "cell_type": "markdown",
      "source": [
        "### Temperature Conversion Example"
      ],
      "metadata": {
        "id": "8Ib76RxwcqAY"
      }
    },
    {
      "cell_type": "code",
      "source": [
        "celsius = [0, 10, 20, 30, 40]\n",
        "fahrenheit = [(temp * 9/5) + 32 for temp in celsius]\n",
        "print(fahrenheit)  # [32.0, 50.0, 68.0, 86.0, 104.0]\n",
        "\n",
        "# With condition\n",
        "fahrenheit_filtered = [(temp * 9/5) + 32 for temp in celsius if temp > 10]\n",
        "print(fahrenheit_filtered)  # [68.0, 86.0, 104.0]"
      ],
      "metadata": {
        "colab": {
          "base_uri": "https://localhost:8080/"
        },
        "id": "cWhBuUp8csrO",
        "outputId": "ebf92a90-12bb-472e-fcc6-6ccba286764c"
      },
      "execution_count": null,
      "outputs": [
        {
          "output_type": "stream",
          "name": "stdout",
          "text": [
            "[32.0, 50.0, 68.0, 86.0, 104.0]\n",
            "[68.0, 86.0, 104.0]\n"
          ]
        }
      ]
    },
    {
      "cell_type": "markdown",
      "source": [
        "### Nested List Comprehensions"
      ],
      "metadata": {
        "id": "OI0eZv8Ccvih"
      }
    },
    {
      "cell_type": "code",
      "source": [
        "# Create a 3x3 matrix\n",
        "matrix = [[i*j for j in range(1, 4)] for i in range(1, 4)]\n",
        "print(matrix)  # [[1, 2, 3], [2, 4, 6], [3, 6, 9]]\n",
        "\n",
        "# Flatten a matrix\n",
        "flattened = [num for row in matrix for num in row]\n",
        "print(flattened)  # [1, 2, 3, 2, 4, 6, 3, 6, 9]"
      ],
      "metadata": {
        "colab": {
          "base_uri": "https://localhost:8080/"
        },
        "id": "BqRIhX7scxmv",
        "outputId": "6b74bd83-35cc-4817-e4a0-528c9e0cdeed"
      },
      "execution_count": null,
      "outputs": [
        {
          "output_type": "stream",
          "name": "stdout",
          "text": [
            "[[1, 2, 3], [2, 4, 6], [3, 6, 9]]\n",
            "[1, 2, 3, 2, 4, 6, 3, 6, 9]\n"
          ]
        }
      ]
    },
    {
      "cell_type": "markdown",
      "source": [
        "## 1.10 Set Comprehensions\n",
        "\n",
        "---\n",
        "\n"
      ],
      "metadata": {
        "id": "EgqlHyJRc1Ji"
      }
    },
    {
      "cell_type": "markdown",
      "source": [
        "### Basic Set Comprehensions"
      ],
      "metadata": {
        "id": "q09yVCxKc5yK"
      }
    },
    {
      "cell_type": "code",
      "source": [
        "# Basic set comprehension\n",
        "numbers = [1, 2, 2, 3, 3, 4, 5]\n",
        "unique_squares = {x**2 for x in numbers}\n",
        "print(unique_squares)  # {1, 4, 9, 16, 25}\n",
        "\n",
        "# Set from string (unique characters)\n",
        "text = \"hello world\"\n",
        "unique_chars = {c.upper() for c in text if not c.isspace()}\n",
        "print(unique_chars)  # {'H', 'E', 'L', 'O', 'W', 'R', 'D'}"
      ],
      "metadata": {
        "colab": {
          "base_uri": "https://localhost:8080/"
        },
        "id": "kt0PUDKec72H",
        "outputId": "5d544306-e0f6-4e76-9976-1b5952f1b2b2"
      },
      "execution_count": null,
      "outputs": [
        {
          "output_type": "stream",
          "name": "stdout",
          "text": [
            "{1, 4, 9, 16, 25}\n",
            "{'L', 'H', 'O', 'W', 'D', 'R', 'E'}\n"
          ]
        }
      ]
    },
    {
      "cell_type": "markdown",
      "source": [
        "### Temperature Set Example"
      ],
      "metadata": {
        "id": "iIHYLhxOdEwd"
      }
    },
    {
      "cell_type": "code",
      "source": [
        "celsius_temps = [5, 10, 12, 14, 10, 23, 41, 30, 12, 24, 12, 18, 29]\n",
        "fahrenheit_set = {(temp * 9/5) + 32 for temp in celsius_temps}\n",
        "print(len(fahrenheit_set))  # Number of unique Fahrenheit temperatures"
      ],
      "metadata": {
        "colab": {
          "base_uri": "https://localhost:8080/"
        },
        "id": "YkoM_98WdIan",
        "outputId": "2c2b932d-86c1-456e-9086-e166601927a5"
      },
      "execution_count": null,
      "outputs": [
        {
          "output_type": "stream",
          "name": "stdout",
          "text": [
            "10\n"
          ]
        }
      ]
    },
    {
      "cell_type": "markdown",
      "source": [
        "## 1.11 Dictionary Comprehensions\n",
        "\n",
        "---\n",
        "\n"
      ],
      "metadata": {
        "id": "_zCBZ97qdeNW"
      }
    },
    {
      "cell_type": "markdown",
      "source": [
        "### Basic Dictionary Comprehensions"
      ],
      "metadata": {
        "id": "zzh4btxBdiqr"
      }
    },
    {
      "cell_type": "code",
      "source": [
        "# Basic syntax: {key_expr: value_expr for item in iterable}\n",
        "squares_dict = {x: x**2 for x in range(1, 6)}\n",
        "print(squares_dict)  # {1: 1, 2: 4, 3: 9, 4: 16, 5: 25}\n",
        "\n",
        "# Temperature conversion dictionary\n",
        "celsius = [0, 10, 20, 30, 40]\n",
        "temp_dict = {c: (c * 9/5) + 32 for c in celsius}\n",
        "print(temp_dict)  # {0: 32.0, 10: 50.0, 20: 68.0, 30: 86.0, 40: 104.0}"
      ],
      "metadata": {
        "colab": {
          "base_uri": "https://localhost:8080/"
        },
        "id": "KKkxxMiFdlf5",
        "outputId": "9a52b862-136d-4fe6-c272-d98dddd964cf"
      },
      "execution_count": null,
      "outputs": [
        {
          "output_type": "stream",
          "name": "stdout",
          "text": [
            "{1: 1, 2: 4, 3: 9, 4: 16, 5: 25}\n",
            "{0: 32.0, 10: 50.0, 20: 68.0, 30: 86.0, 40: 104.0}\n"
          ]
        }
      ]
    },
    {
      "cell_type": "markdown",
      "source": [
        "### Dictionary Comprehension with Conditions"
      ],
      "metadata": {
        "id": "OnazLmvjdoUL"
      }
    },
    {
      "cell_type": "code",
      "source": [
        "# Filter dictionary\n",
        "original_dict = {\"NFLX\": 4950, \"TREX\": 2400, \"FIZZ\": 1800, \"XPO\": 1700}\n",
        "filtered_dict = {k: v for k, v in original_dict.items() if v > 2000}\n",
        "print(filtered_dict)  # {'NFLX': 4950, 'TREX': 2400}"
      ],
      "metadata": {
        "colab": {
          "base_uri": "https://localhost:8080/"
        },
        "id": "enZu6TBfdqjT",
        "outputId": "8d5ae58d-a386-4b8b-875d-5d3daf2495e4"
      },
      "execution_count": null,
      "outputs": [
        {
          "output_type": "stream",
          "name": "stdout",
          "text": [
            "{'NFLX': 4950, 'TREX': 2400}\n"
          ]
        }
      ]
    },
    {
      "cell_type": "markdown",
      "source": [
        "### Working with Dictionary Methods"
      ],
      "metadata": {
        "id": "rHuR2UXcdueU"
      }
    },
    {
      "cell_type": "code",
      "source": [
        "sample_dict = {'a': 1, 'b': 2, 'c': 3}\n",
        "\n",
        "# Iterate over dictionary\n",
        "for key, value in sample_dict.items():\n",
        "    print(f\"{key}: {value}\")\n",
        "\n",
        "# Get keys and values\n",
        "print(list(sample_dict.keys()))     # ['a', 'b', 'c']\n",
        "print(list(sample_dict.values()))   # [1, 2, 3]"
      ],
      "metadata": {
        "colab": {
          "base_uri": "https://localhost:8080/"
        },
        "id": "Ior2hOIXdwhe",
        "outputId": "62b1fdd5-7027-4788-dcf0-4eab3cce204b"
      },
      "execution_count": null,
      "outputs": [
        {
          "output_type": "stream",
          "name": "stdout",
          "text": [
            "a: 1\n",
            "b: 2\n",
            "c: 3\n",
            "['a', 'b', 'c']\n",
            "[1, 2, 3]\n"
          ]
        }
      ]
    },
    {
      "cell_type": "markdown",
      "source": [
        "## 1.12 Lambda Functions\n",
        "\n",
        "---\n",
        "\n"
      ],
      "metadata": {
        "id": "wwUPASrUd0eH"
      }
    },
    {
      "cell_type": "markdown",
      "source": [
        "### Basic Lambda Syntax"
      ],
      "metadata": {
        "id": "yNUR63Hjd5GZ"
      }
    },
    {
      "cell_type": "code",
      "source": [
        "# Basic lambda: lambda arguments: expression\n",
        "add = lambda x, y: x + y\n",
        "print(add(5, 3))  # 8\n",
        "\n",
        "# Single argument\n",
        "square = lambda x: x**2\n",
        "print(square(4))  # 16\n",
        "\n",
        "# Multiple arguments\n",
        "multiply = lambda x, y, z: x * y * z\n",
        "print(multiply(2, 3, 4))  # 24"
      ],
      "metadata": {
        "colab": {
          "base_uri": "https://localhost:8080/"
        },
        "id": "WTW7w09Vd7Mu",
        "outputId": "f9973e96-cad4-48e8-d29d-9993aecb30d6"
      },
      "execution_count": null,
      "outputs": [
        {
          "output_type": "stream",
          "name": "stdout",
          "text": [
            "8\n",
            "16\n",
            "24\n"
          ]
        }
      ]
    },
    {
      "cell_type": "markdown",
      "source": [
        "### Lambda with Built-in Functions"
      ],
      "metadata": {
        "id": "WfG-U5aheBQR"
      }
    },
    {
      "cell_type": "code",
      "source": [
        "numbers = [1, 2, 3, 4, 5, 6, 7, 8, 9, 10]\n",
        "\n",
        "# Filter with lambda\n",
        "evens = list(filter(lambda x: x % 2 == 0, numbers))\n",
        "print(evens)  # [2, 4, 6, 8, 10]\n",
        "\n",
        "# Map with lambda\n",
        "squares = list(map(lambda x: x**2, numbers))\n",
        "print(squares)  # [1, 4, 9, 16, 25, 36, 49, 64, 81, 100]\n",
        "\n",
        "# Multiple outputs with map\n",
        "cubes_and_squares = list(map(lambda x: (x**2, x**3), [1, 2, 3, 4]))\n",
        "print(cubes_and_squares)  # [(1, 1), (4, 8), (9, 27), (16, 64)]"
      ],
      "metadata": {
        "colab": {
          "base_uri": "https://localhost:8080/"
        },
        "id": "sU5XG6ikeCSd",
        "outputId": "5a82d073-8b5d-4d9f-f631-8e71b6733cf7"
      },
      "execution_count": null,
      "outputs": [
        {
          "output_type": "stream",
          "name": "stdout",
          "text": [
            "[2, 4, 6, 8, 10]\n",
            "[1, 4, 9, 16, 25, 36, 49, 64, 81, 100]\n",
            "[(1, 1), (4, 8), (9, 27), (16, 64)]\n"
          ]
        }
      ]
    },
    {
      "cell_type": "markdown",
      "source": [
        "### Lambda for Sorting"
      ],
      "metadata": {
        "id": "oe-V4fnReGpk"
      }
    },
    {
      "cell_type": "code",
      "source": [
        "# Sort by second element\n",
        "pairs = [(1, 'one'), (2, 'two'), (3, 'three'), (4, 'four')]\n",
        "pairs.sort(key=lambda x: x[1])  # Sort by string value\n",
        "print(pairs)\n",
        "\n",
        "# Sort by first element in reverse\n",
        "pairs.sort(key=lambda x: x[0], reverse=True)\n",
        "print(pairs)"
      ],
      "metadata": {
        "colab": {
          "base_uri": "https://localhost:8080/"
        },
        "id": "e8_1588QeI4j",
        "outputId": "0d30e2b6-7c36-4707-fe18-ef2f09560be6"
      },
      "execution_count": null,
      "outputs": [
        {
          "output_type": "stream",
          "name": "stdout",
          "text": [
            "[(4, 'four'), (1, 'one'), (3, 'three'), (2, 'two')]\n",
            "[(4, 'four'), (3, 'three'), (2, 'two'), (1, 'one')]\n"
          ]
        }
      ]
    },
    {
      "cell_type": "markdown",
      "source": [
        "### Higher-Order Functions with Lambda"
      ],
      "metadata": {
        "id": "k8E_TrGveLzZ"
      }
    },
    {
      "cell_type": "code",
      "source": [
        "def make_incrementor(n):\n",
        "    return lambda x: x + n\n",
        "\n",
        "increment_by_5 = make_incrementor(5)\n",
        "print(increment_by_5(10))  # 15"
      ],
      "metadata": {
        "colab": {
          "base_uri": "https://localhost:8080/"
        },
        "id": "dOIAmG_FeN4b",
        "outputId": "91152151-2205-4f5a-f0b8-2c5253e95e5d"
      },
      "execution_count": null,
      "outputs": [
        {
          "output_type": "stream",
          "name": "stdout",
          "text": [
            "15\n"
          ]
        }
      ]
    },
    {
      "cell_type": "markdown",
      "source": [
        "## 1.13 Map and Filter Functions\n",
        "\n",
        "---\n",
        "\n"
      ],
      "metadata": {
        "id": "pZUp4pYreQmX"
      }
    },
    {
      "cell_type": "markdown",
      "source": [
        "### Map Function"
      ],
      "metadata": {
        "id": "qO5aEnq9eVLm"
      }
    },
    {
      "cell_type": "code",
      "source": [
        "# Apply function to each element\n",
        "numbers = [1, 2, 3, 4, 5]\n",
        "doubled = list(map(lambda x: x * 2, numbers))\n",
        "print(doubled)  # [2, 4, 6, 8, 10]\n",
        "\n",
        "# Map with multiple iterables\n",
        "list1 = [1, 2, 3]\n",
        "list2 = [4, 5, 6]\n",
        "sums = list(map(lambda x, y: x + y, list1, list2))\n",
        "print(sums)  # [5, 7, 9]"
      ],
      "metadata": {
        "colab": {
          "base_uri": "https://localhost:8080/"
        },
        "id": "UB6Sc4rneXjZ",
        "outputId": "859c6c1c-6274-4269-ea53-ac3e9b604ebc"
      },
      "execution_count": null,
      "outputs": [
        {
          "output_type": "stream",
          "name": "stdout",
          "text": [
            "[2, 4, 6, 8, 10]\n",
            "[5, 7, 9]\n"
          ]
        }
      ]
    },
    {
      "cell_type": "markdown",
      "source": [
        "### Filter Function"
      ],
      "metadata": {
        "id": "8GunB3pmeb1k"
      }
    },
    {
      "cell_type": "code",
      "source": [
        "# Filter elements based on condition\n",
        "numbers = [1, 2, 3, 4, 5, 6, 7, 8, 9, 10]\n",
        "evens = list(filter(lambda x: x % 2 == 0, numbers))\n",
        "print(evens)  # [2, 4, 6, 8, 10]\n",
        "\n",
        "# Filter strings by length\n",
        "words = ['python', 'java', 'c', 'javascript', 'go']\n",
        "long_words = list(filter(lambda word: len(word) > 4, words))\n",
        "print(long_words)  # ['python', 'javascript']"
      ],
      "metadata": {
        "colab": {
          "base_uri": "https://localhost:8080/"
        },
        "id": "MmXWgtaweds7",
        "outputId": "2c38e1c7-8c9d-4e71-deca-b08ec890d25e"
      },
      "execution_count": null,
      "outputs": [
        {
          "output_type": "stream",
          "name": "stdout",
          "text": [
            "[2, 4, 6, 8, 10]\n",
            "['python', 'javascript']\n"
          ]
        }
      ]
    },
    {
      "cell_type": "markdown",
      "source": [
        "## 1.14 Collections Module\n",
        "\n",
        "---\n",
        "\n"
      ],
      "metadata": {
        "id": "2yMG5cf8eg95"
      }
    },
    {
      "cell_type": "markdown",
      "source": [
        "### Counter"
      ],
      "metadata": {
        "id": "x_1HdXg-elB9"
      }
    },
    {
      "cell_type": "code",
      "source": [
        "from collections import Counter\n",
        "\n",
        "# Count occurrences\n",
        "text = \"hello world\"\n",
        "char_count = Counter(text)\n",
        "print(char_count)  # Counter({'l': 3, 'o': 2, 'h': 1, 'e': 1, ' ': 1, 'w': 1, 'r': 1, 'd': 1})\n",
        "\n",
        "# Most common elements\n",
        "print(char_count.most_common(3))  # [('l', 3), ('o', 2), ('h', 1)]\n",
        "\n",
        "# Counter operations\n",
        "list1 = ['a', 'b', 'c', 'a', 'b', 'a']\n",
        "list2 = ['a', 'b', 'b', 'd']\n",
        "c1 = Counter(list1)\n",
        "c2 = Counter(list2)\n",
        "\n",
        "print(c1 + c2)  # Add counters\n",
        "print(c1 - c2)  # Subtract counters\n",
        "print(c1 & c2)  # Intersection (minimum counts)\n",
        "print(c1 | c2)  # Union (maximum counts)"
      ],
      "metadata": {
        "colab": {
          "base_uri": "https://localhost:8080/"
        },
        "id": "P0VYeOpDenO4",
        "outputId": "de8e3dc8-dba8-4412-989a-6e9ad47f7382"
      },
      "execution_count": null,
      "outputs": [
        {
          "output_type": "stream",
          "name": "stdout",
          "text": [
            "Counter({'l': 3, 'o': 2, 'h': 1, 'e': 1, ' ': 1, 'w': 1, 'r': 1, 'd': 1})\n",
            "[('l', 3), ('o', 2), ('h', 1)]\n",
            "Counter({'a': 4, 'b': 4, 'c': 1, 'd': 1})\n",
            "Counter({'a': 2, 'c': 1})\n",
            "Counter({'b': 2, 'a': 1})\n",
            "Counter({'a': 3, 'b': 2, 'c': 1, 'd': 1})\n"
          ]
        }
      ]
    },
    {
      "cell_type": "markdown",
      "source": [
        "### DefaultDict"
      ],
      "metadata": {
        "id": "dzcGGAm4etMs"
      }
    },
    {
      "cell_type": "code",
      "source": [
        "from collections import defaultdict\n",
        "\n",
        "# Default dictionary with default values\n",
        "dd = defaultdict(int)  # Default value is 0\n",
        "dd['existing'] = 5\n",
        "print(dd['existing'])     # 5\n",
        "print(dd['non_existing']) # 0 (default)\n",
        "\n",
        "# Default dictionary with lambda\n",
        "dd_lambda = defaultdict(lambda: \"Not found\")\n",
        "dd_lambda['key1'] = \"Found\"\n",
        "print(dd_lambda['key1'])        # Found\n",
        "print(dd_lambda['unknown'])     # Not found\n",
        "\n",
        "# Grouping with defaultdict\n",
        "from collections import defaultdict\n",
        "students = [('Alice', 'Math'), ('Bob', 'Physics'), ('Alice', 'Chemistry'), ('Bob', 'Math')]\n",
        "subjects_by_student = defaultdict(list)\n",
        "\n",
        "for student, subject in students:\n",
        "    subjects_by_student[student].append(subject)\n",
        "\n",
        "print(dict(subjects_by_student))  # {'Alice': ['Math', 'Chemistry'], 'Bob': ['Physics', 'Math']}"
      ],
      "metadata": {
        "colab": {
          "base_uri": "https://localhost:8080/"
        },
        "id": "w9U_WGtqewkU",
        "outputId": "e7645d37-6328-42b2-8dbe-e48db25bee68"
      },
      "execution_count": null,
      "outputs": [
        {
          "output_type": "stream",
          "name": "stdout",
          "text": [
            "5\n",
            "0\n",
            "Found\n",
            "Not found\n",
            "{'Alice': ['Math', 'Chemistry'], 'Bob': ['Physics', 'Math']}\n"
          ]
        }
      ]
    },
    {
      "cell_type": "markdown",
      "source": [
        "## 1.15 String Templates\n",
        "\n",
        "---\n",
        "\n"
      ],
      "metadata": {
        "id": "lx0_dsqve1lQ"
      }
    },
    {
      "cell_type": "markdown",
      "source": [
        "### Basic Templates"
      ],
      "metadata": {
        "id": "hnv964UXe6Wl"
      }
    },
    {
      "cell_type": "code",
      "source": [
        "from string import Template\n",
        "\n",
        "# Basic template\n",
        "template = Template(\"Hello $name, welcome to $place!\")\n",
        "result = template.substitute(name=\"Alice\", place=\"Python\")\n",
        "print(result)  # Hello Alice, welcome to Python!\n",
        "\n",
        "# Template with dictionary\n",
        "data = {\"name\": \"Bob\", \"age\": 30, \"city\": \"New York\"}\n",
        "template = Template(\"$name is $age years old and lives in $city\")\n",
        "result = template.substitute(data)\n",
        "print(result)  # Bob is 30 years old and lives in New York"
      ],
      "metadata": {
        "colab": {
          "base_uri": "https://localhost:8080/"
        },
        "id": "3BAV-Kume8TI",
        "outputId": "61fabcce-e3cf-458d-c3b1-c891373abbd8"
      },
      "execution_count": null,
      "outputs": [
        {
          "output_type": "stream",
          "name": "stdout",
          "text": [
            "Hello Alice, welcome to Python!\n",
            "Bob is 30 years old and lives in New York\n"
          ]
        }
      ]
    },
    {
      "cell_type": "markdown",
      "source": [
        "### Safe Substitution"
      ],
      "metadata": {
        "id": "CACcgkd2fAix"
      }
    },
    {
      "cell_type": "code",
      "source": [
        "template = Template(\"Hello $name, you have $count messages\")\n",
        "# safe_substitute won't raise error for missing keys\n",
        "result = template.safe_substitute(name=\"Alice\")\n",
        "print(result)  # Hello Alice, you have $count messages"
      ],
      "metadata": {
        "colab": {
          "base_uri": "https://localhost:8080/"
        },
        "id": "v9XgJHnjfC7b",
        "outputId": "9f1799cd-baea-451b-ad15-8bb73b9c58ee"
      },
      "execution_count": null,
      "outputs": [
        {
          "output_type": "stream",
          "name": "stdout",
          "text": [
            "Hello Alice, you have $count messages\n"
          ]
        }
      ]
    },
    {
      "cell_type": "markdown",
      "source": [
        "## 1.16 Tuples\n",
        "\n",
        "---\n",
        "\n"
      ],
      "metadata": {
        "id": "_JFAGpEifGj1"
      }
    },
    {
      "cell_type": "markdown",
      "source": [
        "### Tuple Basics"
      ],
      "metadata": {
        "id": "KGBKbqSGfKeu"
      }
    },
    {
      "cell_type": "code",
      "source": [
        "# Tuple creation\n",
        "coordinates = (10, 20)\n",
        "colors = ('red', 'green', 'blue')\n",
        "mixed = (1, 'hello', 3.14, True)\n",
        "\n",
        "# Tuple unpacking\n",
        "x, y = coordinates\n",
        "print(f\"x={x}, y={y}\")  # x=10, y=20\n",
        "\n",
        "# Tuple with one element (note the comma)\n",
        "single = (42,)\n",
        "print(type(single))  # <class 'tuple'>"
      ],
      "metadata": {
        "colab": {
          "base_uri": "https://localhost:8080/"
        },
        "id": "ioU1LZ6LfMoO",
        "outputId": "31c262cc-7181-4967-b441-c68498e1ee98"
      },
      "execution_count": null,
      "outputs": [
        {
          "output_type": "stream",
          "name": "stdout",
          "text": [
            "x=10, y=20\n",
            "<class 'tuple'>\n"
          ]
        }
      ]
    },
    {
      "cell_type": "markdown",
      "source": [
        "### Tuple Immutability"
      ],
      "metadata": {
        "id": "yPAZB6g5fQWF"
      }
    },
    {
      "cell_type": "code",
      "source": [
        "point = (3, 4)\n",
        "# point[0] = 5  # This would raise an error - tuples are immutable\n",
        "\n",
        "# But you can reassign the variable\n",
        "point = (5, 6)  # This is allowed"
      ],
      "metadata": {
        "id": "QJWGW44HfSfy"
      },
      "execution_count": null,
      "outputs": []
    },
    {
      "cell_type": "markdown",
      "source": [
        "### Named Tuples"
      ],
      "metadata": {
        "id": "c4Qh1uAzfWAQ"
      }
    },
    {
      "cell_type": "code",
      "source": [
        "from collections import namedtuple\n",
        "\n",
        "# Create a named tuple\n",
        "Point = namedtuple('Point', ['x', 'y'])\n",
        "p = Point(3, 4)\n",
        "print(p.x, p.y)  # 3 4\n",
        "print(p[0], p[1])  # 3 4 (still accessible by index)\n",
        "\n",
        "# Named tuple with methods\n",
        "Student = namedtuple('Student', ['name', 'age', 'grade'])\n",
        "student = Student('Alice', 20, 'A')\n",
        "print(student.name)  # Alice"
      ],
      "metadata": {
        "colab": {
          "base_uri": "https://localhost:8080/"
        },
        "id": "TIERTkIPfYFR",
        "outputId": "dcb14fc3-6d6a-4294-d26d-533875652ac4"
      },
      "execution_count": null,
      "outputs": [
        {
          "output_type": "stream",
          "name": "stdout",
          "text": [
            "3 4\n",
            "3 4\n",
            "Alice\n"
          ]
        }
      ]
    },
    {
      "cell_type": "markdown",
      "source": [
        "## 1.17 Advanced List Operations"
      ],
      "metadata": {
        "id": "eyAM25eifb1f"
      }
    },
    {
      "cell_type": "markdown",
      "source": [
        "### Finding Elements"
      ],
      "metadata": {
        "id": "Wv8EjXGGffKb"
      }
    },
    {
      "cell_type": "code",
      "source": [
        "numbers = [1, 3, 5, 7, 9, 11, 13, 15]\n",
        "\n",
        "# Find numbers containing digit '3'\n",
        "contains_three = [i for i in range(1, 1000) if '3' in str(i)]\n",
        "print(contains_three[:10])  # First 10 numbers containing '3'\n",
        "\n",
        "# Find multiples of 7\n",
        "multiples_of_seven = [i for i in range(1, 100) if i % 7 == 0]\n",
        "print(multiples_of_seven)\n",
        "\n",
        "# Count spaces in string\n",
        "text = \"Hello world this is Python\"\n",
        "space_count = len([char for char in text if char == ' '])\n",
        "print(space_count)  # 4"
      ],
      "metadata": {
        "colab": {
          "base_uri": "https://localhost:8080/"
        },
        "id": "naIDWmqGfhXB",
        "outputId": "8014c3e7-1b76-497c-9c4a-aa6a64fa1133"
      },
      "execution_count": null,
      "outputs": [
        {
          "output_type": "stream",
          "name": "stdout",
          "text": [
            "[3, 13, 23, 30, 31, 32, 33, 34, 35, 36]\n",
            "[7, 14, 21, 28, 35, 42, 49, 56, 63, 70, 77, 84, 91, 98]\n",
            "4\n"
          ]
        }
      ]
    },
    {
      "cell_type": "markdown",
      "source": [
        "### Complex List Comprehensions"
      ],
      "metadata": {
        "id": "W6UvDJkZflR9"
      }
    },
    {
      "cell_type": "code",
      "source": [
        "# Nested comprehensions with zip\n",
        "base = [5, 10, 15, 20, 25]\n",
        "height = [5, 4, 5, 5, 4]\n",
        "areas = [0.5 * b * h for b, h in zip(base, height)]\n",
        "print(areas)  # [12.5, 20.0, 37.5, 50.0, 50.0]\n",
        "\n",
        "# Multiple conditions\n",
        "numbers = range(1, 101)\n",
        "filtered = [x for x in numbers if x % 3 == 0 and x % 5 == 0]\n",
        "print(filtered)  # Multiples of both 3 and 5"
      ],
      "metadata": {
        "colab": {
          "base_uri": "https://localhost:8080/"
        },
        "id": "Vl7elmmYfoGG",
        "outputId": "8acc903f-1359-4fa3-fae4-c5e99200d2b8"
      },
      "execution_count": null,
      "outputs": [
        {
          "output_type": "stream",
          "name": "stdout",
          "text": [
            "[12.5, 20.0, 37.5, 50.0, 50.0]\n",
            "[15, 30, 45, 60, 75, 90]\n"
          ]
        }
      ]
    },
    {
      "cell_type": "markdown",
      "source": [
        "## 1.18 Practical Examples and Patterns\n",
        "\n",
        "---\n",
        "\n"
      ],
      "metadata": {
        "id": "wSr-E4mWfs7A"
      }
    },
    {
      "cell_type": "markdown",
      "source": [
        "### Data Processing Patterns"
      ],
      "metadata": {
        "id": "U-TZrhVWfw80"
      }
    },
    {
      "cell_type": "code",
      "source": [
        "# Process paired data\n",
        "names = ['Alice', 'Bob', 'Charlie']\n",
        "scores = [85, 92, 78]\n",
        "\n",
        "# Create grade report\n",
        "grade_report = [(name, score, 'Pass' if score >= 80 else 'Fail')\n",
        "                for name, score in zip(names, scores)]\n",
        "print(grade_report)\n",
        "\n",
        "# Group and aggregate\n",
        "from collections import defaultdict\n",
        "sales_data = [('Jan', 100), ('Feb', 150), ('Jan', 200), ('Mar', 175), ('Feb', 125)]\n",
        "monthly_sales = defaultdict(int)\n",
        "\n",
        "for month, amount in sales_data:\n",
        "    monthly_sales[month] += amount\n",
        "\n",
        "print(dict(monthly_sales))  # {'Jan': 300, 'Feb': 275, 'Mar': 175}"
      ],
      "metadata": {
        "colab": {
          "base_uri": "https://localhost:8080/"
        },
        "id": "hR_ILrzBfzH7",
        "outputId": "a6f7d7e0-1420-457a-b8d3-57e6a91b3ec8"
      },
      "execution_count": null,
      "outputs": [
        {
          "output_type": "stream",
          "name": "stdout",
          "text": [
            "[('Alice', 85, 'Pass'), ('Bob', 92, 'Pass'), ('Charlie', 78, 'Fail')]\n",
            "{'Jan': 300, 'Feb': 275, 'Mar': 175}\n"
          ]
        }
      ]
    },
    {
      "cell_type": "markdown",
      "source": [
        "### String and List Combinations"
      ],
      "metadata": {
        "id": "reuNTR2rf2og"
      }
    },
    {
      "cell_type": "code",
      "source": [
        "# Combine letters and numbers\n",
        "letters = ['a', 'b', 'c']\n",
        "numbers = [1, 2, 3]\n",
        "decimals = [0.1, 0.2, 0.3]\n",
        "\n",
        "combined = [f\"{letter}{num}{dec}\" for letter, num, dec in zip(letters, numbers, decimals)]\n",
        "print(combined)  # ['a10.1', 'b20.2', 'c30.3']"
      ],
      "metadata": {
        "colab": {
          "base_uri": "https://localhost:8080/"
        },
        "id": "BG6xlpz9f5sB",
        "outputId": "f1b8d9ab-ca37-4089-8ee9-67cce8268d42"
      },
      "execution_count": null,
      "outputs": [
        {
          "output_type": "stream",
          "name": "stdout",
          "text": [
            "['a10.1', 'b20.2', 'c30.3']\n"
          ]
        }
      ]
    },
    {
      "cell_type": "markdown",
      "source": [
        "## 1.19 Common Patterns and Best Practices\n",
        "\n",
        "---\n",
        "\n"
      ],
      "metadata": {
        "id": "38UjLApvf88H"
      }
    },
    {
      "cell_type": "markdown",
      "source": [
        "### Efficient Iteration"
      ],
      "metadata": {
        "id": "5tChE5xsgChG"
      }
    },
    {
      "cell_type": "code",
      "source": [
        "# Instead of range(len(list))\n",
        "items = ['apple', 'banana', 'cherry']\n",
        "\n",
        "# Good: Direct iteration when you don't need index\n",
        "for item in items:\n",
        "    print(item)\n",
        "\n",
        "# Good: Use enumerate when you need both index and value\n",
        "for i, item in enumerate(items):\n",
        "    print(f\"{i}: {item}\")\n",
        "\n",
        "# Good: Use zip for multiple lists\n",
        "list1 = [1, 2, 3]\n",
        "list2 = ['a', 'b', 'c']\n",
        "for num, letter in zip(list1, list2):\n",
        "    print(f\"{num}: {letter}\")"
      ],
      "metadata": {
        "colab": {
          "base_uri": "https://localhost:8080/"
        },
        "id": "EBY5yJJSgEd9",
        "outputId": "d0764a3b-5a7b-47a5-8f33-80b62f78addd"
      },
      "execution_count": null,
      "outputs": [
        {
          "output_type": "stream",
          "name": "stdout",
          "text": [
            "apple\n",
            "banana\n",
            "cherry\n",
            "0: apple\n",
            "1: banana\n",
            "2: cherry\n",
            "1: a\n",
            "2: b\n",
            "3: c\n"
          ]
        }
      ]
    },
    {
      "cell_type": "markdown",
      "source": [
        "### List vs Set vs Dictionary Choice"
      ],
      "metadata": {
        "id": "vybVTmMLgJ_O"
      }
    },
    {
      "cell_type": "code",
      "source": [
        "# Use list for ordered data that allows duplicates\n",
        "scores = [85, 92, 78, 85, 90]\n",
        "print(scores)\n",
        "\n",
        "# Use set for unique items\n",
        "unique_scores = {85, 92, 78, 90}\n",
        "print(unique_scores)\n",
        "\n",
        "# Use dictionary for key-value mapping\n",
        "student_scores = {'Alice': 85, 'Bob': 92, 'Charlie': 78}\n",
        "print(student_scores)"
      ],
      "metadata": {
        "colab": {
          "base_uri": "https://localhost:8080/"
        },
        "id": "nUt68NTFgMOY",
        "outputId": "a3b9ca2b-2699-4b82-8061-12f45551c315"
      },
      "execution_count": null,
      "outputs": [
        {
          "output_type": "stream",
          "name": "stdout",
          "text": [
            "[85, 92, 78, 85, 90]\n",
            "{90, 92, 85, 78}\n",
            "{'Alice': 85, 'Bob': 92, 'Charlie': 78}\n"
          ]
        }
      ]
    },
    {
      "cell_type": "markdown",
      "source": [
        "### Memory Efficient Operations"
      ],
      "metadata": {
        "id": "Z5B_YMrSgg42"
      }
    },
    {
      "cell_type": "code",
      "source": [
        "# Use generators for large datasets\n",
        "def squares_generator(n):\n",
        "    for i in range(n):\n",
        "        yield i**2\n",
        "\n",
        "# Generator expression (like list comprehension but memory efficient)\n",
        "squares_gen = (x**2 for x in range(1000000))  # Won't create all at once\n",
        "\n",
        "# Convert to list only when needed\n",
        "first_ten_squares = list(squares_gen)[:10]\n",
        "print(first_ten_squares)"
      ],
      "metadata": {
        "colab": {
          "base_uri": "https://localhost:8080/"
        },
        "id": "3Y6saes5gizx",
        "outputId": "77d86953-7484-412c-e78d-5393f29d48b8"
      },
      "execution_count": null,
      "outputs": [
        {
          "output_type": "stream",
          "name": "stdout",
          "text": [
            "[0, 1, 4, 9, 16, 25, 36, 49, 64, 81]\n"
          ]
        }
      ]
    },
    {
      "cell_type": "markdown",
      "source": [
        "## 1.20 Common Mistakes to Avoid\n",
        "\n",
        "---\n",
        "\n"
      ],
      "metadata": {
        "id": "IdURwrxRgysm"
      }
    },
    {
      "cell_type": "markdown",
      "source": [
        "### Mutable Default Arguments"
      ],
      "metadata": {
        "id": "bCOoRD6bg3r8"
      }
    },
    {
      "cell_type": "code",
      "source": [
        "# Bad\n",
        "def add_item(item, target_list=[]):\n",
        "    target_list.append(item)\n",
        "    return target_list\n",
        "\n",
        "# Good\n",
        "def add_item(item, target_list=None):\n",
        "    if target_list is None:\n",
        "        target_list = []\n",
        "    target_list.append(item)\n",
        "    return target_list"
      ],
      "metadata": {
        "id": "Br3lzRpFg6LM"
      },
      "execution_count": null,
      "outputs": []
    },
    {
      "cell_type": "markdown",
      "source": [
        "### Modifying List While Iterating"
      ],
      "metadata": {
        "id": "U8WmTQnehIVc"
      }
    },
    {
      "cell_type": "code",
      "source": [
        "numbers = [1, 2, 3, 4, 5]\n",
        "\n",
        "# Bad - can cause issues\n",
        "# for num in numbers:\n",
        "#     if num % 2 == 0:\n",
        "#         numbers.remove(num)\n",
        "\n",
        "# Good - iterate over a copy\n",
        "for num in numbers[:]:  # Slice creates a copy\n",
        "    if num % 2 == 0:\n",
        "        numbers.remove(num)\n",
        "\n",
        "# Better - use list comprehension\n",
        "numbers = [num for num in numbers if num % 2 != 0]"
      ],
      "metadata": {
        "id": "19-wJ3f1hKXr"
      },
      "execution_count": null,
      "outputs": []
    },
    {
      "cell_type": "markdown",
      "source": [
        "### Understanding Variable Scope"
      ],
      "metadata": {
        "id": "QXgbIy3ohRZQ"
      }
    },
    {
      "cell_type": "code",
      "source": [
        "# Be careful with variable scope in comprehensions\n",
        "x = 10\n",
        "squares = [x**2 for x in range(5)]  # x in comprehension is local\n",
        "print(x)  # Still 10, not affected by comprehension"
      ],
      "metadata": {
        "colab": {
          "base_uri": "https://localhost:8080/"
        },
        "id": "eFjv6CAVhUfv",
        "outputId": "611fe959-14dc-42da-b8a3-e52fcb57a776"
      },
      "execution_count": null,
      "outputs": [
        {
          "output_type": "stream",
          "name": "stdout",
          "text": [
            "10\n"
          ]
        }
      ]
    },
    {
      "cell_type": "markdown",
      "source": [
        "---\n",
        "\n",
        "## Quick Reference Summary\n",
        "\n",
        "### Essential Functions\n",
        "- `len()`, `sum()`, `min()`, `max()`, `any()`, `all()`\n",
        "- `range()`, `enumerate()`, `zip()`\n",
        "- `map()`, `filter()`, `sorted()`\n",
        "\n",
        "### String Methods\n",
        "- `.format()`, f-strings, `.join()`, `.split()`\n",
        "- `.strip()`, `.replace()`, `.upper()`, `.lower()`\n",
        "\n",
        "### List Methods\n",
        "- `.append()`, `.extend()`, `.insert()`, `.remove()`, `.pop()`\n",
        "- `.sort()`, `.reverse()`, `.count()`, `.index()`\n",
        "\n",
        "### Dictionary Methods\n",
        "- `.keys()`, `.values()`, `.items()`, `.get()`, `.update()`\n",
        "\n",
        "### Comprehension Syntax\n",
        "- List: `[expr for item in iterable if condition]`\n",
        "- Set: `{expr for item in iterable if condition}`\n",
        "- Dict: `{key_expr: val_expr for item in iterable if condition}`\n",
        "\n",
        "---\n",
        "\n",
        "---\n",
        "**`Mirza Naeem Beg`**<br>\n",
        "`Final Year UG Student,`<br>\n",
        "`Dept. of CSE,` [**`AUST`**](https://aust.edu/)\n",
        "\n",
        "[`Learn more about me;`](https://mirzanaeembeg.github.io/)\n",
        "---\n",
        "---\n",
        "---\n",
        "\n"
      ],
      "metadata": {
        "id": "59evvUTEhYrC"
      }
    }
  ]
}